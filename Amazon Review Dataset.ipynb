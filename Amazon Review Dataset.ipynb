{
 "cells": [
  {
   "cell_type": "code",
   "execution_count": 2,
   "metadata": {},
   "outputs": [],
   "source": [
    "import numpy as np\n",
    "import pandas as pd"
   ]
  },
  {
   "cell_type": "code",
   "execution_count": 3,
   "metadata": {},
   "outputs": [],
   "source": [
    "def print_stats(df):\n",
    "    print(\"Nr. of ratings: %d\" % len(df))\n",
    "    print(\"Nr. of users: %d\" % df[\"user_id\"].nunique())\n",
    "    print(\"Nr. of items: %d\" % df[\"item_id\"].nunique())\n",
    "    print(\"Density: %f\" % (len(df) / (df[\"user_id\"].nunique() * df[\"item_id\"].nunique())))\n",
    "    print(\"Avg. nr. of ratings per user: %f\" % df.groupby(\"user_id\").size().mean())\n",
    "    print(\"Avg. nr. of ratings per item: %f\" % df.groupby(\"item_id\").size().mean())"
   ]
  },
  {
   "cell_type": "markdown",
   "metadata": {},
   "source": [
    "# All Beauty"
   ]
  },
  {
   "cell_type": "code",
   "execution_count": 9,
   "metadata": {},
   "outputs": [
    {
     "name": "stdout",
     "output_type": "stream",
     "text": [
      "Nr. of ratings: 371345\n",
      "Nr. of users: 324038\n",
      "Nr. of items: 32586\n",
      "Density: 0.000035\n",
      "Avg. nr. of ratings per user: 1.145992\n",
      "Avg. nr. of ratings per item: 11.395845\n"
     ]
    }
   ],
   "source": [
    "df = pd.read_csv(\"data/amazon/All_Beauty.csv\", header=None, names=[\"item_id\", \"user_id\", \"rating\", \"timestamp\"])\n",
    "print_stats(df)"
   ]
  },
  {
   "cell_type": "markdown",
   "metadata": {},
   "source": [
    "# Amazon Fashion"
   ]
  },
  {
   "cell_type": "code",
   "execution_count": 10,
   "metadata": {},
   "outputs": [
    {
     "name": "stdout",
     "output_type": "stream",
     "text": [
      "Nr. of ratings: 883636\n",
      "Nr. of users: 749233\n",
      "Nr. of items: 186189\n",
      "Density: 0.000006\n",
      "Avg. nr. of ratings per user: 1.179387\n",
      "Avg. nr. of ratings per item: 4.745909\n"
     ]
    }
   ],
   "source": [
    "df = pd.read_csv(\"data/amazon/AMAZON_FASHION.csv\", header=None, names=[\"item_id\", \"user_id\", \"rating\", \"timestamp\"])\n",
    "print_stats(df)"
   ]
  },
  {
   "cell_type": "markdown",
   "metadata": {},
   "source": [
    "# Appliances"
   ]
  },
  {
   "cell_type": "code",
   "execution_count": 12,
   "metadata": {},
   "outputs": [
    {
     "name": "stdout",
     "output_type": "stream",
     "text": [
      "Nr. of ratings: 602777\n",
      "Nr. of users: 515650\n",
      "Nr. of items: 30252\n",
      "Density: 0.000039\n",
      "Avg. nr. of ratings per user: 1.168965\n",
      "Avg. nr. of ratings per item: 19.925195\n"
     ]
    }
   ],
   "source": [
    "df = pd.read_csv(\"data/amazon/Appliances.csv\", header=None, names=[\"item_id\", \"user_id\", \"rating\", \"timestamp\"])\n",
    "print_stats(df)"
   ]
  },
  {
   "cell_type": "markdown",
   "metadata": {},
   "source": [
    "# Arts, Crafts, and Sewing"
   ]
  },
  {
   "cell_type": "code",
   "execution_count": 13,
   "metadata": {},
   "outputs": [
    {
     "name": "stdout",
     "output_type": "stream",
     "text": [
      "Nr. of ratings: 2875917\n",
      "Nr. of users: 1579230\n",
      "Nr. of items: 302809\n",
      "Density: 0.000006\n",
      "Avg. nr. of ratings per user: 1.821088\n",
      "Avg. nr. of ratings per item: 9.497462\n"
     ]
    }
   ],
   "source": [
    "df = pd.read_csv(\"data/amazon/Arts_Crafts_and_Sewing.csv\", header=None, names=[\"item_id\", \"user_id\", \"rating\", \"timestamp\"])\n",
    "print_stats(df)"
   ]
  },
  {
   "cell_type": "markdown",
   "metadata": {},
   "source": [
    "# Automotive"
   ]
  },
  {
   "cell_type": "code",
   "execution_count": 14,
   "metadata": {},
   "outputs": [
    {
     "name": "stdout",
     "output_type": "stream",
     "text": [
      "Nr. of ratings: 7990166\n",
      "Nr. of users: 3873247\n",
      "Nr. of items: 925387\n",
      "Density: 0.000002\n",
      "Avg. nr. of ratings per user: 2.062912\n",
      "Avg. nr. of ratings per item: 8.634405\n"
     ]
    }
   ],
   "source": [
    "df = pd.read_csv(\"data/amazon/Automotive.csv\", header=None, names=[\"item_id\", \"user_id\", \"rating\", \"timestamp\"])\n",
    "print_stats(df)"
   ]
  },
  {
   "cell_type": "markdown",
   "metadata": {},
   "source": [
    "# CDs and Vinyls"
   ]
  },
  {
   "cell_type": "code",
   "execution_count": 15,
   "metadata": {},
   "outputs": [
    {
     "name": "stdout",
     "output_type": "stream",
     "text": [
      "Nr. of ratings: 4543369\n",
      "Nr. of users: 1944316\n",
      "Nr. of items: 434060\n",
      "Density: 0.000005\n",
      "Avg. nr. of ratings per user: 2.336744\n",
      "Avg. nr. of ratings per item: 10.467145\n"
     ]
    }
   ],
   "source": [
    "df = pd.read_csv(\"data/amazon/CDs_and_Vinyl.csv\", header=None, names=[\"item_id\", \"user_id\", \"rating\", \"timestamp\"])\n",
    "print_stats(df)"
   ]
  },
  {
   "cell_type": "markdown",
   "metadata": {},
   "source": [
    "# Cell Phones and Accessories"
   ]
  },
  {
   "cell_type": "code",
   "execution_count": 16,
   "metadata": {},
   "outputs": [
    {
     "name": "stdout",
     "output_type": "stream",
     "text": [
      "Nr. of ratings: 10063255\n",
      "Nr. of users: 6211701\n",
      "Nr. of items: 589534\n",
      "Density: 0.000003\n",
      "Avg. nr. of ratings per user: 1.620048\n",
      "Avg. nr. of ratings per item: 17.069847\n"
     ]
    }
   ],
   "source": [
    "df = pd.read_csv(\"data/amazon/Cell_Phones_and_Accessories.csv\", header=None, names=[\"item_id\", \"user_id\", \"rating\", \"timestamp\"])\n",
    "print_stats(df)"
   ]
  },
  {
   "cell_type": "markdown",
   "metadata": {},
   "source": [
    "# Digital Music"
   ]
  },
  {
   "cell_type": "code",
   "execution_count": 17,
   "metadata": {},
   "outputs": [
    {
     "name": "stdout",
     "output_type": "stream",
     "text": [
      "Nr. of ratings: 1584082\n",
      "Nr. of users: 840372\n",
      "Nr. of items: 456992\n",
      "Density: 0.000004\n",
      "Avg. nr. of ratings per user: 1.884977\n",
      "Avg. nr. of ratings per item: 3.466323\n"
     ]
    }
   ],
   "source": [
    "df = pd.read_csv(\"data/amazon/Digital_Music.csv\", header=None, names=[\"item_id\", \"user_id\", \"rating\", \"timestamp\"])\n",
    "print_stats(df)"
   ]
  },
  {
   "cell_type": "markdown",
   "metadata": {},
   "source": [
    "# Gift Cards"
   ]
  },
  {
   "cell_type": "code",
   "execution_count": 18,
   "metadata": {},
   "outputs": [
    {
     "name": "stdout",
     "output_type": "stream",
     "text": [
      "Nr. of ratings: 147194\n",
      "Nr. of users: 128877\n",
      "Nr. of items: 1548\n",
      "Density: 0.000738\n",
      "Avg. nr. of ratings per user: 1.142128\n",
      "Avg. nr. of ratings per item: 95.086563\n"
     ]
    }
   ],
   "source": [
    "df = pd.read_csv(\"data/amazon/Gift_Cards.csv\", header=None, names=[\"item_id\", \"user_id\", \"rating\", \"timestamp\"])\n",
    "print_stats(df)"
   ]
  },
  {
   "cell_type": "markdown",
   "metadata": {},
   "source": [
    "# Grocery and Gourmet Food"
   ]
  },
  {
   "cell_type": "code",
   "execution_count": 19,
   "metadata": {},
   "outputs": [
    {
     "name": "stdout",
     "output_type": "stream",
     "text": [
      "Nr. of ratings: 5074160\n",
      "Nr. of users: 2695974\n",
      "Nr. of items: 283507\n",
      "Density: 0.000007\n",
      "Avg. nr. of ratings per user: 1.882125\n",
      "Avg. nr. of ratings per item: 17.897830\n"
     ]
    }
   ],
   "source": [
    "df = pd.read_csv(\"data/amazon/Grocery_and_Gourmet_Food.csv\", header=None, names=[\"item_id\", \"user_id\", \"rating\", \"timestamp\"])\n",
    "print_stats(df)"
   ]
  },
  {
   "cell_type": "markdown",
   "metadata": {},
   "source": [
    "# Industrial and Scientific"
   ]
  },
  {
   "cell_type": "code",
   "execution_count": 20,
   "metadata": {},
   "outputs": [
    {
     "name": "stdout",
     "output_type": "stream",
     "text": [
      "Nr. of ratings: 1758333\n",
      "Nr. of users: 1246131\n",
      "Nr. of items: 165764\n",
      "Density: 0.000009\n",
      "Avg. nr. of ratings per user: 1.411034\n",
      "Avg. nr. of ratings per item: 10.607448\n"
     ]
    }
   ],
   "source": [
    "df = pd.read_csv(\"data/amazon/Industrial_and_Scientific.csv\", header=None, names=[\"item_id\", \"user_id\", \"rating\", \"timestamp\"])\n",
    "print_stats(df)"
   ]
  },
  {
   "cell_type": "markdown",
   "metadata": {},
   "source": [
    "# Kindle Store"
   ]
  },
  {
   "cell_type": "code",
   "execution_count": 21,
   "metadata": {},
   "outputs": [
    {
     "name": "stdout",
     "output_type": "stream",
     "text": [
      "Nr. of ratings: 5722988\n",
      "Nr. of users: 2409262\n",
      "Nr. of items: 493849\n",
      "Density: 0.000005\n",
      "Avg. nr. of ratings per user: 2.375411\n",
      "Avg. nr. of ratings per item: 11.588538\n"
     ]
    }
   ],
   "source": [
    "df = pd.read_csv(\"data/amazon/Kindle_Store.csv\", header=None, names=[\"item_id\", \"user_id\", \"rating\", \"timestamp\"])\n",
    "print_stats(df)"
   ]
  },
  {
   "cell_type": "markdown",
   "metadata": {},
   "source": [
    "# Luxury Beauty"
   ]
  },
  {
   "cell_type": "code",
   "execution_count": 22,
   "metadata": {},
   "outputs": [
    {
     "name": "stdout",
     "output_type": "stream",
     "text": [
      "Nr. of ratings: 574628\n",
      "Nr. of users: 416174\n",
      "Nr. of items: 12120\n",
      "Density: 0.000114\n",
      "Avg. nr. of ratings per user: 1.380740\n",
      "Avg. nr. of ratings per item: 47.411551\n"
     ]
    }
   ],
   "source": [
    "df = pd.read_csv(\"data/amazon/Luxury_Beauty.csv\", header=None, names=[\"item_id\", \"user_id\", \"rating\", \"timestamp\"])\n",
    "print_stats(df)"
   ]
  },
  {
   "cell_type": "markdown",
   "metadata": {},
   "source": [
    "# Magazine Subscriptions"
   ]
  },
  {
   "cell_type": "code",
   "execution_count": 23,
   "metadata": {},
   "outputs": [
    {
     "name": "stdout",
     "output_type": "stream",
     "text": [
      "Nr. of ratings: 89689\n",
      "Nr. of users: 72098\n",
      "Nr. of items: 2428\n",
      "Density: 0.000512\n",
      "Avg. nr. of ratings per user: 1.243987\n",
      "Avg. nr. of ratings per item: 36.939456\n"
     ]
    }
   ],
   "source": [
    "df = pd.read_csv(\"data/amazon/Magazine_Subscriptions.csv\", header=None, names=[\"item_id\", \"user_id\", \"rating\", \"timestamp\"])\n",
    "print_stats(df)"
   ]
  },
  {
   "cell_type": "markdown",
   "metadata": {},
   "source": [
    "# Movies and TV"
   ]
  },
  {
   "cell_type": "code",
   "execution_count": 24,
   "metadata": {},
   "outputs": [
    {
     "name": "stdout",
     "output_type": "stream",
     "text": [
      "Nr. of ratings: 8765568\n",
      "Nr. of users: 3826085\n",
      "Nr. of items: 182032\n",
      "Density: 0.000013\n",
      "Avg. nr. of ratings per user: 2.291002\n",
      "Avg. nr. of ratings per item: 48.153995\n"
     ]
    }
   ],
   "source": [
    "df = pd.read_csv(\"data/amazon/Movies_and_TV.csv\", header=None, names=[\"item_id\", \"user_id\", \"rating\", \"timestamp\"])\n",
    "print_stats(df)"
   ]
  },
  {
   "cell_type": "markdown",
   "metadata": {},
   "source": [
    "# Musical Instruments"
   ]
  },
  {
   "cell_type": "code",
   "execution_count": 25,
   "metadata": {},
   "outputs": [
    {
     "name": "stdout",
     "output_type": "stream",
     "text": [
      "Nr. of ratings: 1512530\n",
      "Nr. of users: 903330\n",
      "Nr. of items: 112222\n",
      "Density: 0.000015\n",
      "Avg. nr. of ratings per user: 1.674394\n",
      "Avg. nr. of ratings per item: 13.478017\n"
     ]
    }
   ],
   "source": [
    "df = pd.read_csv(\"data/amazon/Musical_Instruments.csv\", header=None, names=[\"item_id\", \"user_id\", \"rating\", \"timestamp\"])\n",
    "print_stats(df)"
   ]
  },
  {
   "cell_type": "markdown",
   "metadata": {},
   "source": [
    "# Office Producs"
   ]
  },
  {
   "cell_type": "code",
   "execution_count": 26,
   "metadata": {},
   "outputs": [
    {
     "name": "stdout",
     "output_type": "stream",
     "text": [
      "Nr. of ratings: 5581313\n",
      "Nr. of users: 3404914\n",
      "Nr. of items: 306800\n",
      "Density: 0.000005\n",
      "Avg. nr. of ratings per user: 1.639194\n",
      "Avg. nr. of ratings per item: 18.192024\n"
     ]
    }
   ],
   "source": [
    "df = pd.read_csv(\"data/amazon/Office_Products.csv\", header=None, names=[\"item_id\", \"user_id\", \"rating\", \"timestamp\"])\n",
    "print_stats(df)"
   ]
  },
  {
   "cell_type": "markdown",
   "metadata": {},
   "source": [
    "# Patio, Lawn and Garden"
   ]
  },
  {
   "cell_type": "code",
   "execution_count": 27,
   "metadata": {},
   "outputs": [
    {
     "name": "stdout",
     "output_type": "stream",
     "text": [
      "Nr. of ratings: 5236058\n",
      "Nr. of users: 3097405\n",
      "Nr. of items: 276563\n",
      "Density: 0.000006\n",
      "Avg. nr. of ratings per user: 1.690466\n",
      "Avg. nr. of ratings per item: 18.932605\n"
     ]
    }
   ],
   "source": [
    "df = pd.read_csv(\"data/amazon/Patio_Lawn_and_Garden.csv\", header=None, names=[\"item_id\", \"user_id\", \"rating\", \"timestamp\"])\n",
    "print_stats(df)"
   ]
  },
  {
   "cell_type": "markdown",
   "metadata": {},
   "source": [
    "# Pet Supplies"
   ]
  },
  {
   "cell_type": "code",
   "execution_count": 28,
   "metadata": {},
   "outputs": [
    {
     "name": "stdout",
     "output_type": "stream",
     "text": [
      "Nr. of ratings: 6542483\n",
      "Nr. of users: 3085591\n",
      "Nr. of items: 198402\n",
      "Density: 0.000011\n",
      "Avg. nr. of ratings per user: 2.120334\n",
      "Avg. nr. of ratings per item: 32.975892\n"
     ]
    }
   ],
   "source": [
    "df = pd.read_csv(\"data/amazon/Pet_Supplies.csv\", header=None, names=[\"item_id\", \"user_id\", \"rating\", \"timestamp\"])\n",
    "print_stats(df)"
   ]
  },
  {
   "cell_type": "markdown",
   "metadata": {},
   "source": [
    "# Prime Pantry"
   ]
  },
  {
   "cell_type": "code",
   "execution_count": 29,
   "metadata": {},
   "outputs": [
    {
     "name": "stdout",
     "output_type": "stream",
     "text": [
      "Nr. of ratings: 471614\n",
      "Nr. of users: 247659\n",
      "Nr. of items: 10814\n",
      "Density: 0.000176\n",
      "Avg. nr. of ratings per user: 1.904288\n",
      "Avg. nr. of ratings per item: 43.611430\n"
     ]
    }
   ],
   "source": [
    "df = pd.read_csv(\"data/amazon/Prime_Pantry.csv\", header=None, names=[\"item_id\", \"user_id\", \"rating\", \"timestamp\"])\n",
    "print_stats(df)"
   ]
  },
  {
   "cell_type": "markdown",
   "metadata": {},
   "source": [
    "# Software"
   ]
  },
  {
   "cell_type": "code",
   "execution_count": 30,
   "metadata": {},
   "outputs": [
    {
     "name": "stdout",
     "output_type": "stream",
     "text": [
      "Nr. of ratings: 459436\n",
      "Nr. of users: 375147\n",
      "Nr. of items: 21663\n",
      "Density: 0.000057\n",
      "Avg. nr. of ratings per user: 1.224683\n",
      "Avg. nr. of ratings per item: 21.208328\n"
     ]
    }
   ],
   "source": [
    "df = pd.read_csv(\"data/amazon/Software.csv\", header=None, names=[\"item_id\", \"user_id\", \"rating\", \"timestamp\"])\n",
    "print_stats(df)"
   ]
  },
  {
   "cell_type": "markdown",
   "metadata": {},
   "source": [
    "# Tools and Home Improvement"
   ]
  },
  {
   "cell_type": "code",
   "execution_count": 31,
   "metadata": {},
   "outputs": [
    {
     "name": "stdout",
     "output_type": "stream",
     "text": [
      "Nr. of ratings: 9015203\n",
      "Nr. of users: 4704014\n",
      "Nr. of items: 559775\n",
      "Density: 0.000003\n",
      "Avg. nr. of ratings per user: 1.916492\n",
      "Avg. nr. of ratings per item: 16.105048\n"
     ]
    }
   ],
   "source": [
    "df = pd.read_csv(\"data/amazon/Tools_and_Home_Improvement.csv\", header=None, names=[\"item_id\", \"user_id\", \"rating\", \"timestamp\"])\n",
    "print_stats(df)"
   ]
  },
  {
   "cell_type": "markdown",
   "metadata": {},
   "source": [
    "# Toys and Games"
   ]
  },
  {
   "cell_type": "code",
   "execution_count": 32,
   "metadata": {},
   "outputs": [
    {
     "name": "stdout",
     "output_type": "stream",
     "text": [
      "Nr. of ratings: 8201231\n",
      "Nr. of users: 4204994\n",
      "Nr. of items: 624792\n",
      "Density: 0.000003\n",
      "Avg. nr. of ratings per user: 1.950355\n",
      "Avg. nr. of ratings per item: 13.126338\n"
     ]
    }
   ],
   "source": [
    "df = pd.read_csv(\"data/amazon/Toys_and_Games.csv\", header=None, names=[\"item_id\", \"user_id\", \"rating\", \"timestamp\"])\n",
    "print_stats(df)"
   ]
  },
  {
   "cell_type": "markdown",
   "metadata": {},
   "source": [
    "# Video Games"
   ]
  },
  {
   "cell_type": "code",
   "execution_count": 33,
   "metadata": {},
   "outputs": [
    {
     "name": "stdout",
     "output_type": "stream",
     "text": [
      "Nr. of ratings: 2565349\n",
      "Nr. of users: 1540618\n",
      "Nr. of items: 71982\n",
      "Density: 0.000023\n",
      "Avg. nr. of ratings per user: 1.665143\n",
      "Avg. nr. of ratings per item: 35.638757\n"
     ]
    }
   ],
   "source": [
    "df = pd.read_csv(\"data/amazon/Video_Games.csv\", header=None, names=[\"item_id\", \"user_id\", \"rating\", \"timestamp\"])\n",
    "print_stats(df)"
   ]
  },
  {
   "cell_type": "code",
   "execution_count": null,
   "metadata": {},
   "outputs": [],
   "source": []
  }
 ],
 "metadata": {
  "kernelspec": {
   "display_name": "Python 3",
   "language": "python",
   "name": "python3"
  },
  "language_info": {
   "codemirror_mode": {
    "name": "ipython",
    "version": 3
   },
   "file_extension": ".py",
   "mimetype": "text/x-python",
   "name": "python",
   "nbconvert_exporter": "python",
   "pygments_lexer": "ipython3",
   "version": "3.7.3"
  }
 },
 "nbformat": 4,
 "nbformat_minor": 4
}
