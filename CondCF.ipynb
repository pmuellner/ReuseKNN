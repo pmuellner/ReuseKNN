{
 "cells": [
  {
   "cell_type": "code",
   "execution_count": 238,
   "metadata": {},
   "outputs": [],
   "source": [
    "import pyximport\n",
    "import numpy as np\n",
    "pyximport.install(setup_args={\"include_dirs\": np.get_include()},\n",
    "                  reload_support=True)\n",
    "from algorithms.knn_neighborhood import UserKNN as ReuseKNN\n",
    "import pandas as pd\n",
    "from surprise import Dataset, Reader, accuracy\n",
    "from surprise.model_selection import train_test_split\n",
    "import matplotlib.pyplot as plt\n",
    "from collections import defaultdict\n",
    "from sklearn.manifold import TSNE\n",
    "import matplotlib.pyplot as plt\n",
    "from umap import UMAP\n",
    "from sklearn.decomposition import PCA"
   ]
  },
  {
   "cell_type": "code",
   "execution_count": 239,
   "metadata": {},
   "outputs": [],
   "source": [
    "data_df = pd.read_csv(\"data/ml-100k/u.data\", sep=\"\\t\", names=[\"user_id\", \"item_id\", \"rating\", \"timestamp\"])\n",
    "reader = Reader(rating_scale=(1, 5))\n",
    "\n",
    "dataset = Dataset.load_from_df(data_df[[\"user_id\", \"item_id\", \"rating\"]], reader=reader)\n",
    "trainset = dataset.construct_trainset(data_df.to_records(index=False))\n",
    "testset = trainset.build_testset()"
   ]
  },
  {
   "cell_type": "code",
   "execution_count": 240,
   "metadata": {},
   "outputs": [
    {
     "data": {
      "text/plain": [
       "array([[3., 0., 0., ..., 0., 0., 0.],\n",
       "       [0., 3., 0., ..., 0., 0., 0.],\n",
       "       [0., 0., 1., ..., 0., 0., 0.],\n",
       "       ...,\n",
       "       [0., 0., 0., ..., 0., 0., 0.],\n",
       "       [0., 4., 0., ..., 0., 0., 0.],\n",
       "       [0., 0., 0., ..., 0., 0., 0.]])"
      ]
     },
     "execution_count": 240,
     "metadata": {},
     "output_type": "execute_result"
    }
   ],
   "source": [
    "R_userprofiles = np.zeros((trainset.n_users, trainset.n_items))\n",
    "for uid, ratings in trainset.ur.items():\n",
    "    for iid, r in ratings:\n",
    "        R_userprofiles[uid, iid] = r\n",
    "R_userprofiles"
   ]
  },
  {
   "cell_type": "markdown",
   "metadata": {},
   "source": [
    "# Recommendations"
   ]
  },
  {
   "cell_type": "markdown",
   "metadata": {},
   "source": [
    "## UserKNN"
   ]
  },
  {
   "cell_type": "markdown",
   "metadata": {},
   "source": [
    "### No DP"
   ]
  },
  {
   "cell_type": "code",
   "execution_count": 241,
   "metadata": {},
   "outputs": [
    {
     "name": "stdout",
     "output_type": "stream",
     "text": [
      "638.0\n"
     ]
    }
   ],
   "source": [
    "m = ReuseKNN(k=10, protected=False)\n",
    "m.fit(trainset)\n",
    "p = m.test(testset)\n",
    "print(np.median(m.n_queries))\n",
    "\n",
    "R_userknn_nodp = np.zeros((trainset.n_users, trainset.n_items))\n",
    "for ruid, riid, _, r_est, _ in p:\n",
    "    iuid = trainset.to_inner_uid(ruid)\n",
    "    iiid = trainset.to_inner_iid(riid)\n",
    "    R_userknn_nodp[iuid, iiid] = r_est"
   ]
  },
  {
   "cell_type": "markdown",
   "metadata": {},
   "source": [
    "### DP"
   ]
  },
  {
   "cell_type": "code",
   "execution_count": 242,
   "metadata": {},
   "outputs": [],
   "source": [
    "m = ReuseKNN(k=10, protected=True)\n",
    "m.fit(trainset)\n",
    "p = m.test(testset)\n",
    "\n",
    "R_userknn_dp = np.zeros((trainset.n_users, trainset.n_items))\n",
    "for ruid, riid, _, r_est, _ in p:\n",
    "    iuid = trainset.to_inner_uid(ruid)\n",
    "    iiid = trainset.to_inner_iid(riid)\n",
    "    R_userknn_dp[iuid, iiid] = r_est"
   ]
  },
  {
   "cell_type": "markdown",
   "metadata": {},
   "source": [
    "## ReuseKNN"
   ]
  },
  {
   "cell_type": "markdown",
   "metadata": {},
   "source": [
    "### No DP"
   ]
  },
  {
   "cell_type": "code",
   "execution_count": 243,
   "metadata": {},
   "outputs": [
    {
     "name": "stdout",
     "output_type": "stream",
     "text": [
      "100.0\n"
     ]
    }
   ],
   "source": [
    "m = ReuseKNN(k=10, tau_4=0.5, protected=False)\n",
    "m.fit(trainset)\n",
    "p = m.test(testset)\n",
    "print(np.median(m.n_queries))\n",
    "\n",
    "\n",
    "R_reuseknn_nodp = np.zeros((trainset.n_users, trainset.n_items))\n",
    "for ruid, riid, _, r_est, _ in p:\n",
    "    iuid = trainset.to_inner_uid(ruid)\n",
    "    iiid = trainset.to_inner_iid(riid)\n",
    "    R_reuseknn_nodp[iuid, iiid] = r_est"
   ]
  },
  {
   "cell_type": "markdown",
   "metadata": {},
   "source": [
    "### DP"
   ]
  },
  {
   "cell_type": "code",
   "execution_count": 244,
   "metadata": {},
   "outputs": [],
   "source": [
    "m = ReuseKNN(k=10, tau_4=0.5, protected=True)\n",
    "m.fit(trainset)\n",
    "p = m.test(testset)\n",
    "\n",
    "R_reuseknn_dp = np.zeros((trainset.n_users, trainset.n_items))\n",
    "for ruid, riid, _, r_est, _ in p:\n",
    "    iuid = trainset.to_inner_uid(ruid)\n",
    "    iiid = trainset.to_inner_iid(riid)\n",
    "    R_reuseknn_dp[iuid, iiid] = r_est"
   ]
  },
  {
   "cell_type": "code",
   "execution_count": null,
   "metadata": {},
   "outputs": [],
   "source": []
  },
  {
   "cell_type": "markdown",
   "metadata": {},
   "source": [
    "# Embeddings"
   ]
  },
  {
   "cell_type": "code",
   "execution_count": 119,
   "metadata": {},
   "outputs": [],
   "source": [
    "%matplotlib qt"
   ]
  },
  {
   "cell_type": "code",
   "execution_count": 280,
   "metadata": {},
   "outputs": [],
   "source": [
    "transformer = UMAP(n_components=2).fit(R_userprofiles)\n",
    "E_userprofiles = transformer.transform(R_userprofiles)\n",
    "E_userknnnodp = transformer.transform(R_userknn_nodp)\n",
    "E_userknndp = transformer.transform(R_userknn_dp)\n",
    "E_reuseknnnodp = transformer.transform(R_reuseknn_nodp)\n",
    "E_reuseknndp = transformer.transform(R_reuseknn_dp)"
   ]
  },
  {
   "cell_type": "code",
   "execution_count": 272,
   "metadata": {},
   "outputs": [],
   "source": [
    "transformer = TSNE(n_components=2, init='random').fit_transform(R_userprofiles)\n",
    "E_userprofiles = TSNE(n_components=2, init='random').fit_transform(R_userprofiles)\n",
    "E_userknnnodp = TSNE(n_components=2, init='random').fit_transform(R_userknn_nodp)\n",
    "E_userknndp = TSNE(n_components=2, init='random').fit_transform(R_userknn_dp)\n",
    "E_reuseknnnodp = TSNE(n_components=2, init='random').fit_transform(R_reuseknn_nodp)\n",
    "E_reuseknndp = TSNE(n_components=2, init='random').fit_transform(R_reuseknn_dp)"
   ]
  },
  {
   "cell_type": "code",
   "execution_count": 283,
   "metadata": {},
   "outputs": [
    {
     "data": {
      "text/plain": [
       "<matplotlib.collections.PathCollection at 0x1a74211a518>"
      ]
     },
     "execution_count": 283,
     "metadata": {},
     "output_type": "execute_result"
    }
   ],
   "source": [
    "plt.scatter(E_userprofiles[:, 0], E_userprofiles[:, 1], s=2, label=\"User Profiles\")"
   ]
  },
  {
   "cell_type": "code",
   "execution_count": 282,
   "metadata": {},
   "outputs": [
    {
     "data": {
      "text/plain": [
       "Text(0.5, 1.0, 'No DP')"
      ]
     },
     "execution_count": 282,
     "metadata": {},
     "output_type": "execute_result"
    }
   ],
   "source": [
    "plt.scatter(E_userknnnodp[:, 0], E_userknnnodp[:, 1], s=2, label=\"UserKNN\")\n",
    "plt.scatter(E_reuseknnnodp[:, 0], E_reuseknnnodp[:, 1], s=2, label=\"ReuseKNN\")\n",
    "plt.legend()\n",
    "plt.title(\"No DP\")"
   ]
  },
  {
   "cell_type": "code",
   "execution_count": 284,
   "metadata": {},
   "outputs": [
    {
     "data": {
      "text/plain": [
       "Text(0.5, 1.0, 'No DP')"
      ]
     },
     "execution_count": 284,
     "metadata": {},
     "output_type": "execute_result"
    }
   ],
   "source": [
    "plt.scatter(E_userprofiles[:, 0], E_userprofiles[:, 1], s=2, label=\"User Profiles\")\n",
    "plt.scatter(E_userknnnodp[:, 0], E_userknnnodp[:, 1], s=2, label=\"UserKNN\")\n",
    "plt.scatter(E_reuseknnnodp[:, 0], E_reuseknnnodp[:, 1], s=2, label=\"ReuseKNN\")\n",
    "plt.legend()\n",
    "plt.title(\"No DP\")"
   ]
  },
  {
   "cell_type": "code",
   "execution_count": 285,
   "metadata": {},
   "outputs": [
    {
     "data": {
      "text/plain": [
       "Text(0.5, 1.0, 'DP')"
      ]
     },
     "execution_count": 285,
     "metadata": {},
     "output_type": "execute_result"
    }
   ],
   "source": [
    "plt.scatter(E_userknndp[:, 0], E_userknndp[:, 1], s=2, label=\"UserKNN\")\n",
    "plt.scatter(E_reuseknndp[:, 0], E_reuseknndp[:, 1], s=2, label=\"ReuseKNN\")\n",
    "plt.legend()\n",
    "plt.title(\"DP\")"
   ]
  },
  {
   "cell_type": "code",
   "execution_count": 286,
   "metadata": {},
   "outputs": [
    {
     "data": {
      "text/plain": [
       "Text(0.5, 1.0, 'DP')"
      ]
     },
     "execution_count": 286,
     "metadata": {},
     "output_type": "execute_result"
    }
   ],
   "source": [
    "plt.scatter(E_userprofiles[:, 0], E_userprofiles[:, 1], s=2, label=\"User Profiles\")\n",
    "plt.scatter(E_userknndp[:, 0], E_userknndp[:, 1], s=2, label=\"UserKNN\")\n",
    "plt.scatter(E_reuseknndp[:, 0], E_reuseknndp[:, 1], s=2, label=\"ReuseKNN\")\n",
    "plt.legend()\n",
    "plt.title(\"DP\")"
   ]
  },
  {
   "cell_type": "code",
   "execution_count": 287,
   "metadata": {},
   "outputs": [
    {
     "data": {
      "text/plain": [
       "Text(0.5, 1.0, 'No DP')"
      ]
     },
     "execution_count": 287,
     "metadata": {},
     "output_type": "execute_result"
    }
   ],
   "source": [
    "plt.scatter(E_userknnnodp[:, 0] - E_userprofiles[:, 0], E_userknnnodp[:, 1] - E_userprofiles[:, 1], s=2, label=\"UserKNN\")\n",
    "plt.scatter(E_reuseknnnodp[:, 0] - E_userprofiles[:, 0], E_reuseknnnodp[:, 1] - E_userprofiles[:, 1], s=2, label=\"ReuseKNN\")\n",
    "plt.axhline(y=0, linestyle=\"dashed\", c=\"Gray\", linewidth=1)\n",
    "plt.axvline(x=0, linestyle=\"dashed\", c=\"Gray\", linewidth=1)\n",
    "plt.legend()\n",
    "plt.title(\"No DP\")"
   ]
  },
  {
   "cell_type": "code",
   "execution_count": 288,
   "metadata": {},
   "outputs": [
    {
     "name": "stdout",
     "output_type": "stream",
     "text": [
      "0.9807789 0.97561544\n",
      "0.9766340236215932 0.9743109978914815\n"
     ]
    }
   ],
   "source": [
    "from sklearn.metrics.pairwise import cosine_similarity\n",
    "print(cosine_similarity(E_userprofiles, E_userknndp).diagonal().mean(), cosine_similarity(E_userprofiles, E_reuseknndp).diagonal().mean())\n",
    "print(cosine_similarity(R_userprofiles, R_userknn_nodp).diagonal().mean(), cosine_similarity(R_userprofiles, R_reuseknn_nodp).diagonal().mean())"
   ]
  },
  {
   "cell_type": "code",
   "execution_count": null,
   "metadata": {},
   "outputs": [],
   "source": [
    "# cosine similarity overlap"
   ]
  }
 ],
 "metadata": {
  "kernelspec": {
   "display_name": "Python 3",
   "language": "python",
   "name": "python3"
  },
  "language_info": {
   "codemirror_mode": {
    "name": "ipython",
    "version": 3
   },
   "file_extension": ".py",
   "mimetype": "text/x-python",
   "name": "python",
   "nbconvert_exporter": "python",
   "pygments_lexer": "ipython3",
   "version": "3.7.3"
  }
 },
 "nbformat": 4,
 "nbformat_minor": 4
}
