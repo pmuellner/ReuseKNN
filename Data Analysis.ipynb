{
 "cells": [
  {
   "cell_type": "code",
   "execution_count": 65,
   "metadata": {},
   "outputs": [],
   "source": [
    "import pandas as pd\n",
    "import numpy as np\n",
    "import matplotlib.pyplot as plt\n",
    "from collections import Counter"
   ]
  },
  {
   "cell_type": "code",
   "execution_count": 73,
   "metadata": {},
   "outputs": [
    {
     "name": "stderr",
     "output_type": "stream",
     "text": [
      "C:\\Users\\pmuellner\\AppData\\Local\\Continuum\\anaconda3\\lib\\site-packages\\ipykernel_launcher.py:1: ParserWarning: Falling back to the 'python' engine because the 'c' engine does not support regex separators (separators > 1 char and different from '\\s+' are interpreted as regex); you can avoid this warning by specifying engine='python'.\n",
      "  \"\"\"Entry point for launching an IPython kernel.\n"
     ]
    },
    {
     "data": {
      "text/plain": [
       "1.8013926144290655"
      ]
     },
     "execution_count": 73,
     "metadata": {},
     "output_type": "execute_result"
    }
   ],
   "source": [
    "data_df = pd.read_csv(\"data/ml-1m/ratings.dat\", sep=\"::\", names=[\"user_id\", \"item_id\", \"rating\", \"timestamp\"])\n",
    "entropies = dict()\n",
    "for iid, ratings in data_df.groupby(\"item_id\")[\"rating\"]:\n",
    "    n = len(ratings)\n",
    "    \n",
    "    entropy = 0\n",
    "    for r, cnt in Counter(ratings).items():\n",
    "        p_r = cnt / n\n",
    "        entropy -= p_r * np.log2(p_r)\n",
    "    entropies[iid] = entropy\n",
    "np.mean(list(entropies.values()))"
   ]
  },
  {
   "cell_type": "code",
   "execution_count": 74,
   "metadata": {},
   "outputs": [
    {
     "data": {
      "text/plain": [
       "0.8121115642694194"
      ]
     },
     "execution_count": 74,
     "metadata": {},
     "output_type": "execute_result"
    }
   ],
   "source": [
    "data_df = pd.read_csv(\"data/douban/douban.csv\", sep=\";\", names=[\"user_id\", \"item_id\", \"rating\"])\n",
    "entropies = dict()\n",
    "for iid, ratings in data_df.groupby(\"item_id\")[\"rating\"]:\n",
    "    n = len(ratings)\n",
    "    \n",
    "    entropy = 0\n",
    "    for r, cnt in Counter(ratings).items():\n",
    "        p_r = cnt / n\n",
    "        entropy -= p_r * np.log2(p_r)\n",
    "    entropies[iid] = entropy\n",
    "np.mean(list(entropies.values()))"
   ]
  },
  {
   "cell_type": "code",
   "execution_count": 75,
   "metadata": {},
   "outputs": [
    {
     "data": {
      "text/plain": [
       "0.5951931594806144"
      ]
     },
     "execution_count": 75,
     "metadata": {},
     "output_type": "execute_result"
    }
   ],
   "source": [
    "data_df = pd.read_csv(\"data/lfm/artist_ratings.csv\", sep=\";\", names=[\"user_id\", \"item_id\", \"rating\"])\n",
    "entropies = dict()\n",
    "for iid, ratings in data_df.groupby(\"item_id\")[\"rating\"]:\n",
    "    n = len(ratings)\n",
    "    \n",
    "    entropy = 0\n",
    "    for r, cnt in Counter(ratings).items():\n",
    "        p_r = cnt / n\n",
    "        entropy -= p_r * np.log2(p_r)\n",
    "    entropies[iid] = entropy\n",
    "np.mean(list(entropies.values()))"
   ]
  },
  {
   "cell_type": "code",
   "execution_count": 76,
   "metadata": {},
   "outputs": [
    {
     "data": {
      "text/plain": [
       "0.3026197913900482"
      ]
     },
     "execution_count": 76,
     "metadata": {},
     "output_type": "execute_result"
    }
   ],
   "source": [
    "data_df = pd.read_csv(\"data/ciao/ciao.csv\", sep=\";\", names=[\"user_id\", \"item_id\", \"rating\"])\n",
    "entropies = dict()\n",
    "for iid, ratings in data_df.groupby(\"item_id\")[\"rating\"]:\n",
    "    n = len(ratings)\n",
    "    \n",
    "    entropy = 0\n",
    "    for r, cnt in Counter(ratings).items():\n",
    "        p_r = cnt / n\n",
    "        entropy -= p_r * np.log2(p_r)\n",
    "    entropies[iid] = entropy\n",
    "np.mean(list(entropies.values()))"
   ]
  },
  {
   "cell_type": "code",
   "execution_count": 77,
   "metadata": {},
   "outputs": [
    {
     "data": {
      "text/plain": [
       "0.4479408170196567"
      ]
     },
     "execution_count": 77,
     "metadata": {},
     "output_type": "execute_result"
    }
   ],
   "source": [
    "data_df = pd.read_csv(\"data/goodreads/sample.csv\", sep=\";\", names=[\"user_id\", \"item_id\", \"rating\"])\n",
    "entropies = dict()\n",
    "for iid, ratings in data_df.groupby(\"item_id\")[\"rating\"]:\n",
    "    n = len(ratings)\n",
    "    \n",
    "    entropy = 0\n",
    "    for r, cnt in Counter(ratings).items():\n",
    "        p_r = cnt / n\n",
    "        entropy -= p_r * np.log2(p_r)\n",
    "    entropies[iid] = entropy\n",
    "np.mean(list(entropies.values()))"
   ]
  },
  {
   "cell_type": "code",
   "execution_count": 78,
   "metadata": {},
   "outputs": [],
   "source": []
  },
  {
   "cell_type": "code",
   "execution_count": 84,
   "metadata": {},
   "outputs": [
    {
     "name": "stderr",
     "output_type": "stream",
     "text": [
      "C:\\Users\\pmuellner\\AppData\\Local\\Continuum\\anaconda3\\lib\\site-packages\\ipykernel_launcher.py:1: ParserWarning: Falling back to the 'python' engine because the 'c' engine does not support regex separators (separators > 1 char and different from '\\s+' are interpreted as regex); you can avoid this warning by specifying engine='python'.\n",
      "  \"\"\"Entry point for launching an IPython kernel.\n"
     ]
    },
    {
     "data": {
      "image/png": "[encoded data removed]",
      "text/plain": [
       "<Figure size 432x288 with 1 Axes>"
      ]
     },
     "metadata": {
      "needs_background": "light"
     },
     "output_type": "display_data"
    }
   ],
   "source": [
    "data_df = pd.read_csv(\"data/ml-1m/ratings.dat\", sep=\"::\", names=[\"user_id\", \"item_id\", \"rating\", \"timestamp\"])\n",
    "plt.hist(data_df[\"rating\"], bins=5);"
   ]
  },
  {
   "cell_type": "code",
   "execution_count": null,
   "metadata": {},
   "outputs": [],
   "source": []
  },
  {
   "cell_type": "code",
   "execution_count": 83,
   "metadata": {},
   "outputs": [
    {
     "data": {
      "image/png": "[encoded data removed]",
      "text/plain": [
       "<Figure size 432x288 with 1 Axes>"
      ]
     },
     "metadata": {
      "needs_background": "light"
     },
     "output_type": "display_data"
    }
   ],
   "source": [
    "data_df = pd.read_csv(\"data/douban/douban.csv\", sep=\";\", names=[\"user_id\", \"item_id\", \"rating\"])\n",
    "plt.hist(data_df[\"rating\"], bins=5);"
   ]
  },
  {
   "cell_type": "code",
   "execution_count": null,
   "metadata": {},
   "outputs": [],
   "source": []
  }
 ],
 "metadata": {
  "kernelspec": {
   "display_name": "Python 3",
   "language": "python",
   "name": "python3"
  },
  "language_info": {
   "codemirror_mode": {
    "name": "ipython",
    "version": 3
   },
   "file_extension": ".py",
   "mimetype": "text/x-python",
   "name": "python",
   "nbconvert_exporter": "python",
   "pygments_lexer": "ipython3",
   "version": "3.7.3"
  }
 },
 "nbformat": 4,
 "nbformat_minor": 4
}
