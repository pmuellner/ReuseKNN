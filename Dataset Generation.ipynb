{
 "cells": [
  {
   "cell_type": "code",
   "execution_count": 1,
   "metadata": {},
   "outputs": [],
   "source": [
    "import numpy as np\n",
    "import pandas as pd"
   ]
  },
  {
   "cell_type": "markdown",
   "metadata": {},
   "source": [
    "# Anime Small"
   ]
  },
  {
   "cell_type": "code",
   "execution_count": null,
   "metadata": {},
   "outputs": [],
   "source": [
    "anime_df = pd.read_csv(\"data/anime_small/rating.csv\")\n",
    "anime_df.columns = [\"user_id\", \"item_id\", \"rating\"]\n",
    "anime_df = anime_df[anime_df[\"rating\"] != -1]\n",
    "print(\"Nr. of ratings: %d\" % len(anime_df))\n",
    "print(\"Nr. of users: %d\" % anime_df[\"user_id\"].nunique())\n",
    "print(\"Nr. of items: %d\" % anime_df[\"item_id\"].nunique())\n",
    "print(\"Density: %f\" % (len(anime_df) / (anime_df[\"user_id\"].nunique() * anime_df[\"item_id\"].nunique())))\n",
    "print(\"Avg. nr. of ratings per user: %f\" % anime_df.groupby(\"user_id\").size().mean())\n",
    "print(\"Avg. nr. of ratings per item: %f\" % anime_df.groupby(\"item_id\").size().mean())"
   ]
  },
  {
   "cell_type": "code",
   "execution_count": null,
   "metadata": {},
   "outputs": [],
   "source": [
    "profile_sizes = anime_df.groupby(\"user_id\").size()\n",
    "relevant_users = profile_sizes[profile_sizes >= 20].index.tolist()\n",
    "anime_df = anime_df[anime_df[\"user_id\"].isin(relevant_users)]\n",
    "\n",
    "#item_popularity = anime_df.groupby(\"item_id\").size()\n",
    "#relevant_items = item_popularity[item_popularity >= 50].index.tolist()\n",
    "#anime_df = anime_df[anime_df[\"item_id\"].isin(relevant_items)]"
   ]
  },
  {
   "cell_type": "code",
   "execution_count": null,
   "metadata": {},
   "outputs": [],
   "source": [
    "print(\"Nr. of ratings: %d\" % len(anime_df))\n",
    "print(\"Nr. of users: %d\" % anime_df[\"user_id\"].nunique())\n",
    "print(\"Nr. of items: %d\" % anime_df[\"item_id\"].nunique())\n",
    "print(\"Density: %f\" % (len(anime_df) / (anime_df[\"user_id\"].nunique() * anime_df[\"item_id\"].nunique())))\n",
    "print(\"Avg. nr. of ratings per user: %f\" % anime_df.groupby(\"user_id\").size().mean())\n",
    "print(\"Avg. nr. of ratings per item: %f\" % anime_df.groupby(\"item_id\").size().mean())"
   ]
  },
  {
   "cell_type": "code",
   "execution_count": null,
   "metadata": {},
   "outputs": [],
   "source": [
    "user_sample = np.random.choice(anime_df[\"user_id\"].unique(), size=5000, replace=False)\n",
    "df = anime_df[anime_df[\"user_id\"].isin(user_sample)]\n",
    "print(\"Nr. of ratings: %d\" % len(df))\n",
    "print(\"Nr. of users: %d\" % df[\"user_id\"].nunique())\n",
    "print(\"Nr. of items: %d\" % df[\"item_id\"].nunique())\n",
    "print(\"Density: %f\" % (len(df) / (df[\"user_id\"].nunique() * df[\"item_id\"].nunique())))\n",
    "print(\"Avg. nr. of ratings per user: %f\" % df.groupby(\"user_id\").size().mean())\n",
    "print(\"Avg. nr. of ratings per item: %f\" % df.groupby(\"item_id\").size().mean())"
   ]
  },
  {
   "cell_type": "code",
   "execution_count": null,
   "metadata": {},
   "outputs": [],
   "source": [
    "df.to_csv(\"data/anime_small/sample.csv\", sep=\";\", header=False, index=None)"
   ]
  },
  {
   "cell_type": "markdown",
   "metadata": {},
   "source": [
    "# Jester"
   ]
  },
  {
   "cell_type": "code",
   "execution_count": null,
   "metadata": {},
   "outputs": [],
   "source": [
    "df1 = pd.read_excel(\"data/jester/jester-data-1.xls\", header=None)\n",
    "df1.drop(columns=[0], inplace=True)\n",
    "df1 = df1.stack().reset_index()\n",
    "df1.columns = [\"user_id\", \"item_id\", \"rating\"]\n",
    "\n",
    "df2 = pd.read_excel(\"data/jester/jester-data-2.xls\", header=None)\n",
    "df2.drop(columns=[0], inplace=True)\n",
    "df2 = df2.stack().reset_index()\n",
    "df2.columns = [\"user_id\", \"item_id\", \"rating\"]\n",
    "\n",
    "df3 = pd.read_excel(\"data/jester/jester-data-3.xls\", header=None)\n",
    "df3.drop(columns=[0], inplace=True)\n",
    "df3 = df3.stack().reset_index()\n",
    "df3.columns = [\"user_id\", \"item_id\", \"rating\"]"
   ]
  },
  {
   "cell_type": "code",
   "execution_count": null,
   "metadata": {},
   "outputs": [],
   "source": [
    "n_users_1 = df1[\"user_id\"].nunique()\n",
    "n_users_2 = df2[\"user_id\"].nunique()\n",
    "n_users_3 = df3[\"user_id\"].nunique()\n",
    "\n",
    "user_mapping_1 = {b: a for a, b in enumerate(range(n_users_1))}\n",
    "user_mapping_2 = {b: a+n_users_1 for a, b in enumerate(range(n_users_2))}\n",
    "user_mapping_3 = {b: a+n_users_1+n_users_2 for a, b in enumerate(range(n_users_3))}\n",
    "\n",
    "df1[\"user_id\"] = df1[\"user_id\"].map(user_mapping_1)\n",
    "df2[\"user_id\"] = df2[\"user_id\"].map(user_mapping_2)\n",
    "df3[\"user_id\"] = df3[\"user_id\"].map(user_mapping_3)\n",
    "jester_df = df1.append(df2).append(df3)\n",
    "\n",
    "jester_df[\"item_id\"] = jester_df[\"item_id\"].apply(lambda v: v-1)\n",
    "jester_df.astype({\"user_id\": int, \"item_id\": int});\n",
    "\n",
    "jester_df = jester_df[jester_df[\"rating\"] != 99]"
   ]
  },
  {
   "cell_type": "code",
   "execution_count": null,
   "metadata": {},
   "outputs": [],
   "source": [
    "profile_size = jester_df.groupby(\"user_id\").size()\n",
    "relevant_users = profile_size[profile_size >= 20].index.tolist()\n",
    "jester_df = jester_df[jester_df[\"user_id\"].isin(relevant_users)]"
   ]
  },
  {
   "cell_type": "code",
   "execution_count": null,
   "metadata": {},
   "outputs": [],
   "source": [
    "print(\"Nr. of ratings: %d\" % len(jester_df))\n",
    "print(\"Nr. of users: %d\" % jester_df[\"user_id\"].nunique())\n",
    "print(\"Nr. of items: %d\" % jester_df[\"item_id\"].nunique())\n",
    "print(\"Density: %f\" % (len(jester_df) / (jester_df[\"user_id\"].nunique() * jester_df[\"item_id\"].nunique())))\n",
    "print(\"Avg. nr. of ratings per user: %f\" % jester_df.groupby(\"user_id\").size().mean())\n",
    "print(\"Avg. nr. of ratings per item: %f\" % jester_df.groupby(\"item_id\").size().mean())"
   ]
  },
  {
   "cell_type": "code",
   "execution_count": null,
   "metadata": {},
   "outputs": [],
   "source": [
    "user_sample = np.random.choice(jester_df[\"user_id\"].unique(), size=5000, replace=False)\n",
    "df = jester_df[jester_df[\"user_id\"].isin(user_sample)]\n",
    "print(\"Nr. of ratings: %d\" % len(df))\n",
    "print(\"Nr. of users: %d\" % df[\"user_id\"].nunique())\n",
    "print(\"Nr. of items: %d\" % df[\"item_id\"].nunique())\n",
    "print(\"Density: %f\" % (len(df) / (df[\"user_id\"].nunique() * df[\"item_id\"].nunique())))\n",
    "print(\"Avg. nr. of ratings per user: %f\" % df.groupby(\"user_id\").size().mean())\n",
    "print(\"Avg. nr. of ratings per item: %f\" % df.groupby(\"item_id\").size().mean())"
   ]
  },
  {
   "cell_type": "code",
   "execution_count": null,
   "metadata": {},
   "outputs": [],
   "source": [
    "df.to_csv(\"data/jester/sample.csv\", sep=\";\", header=None, index=False)"
   ]
  },
  {
   "cell_type": "code",
   "execution_count": null,
   "metadata": {},
   "outputs": [],
   "source": [
    "df.groupby(\"item_id\").size().skew(), df.groupby(\"user_id\").size().skew()"
   ]
  },
  {
   "cell_type": "markdown",
   "metadata": {},
   "source": [
    "# Douban"
   ]
  },
  {
   "cell_type": "code",
   "execution_count": null,
   "metadata": {},
   "outputs": [],
   "source": [
    "db_train_df = pd.read_csv(\"data/douban/db.train.rating\", sep=\"\\t\", header=None, names=[\"user_id\", \"item_id\", \"rating\"])\n",
    "db_val_df = pd.read_csv(\"data/douban/db.valid.rating\", sep=\"\\t\", header=None, names=[\"user_id\", \"item_id\", \"rating\"])\n",
    "db_test_df = pd.read_csv(\"data/douban/db.test.rating\", sep=\"\\t\", header=None, names=[\"user_id\", \"item_id\", \"rating\"])\n",
    "\n",
    "douban_df = db_train_df.append(db_val_df).append(db_test_df)\n",
    "douban_df.head()"
   ]
  },
  {
   "cell_type": "code",
   "execution_count": null,
   "metadata": {},
   "outputs": [],
   "source": [
    "print(\"Nr. of ratings: %d\" % len(douban_df))\n",
    "print(\"Nr. of users: %d\" % douban_df[\"user_id\"].nunique())\n",
    "print(\"Nr. of items: %d\" % douban_df[\"item_id\"].nunique())\n",
    "print(\"Density: %f\" % (len(douban_df) / (douban_df[\"user_id\"].nunique() * douban_df[\"item_id\"].nunique())))\n",
    "print(\"Avg. nr. of ratings per user: %f\" % douban_df.groupby(\"user_id\").size().mean())\n",
    "print(\"Avg. nr. of ratings per item: %f\" % douban_df.groupby(\"item_id\").size().mean())"
   ]
  },
  {
   "cell_type": "code",
   "execution_count": null,
   "metadata": {},
   "outputs": [],
   "source": [
    "douban_df.to_csv(\"data/douban/douban.csv\", sep=\";\", header=False, index=False)"
   ]
  },
  {
   "cell_type": "markdown",
   "metadata": {},
   "source": [
    "# Ciao"
   ]
  },
  {
   "cell_type": "code",
   "execution_count": null,
   "metadata": {},
   "outputs": [],
   "source": [
    "ciao_train_df = pd.read_csv(\"data/ciao/ciao.train.rating\", sep=\"\\t\", header=None, names=[\"user_id\", \"item_id\", \"rating\"])\n",
    "ciao_val_df = pd.read_csv(\"data/ciao/ciao.valid.rating\", sep=\"\\t\", header=None, names=[\"user_id\", \"item_id\", \"rating\"])\n",
    "ciao_test_df = pd.read_csv(\"data/ciao/ciao.test.rating\", sep=\"\\t\", header=None, names=[\"user_id\", \"item_id\", \"rating\"])\n",
    "\n",
    "ciao_df = ciao_train_df.append(ciao_val_df).append(ciao_test_df)\n",
    "ciao_df.head()"
   ]
  },
  {
   "cell_type": "code",
   "execution_count": null,
   "metadata": {},
   "outputs": [],
   "source": [
    "print(\"Nr. of ratings: %d\" % len(ciao_df))\n",
    "print(\"Nr. of users: %d\" % ciao_df[\"user_id\"].nunique())\n",
    "print(\"Nr. of items: %d\" % ciao_df[\"item_id\"].nunique())\n",
    "print(\"Density: %f\" % (len(ciao_df) / (ciao_df[\"user_id\"].nunique() * ciao_df[\"item_id\"].nunique())))\n",
    "print(\"Avg. nr. of ratings per user: %f\" % ciao_df.groupby(\"user_id\").size().mean())\n",
    "print(\"Avg. nr. of ratings per item: %f\" % ciao_df.groupby(\"item_id\").size().mean())"
   ]
  },
  {
   "cell_type": "code",
   "execution_count": null,
   "metadata": {},
   "outputs": [],
   "source": [
    "ciao_df.to_csv(\"data/ciao/ciao.csv\", sep=\";\", header=False, index=False)"
   ]
  },
  {
   "cell_type": "markdown",
   "metadata": {},
   "source": [
    "# Goodreads"
   ]
  },
  {
   "cell_type": "code",
   "execution_count": 2,
   "metadata": {},
   "outputs": [
    {
     "data": {
      "text/html": [
       "<div>\n",
       "<style scoped>\n",
       "    .dataframe tbody tr th:only-of-type {\n",
       "        vertical-align: middle;\n",
       "    }\n",
       "\n",
       "    .dataframe tbody tr th {\n",
       "        vertical-align: top;\n",
       "    }\n",
       "\n",
       "    .dataframe thead th {\n",
       "        text-align: right;\n",
       "    }\n",
       "</style>\n",
       "<table border=\"1\" class=\"dataframe\">\n",
       "  <thead>\n",
       "    <tr style=\"text-align: right;\">\n",
       "      <th></th>\n",
       "      <th>user_id</th>\n",
       "      <th>book_id</th>\n",
       "      <th>rating</th>\n",
       "    </tr>\n",
       "  </thead>\n",
       "  <tbody>\n",
       "    <tr>\n",
       "      <th>0</th>\n",
       "      <td>0</td>\n",
       "      <td>948</td>\n",
       "      <td>5</td>\n",
       "    </tr>\n",
       "    <tr>\n",
       "      <th>1</th>\n",
       "      <td>0</td>\n",
       "      <td>947</td>\n",
       "      <td>5</td>\n",
       "    </tr>\n",
       "    <tr>\n",
       "      <th>2</th>\n",
       "      <td>0</td>\n",
       "      <td>946</td>\n",
       "      <td>5</td>\n",
       "    </tr>\n",
       "    <tr>\n",
       "      <th>3</th>\n",
       "      <td>0</td>\n",
       "      <td>945</td>\n",
       "      <td>5</td>\n",
       "    </tr>\n",
       "    <tr>\n",
       "      <th>4</th>\n",
       "      <td>0</td>\n",
       "      <td>944</td>\n",
       "      <td>5</td>\n",
       "    </tr>\n",
       "  </tbody>\n",
       "</table>\n",
       "</div>"
      ],
      "text/plain": [
       "   user_id  book_id  rating\n",
       "0        0      948       5\n",
       "1        0      947       5\n",
       "2        0      946       5\n",
       "3        0      945       5\n",
       "4        0      944       5"
      ]
     },
     "execution_count": 2,
     "metadata": {},
     "output_type": "execute_result"
    }
   ],
   "source": [
    "goodreads_df = pd.read_csv(\"data/goodreads/goodreads_interactions.csv\", sep=\",\", usecols=[\"user_id\", \"book_id\", \"rating\"])\n",
    "goodreads_df.head()"
   ]
  },
  {
   "cell_type": "code",
   "execution_count": 3,
   "metadata": {},
   "outputs": [],
   "source": [
    "goodreads_df.columns = [\"user_id\", \"item_id\", \"rating\"]"
   ]
  },
  {
   "cell_type": "code",
   "execution_count": 4,
   "metadata": {},
   "outputs": [],
   "source": [
    "profile_size = goodreads_df.groupby(\"user_id\").size()\n",
    "relevant_users = profile_size[profile_size >= 20].index.tolist()\n",
    "goodreads_df = goodreads_df[goodreads_df[\"user_id\"].isin(relevant_users)]"
   ]
  },
  {
   "cell_type": "code",
   "execution_count": 5,
   "metadata": {},
   "outputs": [
    {
     "name": "stdout",
     "output_type": "stream",
     "text": [
      "Nr. of ratings: 227545520\n",
      "Nr. of users: 723208\n",
      "Nr. of items: 2355940\n",
      "Density: 0.000134\n",
      "Avg. nr. of ratings per user: 314.633577\n",
      "Avg. nr. of ratings per item: 96.583750\n"
     ]
    }
   ],
   "source": [
    "print(\"Nr. of ratings: %d\" % len(goodreads_df))\n",
    "print(\"Nr. of users: %d\" % goodreads_df[\"user_id\"].nunique())\n",
    "print(\"Nr. of items: %d\" % goodreads_df[\"item_id\"].nunique())\n",
    "print(\"Density: %f\" % (len(goodreads_df) / (goodreads_df[\"user_id\"].nunique() * goodreads_df[\"item_id\"].nunique())))\n",
    "print(\"Avg. nr. of ratings per user: %f\" % goodreads_df.groupby(\"user_id\").size().mean())\n",
    "print(\"Avg. nr. of ratings per item: %f\" % goodreads_df.groupby(\"item_id\").size().mean())"
   ]
  },
  {
   "cell_type": "code",
   "execution_count": 6,
   "metadata": {},
   "outputs": [
    {
     "name": "stdout",
     "output_type": "stream",
     "text": [
      "Nr. of ratings: 731312\n",
      "Nr. of users: 2500\n",
      "Nr. of items: 256026\n",
      "Density: 0.001143\n",
      "Avg. nr. of ratings per user: 292.524800\n",
      "Avg. nr. of ratings per item: 2.856397\n"
     ]
    }
   ],
   "source": [
    "user_sample = np.random.choice(goodreads_df[\"user_id\"].unique(), size=2500, replace=False)\n",
    "df = goodreads_df[goodreads_df[\"user_id\"].isin(user_sample)]\n",
    "print(\"Nr. of ratings: %d\" % len(df))\n",
    "print(\"Nr. of users: %d\" % df[\"user_id\"].nunique())\n",
    "print(\"Nr. of items: %d\" % df[\"item_id\"].nunique())\n",
    "print(\"Density: %f\" % (len(df) / (df[\"user_id\"].nunique() * df[\"item_id\"].nunique())))\n",
    "print(\"Avg. nr. of ratings per user: %f\" % df.groupby(\"user_id\").size().mean())\n",
    "print(\"Avg. nr. of ratings per item: %f\" % df.groupby(\"item_id\").size().mean())"
   ]
  },
  {
   "cell_type": "code",
   "execution_count": null,
   "metadata": {},
   "outputs": [],
   "source": []
  },
  {
   "cell_type": "code",
   "execution_count": null,
   "metadata": {},
   "outputs": [],
   "source": []
  },
  {
   "cell_type": "code",
   "execution_count": null,
   "metadata": {},
   "outputs": [],
   "source": []
  },
  {
   "cell_type": "code",
   "execution_count": null,
   "metadata": {},
   "outputs": [],
   "source": [
    "df.to_csv(\"data/goodreads/sample.csv\", sep=\";\", header=None, index=False)"
   ]
  },
  {
   "cell_type": "code",
   "execution_count": null,
   "metadata": {},
   "outputs": [],
   "source": [
    "df.groupby(\"item_id\").size().skew(), df.groupby(\"user_id\").size().skew()"
   ]
  },
  {
   "cell_type": "code",
   "execution_count": null,
   "metadata": {},
   "outputs": [],
   "source": []
  }
 ],
 "metadata": {
  "kernelspec": {
   "display_name": "Python 3",
   "language": "python",
   "name": "python3"
  },
  "language_info": {
   "codemirror_mode": {
    "name": "ipython",
    "version": 3
   },
   "file_extension": ".py",
   "mimetype": "text/x-python",
   "name": "python",
   "nbconvert_exporter": "python",
   "pygments_lexer": "ipython3",
   "version": "3.7.3"
  }
 },
 "nbformat": 4,
 "nbformat_minor": 4
}
