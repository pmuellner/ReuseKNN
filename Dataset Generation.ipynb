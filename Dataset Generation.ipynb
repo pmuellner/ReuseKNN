{
 "cells": [
  {
   "cell_type": "code",
   "execution_count": 1,
   "metadata": {},
   "outputs": [],
   "source": [
    "import numpy as np\n",
    "import pandas as pd"
   ]
  },
  {
   "cell_type": "markdown",
   "metadata": {},
   "source": [
    "# Book Crossing\n",
    "## Read dataset"
   ]
  },
  {
   "cell_type": "code",
   "execution_count": 2,
   "metadata": {},
   "outputs": [
    {
     "data": {
      "text/html": [
       "<div>\n",
       "<style scoped>\n",
       "    .dataframe tbody tr th:only-of-type {\n",
       "        vertical-align: middle;\n",
       "    }\n",
       "\n",
       "    .dataframe tbody tr th {\n",
       "        vertical-align: top;\n",
       "    }\n",
       "\n",
       "    .dataframe thead th {\n",
       "        text-align: right;\n",
       "    }\n",
       "</style>\n",
       "<table border=\"1\" class=\"dataframe\">\n",
       "  <thead>\n",
       "    <tr style=\"text-align: right;\">\n",
       "      <th></th>\n",
       "      <th>book_id</th>\n",
       "      <th>ISBN</th>\n",
       "      <th>Book-Title</th>\n",
       "    </tr>\n",
       "  </thead>\n",
       "  <tbody>\n",
       "    <tr>\n",
       "      <th>0</th>\n",
       "      <td>0</td>\n",
       "      <td>0195153448</td>\n",
       "      <td>Classical Mythology</td>\n",
       "    </tr>\n",
       "    <tr>\n",
       "      <th>1</th>\n",
       "      <td>1</td>\n",
       "      <td>0002005018</td>\n",
       "      <td>Clara Callan</td>\n",
       "    </tr>\n",
       "    <tr>\n",
       "      <th>2</th>\n",
       "      <td>2</td>\n",
       "      <td>0060973129</td>\n",
       "      <td>Decision in Normandy</td>\n",
       "    </tr>\n",
       "    <tr>\n",
       "      <th>3</th>\n",
       "      <td>3</td>\n",
       "      <td>0374157065</td>\n",
       "      <td>Flu: The Story of the Great Influenza Pandemic...</td>\n",
       "    </tr>\n",
       "    <tr>\n",
       "      <th>4</th>\n",
       "      <td>4</td>\n",
       "      <td>0393045218</td>\n",
       "      <td>The Mummies of Urumchi</td>\n",
       "    </tr>\n",
       "  </tbody>\n",
       "</table>\n",
       "</div>"
      ],
      "text/plain": [
       "   book_id        ISBN                                         Book-Title\n",
       "0        0  0195153448                                Classical Mythology\n",
       "1        1  0002005018                                       Clara Callan\n",
       "2        2  0060973129                               Decision in Normandy\n",
       "3        3  0374157065  Flu: The Story of the Great Influenza Pandemic...\n",
       "4        4  0393045218                             The Mummies of Urumchi"
      ]
     },
     "execution_count": 2,
     "metadata": {},
     "output_type": "execute_result"
    }
   ],
   "source": [
    "books_df = pd.read_csv(\"data/BX-CSV-Dump/BX-Books.csv\", sep=\";\", escapechar='\\\\', encoding=\"CP1252\", usecols=[\"ISBN\", \"Book-Title\"])\n",
    "books_df.index.name = \"book_id\"\n",
    "books_df.reset_index(drop=False, inplace=True)\n",
    "books_df.head()"
   ]
  },
  {
   "cell_type": "code",
   "execution_count": 3,
   "metadata": {},
   "outputs": [
    {
     "data": {
      "text/html": [
       "<div>\n",
       "<style scoped>\n",
       "    .dataframe tbody tr th:only-of-type {\n",
       "        vertical-align: middle;\n",
       "    }\n",
       "\n",
       "    .dataframe tbody tr th {\n",
       "        vertical-align: top;\n",
       "    }\n",
       "\n",
       "    .dataframe thead th {\n",
       "        text-align: right;\n",
       "    }\n",
       "</style>\n",
       "<table border=\"1\" class=\"dataframe\">\n",
       "  <thead>\n",
       "    <tr style=\"text-align: right;\">\n",
       "      <th></th>\n",
       "      <th>user_id</th>\n",
       "      <th>rating</th>\n",
       "      <th>book_id</th>\n",
       "    </tr>\n",
       "  </thead>\n",
       "  <tbody>\n",
       "    <tr>\n",
       "      <th>0</th>\n",
       "      <td>276725</td>\n",
       "      <td>0</td>\n",
       "      <td>2966</td>\n",
       "    </tr>\n",
       "    <tr>\n",
       "      <th>1</th>\n",
       "      <td>2313</td>\n",
       "      <td>5</td>\n",
       "      <td>2966</td>\n",
       "    </tr>\n",
       "    <tr>\n",
       "      <th>2</th>\n",
       "      <td>6543</td>\n",
       "      <td>0</td>\n",
       "      <td>2966</td>\n",
       "    </tr>\n",
       "    <tr>\n",
       "      <th>3</th>\n",
       "      <td>8680</td>\n",
       "      <td>5</td>\n",
       "      <td>2966</td>\n",
       "    </tr>\n",
       "    <tr>\n",
       "      <th>4</th>\n",
       "      <td>10314</td>\n",
       "      <td>9</td>\n",
       "      <td>2966</td>\n",
       "    </tr>\n",
       "  </tbody>\n",
       "</table>\n",
       "</div>"
      ],
      "text/plain": [
       "   user_id  rating  book_id\n",
       "0   276725       0     2966\n",
       "1     2313       5     2966\n",
       "2     6543       0     2966\n",
       "3     8680       5     2966\n",
       "4    10314       9     2966"
      ]
     },
     "execution_count": 3,
     "metadata": {},
     "output_type": "execute_result"
    }
   ],
   "source": [
    "ratings_df = pd.read_csv(\"data/BX-CSV-Dump/BX-Book-Ratings.csv\", sep=\";\", encoding=\"CP1252\")\n",
    "ratings_df = ratings_df.merge(books_df, left_on=\"ISBN\", right_on=\"ISBN\")\n",
    "ratings_df.columns = [\"user_id\", \"isbn\", \"rating\", \"book_id\", \"title\"]\n",
    "ratings_df.drop(columns=[\"isbn\", \"title\"], inplace=True)\n",
    "#ratings_df[ratings_df[\"rating\"] == 0] = 5\n",
    "ratings_df.head()"
   ]
  },
  {
   "cell_type": "code",
   "execution_count": 4,
   "metadata": {},
   "outputs": [
    {
     "name": "stdout",
     "output_type": "stream",
     "text": [
      "Nr. of users: 92107\n",
      "Nr. of books: 270170\n",
      "Nr. of ratings: 1031175\n",
      "Avg. nr. of ratings per user: 11.1954\n",
      "Avg. nr. of ratings per book: 3.8168\n",
      "Sparsity: 99.995856%\n"
     ]
    }
   ],
   "source": [
    "print(\"Nr. of users: %d\" % ratings_df[\"user_id\"].nunique())\n",
    "print(\"Nr. of books: %d\" % ratings_df[\"book_id\"].nunique())\n",
    "print(\"Nr. of ratings: %d\" % len(ratings_df))\n",
    "print(\"Avg. nr. of ratings per user: %.4f\" % ratings_df.groupby(\"user_id\").size().mean())\n",
    "print(\"Avg. nr. of ratings per book: %.4f\" % ratings_df.groupby(\"book_id\").size().mean())\n",
    "print(\"Sparsity: %f%%\" % (100 * (1 - len(ratings_df) / (ratings_df[\"user_id\"].nunique() * ratings_df[\"book_id\"].nunique()))))"
   ]
  },
  {
   "cell_type": "markdown",
   "metadata": {},
   "source": [
    "# Sampling"
   ]
  },
  {
   "cell_type": "code",
   "execution_count": 10,
   "metadata": {},
   "outputs": [
    {
     "name": "stdout",
     "output_type": "stream",
     "text": [
      "Nr. of users: 66538\n",
      "Nr. of books: 20000\n",
      "Nr. of ratings: 543087\n",
      "Avg. nr. of ratings per user: 8.1621\n",
      "Avg. nr. of ratings per book: 27.1544\n",
      "Sparsity: 99.959190%\n"
     ]
    }
   ],
   "source": [
    "#book_popularity_df = ratings_df.groupby(\"book_id\").size().sort_values(ascending=False).head(15000)\n",
    "#books_sample = book_popularity_df[book_popularity_df > 20].index.tolist()\n",
    "#sample_df = ratings_df[ratings_df[\"book_id\"].isin(books_sample)]\n",
    "book_popularity_df = ratings_df.groupby(\"book_id\").size().sort_values(ascending=False)\n",
    "sample_df = ratings_df[ratings_df[\"book_id\"].isin(book_popularity_df.head(20000).index.tolist())]\n",
    "print(\"Nr. of users: %d\" % sample_df[\"user_id\"].nunique())\n",
    "print(\"Nr. of books: %d\" % sample_df[\"book_id\"].nunique())\n",
    "print(\"Nr. of ratings: %d\" % len(sample_df))\n",
    "print(\"Avg. nr. of ratings per user: %.4f\" % sample_df.groupby(\"user_id\").size().mean())\n",
    "print(\"Avg. nr. of ratings per book: %.4f\" % sample_df.groupby(\"book_id\").size().mean())\n",
    "print(\"Sparsity: %f%%\" % (100 * (1 - len(sample_df) / (sample_df[\"user_id\"].nunique() * sample_df[\"book_id\"].nunique()))))"
   ]
  },
  {
   "cell_type": "code",
   "execution_count": 6,
   "metadata": {},
   "outputs": [],
   "source": [
    "sample_df[[\"user_id\", \"book_id\", \"rating\"]].to_csv(\"data/bx_sample.csv\", index=False, sep=\";\")"
   ]
  },
  {
   "cell_type": "code",
   "execution_count": null,
   "metadata": {},
   "outputs": [],
   "source": []
  },
  {
   "cell_type": "code",
   "execution_count": 7,
   "metadata": {},
   "outputs": [],
   "source": [
    "np.random.seed(0)\n",
    "user_sample = np.random.choice(ratings_df[\"user_id\"].unique(), size=5000, replace=False)\n",
    "sample_df = ratings_df[ratings_df[\"user_id\"].isin(user_sample)]"
   ]
  },
  {
   "cell_type": "code",
   "execution_count": 8,
   "metadata": {},
   "outputs": [
    {
     "name": "stdout",
     "output_type": "stream",
     "text": [
      "Nr. of users: 5000\n",
      "Nr. of books: 33841\n",
      "Nr. of ratings: 50857\n",
      "Avg. nr. of ratings per user: 10.1714\n",
      "Avg. nr. of ratings per book: 1.5028\n",
      "Sparsity: 99.969944%\n"
     ]
    }
   ],
   "source": [
    "print(\"Nr. of users: %d\" % sample_df[\"user_id\"].nunique())\n",
    "print(\"Nr. of books: %d\" % sample_df[\"book_id\"].nunique())\n",
    "print(\"Nr. of ratings: %d\" % len(sample_df))\n",
    "print(\"Avg. nr. of ratings per user: %.4f\" % sample_df.groupby(\"user_id\").size().mean())\n",
    "print(\"Avg. nr. of ratings per book: %.4f\" % sample_df.groupby(\"book_id\").size().mean())\n",
    "print(\"Sparsity: %f%%\" % (100 * (1 - len(sample_df) / (sample_df[\"user_id\"].nunique() * sample_df[\"book_id\"].nunique()))))"
   ]
  },
  {
   "cell_type": "code",
   "execution_count": null,
   "metadata": {},
   "outputs": [],
   "source": [
    "sample_df[[\"user_id\", \"book_id\", \"rating\"]].to_csv(\"data/bx_sample.csv\", index=False, sep=\";\")"
   ]
  },
  {
   "cell_type": "code",
   "execution_count": null,
   "metadata": {},
   "outputs": [],
   "source": [
    "pd.read_csv(\"data/bx_sample.csv\", sep=\";\")"
   ]
  },
  {
   "cell_type": "markdown",
   "metadata": {},
   "source": [
    "# Anime Small"
   ]
  },
  {
   "cell_type": "code",
   "execution_count": 3,
   "metadata": {},
   "outputs": [
    {
     "data": {
      "text/html": [
       "<div>\n",
       "<style scoped>\n",
       "    .dataframe tbody tr th:only-of-type {\n",
       "        vertical-align: middle;\n",
       "    }\n",
       "\n",
       "    .dataframe tbody tr th {\n",
       "        vertical-align: top;\n",
       "    }\n",
       "\n",
       "    .dataframe thead th {\n",
       "        text-align: right;\n",
       "    }\n",
       "</style>\n",
       "<table border=\"1\" class=\"dataframe\">\n",
       "  <thead>\n",
       "    <tr style=\"text-align: right;\">\n",
       "      <th></th>\n",
       "      <th>user_id</th>\n",
       "      <th>anime_id</th>\n",
       "      <th>rating</th>\n",
       "    </tr>\n",
       "  </thead>\n",
       "  <tbody>\n",
       "    <tr>\n",
       "      <th>0</th>\n",
       "      <td>1</td>\n",
       "      <td>20</td>\n",
       "      <td>-1</td>\n",
       "    </tr>\n",
       "    <tr>\n",
       "      <th>1</th>\n",
       "      <td>1</td>\n",
       "      <td>24</td>\n",
       "      <td>-1</td>\n",
       "    </tr>\n",
       "    <tr>\n",
       "      <th>2</th>\n",
       "      <td>1</td>\n",
       "      <td>79</td>\n",
       "      <td>-1</td>\n",
       "    </tr>\n",
       "    <tr>\n",
       "      <th>3</th>\n",
       "      <td>1</td>\n",
       "      <td>226</td>\n",
       "      <td>-1</td>\n",
       "    </tr>\n",
       "    <tr>\n",
       "      <th>4</th>\n",
       "      <td>1</td>\n",
       "      <td>241</td>\n",
       "      <td>-1</td>\n",
       "    </tr>\n",
       "  </tbody>\n",
       "</table>\n",
       "</div>"
      ],
      "text/plain": [
       "   user_id  anime_id  rating\n",
       "0        1        20      -1\n",
       "1        1        24      -1\n",
       "2        1        79      -1\n",
       "3        1       226      -1\n",
       "4        1       241      -1"
      ]
     },
     "execution_count": 3,
     "metadata": {},
     "output_type": "execute_result"
    }
   ],
   "source": [
    "df = pd.read_csv(\"data/anime_small/rating.csv\")\n",
    "df.head()"
   ]
  },
  {
   "cell_type": "code",
   "execution_count": 6,
   "metadata": {},
   "outputs": [
    {
     "data": {
      "text/plain": [
       "(7813737, 73515, 11200)"
      ]
     },
     "execution_count": 6,
     "metadata": {},
     "output_type": "execute_result"
    }
   ],
   "source": [
    "len(df), df[\"user_id\"].nunique(), df[\"anime_id\"].nunique()"
   ]
  },
  {
   "cell_type": "code",
   "execution_count": 9,
   "metadata": {},
   "outputs": [
    {
     "data": {
      "text/plain": [
       "(6337241, 69600, 9927)"
      ]
     },
     "execution_count": 9,
     "metadata": {},
     "output_type": "execute_result"
    }
   ],
   "source": [
    "len(df[df[\"rating\"] != -1]), df[df[\"rating\"] != -1][\"user_id\"].nunique(), df[df[\"rating\"] != -1][\"anime_id\"].nunique()"
   ]
  },
  {
   "cell_type": "code",
   "execution_count": 11,
   "metadata": {},
   "outputs": [],
   "source": [
    "df[df[\"rating\"] != -1].to_csv(\"data/anime_small.csv\", sep=\";\", header=False, index=False)"
   ]
  },
  {
   "cell_type": "code",
   "execution_count": null,
   "metadata": {},
   "outputs": [],
   "source": []
  }
 ],
 "metadata": {
  "kernelspec": {
   "display_name": "Python 3",
   "language": "python",
   "name": "python3"
  },
  "language_info": {
   "codemirror_mode": {
    "name": "ipython",
    "version": 3
   },
   "file_extension": ".py",
   "mimetype": "text/x-python",
   "name": "python",
   "nbconvert_exporter": "python",
   "pygments_lexer": "ipython3",
   "version": "3.7.3"
  }
 },
 "nbformat": 4,
 "nbformat_minor": 4
}
