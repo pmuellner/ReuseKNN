{
 "cells": [
  {
   "cell_type": "code",
   "execution_count": 2,
   "metadata": {},
   "outputs": [],
   "source": [
    "import numpy as np\n",
    "import pandas as pd\n",
    "from sklearn.preprocessing import MinMaxScaler"
   ]
  },
  {
   "cell_type": "markdown",
   "metadata": {},
   "source": [
    "# Douban"
   ]
  },
  {
   "cell_type": "code",
   "execution_count": 3,
   "metadata": {},
   "outputs": [
    {
     "data": {
      "text/html": [
       "<div>\n",
       "<style scoped>\n",
       "    .dataframe tbody tr th:only-of-type {\n",
       "        vertical-align: middle;\n",
       "    }\n",
       "\n",
       "    .dataframe tbody tr th {\n",
       "        vertical-align: top;\n",
       "    }\n",
       "\n",
       "    .dataframe thead th {\n",
       "        text-align: right;\n",
       "    }\n",
       "</style>\n",
       "<table border=\"1\" class=\"dataframe\">\n",
       "  <thead>\n",
       "    <tr style=\"text-align: right;\">\n",
       "      <th></th>\n",
       "      <th>user_id</th>\n",
       "      <th>item_id</th>\n",
       "      <th>rating</th>\n",
       "    </tr>\n",
       "  </thead>\n",
       "  <tbody>\n",
       "    <tr>\n",
       "      <th>0</th>\n",
       "      <td>0</td>\n",
       "      <td>99</td>\n",
       "      <td>4.0</td>\n",
       "    </tr>\n",
       "    <tr>\n",
       "      <th>1</th>\n",
       "      <td>0</td>\n",
       "      <td>16</td>\n",
       "      <td>5.0</td>\n",
       "    </tr>\n",
       "    <tr>\n",
       "      <th>2</th>\n",
       "      <td>0</td>\n",
       "      <td>142</td>\n",
       "      <td>4.0</td>\n",
       "    </tr>\n",
       "    <tr>\n",
       "      <th>3</th>\n",
       "      <td>0</td>\n",
       "      <td>120</td>\n",
       "      <td>4.0</td>\n",
       "    </tr>\n",
       "    <tr>\n",
       "      <th>4</th>\n",
       "      <td>0</td>\n",
       "      <td>135</td>\n",
       "      <td>5.0</td>\n",
       "    </tr>\n",
       "  </tbody>\n",
       "</table>\n",
       "</div>"
      ],
      "text/plain": [
       "   user_id  item_id  rating\n",
       "0        0       99     4.0\n",
       "1        0       16     5.0\n",
       "2        0      142     4.0\n",
       "3        0      120     4.0\n",
       "4        0      135     5.0"
      ]
     },
     "execution_count": 3,
     "metadata": {},
     "output_type": "execute_result"
    }
   ],
   "source": [
    "db_train_df = pd.read_csv(\"data/douban/db.train.rating\", sep=\"\\t\", header=None, names=[\"user_id\", \"item_id\", \"rating\"])\n",
    "db_val_df = pd.read_csv(\"data/douban/db.valid.rating\", sep=\"\\t\", header=None, names=[\"user_id\", \"item_id\", \"rating\"])\n",
    "db_test_df = pd.read_csv(\"data/douban/db.test.rating\", sep=\"\\t\", header=None, names=[\"user_id\", \"item_id\", \"rating\"])\n",
    "\n",
    "douban_df = db_train_df.append(db_val_df).append(db_test_df)\n",
    "douban_df.head()"
   ]
  },
  {
   "cell_type": "code",
   "execution_count": 4,
   "metadata": {},
   "outputs": [
    {
     "name": "stdout",
     "output_type": "stream",
     "text": [
      "Nr. of ratings: 893575\n",
      "Nr. of users: 2509\n",
      "Nr. of items: 39576\n",
      "Density: 0.008999\n",
      "Avg. nr. of ratings per user: 356.147868\n",
      "Avg. nr. of ratings per item: 22.578709\n"
     ]
    }
   ],
   "source": [
    "print(\"Nr. of ratings: %d\" % len(douban_df))\n",
    "print(\"Nr. of users: %d\" % douban_df[\"user_id\"].nunique())\n",
    "print(\"Nr. of items: %d\" % douban_df[\"item_id\"].nunique())\n",
    "print(\"Density: %f\" % (len(douban_df) / (douban_df[\"user_id\"].nunique() * douban_df[\"item_id\"].nunique())))\n",
    "print(\"Avg. nr. of ratings per user: %f\" % douban_df.groupby(\"user_id\").size().mean())\n",
    "print(\"Avg. nr. of ratings per item: %f\" % douban_df.groupby(\"item_id\").size().mean())"
   ]
  },
  {
   "cell_type": "code",
   "execution_count": null,
   "metadata": {},
   "outputs": [],
   "source": [
    "df.to_csv(\"data/douban/sample.csv\", sep=\";\", header=None, index=False)"
   ]
  },
  {
   "cell_type": "markdown",
   "metadata": {},
   "source": [
    "# Ciao"
   ]
  },
  {
   "cell_type": "code",
   "execution_count": 5,
   "metadata": {},
   "outputs": [
    {
     "data": {
      "text/html": [
       "<div>\n",
       "<style scoped>\n",
       "    .dataframe tbody tr th:only-of-type {\n",
       "        vertical-align: middle;\n",
       "    }\n",
       "\n",
       "    .dataframe tbody tr th {\n",
       "        vertical-align: top;\n",
       "    }\n",
       "\n",
       "    .dataframe thead th {\n",
       "        text-align: right;\n",
       "    }\n",
       "</style>\n",
       "<table border=\"1\" class=\"dataframe\">\n",
       "  <thead>\n",
       "    <tr style=\"text-align: right;\">\n",
       "      <th></th>\n",
       "      <th>user_id</th>\n",
       "      <th>item_id</th>\n",
       "      <th>rating</th>\n",
       "    </tr>\n",
       "  </thead>\n",
       "  <tbody>\n",
       "    <tr>\n",
       "      <th>0</th>\n",
       "      <td>0</td>\n",
       "      <td>670</td>\n",
       "      <td>5.0</td>\n",
       "    </tr>\n",
       "    <tr>\n",
       "      <th>1</th>\n",
       "      <td>0</td>\n",
       "      <td>159</td>\n",
       "      <td>5.0</td>\n",
       "    </tr>\n",
       "    <tr>\n",
       "      <th>2</th>\n",
       "      <td>0</td>\n",
       "      <td>120</td>\n",
       "      <td>4.0</td>\n",
       "    </tr>\n",
       "    <tr>\n",
       "      <th>3</th>\n",
       "      <td>0</td>\n",
       "      <td>75</td>\n",
       "      <td>4.0</td>\n",
       "    </tr>\n",
       "    <tr>\n",
       "      <th>4</th>\n",
       "      <td>0</td>\n",
       "      <td>427</td>\n",
       "      <td>4.0</td>\n",
       "    </tr>\n",
       "  </tbody>\n",
       "</table>\n",
       "</div>"
      ],
      "text/plain": [
       "   user_id  item_id  rating\n",
       "0        0      670     5.0\n",
       "1        0      159     5.0\n",
       "2        0      120     4.0\n",
       "3        0       75     4.0\n",
       "4        0      427     4.0"
      ]
     },
     "execution_count": 5,
     "metadata": {},
     "output_type": "execute_result"
    }
   ],
   "source": [
    "ciao_train_df = pd.read_csv(\"data/ciao/ciao.train.rating\", sep=\"\\t\", header=None, names=[\"user_id\", \"item_id\", \"rating\"])\n",
    "ciao_val_df = pd.read_csv(\"data/ciao/ciao.valid.rating\", sep=\"\\t\", header=None, names=[\"user_id\", \"item_id\", \"rating\"])\n",
    "ciao_test_df = pd.read_csv(\"data/ciao/ciao.test.rating\", sep=\"\\t\", header=None, names=[\"user_id\", \"item_id\", \"rating\"])\n",
    "\n",
    "ciao_df = ciao_train_df.append(ciao_val_df).append(ciao_test_df)\n",
    "ciao_df.head()"
   ]
  },
  {
   "cell_type": "code",
   "execution_count": 6,
   "metadata": {},
   "outputs": [
    {
     "name": "stdout",
     "output_type": "stream",
     "text": [
      "Nr. of ratings: 282619\n",
      "Nr. of users: 7375\n",
      "Nr. of items: 105096\n",
      "Density: 0.000365\n",
      "Avg. nr. of ratings per user: 38.321220\n",
      "Avg. nr. of ratings per item: 2.689151\n"
     ]
    }
   ],
   "source": [
    "print(\"Nr. of ratings: %d\" % len(ciao_df))\n",
    "print(\"Nr. of users: %d\" % ciao_df[\"user_id\"].nunique())\n",
    "print(\"Nr. of items: %d\" % ciao_df[\"item_id\"].nunique())\n",
    "print(\"Density: %f\" % (len(ciao_df) / (ciao_df[\"user_id\"].nunique() * ciao_df[\"item_id\"].nunique())))\n",
    "print(\"Avg. nr. of ratings per user: %f\" % ciao_df.groupby(\"user_id\").size().mean())\n",
    "print(\"Avg. nr. of ratings per item: %f\" % ciao_df.groupby(\"item_id\").size().mean())"
   ]
  },
  {
   "cell_type": "code",
   "execution_count": null,
   "metadata": {},
   "outputs": [],
   "source": [
    "df.to_csv(\"data/ciao/sample.csv\", sep=\";\", header=None, index=False)"
   ]
  },
  {
   "cell_type": "markdown",
   "metadata": {},
   "source": [
    "# Goodreads"
   ]
  },
  {
   "cell_type": "code",
   "execution_count": 19,
   "metadata": {},
   "outputs": [
    {
     "data": {
      "text/html": [
       "<div>\n",
       "<style scoped>\n",
       "    .dataframe tbody tr th:only-of-type {\n",
       "        vertical-align: middle;\n",
       "    }\n",
       "\n",
       "    .dataframe tbody tr th {\n",
       "        vertical-align: top;\n",
       "    }\n",
       "\n",
       "    .dataframe thead th {\n",
       "        text-align: right;\n",
       "    }\n",
       "</style>\n",
       "<table border=\"1\" class=\"dataframe\">\n",
       "  <thead>\n",
       "    <tr style=\"text-align: right;\">\n",
       "      <th></th>\n",
       "      <th>user_id</th>\n",
       "      <th>item_id</th>\n",
       "      <th>rating</th>\n",
       "    </tr>\n",
       "  </thead>\n",
       "  <tbody>\n",
       "    <tr>\n",
       "      <th>0</th>\n",
       "      <td>0</td>\n",
       "      <td>948</td>\n",
       "      <td>5</td>\n",
       "    </tr>\n",
       "    <tr>\n",
       "      <th>1</th>\n",
       "      <td>0</td>\n",
       "      <td>947</td>\n",
       "      <td>5</td>\n",
       "    </tr>\n",
       "    <tr>\n",
       "      <th>2</th>\n",
       "      <td>0</td>\n",
       "      <td>946</td>\n",
       "      <td>5</td>\n",
       "    </tr>\n",
       "    <tr>\n",
       "      <th>3</th>\n",
       "      <td>0</td>\n",
       "      <td>945</td>\n",
       "      <td>5</td>\n",
       "    </tr>\n",
       "    <tr>\n",
       "      <th>4</th>\n",
       "      <td>0</td>\n",
       "      <td>944</td>\n",
       "      <td>5</td>\n",
       "    </tr>\n",
       "  </tbody>\n",
       "</table>\n",
       "</div>"
      ],
      "text/plain": [
       "   user_id  item_id  rating\n",
       "0        0      948       5\n",
       "1        0      947       5\n",
       "2        0      946       5\n",
       "3        0      945       5\n",
       "4        0      944       5"
      ]
     },
     "execution_count": 19,
     "metadata": {},
     "output_type": "execute_result"
    }
   ],
   "source": [
    "df = pd.read_csv(\"data/goodreads/goodreads_interactions.csv\", sep=\",\", usecols=[\"user_id\", \"book_id\", \"rating\"])\n",
    "df.columns = [\"user_id\", \"item_id\", \"rating\"]\n",
    "df.head()"
   ]
  },
  {
   "cell_type": "code",
   "execution_count": 20,
   "metadata": {},
   "outputs": [],
   "source": [
    "df = df[df[\"rating\"] != 0]"
   ]
  },
  {
   "cell_type": "code",
   "execution_count": 21,
   "metadata": {},
   "outputs": [
    {
     "name": "stdout",
     "output_type": "stream",
     "text": [
      "Nr. of ratings: 2535555\n",
      "Nr. of users: 20000\n",
      "Nr. of items: 509246\n",
      "Density: 0.000249\n",
      "Avg. nr. of ratings per user: 126.777750\n",
      "Avg. nr. of ratings per item: 4.979038\n"
     ]
    }
   ],
   "source": [
    "user_sample = np.random.choice(df[\"user_id\"].unique(), size=20000, replace=False)\n",
    "df = df[df[\"user_id\"].isin(user_sample)]\n",
    "print(\"Nr. of ratings: %d\" % len(df))\n",
    "print(\"Nr. of users: %d\" % df[\"user_id\"].nunique())\n",
    "print(\"Nr. of items: %d\" % df[\"item_id\"].nunique())\n",
    "print(\"Density: %f\" % (len(df) / (df[\"user_id\"].nunique() * df[\"item_id\"].nunique())))\n",
    "print(\"Avg. nr. of ratings per user: %f\" % df.groupby(\"user_id\").size().mean())\n",
    "print(\"Avg. nr. of ratings per item: %f\" % df.groupby(\"item_id\").size().mean())"
   ]
  },
  {
   "cell_type": "code",
   "execution_count": 6,
   "metadata": {},
   "outputs": [],
   "source": [
    "df.to_csv(\"data/goodreads/sample.csv\", sep=\";\", header=None, index=False)"
   ]
  },
  {
   "cell_type": "markdown",
   "metadata": {},
   "source": [
    "# LFM User Groups"
   ]
  },
  {
   "cell_type": "code",
   "execution_count": 7,
   "metadata": {},
   "outputs": [
    {
     "data": {
      "text/html": [
       "<div>\n",
       "<style scoped>\n",
       "    .dataframe tbody tr th:only-of-type {\n",
       "        vertical-align: middle;\n",
       "    }\n",
       "\n",
       "    .dataframe tbody tr th {\n",
       "        vertical-align: top;\n",
       "    }\n",
       "\n",
       "    .dataframe thead th {\n",
       "        text-align: right;\n",
       "    }\n",
       "</style>\n",
       "<table border=\"1\" class=\"dataframe\">\n",
       "  <thead>\n",
       "    <tr style=\"text-align: right;\">\n",
       "      <th></th>\n",
       "      <th>user_id</th>\n",
       "      <th>artist_id</th>\n",
       "      <th>album_id</th>\n",
       "      <th>track_id</th>\n",
       "      <th>timestamp</th>\n",
       "    </tr>\n",
       "  </thead>\n",
       "  <tbody>\n",
       "    <tr>\n",
       "      <th>0</th>\n",
       "      <td>31435741</td>\n",
       "      <td>2</td>\n",
       "      <td>4</td>\n",
       "      <td>4</td>\n",
       "      <td>1385212958</td>\n",
       "    </tr>\n",
       "    <tr>\n",
       "      <th>1</th>\n",
       "      <td>31435741</td>\n",
       "      <td>2</td>\n",
       "      <td>4</td>\n",
       "      <td>4</td>\n",
       "      <td>1385212642</td>\n",
       "    </tr>\n",
       "    <tr>\n",
       "      <th>2</th>\n",
       "      <td>31435741</td>\n",
       "      <td>2</td>\n",
       "      <td>4</td>\n",
       "      <td>4</td>\n",
       "      <td>1385212325</td>\n",
       "    </tr>\n",
       "    <tr>\n",
       "      <th>3</th>\n",
       "      <td>31435741</td>\n",
       "      <td>2</td>\n",
       "      <td>4</td>\n",
       "      <td>4</td>\n",
       "      <td>1385209508</td>\n",
       "    </tr>\n",
       "    <tr>\n",
       "      <th>4</th>\n",
       "      <td>31435741</td>\n",
       "      <td>2</td>\n",
       "      <td>4</td>\n",
       "      <td>4</td>\n",
       "      <td>1385209191</td>\n",
       "    </tr>\n",
       "  </tbody>\n",
       "</table>\n",
       "</div>"
      ],
      "text/plain": [
       "    user_id  artist_id  album_id  track_id   timestamp\n",
       "0  31435741          2         4         4  1385212958\n",
       "1  31435741          2         4         4  1385212642\n",
       "2  31435741          2         4         4  1385212325\n",
       "3  31435741          2         4         4  1385209508\n",
       "4  31435741          2         4         4  1385209191"
      ]
     },
     "execution_count": 7,
     "metadata": {},
     "output_type": "execute_result"
    }
   ],
   "source": [
    "df = pd.read_csv(\"data/lfm/user_events.txt\", sep=\"\\t\", header=None, names=[\"user_id\", \"artist_id\", \"album_id\", \"track_id\", \"timestamp\"])\n",
    "df.head()"
   ]
  },
  {
   "cell_type": "code",
   "execution_count": 9,
   "metadata": {},
   "outputs": [
    {
     "name": "stdout",
     "output_type": "stream",
     "text": [
      "Nr. of ratings: 1755361\n",
      "Nr. of users: 3000\n",
      "Nr. of items: 352805\n",
      "Density: 0.001658\n",
      "Avg. nr. of ratings per user: 585.120333\n",
      "Avg. nr. of ratings per item: 4.975443\n"
     ]
    }
   ],
   "source": [
    "df_ = df.groupby([\"user_id\", \"artist_id\"]).size().reset_index(name='count')\n",
    "\n",
    "scaled_df_events = pd.DataFrame()\n",
    "for user_id, group in df_.groupby(\"user_id\"):\n",
    "    min_rating = group['count'].min()\n",
    "    max_rating = group['count'].max()\n",
    "    scaler = MinMaxScaler(feature_range=(1, 1000))\n",
    "    scaled_ratings = scaler.fit_transform(group['count'].values.reshape(-1, 1).astype(float))\n",
    "    new_rows = group.copy()\n",
    "    new_rows['count'] = scaled_ratings\n",
    "    scaled_df_events = scaled_df_events.append(new_rows)\n",
    "\n",
    "print(\"Nr. of ratings: %d\" % len(scaled_df_events))\n",
    "print(\"Nr. of users: %d\" % scaled_df_events[\"user_id\"].nunique())\n",
    "print(\"Nr. of items: %d\" % scaled_df_events[\"artist_id\"].nunique())\n",
    "print(\"Density: %f\" % (len(scaled_df_events) / (scaled_df_events[\"user_id\"].nunique() * scaled_df_events[\"artist_id\"].nunique())))\n",
    "print(\"Avg. nr. of ratings per user: %f\" % scaled_df_events.groupby(\"user_id\").size().mean())\n",
    "print(\"Avg. nr. of ratings per item: %f\" % scaled_df_events.groupby(\"artist_id\").size().mean())\n",
    "\n",
    "scaled_df_events.columns = [\"user_id\", \"item_id\", \"rating\"]\n",
    "scaled_df_events.to_csv(\"data/lfm/artist_ratings.csv\", sep=\";\", index=False, header=None)"
   ]
  },
  {
   "cell_type": "code",
   "execution_count": null,
   "metadata": {},
   "outputs": [],
   "source": []
  }
 ],
 "metadata": {
  "kernelspec": {
   "display_name": "Python 3",
   "language": "python",
   "name": "python3"
  },
  "language_info": {
   "codemirror_mode": {
    "name": "ipython",
    "version": 3
   },
   "file_extension": ".py",
   "mimetype": "text/x-python",
   "name": "python",
   "nbconvert_exporter": "python",
   "pygments_lexer": "ipython3",
   "version": "3.7.3"
  }
 },
 "nbformat": 4,
 "nbformat_minor": 4
}
