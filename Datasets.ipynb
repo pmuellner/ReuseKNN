{
 "cells": [
  {
   "cell_type": "code",
   "execution_count": 1,
   "metadata": {},
   "outputs": [],
   "source": [
    "import numpy as np\n",
    "import pandas as pd\n",
    "from sklearn.preprocessing import MinMaxScaler"
   ]
  },
  {
   "cell_type": "markdown",
   "metadata": {},
   "source": [
    "# Anime Small"
   ]
  },
  {
   "cell_type": "code",
   "execution_count": null,
   "metadata": {},
   "outputs": [],
   "source": [
    "df = pd.read_csv(\"data/anime_small/rating.csv\")\n",
    "df.columns = [\"user_id\", \"item_id\", \"rating\"]\n",
    "df = df[df[\"rating\"] != -1]\n",
    "\n",
    "print(\"Nr. of ratings: %d\" % len(df))\n",
    "print(\"Nr. of users: %d\" % df[\"user_id\"].nunique())\n",
    "print(\"Nr. of items: %d\" % df[\"item_id\"].nunique())\n",
    "print(\"Density: %f\" % (len(df) / (df[\"user_id\"].nunique() * df[\"item_id\"].nunique())))\n",
    "print(\"Avg. nr. of ratings per user: %f\" % df.groupby(\"user_id\").size().mean())\n",
    "print(\"Avg. nr. of ratings per item: %f\" % df.groupby(\"item_id\").size().mean())"
   ]
  },
  {
   "cell_type": "code",
   "execution_count": null,
   "metadata": {},
   "outputs": [],
   "source": [
    "profile_sizes = df.groupby(\"user_id\").size()\n",
    "relevant_users = profile_sizes[profile_sizes >= 20].index.tolist()\n",
    "df = df[df[\"user_id\"].isin(relevant_users)]\n",
    "\n",
    "print(\"Nr. of ratings: %d\" % len(df))\n",
    "print(\"Nr. of users: %d\" % df[\"user_id\"].nunique())\n",
    "print(\"Nr. of items: %d\" % df[\"item_id\"].nunique())\n",
    "print(\"Density: %f\" % (len(df) / (df[\"user_id\"].nunique() * df[\"item_id\"].nunique())))\n",
    "print(\"Avg. nr. of ratings per user: %f\" % df.groupby(\"user_id\").size().mean())\n",
    "print(\"Avg. nr. of ratings per item: %f\" % df.groupby(\"item_id\").size().mean())"
   ]
  },
  {
   "cell_type": "code",
   "execution_count": null,
   "metadata": {},
   "outputs": [],
   "source": [
    "user_sample = np.random.choice(df[\"user_id\"].unique(), size=5000, replace=False)\n",
    "df = df[df[\"user_id\"].isin(user_sample)]\n",
    "print(\"Nr. of ratings: %d\" % len(df))\n",
    "print(\"Nr. of users: %d\" % df[\"user_id\"].nunique())\n",
    "print(\"Nr. of items: %d\" % df[\"item_id\"].nunique())\n",
    "print(\"Density: %f\" % (len(df) / (df[\"user_id\"].nunique() * df[\"item_id\"].nunique())))\n",
    "print(\"Avg. nr. of ratings per user: %f\" % df.groupby(\"user_id\").size().mean())\n",
    "print(\"Avg. nr. of ratings per item: %f\" % df.groupby(\"item_id\").size().mean())"
   ]
  },
  {
   "cell_type": "code",
   "execution_count": null,
   "metadata": {},
   "outputs": [],
   "source": [
    "df.to_csv(\"data/anime_small/sample.csv\", sep=\";\", header=False, index=None)"
   ]
  },
  {
   "cell_type": "markdown",
   "metadata": {},
   "source": [
    "# Jester"
   ]
  },
  {
   "cell_type": "code",
   "execution_count": null,
   "metadata": {},
   "outputs": [],
   "source": [
    "df1 = pd.read_excel(\"data/jester/jester-data-1.xls\", header=None)\n",
    "df1.drop(columns=[0], inplace=True)\n",
    "df1 = df1.stack().reset_index()\n",
    "df1.columns = [\"user_id\", \"item_id\", \"rating\"]\n",
    "\n",
    "df2 = pd.read_excel(\"data/jester/jester-data-2.xls\", header=None)\n",
    "df2.drop(columns=[0], inplace=True)\n",
    "df2 = df2.stack().reset_index()\n",
    "df2.columns = [\"user_id\", \"item_id\", \"rating\"]\n",
    "\n",
    "df3 = pd.read_excel(\"data/jester/jester-data-3.xls\", header=None)\n",
    "df3.drop(columns=[0], inplace=True)\n",
    "df3 = df3.stack().reset_index()\n",
    "df3.columns = [\"user_id\", \"item_id\", \"rating\"]\n",
    "\n",
    "n_users_1 = df1[\"user_id\"].nunique()\n",
    "n_users_2 = df2[\"user_id\"].nunique()\n",
    "n_users_3 = df3[\"user_id\"].nunique()\n",
    "\n",
    "user_mapping_1 = {b: a for a, b in enumerate(range(n_users_1))}\n",
    "user_mapping_2 = {b: a+n_users_1 for a, b in enumerate(range(n_users_2))}\n",
    "user_mapping_3 = {b: a+n_users_1+n_users_2 for a, b in enumerate(range(n_users_3))}\n",
    "\n",
    "df1[\"user_id\"] = df1[\"user_id\"].map(user_mapping_1)\n",
    "df2[\"user_id\"] = df2[\"user_id\"].map(user_mapping_2)\n",
    "df3[\"user_id\"] = df3[\"user_id\"].map(user_mapping_3)\n",
    "df = df1.append(df2).append(df3)\n",
    "\n",
    "df[\"item_id\"] = df[\"item_id\"].apply(lambda v: v-1)\n",
    "df.astype({\"user_id\": int, \"item_id\": int});\n",
    "\n",
    "df = df[df[\"rating\"] != 99]\n",
    "\n",
    "print(\"Nr. of ratings: %d\" % len(df))\n",
    "print(\"Nr. of users: %d\" % df[\"user_id\"].nunique())\n",
    "print(\"Nr. of items: %d\" % df[\"item_id\"].nunique())\n",
    "print(\"Density: %f\" % (len(df) / (df[\"user_id\"].nunique() * df[\"item_id\"].nunique())))\n",
    "print(\"Avg. nr. of ratings per user: %f\" % df.groupby(\"user_id\").size().mean())\n",
    "print(\"Avg. nr. of ratings per item: %f\" % df.groupby(\"item_id\").size().mean())\n",
    "\n",
    "del df1, df2, df3"
   ]
  },
  {
   "cell_type": "code",
   "execution_count": null,
   "metadata": {},
   "outputs": [],
   "source": [
    "profile_size = df.groupby(\"user_id\").size()\n",
    "relevant_users = profile_size[profile_size >= 20].index.tolist()\n",
    "df = df[df[\"user_id\"].isin(relevant_users)]\n",
    "\n",
    "print(\"Nr. of ratings: %d\" % len(df))\n",
    "print(\"Nr. of users: %d\" % df[\"user_id\"].nunique())\n",
    "print(\"Nr. of items: %d\" % df[\"item_id\"].nunique())\n",
    "print(\"Density: %f\" % (len(df) / (df[\"user_id\"].nunique() * df[\"item_id\"].nunique())))\n",
    "print(\"Avg. nr. of ratings per user: %f\" % df.groupby(\"user_id\").size().mean())\n",
    "print(\"Avg. nr. of ratings per item: %f\" % df.groupby(\"item_id\").size().mean())"
   ]
  },
  {
   "cell_type": "code",
   "execution_count": null,
   "metadata": {},
   "outputs": [],
   "source": [
    "user_sample = np.random.choice(df[\"user_id\"].unique(), size=5000, replace=False)\n",
    "df = df[df[\"user_id\"].isin(user_sample)]\n",
    "print(\"Nr. of ratings: %d\" % len(df))\n",
    "print(\"Nr. of users: %d\" % df[\"user_id\"].nunique())\n",
    "print(\"Nr. of items: %d\" % df[\"item_id\"].nunique())\n",
    "print(\"Density: %f\" % (len(df) / (df[\"user_id\"].nunique() * df[\"item_id\"].nunique())))\n",
    "print(\"Avg. nr. of ratings per user: %f\" % df.groupby(\"user_id\").size().mean())\n",
    "print(\"Avg. nr. of ratings per item: %f\" % df.groupby(\"item_id\").size().mean())"
   ]
  },
  {
   "cell_type": "code",
   "execution_count": null,
   "metadata": {},
   "outputs": [],
   "source": [
    "df.to_csv(\"data/jester/sample.csv\", sep=\";\", header=None, index=False)"
   ]
  },
  {
   "cell_type": "markdown",
   "metadata": {},
   "source": [
    "# Douban"
   ]
  },
  {
   "cell_type": "code",
   "execution_count": 31,
   "metadata": {},
   "outputs": [
    {
     "name": "stdout",
     "output_type": "stream",
     "text": [
      "Nr. of ratings: 893575\n",
      "Nr. of users: 2509\n",
      "Nr. of items: 39576\n",
      "Density: 0.008999\n",
      "Avg. nr. of ratings per user: 356.147868\n",
      "Avg. nr. of ratings per item: 22.578709\n"
     ]
    }
   ],
   "source": [
    "db_train_df = pd.read_csv(\"data/douban/db.train.rating\", sep=\"\\t\", header=None, names=[\"user_id\", \"item_id\", \"rating\"])\n",
    "db_val_df = pd.read_csv(\"data/douban/db.valid.rating\", sep=\"\\t\", header=None, names=[\"user_id\", \"item_id\", \"rating\"])\n",
    "db_test_df = pd.read_csv(\"data/douban/db.test.rating\", sep=\"\\t\", header=None, names=[\"user_id\", \"item_id\", \"rating\"])\n",
    "\n",
    "df = db_train_df.append(db_val_df).append(db_test_df)\n",
    "\n",
    "print(\"Nr. of ratings: %d\" % len(df))\n",
    "print(\"Nr. of users: %d\" % df[\"user_id\"].nunique())\n",
    "print(\"Nr. of items: %d\" % df[\"item_id\"].nunique())\n",
    "print(\"Density: %f\" % (len(df) / (df[\"user_id\"].nunique() * df[\"item_id\"].nunique())))\n",
    "print(\"Avg. nr. of ratings per user: %f\" % df.groupby(\"user_id\").size().mean())\n",
    "print(\"Avg. nr. of ratings per item: %f\" % df.groupby(\"item_id\").size().mean())\n",
    "df.to_csv(\"data/douban/douban.csv\", sep=\";\", header=False, index=False)\n",
    "\n",
    "del db_train_df, db_val_df, db_test_df"
   ]
  },
  {
   "cell_type": "code",
   "execution_count": null,
   "metadata": {},
   "outputs": [],
   "source": [
    "profile_size = df.groupby(\"user_id\").size()\n",
    "relevant_users = profile_size[profile_size >= 20].index.tolist()\n",
    "df = df[df[\"user_id\"].isin(relevant_users)]\n",
    "\n",
    "user_sample = np.random.choice(df[\"user_id\"].unique(), size=1000, replace=False)\n",
    "df = df[df[\"user_id\"].isin(user_sample)]\n",
    "print(\"Nr. of ratings: %d\" % len(df))\n",
    "print(\"Nr. of users: %d\" % df[\"user_id\"].nunique())\n",
    "print(\"Nr. of items: %d\" % df[\"item_id\"].nunique())\n",
    "print(\"Density: %f\" % (len(df) / (df[\"user_id\"].nunique() * df[\"item_id\"].nunique())))\n",
    "print(\"Avg. nr. of ratings per user: %f\" % df.groupby(\"user_id\").size().mean())\n",
    "print(\"Avg. nr. of ratings per item: %f\" % df.groupby(\"item_id\").size().mean())"
   ]
  },
  {
   "cell_type": "code",
   "execution_count": null,
   "metadata": {},
   "outputs": [],
   "source": [
    "df.to_csv(\"data/douban/sample.csv\", sep=\";\", header=None, index=False)"
   ]
  },
  {
   "cell_type": "markdown",
   "metadata": {},
   "source": [
    "# Ciao"
   ]
  },
  {
   "cell_type": "code",
   "execution_count": null,
   "metadata": {},
   "outputs": [],
   "source": [
    "ciao_train_df = pd.read_csv(\"data/ciao/ciao.train.rating\", sep=\"\\t\", header=None, names=[\"user_id\", \"item_id\", \"rating\"])\n",
    "ciao_val_df = pd.read_csv(\"data/ciao/ciao.valid.rating\", sep=\"\\t\", header=None, names=[\"user_id\", \"item_id\", \"rating\"])\n",
    "ciao_test_df = pd.read_csv(\"data/ciao/ciao.test.rating\", sep=\"\\t\", header=None, names=[\"user_id\", \"item_id\", \"rating\"])\n",
    "\n",
    "df = ciao_train_df.append(ciao_val_df).append(ciao_test_df)\n",
    "\n",
    "print(\"Nr. of ratings: %d\" % len(df))\n",
    "print(\"Nr. of users: %d\" % df[\"user_id\"].nunique())\n",
    "print(\"Nr. of items: %d\" % df[\"item_id\"].nunique())\n",
    "print(\"Density: %f\" % (len(df) / (df[\"user_id\"].nunique() * df[\"item_id\"].nunique())))\n",
    "print(\"Avg. nr. of ratings per user: %f\" % df.groupby(\"user_id\").size().mean())\n",
    "print(\"Avg. nr. of ratings per item: %f\" % df.groupby(\"item_id\").size().mean())\n",
    "\n",
    "df.to_csv(\"data/ciao/ciao.csv\", sep=\";\", header=False, index=False)\n",
    "\n",
    "del ciao_train_df, ciao_test_df, ciao_val_df"
   ]
  },
  {
   "cell_type": "code",
   "execution_count": null,
   "metadata": {},
   "outputs": [],
   "source": [
    "profile_size = df.groupby(\"user_id\").size()\n",
    "relevant_users = profile_size[profile_size >= 20].index.tolist()\n",
    "df = df[df[\"user_id\"].isin(relevant_users)]\n",
    "\n",
    "print(\"Nr. of ratings: %d\" % len(df))\n",
    "print(\"Nr. of users: %d\" % df[\"user_id\"].nunique())\n",
    "print(\"Nr. of items: %d\" % df[\"item_id\"].nunique())\n",
    "print(\"Density: %f\" % (len(df) / (df[\"user_id\"].nunique() * df[\"item_id\"].nunique())))\n",
    "print(\"Avg. nr. of ratings per user: %f\" % df.groupby(\"user_id\").size().mean())\n",
    "print(\"Avg. nr. of ratings per item: %f\" % df.groupby(\"item_id\").size().mean())"
   ]
  },
  {
   "cell_type": "code",
   "execution_count": null,
   "metadata": {},
   "outputs": [],
   "source": [
    "user_sample = np.random.choice(df[\"user_id\"].unique(), size=1000, replace=False)\n",
    "df = df[df[\"user_id\"].isin(user_sample)]\n",
    "print(\"Nr. of ratings: %d\" % len(df))\n",
    "print(\"Nr. of users: %d\" % df[\"user_id\"].nunique())\n",
    "print(\"Nr. of items: %d\" % df[\"item_id\"].nunique())\n",
    "print(\"Density: %f\" % (len(df) / (df[\"user_id\"].nunique() * df[\"item_id\"].nunique())))\n",
    "print(\"Avg. nr. of ratings per user: %f\" % df.groupby(\"user_id\").size().mean())\n",
    "print(\"Avg. nr. of ratings per item: %f\" % df.groupby(\"item_id\").size().mean())"
   ]
  },
  {
   "cell_type": "code",
   "execution_count": null,
   "metadata": {},
   "outputs": [],
   "source": [
    "df.to_csv(\"data/ciao/sample.csv\", sep=\";\", header=None, index=False)"
   ]
  },
  {
   "cell_type": "markdown",
   "metadata": {},
   "source": [
    "# Goodreads"
   ]
  },
  {
   "cell_type": "code",
   "execution_count": 24,
   "metadata": {},
   "outputs": [
    {
     "name": "stdout",
     "output_type": "stream",
     "text": [
      "Nr. of ratings: 228648342\n",
      "Nr. of users: 876145\n",
      "Nr. of items: 2360650\n",
      "Density: 0.000111\n",
      "Avg. nr. of ratings per user: 260.970892\n",
      "Avg. nr. of ratings per item: 96.858214\n"
     ]
    }
   ],
   "source": [
    "df = pd.read_csv(\"data/goodreads/goodreads_interactions.csv\", sep=\",\", usecols=[\"user_id\", \"book_id\", \"rating\"])\n",
    "df.columns = [\"user_id\", \"item_id\", \"rating\"]\n",
    "\n",
    "print(\"Nr. of ratings: %d\" % len(df))\n",
    "print(\"Nr. of users: %d\" % df[\"user_id\"].nunique())\n",
    "print(\"Nr. of items: %d\" % df[\"item_id\"].nunique())\n",
    "print(\"Density: %f\" % (len(df) / (df[\"user_id\"].nunique() * df[\"item_id\"].nunique())))\n",
    "print(\"Avg. nr. of ratings per user: %f\" % df.groupby(\"user_id\").size().mean())\n",
    "print(\"Avg. nr. of ratings per item: %f\" % df.groupby(\"item_id\").size().mean())"
   ]
  },
  {
   "cell_type": "code",
   "execution_count": 25,
   "metadata": {},
   "outputs": [
    {
     "name": "stdout",
     "output_type": "stream",
     "text": [
      "Nr. of ratings: 228648342\n",
      "Nr. of users: 816371\n",
      "Nr. of items: 2325541\n",
      "Density: 0.000120\n",
      "Avg. nr. of ratings per user: 280.078962\n",
      "Avg. nr. of ratings per item: 98.320495\n"
     ]
    }
   ],
   "source": [
    "df[df[\"rating\"] == 0] = 3\n",
    "#df[df[\"rating\"] == 0] = np.mean(df[df[\"rating\"] != 0])\n",
    "print(\"Nr. of ratings: %d\" % len(df))\n",
    "print(\"Nr. of users: %d\" % df[\"user_id\"].nunique())\n",
    "print(\"Nr. of items: %d\" % df[\"item_id\"].nunique())\n",
    "print(\"Density: %f\" % (len(df) / (df[\"user_id\"].nunique() * df[\"item_id\"].nunique())))\n",
    "print(\"Avg. nr. of ratings per user: %f\" % df.groupby(\"user_id\").size().mean())\n",
    "print(\"Avg. nr. of ratings per item: %f\" % df.groupby(\"item_id\").size().mean())"
   ]
  },
  {
   "cell_type": "code",
   "execution_count": 26,
   "metadata": {},
   "outputs": [
    {
     "name": "stdout",
     "output_type": "stream",
     "text": [
      "Nr. of ratings: 227293625\n",
      "Nr. of users: 639453\n",
      "Nr. of items: 2314387\n",
      "Density: 0.000154\n",
      "Avg. nr. of ratings per user: 355.450088\n",
      "Avg. nr. of ratings per item: 98.208997\n"
     ]
    }
   ],
   "source": [
    "profile_size = df.groupby(\"user_id\").size()\n",
    "relevant_users = profile_size[profile_size >= 20].index.tolist()\n",
    "idxs = df[~df[\"user_id\"].isin(relevant_users)].index\n",
    "df.drop(idxs, inplace=True)\n",
    "\n",
    "print(\"Nr. of ratings: %d\" % len(df))\n",
    "print(\"Nr. of users: %d\" % df[\"user_id\"].nunique())\n",
    "print(\"Nr. of items: %d\" % df[\"item_id\"].nunique())\n",
    "print(\"Density: %f\" % (len(df) / (df[\"user_id\"].nunique() * df[\"item_id\"].nunique())))\n",
    "print(\"Avg. nr. of ratings per user: %f\" % df.groupby(\"user_id\").size().mean())\n",
    "print(\"Avg. nr. of ratings per item: %f\" % df.groupby(\"item_id\").size().mean())"
   ]
  },
  {
   "cell_type": "code",
   "execution_count": 27,
   "metadata": {},
   "outputs": [
    {
     "name": "stdout",
     "output_type": "stream",
     "text": [
      "Nr. of ratings: 153297\n",
      "Nr. of users: 1000\n",
      "Nr. of items: 75266\n",
      "Density: 0.002037\n",
      "Avg. nr. of ratings per user: 153.297000\n",
      "Avg. nr. of ratings per item: 2.036736\n"
     ]
    }
   ],
   "source": [
    "user_sample = np.random.choice(df[\"user_id\"].unique(), size=1000, replace=False)\n",
    "df = df[df[\"user_id\"].isin(user_sample)]\n",
    "print(\"Nr. of ratings: %d\" % len(df))\n",
    "print(\"Nr. of users: %d\" % df[\"user_id\"].nunique())\n",
    "print(\"Nr. of items: %d\" % df[\"item_id\"].nunique())\n",
    "print(\"Density: %f\" % (len(df) / (df[\"user_id\"].nunique() * df[\"item_id\"].nunique())))\n",
    "print(\"Avg. nr. of ratings per user: %f\" % df.groupby(\"user_id\").size().mean())\n",
    "print(\"Avg. nr. of ratings per item: %f\" % df.groupby(\"item_id\").size().mean())"
   ]
  },
  {
   "cell_type": "code",
   "execution_count": 28,
   "metadata": {},
   "outputs": [],
   "source": [
    "df.to_csv(\"data/goodreads/sample.csv\", sep=\";\", header=None, index=False)"
   ]
  },
  {
   "cell_type": "markdown",
   "metadata": {},
   "source": [
    "# Bookcrossing"
   ]
  },
  {
   "cell_type": "code",
   "execution_count": null,
   "metadata": {},
   "outputs": [],
   "source": [
    "df = pd.read_csv(\"data/BX-CSV-Dump/BX-Book-Ratings.csv\", sep=\";\", encoding=\"latin1\")\n",
    "df.columns = [\"user_id\", \"item_id\", \"rating\"]\n",
    "\n",
    "print(\"Nr. of ratings: %d\" % len(df))\n",
    "print(\"Nr. of users: %d\" % df[\"user_id\"].nunique())\n",
    "print(\"Nr. of items: %d\" % df[\"item_id\"].nunique())\n",
    "print(\"Density: %f\" % (len(df) / (df[\"user_id\"].nunique() * df[\"item_id\"].nunique())))\n",
    "print(\"Avg. nr. of ratings per user: %f\" % df.groupby(\"user_id\").size().mean())\n",
    "print(\"Avg. nr. of ratings per item: %f\" % df.groupby(\"item_id\").size().mean())"
   ]
  },
  {
   "cell_type": "code",
   "execution_count": null,
   "metadata": {},
   "outputs": [],
   "source": [
    "profile_size = df.groupby(\"user_id\").size()\n",
    "relevant_users = profile_size[profile_size >= 20].index.tolist()\n",
    "df = df[df[\"user_id\"].isin(relevant_users)]\n",
    "\n",
    "print(\"Nr. of ratings: %d\" % len(df))\n",
    "print(\"Nr. of users: %d\" % df[\"user_id\"].nunique())\n",
    "print(\"Nr. of items: %d\" % df[\"item_id\"].nunique())\n",
    "print(\"Density: %f\" % (len(df) / (df[\"user_id\"].nunique() * df[\"item_id\"].nunique())))\n",
    "print(\"Avg. nr. of ratings per user: %f\" % df.groupby(\"user_id\").size().mean())\n",
    "print(\"Avg. nr. of ratings per item: %f\" % df.groupby(\"item_id\").size().mean())\n",
    "\n",
    "df.to_csv(\"data/bookcrossing/full.csv\", sep=\";\", header=None, index=False)"
   ]
  },
  {
   "cell_type": "code",
   "execution_count": null,
   "metadata": {},
   "outputs": [],
   "source": [
    "user_sample = np.random.choice(df[\"user_id\"].unique(), size=1000, replace=False)\n",
    "df = df[df[\"user_id\"].isin(user_sample)]\n",
    "print(\"Nr. of ratings: %d\" % len(df))\n",
    "print(\"Nr. of users: %d\" % df[\"user_id\"].nunique())\n",
    "print(\"Nr. of items: %d\" % df[\"item_id\"].nunique())\n",
    "print(\"Density: %f\" % (len(df) / (df[\"user_id\"].nunique() * df[\"item_id\"].nunique())))\n",
    "print(\"Avg. nr. of ratings per user: %f\" % df.groupby(\"user_id\").size().mean())\n",
    "print(\"Avg. nr. of ratings per item: %f\" % df.groupby(\"item_id\").size().mean())"
   ]
  },
  {
   "cell_type": "code",
   "execution_count": null,
   "metadata": {},
   "outputs": [],
   "source": [
    "df.to_csv(\"data/bookcrossing/sample.csv\", sep=\";\", header=None, index=False)"
   ]
  },
  {
   "cell_type": "markdown",
   "metadata": {},
   "source": [
    "# Foursquare"
   ]
  },
  {
   "cell_type": "code",
   "execution_count": null,
   "metadata": {},
   "outputs": [],
   "source": [
    "df = pd.read_csv(\"data/foursquare/ratings.dat\", sep=\"|\")\n",
    "df.columns = [\"user_id\", \"item_id\", \"rating\"]\n",
    "df.dropna(inplace=True)\n",
    "df[\"item_id\"] = df[\"item_id\"].astype(int)\n",
    "\n",
    "print(\"Nr. of ratings: %d\" % len(df))\n",
    "print(\"Nr. of users: %d\" % df[\"user_id\"].nunique())\n",
    "print(\"Nr. of items: %d\" % df[\"item_id\"].nunique())\n",
    "print(\"Density: %f\" % (len(df) / (df[\"user_id\"].nunique() * df[\"item_id\"].nunique())))\n",
    "print(\"Avg. nr. of ratings per user: %f\" % df.groupby(\"user_id\").size().mean())\n",
    "print(\"Avg. nr. of ratings per item: %f\" % df.groupby(\"item_id\").size().mean())"
   ]
  },
  {
   "cell_type": "code",
   "execution_count": null,
   "metadata": {},
   "outputs": [],
   "source": [
    "profile_size = df.groupby(\"user_id\").size()\n",
    "relevant_users = profile_size[profile_size >= 20].index.tolist()\n",
    "df = df[df[\"user_id\"].isin(relevant_users)]\n",
    "\n",
    "print(\"Nr. of ratings: %d\" % len(df))\n",
    "print(\"Nr. of users: %d\" % df[\"user_id\"].nunique())\n",
    "print(\"Nr. of items: %d\" % df[\"item_id\"].nunique())\n",
    "print(\"Density: %f\" % (len(df) / (df[\"user_id\"].nunique() * df[\"item_id\"].nunique())))\n",
    "print(\"Avg. nr. of ratings per user: %f\" % df.groupby(\"user_id\").size().mean())\n",
    "print(\"Avg. nr. of ratings per item: %f\" % df.groupby(\"item_id\").size().mean())"
   ]
  },
  {
   "cell_type": "code",
   "execution_count": null,
   "metadata": {},
   "outputs": [],
   "source": [
    "user_sample = np.random.choice(df[\"user_id\"].unique(), size=1000, replace=False)\n",
    "df = df[df[\"user_id\"].isin(user_sample)]\n",
    "print(\"Nr. of ratings: %d\" % len(df))\n",
    "print(\"Nr. of users: %d\" % df[\"user_id\"].nunique())\n",
    "print(\"Nr. of items: %d\" % df[\"item_id\"].nunique())\n",
    "print(\"Density: %f\" % (len(df) / (df[\"user_id\"].nunique() * df[\"item_id\"].nunique())))\n",
    "print(\"Avg. nr. of ratings per user: %f\" % df.groupby(\"user_id\").size().mean())\n",
    "print(\"Avg. nr. of ratings per item: %f\" % df.groupby(\"item_id\").size().mean())"
   ]
  },
  {
   "cell_type": "code",
   "execution_count": null,
   "metadata": {},
   "outputs": [],
   "source": [
    "df.to_csv(\"data/foursquare/sample.csv\", sep=\";\", header=None, index=False)"
   ]
  },
  {
   "cell_type": "markdown",
   "metadata": {},
   "source": [
    "# MovieLens 100k"
   ]
  },
  {
   "cell_type": "code",
   "execution_count": 32,
   "metadata": {},
   "outputs": [
    {
     "name": "stdout",
     "output_type": "stream",
     "text": [
      "Nr. of ratings: 100000\n",
      "Nr. of users: 943\n",
      "Nr. of items: 1682\n",
      "Density: 0.063047\n",
      "Avg. nr. of ratings per user: 106.044539\n",
      "Avg. nr. of ratings per item: 59.453032\n"
     ]
    }
   ],
   "source": [
    "df = pd.read_csv(\"data/ml-100k/ml-100k/u.data\", sep=\"\\t\", names=[\"user_id\", \"item_id\", \"rating\", \"timestamp\"])\n",
    "df.drop(columns=[\"timestamp\"], inplace=True)\n",
    "\n",
    "print(\"Nr. of ratings: %d\" % len(df))\n",
    "print(\"Nr. of users: %d\" % df[\"user_id\"].nunique())\n",
    "print(\"Nr. of items: %d\" % df[\"item_id\"].nunique())\n",
    "print(\"Density: %f\" % (len(df) / (df[\"user_id\"].nunique() * df[\"item_id\"].nunique())))\n",
    "print(\"Avg. nr. of ratings per user: %f\" % df.groupby(\"user_id\").size().mean())\n",
    "print(\"Avg. nr. of ratings per item: %f\" % df.groupby(\"item_id\").size().mean())"
   ]
  },
  {
   "cell_type": "code",
   "execution_count": 38,
   "metadata": {},
   "outputs": [
    {
     "data": {
      "text/plain": [
       "199"
      ]
     },
     "execution_count": 38,
     "metadata": {},
     "output_type": "execute_result"
    }
   ],
   "source": [
    "np.sum(df.groupby(\"user_id\").size() < 30)"
   ]
  },
  {
   "cell_type": "markdown",
   "metadata": {},
   "source": [
    "# MovieLens 1M"
   ]
  },
  {
   "cell_type": "code",
   "execution_count": null,
   "metadata": {},
   "outputs": [],
   "source": [
    "df = pd.read_csv(\"data/ml-1m/ratings.dat\", sep=\"::\", names=[\"user_id\", \"item_id\", \"rating\", \"timestamp\"])\n",
    "df.drop(columns=[\"timestamp\"], inplace=True)\n",
    "\n",
    "print(\"Nr. of ratings: %d\" % len(df))\n",
    "print(\"Nr. of users: %d\" % df[\"user_id\"].nunique())\n",
    "print(\"Nr. of items: %d\" % df[\"item_id\"].nunique())\n",
    "print(\"Density: %f\" % (len(df) / (df[\"user_id\"].nunique() * df[\"item_id\"].nunique())))\n",
    "print(\"Avg. nr. of ratings per user: %f\" % df.groupby(\"user_id\").size().mean())\n",
    "print(\"Avg. nr. of ratings per item: %f\" % df.groupby(\"item_id\").size().mean())"
   ]
  },
  {
   "cell_type": "markdown",
   "metadata": {},
   "source": [
    "# LFM User Groups"
   ]
  },
  {
   "cell_type": "code",
   "execution_count": 29,
   "metadata": {},
   "outputs": [
    {
     "data": {
      "text/html": [
       "<div>\n",
       "<style scoped>\n",
       "    .dataframe tbody tr th:only-of-type {\n",
       "        vertical-align: middle;\n",
       "    }\n",
       "\n",
       "    .dataframe tbody tr th {\n",
       "        vertical-align: top;\n",
       "    }\n",
       "\n",
       "    .dataframe thead th {\n",
       "        text-align: right;\n",
       "    }\n",
       "</style>\n",
       "<table border=\"1\" class=\"dataframe\">\n",
       "  <thead>\n",
       "    <tr style=\"text-align: right;\">\n",
       "      <th></th>\n",
       "      <th>user_id</th>\n",
       "      <th>artist_id</th>\n",
       "      <th>album_id</th>\n",
       "      <th>track_id</th>\n",
       "      <th>timestamp</th>\n",
       "    </tr>\n",
       "  </thead>\n",
       "  <tbody>\n",
       "    <tr>\n",
       "      <th>0</th>\n",
       "      <td>31435741</td>\n",
       "      <td>2</td>\n",
       "      <td>4</td>\n",
       "      <td>4</td>\n",
       "      <td>1385212958</td>\n",
       "    </tr>\n",
       "    <tr>\n",
       "      <th>1</th>\n",
       "      <td>31435741</td>\n",
       "      <td>2</td>\n",
       "      <td>4</td>\n",
       "      <td>4</td>\n",
       "      <td>1385212642</td>\n",
       "    </tr>\n",
       "    <tr>\n",
       "      <th>2</th>\n",
       "      <td>31435741</td>\n",
       "      <td>2</td>\n",
       "      <td>4</td>\n",
       "      <td>4</td>\n",
       "      <td>1385212325</td>\n",
       "    </tr>\n",
       "    <tr>\n",
       "      <th>3</th>\n",
       "      <td>31435741</td>\n",
       "      <td>2</td>\n",
       "      <td>4</td>\n",
       "      <td>4</td>\n",
       "      <td>1385209508</td>\n",
       "    </tr>\n",
       "    <tr>\n",
       "      <th>4</th>\n",
       "      <td>31435741</td>\n",
       "      <td>2</td>\n",
       "      <td>4</td>\n",
       "      <td>4</td>\n",
       "      <td>1385209191</td>\n",
       "    </tr>\n",
       "  </tbody>\n",
       "</table>\n",
       "</div>"
      ],
      "text/plain": [
       "    user_id  artist_id  album_id  track_id   timestamp\n",
       "0  31435741          2         4         4  1385212958\n",
       "1  31435741          2         4         4  1385212642\n",
       "2  31435741          2         4         4  1385212325\n",
       "3  31435741          2         4         4  1385209508\n",
       "4  31435741          2         4         4  1385209191"
      ]
     },
     "execution_count": 29,
     "metadata": {},
     "output_type": "execute_result"
    }
   ],
   "source": [
    "df = pd.read_csv(\"data/lfm/user_events.txt\", sep=\"\\t\", header=None, names=[\"user_id\", \"artist_id\", \"album_id\", \"track_id\", \"timestamp\"])\n",
    "df.head()"
   ]
  },
  {
   "cell_type": "code",
   "execution_count": 30,
   "metadata": {},
   "outputs": [
    {
     "name": "stdout",
     "output_type": "stream",
     "text": [
      "Nr. of ratings: 1755361\n",
      "Nr. of users: 3000\n",
      "Nr. of items: 352805\n",
      "Density: 0.001658\n",
      "Avg. nr. of ratings per user: 585.120333\n",
      "Avg. nr. of ratings per item: 4.975443\n"
     ]
    }
   ],
   "source": [
    "df_ = df.groupby([\"user_id\", \"artist_id\"]).size().reset_index(name='count')\n",
    "\n",
    "scaled_df_events = pd.DataFrame()\n",
    "for user_id, group in df_.groupby(\"user_id\"):\n",
    "    min_rating = group['count'].min()\n",
    "    max_rating = group['count'].max()\n",
    "    scaler = MinMaxScaler(feature_range=(1, 100))\n",
    "    scaled_ratings = scaler.fit_transform(group['count'].values.reshape(-1, 1).astype(float))\n",
    "    new_rows = group.copy()\n",
    "    new_rows['count'] = scaled_ratings\n",
    "    scaled_df_events = scaled_df_events.append(new_rows)\n",
    "\n",
    "print(\"Nr. of ratings: %d\" % len(scaled_df_events))\n",
    "print(\"Nr. of users: %d\" % scaled_df_events[\"user_id\"].nunique())\n",
    "print(\"Nr. of items: %d\" % scaled_df_events[\"artist_id\"].nunique())\n",
    "print(\"Density: %f\" % (len(scaled_df_events) / (scaled_df_events[\"user_id\"].nunique() * scaled_df_events[\"artist_id\"].nunique())))\n",
    "print(\"Avg. nr. of ratings per user: %f\" % scaled_df_events.groupby(\"user_id\").size().mean())\n",
    "print(\"Avg. nr. of ratings per item: %f\" % scaled_df_events.groupby(\"artist_id\").size().mean())\n",
    "\n",
    "scaled_df_events.columns = [\"user_id\", \"item_id\", \"rating\"]\n",
    "scaled_df_events.to_csv(\"data/lfm/artist_ratings.csv\", sep=\";\", index=False, header=None)"
   ]
  },
  {
   "cell_type": "code",
   "execution_count": null,
   "metadata": {},
   "outputs": [],
   "source": [
    "df_ = df.groupby([\"user_id\", \"album_id\"]).size().reset_index(name='count')\n",
    "\n",
    "scaled_df_events = pd.DataFrame()\n",
    "for user_id, group in df_.groupby(\"user_id\"):\n",
    "    min_rating = group['count'].min()\n",
    "    max_rating = group['count'].max()\n",
    "    scaler = MinMaxScaler(feature_range=(1, 1000))\n",
    "    scaled_ratings = scaler.fit_transform(group['count'].values.reshape(-1, 1).astype(float))\n",
    "    new_rows = group.copy()\n",
    "    new_rows['count'] = scaled_ratings\n",
    "    scaled_df_events = scaled_df_events.append(new_rows)\n",
    "\n",
    "print(\"Nr. of ratings: %d\" % len(scaled_df_events))\n",
    "print(\"Nr. of users: %d\" % scaled_df_events[\"user_id\"].nunique())\n",
    "print(\"Nr. of items: %d\" % scaled_df_events[\"album_id\"].nunique())\n",
    "print(\"Density: %f\" % (len(scaled_df_events) / (scaled_df_events[\"user_id\"].nunique() * scaled_df_events[\"album_id\"].nunique())))\n",
    "print(\"Avg. nr. of ratings per user: %f\" % scaled_df_events.groupby(\"user_id\").size().mean())\n",
    "print(\"Avg. nr. of ratings per item: %f\" % scaled_df_events.groupby(\"album_id\").size().mean())\n",
    "\n",
    "scaled_df_events.columns = [\"user_id\", \"item_id\", \"rating\"]\n",
    "scaled_df_events.to_csv(\"data/lfm/album_ratings.csv\", sep=\";\", index=False, header=None)"
   ]
  },
  {
   "cell_type": "code",
   "execution_count": null,
   "metadata": {},
   "outputs": [],
   "source": [
    "df_ = df.groupby([\"user_id\", \"track_id\"]).size().reset_index(name='count')\n",
    "\n",
    "scaled_df_events = pd.DataFrame()\n",
    "for user_id, group in df_.groupby(\"user_id\"):\n",
    "    min_rating = group['count'].min()\n",
    "    max_rating = group['count'].max()\n",
    "    scaler = MinMaxScaler(feature_range=(1, 1000))\n",
    "    scaled_ratings = scaler.fit_transform(group['count'].values.reshape(-1, 1).astype(float))\n",
    "    new_rows = group.copy()\n",
    "    new_rows['count'] = scaled_ratings\n",
    "    scaled_df_events = scaled_df_events.append(new_rows)\n",
    "\n",
    "print(\"Nr. of ratings: %d\" % len(scaled_df_events))\n",
    "print(\"Nr. of users: %d\" % scaled_df_events[\"user_id\"].nunique())\n",
    "print(\"Nr. of items: %d\" % scaled_df_events[\"track_id\"].nunique())\n",
    "print(\"Density: %f\" % (len(scaled_df_events) / (scaled_df_events[\"user_id\"].nunique() * scaled_df_events[\"track_id\"].nunique())))\n",
    "print(\"Avg. nr. of ratings per user: %f\" % scaled_df_events.groupby(\"user_id\").size().mean())\n",
    "print(\"Avg. nr. of ratings per item: %f\" % scaled_df_events.groupby(\"track_id\").size().mean())\n",
    "\n",
    "scaled_df_events.columns = [\"user_id\", \"item_id\", \"rating\"]\n",
    "scaled_df_events.to_csv(\"data/lfm/track_ratings.csv\", sep=\";\", index=False, header=None)"
   ]
  }
 ],
 "metadata": {
  "kernelspec": {
   "display_name": "Python 3",
   "language": "python",
   "name": "python3"
  },
  "language_info": {
   "codemirror_mode": {
    "name": "ipython",
    "version": 3
   },
   "file_extension": ".py",
   "mimetype": "text/x-python",
   "name": "python",
   "nbconvert_exporter": "python",
   "pygments_lexer": "ipython3",
   "version": "3.7.3"
  }
 },
 "nbformat": 4,
 "nbformat_minor": 4
}
