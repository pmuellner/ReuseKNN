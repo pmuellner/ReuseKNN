{
 "cells": [
  {
   "cell_type": "code",
   "execution_count": 1,
   "metadata": {},
   "outputs": [],
   "source": [
    "import pandas as pd\n",
    "import numpy as np\n",
    "import pyximport\n",
    "pyximport.install(setup_args={\"include_dirs\": np.get_include()},\n",
    "                  reload_support=True)\n",
    "from algorithms.knn_neighborhood import UserKNN\n",
    "from surprise import Dataset, Reader, accuracy\n",
    "from surprise.model_selection import train_test_split\n",
    "import matplotlib.pyplot as plt\n",
    "from scipy.stats import mannwhitneyu\n",
    "from collections import defaultdict"
   ]
  },
  {
   "cell_type": "code",
   "execution_count": 2,
   "metadata": {},
   "outputs": [],
   "source": [
    "def get_top_n(predictions, n=10):\n",
    "    \"\"\"Return the top-N recommendation for each user from a set of predictions.\n",
    "\n",
    "    Args:\n",
    "        predictions(list of Prediction objects): The list of predictions, as\n",
    "            returned by the test method of an algorithm.\n",
    "        n(int): The number of recommendation to output for each user. Default\n",
    "            is 10.\n",
    "\n",
    "    Returns:\n",
    "    A dict where keys are user (raw) ids and values are lists of tuples:\n",
    "        [(raw item id, rating estimation), ...] of size n.\n",
    "    \"\"\"\n",
    "\n",
    "    # First map the predictions to each user.\n",
    "    top_n = defaultdict(list)\n",
    "    for uid, iid, true_r, est, details in predictions:\n",
    "        if not details[\"was_impossible\"]:\n",
    "            top_n[uid].append((iid, est))\n",
    "\n",
    "    # Then sort the predictions for each user and retrieve the k highest ones.\n",
    "    for uid, user_ratings in top_n.items():\n",
    "        user_ratings.sort(key=lambda x: x[1], reverse=True)\n",
    "        top_n[uid] = [iid for iid, _ in user_ratings[:n]]\n",
    "\n",
    "    return top_n"
   ]
  },
  {
   "cell_type": "code",
   "execution_count": 3,
   "metadata": {},
   "outputs": [],
   "source": [
    "def mann_whitney_u_test(x, y, alternative=\"two-sided\"):\n",
    "    u, p = mannwhitneyu(x, y, alternative=alternative)\n",
    "    nx = len(x)\n",
    "    ny = len(y)\n",
    "    mu_u = (nx * ny) / 2\n",
    "    sigma_u = np.sqrt(nx * ny * (nx + ny + 1) / 12)\n",
    "    z = (u - mu_u) / sigma_u\n",
    "    n = len(x) + len(y)\n",
    "    r = z / np.sqrt(n)\n",
    "    return u, p, r"
   ]
  },
  {
   "cell_type": "code",
   "execution_count": 4,
   "metadata": {},
   "outputs": [
    {
     "name": "stderr",
     "output_type": "stream",
     "text": [
      "C:\\Users\\pmuellner\\AppData\\Local\\Continuum\\anaconda3\\lib\\site-packages\\ipykernel_launcher.py:4: ParserWarning: Falling back to the 'python' engine because the 'c' engine does not support regex separators (separators > 1 char and different from '\\s+' are interpreted as regex); you can avoid this warning by specifying engine='python'.\n",
      "  after removing the cwd from sys.path.\n"
     ]
    },
    {
     "data": {
      "text/html": [
       "<div>\n",
       "<style scoped>\n",
       "    .dataframe tbody tr th:only-of-type {\n",
       "        vertical-align: middle;\n",
       "    }\n",
       "\n",
       "    .dataframe tbody tr th {\n",
       "        vertical-align: top;\n",
       "    }\n",
       "\n",
       "    .dataframe thead th {\n",
       "        text-align: right;\n",
       "    }\n",
       "</style>\n",
       "<table border=\"1\" class=\"dataframe\">\n",
       "  <thead>\n",
       "    <tr style=\"text-align: right;\">\n",
       "      <th></th>\n",
       "      <th>user_id</th>\n",
       "      <th>item_id</th>\n",
       "      <th>rating</th>\n",
       "    </tr>\n",
       "  </thead>\n",
       "  <tbody>\n",
       "    <tr>\n",
       "      <th>554</th>\n",
       "      <td>8</td>\n",
       "      <td>39</td>\n",
       "      <td>3</td>\n",
       "    </tr>\n",
       "    <tr>\n",
       "      <th>555</th>\n",
       "      <td>8</td>\n",
       "      <td>2336</td>\n",
       "      <td>3</td>\n",
       "    </tr>\n",
       "    <tr>\n",
       "      <th>556</th>\n",
       "      <td>8</td>\n",
       "      <td>288</td>\n",
       "      <td>5</td>\n",
       "    </tr>\n",
       "    <tr>\n",
       "      <th>557</th>\n",
       "      <td>8</td>\n",
       "      <td>3425</td>\n",
       "      <td>3</td>\n",
       "    </tr>\n",
       "    <tr>\n",
       "      <th>558</th>\n",
       "      <td>8</td>\n",
       "      <td>2268</td>\n",
       "      <td>3</td>\n",
       "    </tr>\n",
       "  </tbody>\n",
       "</table>\n",
       "</div>"
      ],
      "text/plain": [
       "     user_id  item_id  rating\n",
       "554        8       39       3\n",
       "555        8     2336       3\n",
       "556        8      288       5\n",
       "557        8     3425       3\n",
       "558        8     2268       3"
      ]
     },
     "execution_count": 4,
     "metadata": {},
     "output_type": "execute_result"
    }
   ],
   "source": [
    "#df = pd.read_csv(\"data/ml-100k/ml-100k/u.data\", sep=\"\\t\", names=[\"user_id\", \"item_id\", \"rating\", \"timestamp\"])\n",
    "#df.drop(columns=[\"timestamp\"], inplace=True)\n",
    "\n",
    "df = pd.read_csv(\"data/ml-1m/ratings.dat\", sep=\"::\", names=[\"user_id\", \"item_id\", \"rating\", \"timestamp\"])\n",
    "df.drop(columns=[\"timestamp\"], inplace=True)\n",
    "relevant_users = np.random.choice(df[\"user_id\"].nunique(), size=1000, replace=False)\n",
    "df = df[df[\"user_id\"].isin(relevant_users)]\n",
    "\n",
    "df.head()"
   ]
  },
  {
   "cell_type": "code",
   "execution_count": 5,
   "metadata": {},
   "outputs": [],
   "source": [
    "dataset = Dataset.load_from_df(df, reader=Reader(rating_scale=(1, 5)))\n",
    "trainset, testset = train_test_split(dataset, test_size=0.2)"
   ]
  },
  {
   "cell_type": "code",
   "execution_count": 6,
   "metadata": {},
   "outputs": [],
   "source": [
    "item_popularity = np.zeros(trainset.n_items)\n",
    "for iid, ratings in trainset.ir.items():\n",
    "    item_popularity[iid] += len(ratings)\n",
    "item_popularity /= trainset.n_users"
   ]
  },
  {
   "cell_type": "code",
   "execution_count": 7,
   "metadata": {},
   "outputs": [
    {
     "data": {
      "text/plain": [
       "array([0.12982913, 0.14602761, 0.08967893, 0.1491642 , 0.08704227,\n",
       "       0.10041414, 0.14098076, 0.13094344, 0.11722834, 0.10811329,\n",
       "       0.09293633, 0.1021307 , 0.17278148, 0.10219134, 0.09737296,\n",
       "       0.08134668, 0.12192474, 0.12999842, 0.11124458, 0.06746083,\n",
       "       0.13780447, 0.09334495, 0.11569431, 0.08196802, 0.08182208,\n",
       "       0.12615247, 0.10804421, 0.12158036, 0.0862898 , 0.18011951,\n",
       "       0.13348385, 0.13032705, 0.13631022, 0.11417985, 0.09265265,\n",
       "       0.10392033, 0.09188422, 0.09876543, 0.12616821, 0.14343413,\n",
       "       0.14135564, 0.08880138, 0.10086937, 0.11796797, 0.09229459,\n",
       "       0.12693775, 0.12074175, 0.08946621, 0.09094399, 0.11889309,\n",
       "       0.10907222, 0.09079534, 0.09368564, 0.13571724, 0.13020071,\n",
       "       0.11906113, 0.08264694, 0.12622271, 0.08061395, 0.1147824 ,\n",
       "       0.09182993, 0.10585034, 0.13417635, 0.11343619, 0.12359266,\n",
       "       0.07251627, 0.14105444, 0.07036305, 0.12299698, 0.11078579,\n",
       "       0.09935287, 0.1127984 , 0.11719828, 0.11282711, 0.11727291,\n",
       "       0.12076711, 0.09159394, 0.11789035, 0.07876139, 0.0931977 ,\n",
       "       0.08400893, 0.0901199 , 0.09472631, 0.15412609, 0.09669251,\n",
       "       0.07590959, 0.08892529, 0.09954887, 0.12671656, 0.14838977,\n",
       "       0.13865458, 0.12380529, 0.0691548 , 0.04588778, 0.13561732,\n",
       "       0.12062062, 0.13939559, 0.11551552, 0.06484116, 0.10795006,\n",
       "       0.13111111, 0.17887221, 0.1571835 , 0.0767319 , 0.18756256,\n",
       "       0.12169608, 0.12382639, 0.10092161, 0.1093062 , 0.11039987,\n",
       "       0.12225976, 0.12963202, 0.1377682 , 0.09597197, 0.10834783,\n",
       "       0.11424387, 0.11708517, 0.1269138 , 0.10902569, 0.05800982,\n",
       "       0.07228365, 0.10056337, 0.09453877, 0.11387823, 0.14276777,\n",
       "       0.12865497, 0.14959207, 0.11594353, 0.10371682, 0.09820245,\n",
       "       0.09040146, 0.10823867, 0.09915025, 0.10334955, 0.11211211,\n",
       "       0.08934741, 0.11368085, 0.08929297, 0.1017052 , 0.08335062,\n",
       "       0.12785221, 0.08344883, 0.11789009, 0.12012608, 0.11907908,\n",
       "       0.09265079, 0.10613739, 0.08996125, 0.0960961 , 0.11765894,\n",
       "       0.10837713, 0.09297691, 0.12619399, 0.13721514, 0.16681496,\n",
       "       0.10341257, 0.09987361, 0.14267952, 0.09000429, 0.17084986,\n",
       "       0.09962189, 0.10769628, 0.13893248, 0.08376601, 0.18750329,\n",
       "       0.0736583 , 0.10039563, 0.08558559, 0.11620059, 0.1298203 ,\n",
       "       0.13284396, 0.14649801, 0.10737368, 0.10000747, 0.08792913,\n",
       "       0.0988751 , 0.12690109, 0.1102706 , 0.0771592 , 0.12159382,\n",
       "       0.13024789, 0.11788614, 0.13698547, 0.11717831, 0.09803282,\n",
       "       0.13266998, 0.12642528, 0.08693023, 0.15392997, 0.0817648 ,\n",
       "       0.09809034, 0.11616378, 0.21051051, 0.10731944, 0.15264895,\n",
       "       0.10831496, 0.15236513, 0.11713307, 0.14551747, 0.11280328,\n",
       "       0.13782533, 0.1282507 , 0.11408408, 0.09951285, 0.12886859,\n",
       "       0.11136136, 0.15085562, 0.13951451, 0.11364475, 0.14452114,\n",
       "       0.10854923, 0.11249791, 0.1047644 , 0.05799335, 0.08768769,\n",
       "       0.13342375, 0.13608345, 0.12302341, 0.07452478, 0.08514984,\n",
       "       0.09588287, 0.10346042, 0.09156049, 0.15142762, 0.1146537 ,\n",
       "       0.08610651, 0.13580596, 0.1294628 , 0.12150275, 0.10101188,\n",
       "       0.11569054, 0.12008394, 0.03688983, 0.08078994, 0.10033053,\n",
       "       0.10330098, 0.13216442, 0.14352989, 0.14369925, 0.08314314,\n",
       "       0.07433028, 0.09714274, 0.10063412, 0.11581757, 0.12628036,\n",
       "       0.07462549, 0.09800154, 0.18701054, 0.10821394, 0.15880746,\n",
       "       0.1036036 , 0.12379748, 0.11700501, 0.15199682, 0.14315385,\n",
       "       0.13652506, 0.11885777, 0.10930801, 0.15780296, 0.10500775,\n",
       "       0.08505466, 0.09774464, 0.09997252, 0.10664975, 0.13119036,\n",
       "       0.12975341, 0.15688662, 0.12249589, 0.12933272, 0.11303611,\n",
       "       0.1954812 , 0.13342258, 0.13151831, 0.1835035 , 0.14926319,\n",
       "       0.13491413, 0.13889679, 0.13394108, 0.11817852, 0.13532977,\n",
       "       0.08246376, 0.09942168, 0.09257281, 0.12108108, 0.10715403,\n",
       "       0.08581555, 0.11239858, 0.14962331, 0.08957144, 0.14087283,\n",
       "       0.08692929, 0.1435344 , 0.08719167, 0.07356572, 0.08239051,\n",
       "       0.11116999, 0.12343844, 0.13259545, 0.14044424, 0.13168098,\n",
       "       0.13396968, 0.10889878, 0.08949846, 0.10491444, 0.07789328,\n",
       "       0.07895827, 0.12352035, 0.1370887 , 0.12193382, 0.05445744,\n",
       "       0.11428474, 0.15384252, 0.15980796, 0.16410528, 0.10861551,\n",
       "       0.09793126, 0.08168928, 0.05124172, 0.09781626, 0.09700176,\n",
       "       0.1141051 , 0.16757934, 0.15723832, 0.10892711, 0.09875554,\n",
       "       0.09017726, 0.15276387, 0.15290653, 0.09477477, 0.11690466,\n",
       "       0.10510511, 0.09592092, 0.10085085, 0.12217512, 0.09549303,\n",
       "       0.12287949, 0.12500129, 0.1108944 , 0.13924677, 0.11211211,\n",
       "       0.13997701, 0.1776464 , 0.08413939, 0.08349294, 0.06772707,\n",
       "       0.0847751 , 0.13748531, 0.08861776, 0.13001463, 0.10457266,\n",
       "       0.1646205 , 0.10626241, 0.06574251, 0.10164512, 0.17410744,\n",
       "       0.12313635, 0.09419946, 0.11960662, 0.10630142, 0.14836871,\n",
       "       0.17067753, 0.11308606, 0.12825789, 0.09185861, 0.11024358,\n",
       "       0.11173919, 0.09768475, 0.1186551 , 0.08550165, 0.07802559,\n",
       "       0.10708239, 0.17127939, 0.14426301, 0.15998241, 0.12426062,\n",
       "       0.09290946, 0.14496009, 0.13242511, 0.07137352, 0.17860718,\n",
       "       0.12747254, 0.15686739, 0.12380986, 0.12555055, 0.11730512,\n",
       "       0.07609428, 0.10191587, 0.19119119, 0.16002366, 0.16335085,\n",
       "       0.14009598, 0.1689159 , 0.11914732, 0.10047237, 0.14265402,\n",
       "       0.18170254, 0.08121222, 0.1220109 , 0.12542627, 0.07424091,\n",
       "       0.13143101, 0.18195279, 0.15640202, 0.1332509 , 0.1209376 ,\n",
       "       0.11725331, 0.13690357, 0.17361806, 0.0807007 , 0.07401877,\n",
       "       0.07754749, 0.12949792, 0.11087754, 0.14894464, 0.19609193,\n",
       "       0.15174581, 0.12796341, 0.0918627 , 0.17072628, 0.08739119,\n",
       "       0.13330404, 0.09841487, 0.11259661, 0.13308417, 0.11714417,\n",
       "       0.12537195, 0.12239637, 0.1900025 , 0.13461013, 0.15990064,\n",
       "       0.18980384, 0.08103653, 0.11683252, 0.16674367, 0.14576841,\n",
       "       0.13912306, 0.10192614, 0.14316624, 0.08728556, 0.10875992,\n",
       "       0.11286963, 0.13942321, 0.14217596, 0.14538115, 0.13465847,\n",
       "       0.17456672, 0.13102576, 0.1008982 , 0.09167062, 0.15389887,\n",
       "       0.18499981, 0.08815309, 0.11211211, 0.10875361, 0.14346422,\n",
       "       0.1271589 , 0.22336622, 0.09973767, 0.12723009, 0.08071613,\n",
       "       0.09727989, 0.09272467, 0.16676251, 0.09324267, 0.13600058,\n",
       "       0.13708607, 0.10637118, 0.10707198, 0.09426285, 0.09664023,\n",
       "       0.10165721, 0.14742868, 0.11340702, 0.17917918, 0.15528028,\n",
       "       0.08461464, 0.14251752, 0.15251206, 0.1685644 , 0.17183037,\n",
       "       0.14965615, 0.08397997, 0.09942146, 0.15353815, 0.1667357 ,\n",
       "       0.12107345, 0.1150595 , 0.09271247, 0.16358612, 0.13471005,\n",
       "       0.11448055, 0.12957579, 0.10826652, 0.08623402, 0.12635049,\n",
       "       0.17987078, 0.17363876, 0.08314982, 0.11261097, 0.1479694 ,\n",
       "       0.1617993 , 0.10597264, 0.10732619, 0.12413233, 0.12861218,\n",
       "       0.14540374, 0.18144335, 0.14652152, 0.21043265, 0.15703799,\n",
       "       0.15317317, 0.16453038, 0.11318098, 0.15457124, 0.13142071,\n",
       "       0.08229725, 0.18594785, 0.11342794, 0.08879848, 0.15646511,\n",
       "       0.15831621, 0.10933026, 0.12434173, 0.09837596, 0.12795653,\n",
       "       0.17004277, 0.09104938, 0.11414863, 0.0925617 , 0.10416416,\n",
       "       0.15666949, 0.13009163, 0.09253003, 0.08132045, 0.13831407,\n",
       "       0.18385052, 0.14694106, 0.18511194, 0.17456742, 0.21914507,\n",
       "       0.12884944, 0.16      , 0.16002443, 0.09216764, 0.14960794,\n",
       "       0.12712713, 0.13160219, 0.14590453, 0.13678101, 0.15103055,\n",
       "       0.10786335, 0.1021791 , 0.13985781, 0.18061483, 0.20578154,\n",
       "       0.14402333, 0.11245416, 0.14798494, 0.13503334, 0.14963612,\n",
       "       0.0857951 , 0.15568902, 0.11594693, 0.12911059, 0.13772596,\n",
       "       0.15108212, 0.11534392, 0.1183224 , 0.18078544, 0.12400705,\n",
       "       0.1073925 , 0.15337076, 0.10750751, 0.16769312, 0.1547292 ,\n",
       "       0.14937159, 0.17633018, 0.1228636 , 0.05976178, 0.12838349,\n",
       "       0.12858437, 0.1127617 , 0.11354211, 0.17995774, 0.12080305,\n",
       "       0.1214875 , 0.0994709 , 0.22459301, 0.13660496, 0.12441012,\n",
       "       0.17421967, 0.11358315, 0.12388146, 0.14829644, 0.13314622,\n",
       "       0.16508473, 0.10839411, 0.11855251, 0.18518519, 0.15158909,\n",
       "       0.14872448, 0.12754476, 0.12522523, 0.12717162, 0.06794294,\n",
       "       0.11058427, 0.14014014, 0.10595039, 0.18778779, 0.05018205,\n",
       "       0.06918683, 0.12242731, 0.11124168, 0.10783902, 0.15521077,\n",
       "       0.1515858 , 0.11890363, 0.13936854, 0.20865546, 0.15315315,\n",
       "       0.14955581, 0.15185078, 0.1232604 , 0.09275176, 0.1013706 ,\n",
       "       0.11911071, 0.14024691, 0.09560086, 0.13348413, 0.11503457,\n",
       "       0.09358378, 0.09075113, 0.08331665, 0.1473974 , 0.15410865,\n",
       "       0.11727163, 0.16048702, 0.12781353, 0.16931747, 0.16248471,\n",
       "       0.18218218, 0.16057472, 0.17713168, 0.10690838, 0.15259184,\n",
       "       0.10553411, 0.15001766, 0.08115012, 0.07919586, 0.10559651,\n",
       "       0.13688336, 0.11180099, 0.11130049, 0.11792805, 0.17067067,\n",
       "       0.11981212, 0.20264527, 0.11533756, 0.12795044, 0.14272783,\n",
       "       0.15710892, 0.18706206, 0.12063492, 0.11704214, 0.11518463,\n",
       "       0.11899467, 0.20305832, 0.11034564, 0.13442988, 0.16667779,\n",
       "       0.11328873, 0.12252117, 0.11578514, 0.10511635, 0.11728488,\n",
       "       0.13572832, 0.10747717, 0.16697132, 0.12710537, 0.14168222,\n",
       "       0.10717169, 0.07681799, 0.11263115, 0.10298298, 0.08943864,\n",
       "       0.13351685, 0.09307677, 0.06812075, 0.18067158, 0.12212212,\n",
       "       0.20723849, 0.16085203, 0.12828829, 0.11369101, 0.17346657,\n",
       "       0.10865102, 0.13674544, 0.2008372 , 0.11076076, 0.18868869,\n",
       "       0.1269576 , 0.13701633, 0.16347116, 0.20565393, 0.13986826,\n",
       "       0.12731572, 0.11988304, 0.15865866, 0.13899162, 0.14229785,\n",
       "       0.16459316, 0.17229874, 0.06673982, 0.11255005, 0.19238593,\n",
       "       0.1207666 , 0.11910824, 0.21421421, 0.13394645, 0.19567844,\n",
       "       0.09258626, 0.09918026, 0.13107552, 0.15898878, 0.14149149,\n",
       "       0.19392309, 0.1023023 , 0.1602472 , 0.13705706, 0.12636166,\n",
       "       0.14853563, 0.17267267, 0.15135506, 0.1713964 , 0.17235986,\n",
       "       0.12938745, 0.10592593, 0.12232821, 0.09787338, 0.1502002 ,\n",
       "       0.11948683, 0.15919145, 0.16014681, 0.18171876, 0.10693551,\n",
       "       0.17280376, 0.15631505, 0.15853631, 0.10674961, 0.16608817,\n",
       "       0.13124008, 0.13352062, 0.11949881, 0.07961883, 0.12951661,\n",
       "       0.10226015, 0.15570956, 0.13139369, 0.10402508, 0.0992916 ,\n",
       "       0.15354064, 0.12384607, 0.09227689, 0.11919327, 0.13537347,\n",
       "       0.12709261, 0.15418697, 0.10656111, 0.12467796, 0.0774328 ,\n",
       "       0.20675221, 0.08568914, 0.17039261, 0.13564508, 0.10771641,\n",
       "       0.12371346, 0.08548022, 0.10775993, 0.17534678, 0.10367944,\n",
       "       0.12333386, 0.10517511, 0.17870812, 0.1786381 , 0.14717725,\n",
       "       0.14799906, 0.17319592, 0.19324202, 0.18403589, 0.13464684,\n",
       "       0.16355641, 0.16123891, 0.17217217, 0.14684158, 0.11588782,\n",
       "       0.12892893, 0.0992811 , 0.13375876, 0.15100815, 0.14742242,\n",
       "       0.1966057 , 0.12990853, 0.13583759, 0.23323323, 0.1650474 ,\n",
       "       0.13700657, 0.12204412, 0.08778344, 0.21568937, 0.17294437,\n",
       "       0.11872984, 0.11880301, 0.16627153, 0.20963271, 0.12694415,\n",
       "       0.15806983, 0.18304458, 0.13079746, 0.16690765, 0.16734917,\n",
       "       0.12761942, 0.18711815, 0.13071895, 0.1890166 , 0.18309218,\n",
       "       0.10429608, 0.13211037, 0.15329122, 0.15336856, 0.14485217,\n",
       "       0.15674498, 0.16377916, 0.11792348, 0.1257487 , 0.08165308,\n",
       "       0.10049793, 0.11550439, 0.15344757, 0.16956087, 0.2001001 ,\n",
       "       0.11887645, 0.2364269 , 0.12412412, 0.13922343, 0.20660244,\n",
       "       0.12991939, 0.20795796, 0.08406483, 0.12339006, 0.14309309,\n",
       "       0.16950913, 0.17437437, 0.16058366, 0.16397166, 0.1391989 ,\n",
       "       0.12707444, 0.1434212 , 0.13275943, 0.1329224 , 0.13113113,\n",
       "       0.12794762, 0.09936023, 0.15587462, 0.13833064, 0.1047866 ,\n",
       "       0.11797234, 0.202288  , 0.13780447, 0.18910215, 0.08927109,\n",
       "       0.13959414, 0.15385385, 0.14927427, 0.08238673, 0.23794383,\n",
       "       0.1358546 , 0.03828466, 0.17167167, 0.230348  , 0.12820513,\n",
       "       0.1991992 , 0.08064064, 0.12649316, 0.1023023 , 0.09801351,\n",
       "       0.10739311, 0.18465132, 0.16993184, 0.09350259, 0.18333485,\n",
       "       0.17062896, 0.17819994, 0.19830545, 0.1773023 , 0.13998089,\n",
       "       0.14499114, 0.14654048, 0.18803014, 0.16961962, 0.06941942,\n",
       "       0.15071321, 0.19415569, 0.15012839, 0.19525776, 0.12985044,\n",
       "       0.11611612, 0.1229841 , 0.13199563, 0.14979496, 0.12622968,\n",
       "       0.08550773, 0.10679727, 0.07613496, 0.11555305, 0.07174263,\n",
       "       0.19319319, 0.16449783, 0.18539752, 0.11074232, 0.16705077,\n",
       "       0.09833363, 0.15645646, 0.19661328, 0.07251001, 0.15155155,\n",
       "       0.15909243, 0.18879991, 0.13684518, 0.1379296 , 0.20626877,\n",
       "       0.16804304, 0.16162504, 0.14856236, 0.14224481, 0.13147763,\n",
       "       0.11282014, 0.14123214, 0.10975841, 0.15878378, 0.14384755,\n",
       "       0.16666667, 0.0611481 , 0.09843177, 0.15159988, 0.16459316,\n",
       "       0.17275897, 0.1001001 , 0.14642643, 0.1489267 , 0.20140974,\n",
       "       0.16257166, 0.15951952, 0.1364698 , 0.10262644, 0.09973016,\n",
       "       0.17482482, 0.12206944, 0.14190381, 0.20165165, 0.20868237,\n",
       "       0.16187616, 0.13330978, 0.14139139, 0.17911662, 0.12432432,\n",
       "       0.09593804, 0.16912367, 0.11678345, 0.17340197, 0.12073612,\n",
       "       0.14978615, 0.18672244, 0.08851709, 0.21816817, 0.16387816,\n",
       "       0.09521643, 0.14290377, 0.14097431, 0.12675834, 0.13859693,\n",
       "       0.10880111, 0.14343756, 0.21729624, 0.12123234, 0.1648315 ,\n",
       "       0.17433433, 0.11991158, 0.17523774, 0.11401878, 0.08235508,\n",
       "       0.19542123, 0.16721069, 0.12017017, 0.15910911, 0.11039611,\n",
       "       0.15715716, 0.20827077, 0.1588811 , 0.06006006])"
      ]
     },
     "execution_count": 7,
     "metadata": {},
     "output_type": "execute_result"
    }
   ],
   "source": [
    "avg_itempop_per_user = np.zeros(trainset.n_users)\n",
    "for uid, ratings in trainset.ur.items():\n",
    "    avg_itempop_per_user[uid] = np.mean([item_popularity[iid] for iid, _ in ratings])\n",
    "avg_itempop_per_user"
   ]
  },
  {
   "cell_type": "code",
   "execution_count": 8,
   "metadata": {},
   "outputs": [
    {
     "name": "stdout",
     "output_type": "stream",
     "text": [
      "7.874957703472981e-05 -0.08832888855420329\n",
      "6.58408417822212e-08 -0.1208574126060606\n",
      "2.492674820918284e-07 -0.11540056725904947\n",
      "0.0006561034942239374 -0.07622839906292962\n",
      "0.025702131925480425 -0.04990540995020915\n",
      "0.22872886150987126 -0.026928534113072437\n"
     ]
    }
   ],
   "source": [
    "K = [5, 10, 15, 20, 25, 30]\n",
    "avg_gap_userknn, avg_gap_reuseknn = [], []\n",
    "for k in K:\n",
    "    model = UserKNN(k=k, protected=False)\n",
    "    model.fit(trainset)\n",
    "    predictions = model.test(testset)\n",
    "\n",
    "    avg_recpop_per_user = np.zeros(trainset.n_users)\n",
    "    for ruid, recs in get_top_n(predictions, n=10).items():\n",
    "        iuid = trainset.to_inner_uid(ruid)\n",
    "        pop = []\n",
    "        for riid in recs:\n",
    "            iiid = trainset.to_inner_iid(riid)\n",
    "            pop.append(item_popularity[iiid])\n",
    "        avg_recpop_per_user[iuid] = np.mean(pop)\n",
    "    gap_userknn = (avg_recpop_per_user - avg_itempop_per_user) / avg_itempop_per_user\n",
    "\n",
    "    model = UserKNN(k=k, reuse=False, tau_2=True, protected=False)\n",
    "    model.fit(trainset)\n",
    "    predictions = model.test(testset)\n",
    "\n",
    "    avg_recpop_per_user_ = np.zeros(trainset.n_users)\n",
    "    for ruid, recs in get_top_n(predictions, n=10).items():\n",
    "        iuid = trainset.to_inner_uid(ruid)\n",
    "        pop = []\n",
    "        for riid in recs:\n",
    "            iiid = trainset.to_inner_iid(riid)\n",
    "            pop.append(item_popularity[iiid])\n",
    "        avg_recpop_per_user_[iuid] = np.mean(pop)\n",
    "    gap_reuseknn = (avg_recpop_per_user_ - avg_itempop_per_user) / avg_itempop_per_user\n",
    "    \n",
    "    \n",
    "    avg_gap_userknn.append(np.mean(gap_userknn))\n",
    "    avg_gap_reuseknn.append(np.mean(gap_reuseknn))\n",
    "    \n",
    "    u, p, r = mann_whitney_u_test(gap_userknn, gap_reuseknn, alternative=\"two-sided\")\n",
    "    print(p, r)"
   ]
  },
  {
   "cell_type": "code",
   "execution_count": 9,
   "metadata": {},
   "outputs": [
    {
     "data": {
      "text/plain": [
       "<matplotlib.legend.Legend at 0x1e12075dc88>"
      ]
     },
     "execution_count": 9,
     "metadata": {},
     "output_type": "execute_result"
    },
    {
     "data": {
      "image/png": "[encoded data removed]",
      "text/plain": [
       "<Figure size 432x288 with 1 Axes>"
      ]
     },
     "metadata": {
      "needs_background": "light"
     },
     "output_type": "display_data"
    }
   ],
   "source": [
    "plt.plot(K, avg_gap_userknn, label=\"UserKNN\")\n",
    "plt.plot(K, avg_gap_reuseknn, label=\"ReuseKNN\")\n",
    "plt.ylabel(\"Avg. GAP\")\n",
    "plt.xlabel(\"Nr. of neighbors\")\n",
    "plt.legend()"
   ]
  },
  {
   "cell_type": "code",
   "execution_count": null,
   "metadata": {},
   "outputs": [],
   "source": []
  },
  {
   "cell_type": "code",
   "execution_count": 11,
   "metadata": {},
   "outputs": [
    {
     "name": "stdout",
     "output_type": "stream",
     "text": [
      "9.881758508196213e-17 -0.18582597132576964\n",
      "6.649044395950568e-12 -0.15358373645745982\n",
      "1.090797246871121e-09 -0.13636908109645154\n",
      "4.324395129599859e-07 -0.11307034681356903\n",
      "0.00012531667375395182 -0.08580780865302454\n",
      "0.004432364614026971 -0.06366290653413642\n"
     ]
    }
   ],
   "source": [
    "K = [5, 10, 15, 20, 25, 30]\n",
    "avg_pop_userknn, avg_pop_reuseknn = [], []\n",
    "for k in K:\n",
    "    model = UserKNN(k=k, protected=False)\n",
    "    model.fit(trainset)\n",
    "    predictions = model.test(testset)\n",
    "\n",
    "    avg_recpop_per_user = np.zeros(trainset.n_users)\n",
    "    for ruid, recs in get_top_n(predictions, n=10).items():\n",
    "        iuid = trainset.to_inner_uid(ruid)\n",
    "        pop = []\n",
    "        for riid in recs:\n",
    "            iiid = trainset.to_inner_iid(riid)\n",
    "            pop.append(item_popularity[iiid])\n",
    "        avg_recpop_per_user[iuid] = np.mean(pop)\n",
    "        \n",
    "\n",
    "    model = UserKNN(k=k, reuse=True, tau_2=True, protected=False)\n",
    "    model.fit(trainset)\n",
    "    predictions = model.test(testset)\n",
    "\n",
    "    avg_recpop_per_user_ = np.zeros(trainset.n_users)\n",
    "    for ruid, recs in get_top_n(predictions, n=10).items():\n",
    "        iuid = trainset.to_inner_uid(ruid)\n",
    "        pop = []\n",
    "        for riid in recs:\n",
    "            iiid = trainset.to_inner_iid(riid)\n",
    "            pop.append(item_popularity[iiid])\n",
    "        avg_recpop_per_user_[iuid] = np.mean(pop)\n",
    "    \n",
    "    avg_pop_userknn.append(avg_recpop_per_user)\n",
    "    avg_pop_reuseknn.append(avg_recpop_per_user_)\n",
    "    \n",
    "    u, p, r = mann_whitney_u_test(avg_recpop_per_user, avg_recpop_per_user_, alternative=\"two-sided\")\n",
    "    print(p, r)"
   ]
  },
  {
   "cell_type": "code",
   "execution_count": 12,
   "metadata": {},
   "outputs": [
    {
     "data": {
      "text/plain": [
       "<matplotlib.legend.Legend at 0x1e11f93a2b0>"
      ]
     },
     "execution_count": 12,
     "metadata": {},
     "output_type": "execute_result"
    },
    {
     "data": {
      "image/png": "[encoded data removed]",
      "text/plain": [
       "<Figure size 432x288 with 1 Axes>"
      ]
     },
     "metadata": {
      "needs_background": "light"
     },
     "output_type": "display_data"
    }
   ],
   "source": [
    "plt.plot(K, [np.mean(x) for x in avg_pop_userknn], label=\"UserKNN\")\n",
    "plt.plot(K, [np.mean(x) for x in avg_pop_reuseknn], label=\"ReuseKNN\")\n",
    "plt.ylabel(\"Avg. Popularity\")\n",
    "plt.xlabel(\"Nr. of neighbors\")\n",
    "plt.legend()"
   ]
  },
  {
   "cell_type": "code",
   "execution_count": null,
   "metadata": {},
   "outputs": [],
   "source": []
  },
  {
   "cell_type": "code",
   "execution_count": null,
   "metadata": {},
   "outputs": [],
   "source": []
  },
  {
   "cell_type": "code",
   "execution_count": null,
   "metadata": {},
   "outputs": [],
   "source": []
  }
 ],
 "metadata": {
  "kernelspec": {
   "display_name": "Python 3",
   "language": "python",
   "name": "python3"
  },
  "language_info": {
   "codemirror_mode": {
    "name": "ipython",
    "version": 3
   },
   "file_extension": ".py",
   "mimetype": "text/x-python",
   "name": "python",
   "nbconvert_exporter": "python",
   "pygments_lexer": "ipython3",
   "version": "3.7.3"
  }
 },
 "nbformat": 4,
 "nbformat_minor": 4
}
