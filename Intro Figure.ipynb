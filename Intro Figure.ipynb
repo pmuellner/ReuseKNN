{
 "cells": [
  {
   "cell_type": "code",
   "execution_count": 9,
   "metadata": {
    "ExecuteTime": {
     "end_time": "2023-07-24T12:58:15.842429900Z",
     "start_time": "2023-07-24T12:58:15.824587Z"
    }
   },
   "outputs": [],
   "source": [
    "import numpy as np\n",
    "import pandas as pd\n",
    "import matplotlib.pyplot as plt\n",
    "import pickle as pl\n",
    "from matplotlib.lines import Line2D\n",
    "import matplotlib.gridspec as gridspec\n",
    "from matplotlib.ticker import FormatStrFormatter"
   ]
  },
  {
   "cell_type": "code",
   "execution_count": 10,
   "metadata": {
    "ExecuteTime": {
     "end_time": "2023-07-24T12:58:17.385163900Z",
     "start_time": "2023-07-24T12:58:17.306360400Z"
    }
   },
   "outputs": [],
   "source": [
    "import io\n",
    "import fitz\n",
    "from PIL import Image\n",
    "\n",
    "file = 'lock.pdf'\n",
    "pdf_file = fitz.open(file)\n",
    "\n",
    "# in case there is a need to loop through multiple PDF pages\n",
    "for page_number in range(len(pdf_file)):\n",
    "    page = pdf_file[page_number]\n",
    "    rgb = page.get_pixmap()\n",
    "    pil_image = Image.open(io.BytesIO(rgb.tobytes()))\n",
    "    \n",
    "im1 = pil_image.convert('RGB')\n",
    "\n",
    "\n",
    "file = 'open_lock.pdf'\n",
    "pdf_file = fitz.open(file)\n",
    "\n",
    "# in case there is a need to loop through multiple PDF pages\n",
    "for page_number in range(len(pdf_file)):\n",
    "    page = pdf_file[page_number]\n",
    "    rgb = page.get_pixmap()\n",
    "    pil_image = Image.open(io.BytesIO(rgb.tobytes()))\n",
    "    \n",
    "im2 = pil_image.convert('RGB')"
   ]
  },
  {
   "cell_type": "code",
   "execution_count": 19,
   "metadata": {
    "ExecuteTime": {
     "end_time": "2023-07-25T07:10:29.317996700Z",
     "start_time": "2023-07-25T07:10:28.969868100Z"
    }
   },
   "outputs": [],
   "source": [
    "%matplotlib qt\n",
    "def double_exponential(x, alpha):\n",
    "    return 1 / np.exp(np.exp(alpha * x))\n",
    "\n",
    "fig, ax = plt.subplots(1, 2, figsize=(8, 3), sharey=True, sharex=True)\n",
    "\n",
    "x = np.linspace(0, 100, 1000)\n",
    "x_ = double_exponential(x, alpha=0.02) * 0.5\n",
    "threshold = x[np.argmax(np.gradient(np.gradient(x_)))]\n",
    "ax[0].fill_between(x[x <= threshold], 0, x_[x <= threshold], color=\"green\", label=\"Secure Users\", edgecolor=\"black\", hatch=\"//\")\n",
    "ax[0].fill_between(x[x >= threshold][:-200], 0, x_[x >= threshold][:-200], color=\"red\", label=\"Vulnerable Users\")\n",
    "ax[0].axvline(x=threshold, linestyle=\"dashed\", linewidth=1, color=\"black\")\n",
    "ax[0].set_ylabel(\"Nr. of users\")\n",
    "ax[0].set_xlabel(\"Data usage\")\n",
    "ax[0].text(threshold-7, 0.15, r\"Threshold $\\tau$\", rotation=90)\n",
    "#ax[0].text(threshold+2, 0.1, \"Data usage\\n\" + r\"threshold $\\tau$\", color=\"black\")\n",
    "\n",
    "ax[0].set_yticks([0, 0.1, 0.2, 0.3, 0.4, 0.5, 0.6, 0.7])\n",
    "ax[0].set_yticklabels([0, 100, 200, 300, 400, 500, 600, 700])\n",
    "#ax[0].set_ylim([0, 1])\n",
    "ax[0].set_title(\"UserKNN\")\n",
    "#ax[0].legend()\n",
    "\n",
    "x = np.linspace(0, 100, 1000)\n",
    "x_ = double_exponential(x, alpha=0.05) * 2 #double_exponential(x, alpha=0.06) * 2\n",
    "ax[1].fill_between(x[x <= threshold], 0, x_[x <= threshold], color=\"green\", edgecolor=\"black\", hatch=\"//\")\n",
    "ax[1].fill_between(x[x >= threshold], 0, x_[x >= threshold], color=\"red\", hatch=\"//\")\n",
    "#ax[1].fill_between(np.linspace(95, 100, 200), 0, x_[:200][::-1] * 0.5, color=\"red\")\n",
    "#plt.plot(np.linspace(90, 100, 200), x_[:200][::-1]*0.5)\n",
    "ax[1].axvline(x=threshold, c=\"black\", linestyle=\"dashed\", linewidth=1)\n",
    "ax[1].text(threshold-7, 0.15, r\"Threshold $\\tau$\", rotation=90, color=\"black\")\n",
    "#ax[1].text(threshold+2, 0.1, \"Data usage\\n\" + r\"threshold $\\tau$\", color=\"black\")\n",
    "ax[1].set_xlabel(\"Data usage\")\n",
    "ax[1].set_title(\"ReuseKNN\")\n",
    "#ax[1].legend()\n",
    "\n",
    "\n",
    "colors = ['gray', 'C0', 'C1', 'C2']\n",
    "lines = []\n",
    "labels = []\n",
    "for c in colors:\n",
    "    lines.append(Line2D([0], [0], color=c, linestyle='dashed', alpha=0.5))\n",
    "    lines.append(Line2D([0], [0], color=c, linestyle=\"solid\"))\n",
    "labels = [r\"Full$_{DP}$\", \"UserKNN\", r\"UserKNN$_{DP}$\", r\"UserKNN+Reuse$_{DP}$\", r\"Expect$_{DP}$\", r\"Expect+Reuse$_{DP}$\", r\"Gain$_{DP}$\", r\"Gain+Reuse$_{DP}$\"]\n",
    "\n",
    "fig.legend(loc='upper center', ncol=2, bbox_to_anchor=(0.5, 1), fontsize=\"large\")\n",
    "fig.subplots_adjust(top=.75, bottom=0.2, hspace=0.45, wspace=0.45)\n",
    "\n",
    "newax = fig.add_axes([0.18,0.5,0.2,0.2], anchor='NE', zorder=1)\n",
    "newax.imshow(im1)\n",
    "newax.axis('off')\n",
    "\n",
    "newax = fig.add_axes([0.64,0.5,0.2,0.2], anchor='NE', zorder=1)\n",
    "newax.imshow(im1)\n",
    "newax.axis('off')\n",
    "\n",
    "\n",
    "newax = fig.add_axes([0.03,0.5,0.2,0.2], anchor='NE', zorder=1)\n",
    "newax.imshow(im2)\n",
    "newax.axis('off')\n",
    "\n",
    "newax = fig.add_axes([0.49,0.5,0.2,0.2], anchor='NE', zorder=1)\n",
    "newax.imshow(im2)\n",
    "newax.axis('off')\n",
    "\n",
    "#plt.savefig(\"intro.png\", dpi=400)\n",
    "plt.savefig(\"proof_plots/figure_1.tiff\", dpi=400)"
   ]
  },
  {
   "cell_type": "code",
   "execution_count": null,
   "metadata": {},
   "outputs": [],
   "source": []
  },
  {
   "cell_type": "code",
   "execution_count": null,
   "outputs": [],
   "source": [],
   "metadata": {
    "collapsed": false
   }
  }
 ],
 "metadata": {
  "kernelspec": {
   "display_name": "Python 3",
   "language": "python",
   "name": "python3"
  },
  "language_info": {
   "codemirror_mode": {
    "name": "ipython",
    "version": 3
   },
   "file_extension": ".py",
   "mimetype": "text/x-python",
   "name": "python",
   "nbconvert_exporter": "python",
   "pygments_lexer": "ipython3",
   "version": "3.7.3"
  }
 },
 "nbformat": 4,
 "nbformat_minor": 4
}
