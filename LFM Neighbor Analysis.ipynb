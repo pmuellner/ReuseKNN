{
 "cells": [
  {
   "cell_type": "code",
   "execution_count": 219,
   "metadata": {},
   "outputs": [],
   "source": [
    "import numpy as np\n",
    "import pandas as pd\n",
    "import matplotlib.pyplot as plt\n",
    "from surprise import Dataset, Reader, accuracy\n",
    "from surprise.model_selection import train_test_split, KFold\n",
    "import pyximport\n",
    "pyximport.install(setup_args={\"include_dirs\": np.get_include()},\n",
    "                  reload_support=True)\n",
    "from algorithms.knn_neighborhood import UserKNN\n",
    "from collections import defaultdict\n",
    "from matplotlib.lines import Line2D\n",
    "from scipy.stats import spearmanr, pearsonr, skew\n",
    "from sklearn.preprocessing import MinMaxScaler"
   ]
  },
  {
   "cell_type": "code",
   "execution_count": 271,
   "metadata": {},
   "outputs": [],
   "source": [
    "data_df = pd.read_csv(\"data/lfm/artist_ratings.csv\", sep=\";\", names=[\"user_id\", \"item_id\", \"rating\"])\n",
    "\n",
    "high = set(pd.read_csv(\"data/lfm/high_main_users.txt\")[\"user_id\"])\n",
    "med = set(pd.read_csv(\"data/lfm/medium_main_users.txt\")[\"user_id\"])\n",
    "low = set(pd.read_csv(\"data/lfm/low_main_users.txt\")[\"user_id\"])\n",
    "\n",
    "#high = set(np.random.choice(list(high), size=100, replace=False))\n",
    "#med = set(np.random.choice(list(med), size=100, replace=False))\n",
    "#low = set(np.random.choice(list(low), size=100, replace=False))\n",
    "\n",
    "data_df = data_df[data_df[\"user_id\"].isin(high.union(med).union(low))]"
   ]
  },
  {
   "cell_type": "code",
   "execution_count": 275,
   "metadata": {},
   "outputs": [
    {
     "data": {
      "text/plain": [
       "279.1711477012421"
      ]
     },
     "execution_count": 275,
     "metadata": {},
     "output_type": "execute_result"
    }
   ],
   "source": [
    "data_df.groupby(\"item_id\").size().max() / data_df.groupby(\"item_id\").size().mean()"
   ]
  },
  {
   "cell_type": "code",
   "execution_count": null,
   "metadata": {},
   "outputs": [],
   "source": []
  },
  {
   "cell_type": "code",
   "execution_count": 210,
   "metadata": {},
   "outputs": [
    {
     "name": "stdout",
     "output_type": "stream",
     "text": [
      "Avg. profile size of high-mainstream users: 539.800000\n",
      "Avg. profile size of medium-mainstream users: 715.669000\n",
      "Avg. profile size of low-mainstream users: 499.892000\n"
     ]
    }
   ],
   "source": [
    "avg_profile_size_high = data_df[data_df[\"user_id\"].isin(high)].groupby(\"user_id\").size().mean()\n",
    "avg_profile_size_med = data_df[data_df[\"user_id\"].isin(med)].groupby(\"user_id\").size().mean()\n",
    "avg_profile_size_low = data_df[data_df[\"user_id\"].isin(low)].groupby(\"user_id\").size().mean()\n",
    "print(\"Avg. profile size of high-mainstream users: %f\" % avg_profile_size_high)\n",
    "print(\"Avg. profile size of medium-mainstream users: %f\" % avg_profile_size_med)\n",
    "print(\"Avg. profile size of low-mainstream users: %f\" % avg_profile_size_low)"
   ]
  },
  {
   "cell_type": "code",
   "execution_count": 211,
   "metadata": {},
   "outputs": [],
   "source": [
    "item_popularity = data_df.groupby(\"item_id\").size() / data_df[\"user_id\"].nunique()\n",
    "top_popular_items = set(item_popularity.sort_values(ascending=False).head(int(len(item_popularity) * 0.2)).index.tolist())\n",
    "\n",
    "fracpop = defaultdict(list)\n",
    "for uid, group in data_df.groupby(\"user_id\")[\"item_id\"]:\n",
    "    n_rated_popular = len(set(group.values).intersection(top_popular_items))\n",
    "    frac_popular = n_rated_popular / len(group)\n",
    "    if uid in high:\n",
    "        fracpop[\"high\"].append(frac_popular)\n",
    "    elif uid in med:\n",
    "        fracpop[\"med\"].append(frac_popular)\n",
    "    else:\n",
    "        fracpop[\"low\"].append(frac_popular)"
   ]
  },
  {
   "cell_type": "code",
   "execution_count": 212,
   "metadata": {},
   "outputs": [
    {
     "data": {
      "text/plain": [
       "(0.8392176168323453, 0.8353800943325365, 0.8069202105529865)"
      ]
     },
     "execution_count": 212,
     "metadata": {},
     "output_type": "execute_result"
    }
   ],
   "source": [
    "np.mean(fracpop[\"high\"]), np.mean(fracpop[\"med\"]), np.mean(fracpop[\"low\"])"
   ]
  },
  {
   "cell_type": "code",
   "execution_count": 222,
   "metadata": {},
   "outputs": [
    {
     "data": {
      "text/plain": [
       "(0.8662462238612735, 0.8639867659222498, 0.8372529615507758)"
      ]
     },
     "execution_count": 222,
     "metadata": {},
     "output_type": "execute_result"
    }
   ],
   "source": [
    "np.median(fracpop[\"high\"]), np.median(fracpop[\"med\"]), np.median(fracpop[\"low\"])"
   ]
  },
  {
   "cell_type": "code",
   "execution_count": 221,
   "metadata": {},
   "outputs": [
    {
     "name": "stdout",
     "output_type": "stream",
     "text": [
      "0.09299276384585588 -1.446362208539379\n",
      "0.09319506400356117 -1.3737628863612434\n",
      "0.12890074339861646 -1.10103430957968\n"
     ]
    },
    {
     "data": {
      "image/png": "[encoded data removed]",
      "text/plain": [
       "<Figure size 432x288 with 1 Axes>"
      ]
     },
     "metadata": {
      "needs_background": "light"
     },
     "output_type": "display_data"
    },
    {
     "data": {
      "image/png": "[encoded data removed]",
      "text/plain": [
       "<Figure size 432x288 with 1 Axes>"
      ]
     },
     "metadata": {
      "needs_background": "light"
     },
     "output_type": "display_data"
    },
    {
     "data": {
      "image/png": "[encoded data removed]",
      "text/plain": [
       "<Figure size 432x288 with 1 Axes>"
      ]
     },
     "metadata": {
      "needs_background": "light"
     },
     "output_type": "display_data"
    }
   ],
   "source": [
    "def gini(x):\n",
    "    x = MinMaxScaler().fit_transform(np.array(x).reshape(-1, 1))\n",
    "    mad = np.abs(np.subtract.outer(x, x)).mean()\n",
    "    rmad = mad / np.mean(x)\n",
    "    g = 0.5 * rmad\n",
    "    return g\n",
    "\n",
    "plt.figure()\n",
    "plt.hist(fracpop[\"high\"], bins=25);\n",
    "print(gini(fracpop[\"high\"]), skew(fracpop[\"high\"]))\n",
    "\n",
    "plt.figure()\n",
    "plt.hist(fracpop[\"med\"], bins=25);\n",
    "print(gini(fracpop[\"med\"]), skew(fracpop[\"med\"]))\n",
    "\n",
    "plt.figure()\n",
    "plt.hist(fracpop[\"low\"], bins=25);\n",
    "print(gini(fracpop[\"low\"]), skew(fracpop[\"low\"]))"
   ]
  },
  {
   "cell_type": "code",
   "execution_count": 267,
   "metadata": {},
   "outputs": [
    {
     "name": "stdout",
     "output_type": "stream",
     "text": [
      "1389.0000000000002\n"
     ]
    },
    {
     "data": {
      "image/png": "[encoded data removed]",
      "text/plain": [
       "<Figure size 432x288 with 1 Axes>"
      ]
     },
     "metadata": {
      "needs_background": "light"
     },
     "output_type": "display_data"
    }
   ],
   "source": [
    "ip = df.groupby(\"item_id\").size() / df[\"user_id\"].nunique()\n",
    "plt.figure\n",
    "plt.scatter(list(range(len(item_popularity))), item_popularity.sort_values(ascending=False), s=1)\n",
    "print(max(item_popularity) / np.median(item_popularity))"
   ]
  },
  {
   "cell_type": "code",
   "execution_count": 270,
   "metadata": {},
   "outputs": [
    {
     "name": "stdout",
     "output_type": "stream",
     "text": [
      "407.33333333333337\n",
      "915.0\n"
     ]
    },
    {
     "name": "stderr",
     "output_type": "stream",
     "text": [
      "C:\\Users\\pmuellner\\AppData\\Local\\Continuum\\anaconda3\\lib\\site-packages\\ipykernel_launcher.py:13: ParserWarning: Falling back to the 'python' engine because the 'c' engine does not support regex separators (separators > 1 char and different from '\\s+' are interpreted as regex); you can avoid this warning by specifying engine='python'.\n",
      "  del sys.path[0]\n"
     ]
    },
    {
     "name": "stdout",
     "output_type": "stream",
     "text": [
      "27.757085020242915\n"
     ]
    },
    {
     "data": {
      "image/png": "[encoded data removed]",
      "text/plain": [
       "<Figure size 432x288 with 1 Axes>"
      ]
     },
     "metadata": {
      "needs_background": "light"
     },
     "output_type": "display_data"
    },
    {
     "data": {
      "image/png": "[encoded data removed]",
      "text/plain": [
       "<Figure size 432x288 with 1 Axes>"
      ]
     },
     "metadata": {
      "needs_background": "light"
     },
     "output_type": "display_data"
    },
    {
     "data": {
      "image/png": "[encoded data removed]",
      "text/plain": [
       "<Figure size 432x288 with 1 Axes>"
      ]
     },
     "metadata": {
      "needs_background": "light"
     },
     "output_type": "display_data"
    }
   ],
   "source": [
    "df = pd.read_csv(\"data/douban/douban.csv\", sep=\";\", names=[\"user_id\", \"item_id\", \"rating\"])\n",
    "ip = df.groupby(\"item_id\").size() / df[\"user_id\"].nunique()\n",
    "plt.figure()\n",
    "plt.scatter(list(range(len(ip))), ip.sort_values(ascending=False), s=1)\n",
    "print(max(ip) / np.median(ip))\n",
    "\n",
    "df = pd.read_csv(\"data/ciao/ciao.csv\", sep=\";\", names=[\"user_id\", \"item_id\", \"rating\"])\n",
    "ip = df.groupby(\"item_id\").size() / df[\"user_id\"].nunique()\n",
    "plt.figure()\n",
    "plt.scatter(list(range(len(ip))), ip.sort_values(ascending=False), s=1)\n",
    "print(max(ip) / np.median(ip))\n",
    "\n",
    "df = pd.read_csv(\"data/ml-1m/ratings.dat\", sep=\"::\", names=[\"user_id\", \"item_id\", \"rating\", \"timestamp\"])\n",
    "ip = df.groupby(\"item_id\").size() / df[\"user_id\"].nunique()\n",
    "plt.figure()\n",
    "plt.scatter(list(range(len(ip))), ip.sort_values(ascending=False), s=1)\n",
    "print(max(ip) / np.median(ip))"
   ]
  },
  {
   "cell_type": "code",
   "execution_count": null,
   "metadata": {},
   "outputs": [],
   "source": []
  },
  {
   "cell_type": "code",
   "execution_count": null,
   "metadata": {},
   "outputs": [],
   "source": []
  },
  {
   "cell_type": "code",
   "execution_count": 199,
   "metadata": {},
   "outputs": [],
   "source": [
    "dataset = Dataset.load_from_df(data_df, reader=Reader(rating_scale=(1, 1000)))\n",
    "trainset, testset = train_test_split(dataset, test_size=0.2)\n",
    "\n",
    "sim = UserKNN.compute_similarities(trainset, min_support=1)\n",
    "pop = UserKNN.compute_popularities(trainset)\n",
    "gain = UserKNN.compute_gain(trainset)"
   ]
  },
  {
   "cell_type": "code",
   "execution_count": null,
   "metadata": {},
   "outputs": [],
   "source": []
  },
  {
   "cell_type": "code",
   "execution_count": 41,
   "metadata": {},
   "outputs": [],
   "source": [
    "def find_query_destinations(m, high, med, low):\n",
    "    n_queries_high, n_queries_med,n_queries_low = [], [], []\n",
    "    for iuid, n_queries in enumerate(m.n_queries):\n",
    "        ruid = m.trainset.to_raw_uid(iuid)\n",
    "        if ruid in high:\n",
    "            n_queries_high.append(n_queries)\n",
    "        elif ruid in med:\n",
    "            n_queries_med.append(n_queries)\n",
    "        elif ruid in low:\n",
    "            n_queries_low.append(n_queries)\n",
    "        else:\n",
    "            print(\"User id %d not found!\" % ruid)\n",
    "            \n",
    "    sum_queries_high = np.sum(n_queries_high)\n",
    "    sum_queries_med = np.sum(n_queries_med)\n",
    "    sum_queries_low = np.sum(n_queries_low)\n",
    "    sum_queries_all = sum_queries_high + sum_queries_med + sum_queries_low\n",
    "    \n",
    "    return sum_queries_high / sum_queries_all, sum_queries_med / sum_queries_all, sum_queries_low / sum_queries_all"
   ]
  },
  {
   "cell_type": "code",
   "execution_count": 42,
   "metadata": {},
   "outputs": [
    {
     "name": "stdout",
     "output_type": "stream",
     "text": [
      "\n",
      "------ k=5 ------\n",
      "[UserKNN] High: 0.3475, Medium: 0.3568, Low: 0.2957\n",
      "[UserKNN+Reuse] High: 0.3636, Medium: 0.3897, Low: 0.2466\n",
      "[Popularity] High: 0.4404, Medium: 0.4153, Low: 0.1443\n",
      "[Popularity+Reuse] High: 0.3973, Medium: 0.4169, Low: 0.1858\n",
      "[Gain] High: 0.4330, Medium: 0.4043, Low: 0.1627\n",
      "[Gain+Reuse] High: 0.3982, Medium: 0.4096, Low: 0.1922\n",
      "\n",
      "------ k=10 ------\n",
      "[UserKNN] High: 0.3612, Medium: 0.3667, Low: 0.2721\n",
      "[UserKNN+Reuse] High: 0.3739, Medium: 0.3955, Low: 0.2306\n",
      "[Popularity] High: 0.4319, Medium: 0.4166, Low: 0.1516\n",
      "[Popularity+Reuse] High: 0.3969, Medium: 0.4156, Low: 0.1876\n",
      "[Gain] High: 0.4288, Medium: 0.4063, Low: 0.1650\n",
      "[Gain+Reuse] High: 0.3981, Medium: 0.4100, Low: 0.1919\n",
      "\n",
      "------ k=15 ------\n",
      "[UserKNN] High: 0.3691, Medium: 0.3715, Low: 0.2594\n",
      "[UserKNN+Reuse] High: 0.3795, Medium: 0.3967, Low: 0.2238\n",
      "[Popularity] High: 0.4274, Medium: 0.4169, Low: 0.1557\n",
      "[Popularity+Reuse] High: 0.3975, Medium: 0.4138, Low: 0.1887\n",
      "[Gain] High: 0.4259, Medium: 0.4067, Low: 0.1674\n",
      "[Gain+Reuse] High: 0.3988, Medium: 0.4088, Low: 0.1925\n",
      "\n",
      "------ k=20 ------\n",
      "[UserKNN] High: 0.3739, Medium: 0.3751, Low: 0.2511\n",
      "[UserKNN+Reuse] High: 0.3826, Medium: 0.3982, Low: 0.2192\n",
      "[Popularity] High: 0.4236, Medium: 0.4169, Low: 0.1595\n",
      "[Popularity+Reuse] High: 0.3969, Medium: 0.4132, Low: 0.1899\n",
      "[Gain] High: 0.4226, Medium: 0.4076, Low: 0.1698\n",
      "[Gain+Reuse] High: 0.3981, Medium: 0.4088, Low: 0.1930\n",
      "\n",
      "------ k=25 ------\n",
      "[UserKNN] High: 0.3769, Medium: 0.3779, Low: 0.2452\n",
      "[UserKNN+Reuse] High: 0.3839, Medium: 0.3993, Low: 0.2168\n",
      "[Popularity] High: 0.4198, Medium: 0.4169, Low: 0.1633\n",
      "[Popularity+Reuse] High: 0.3963, Medium: 0.4122, Low: 0.1915\n",
      "[Gain] High: 0.4193, Medium: 0.4079, Low: 0.1728\n",
      "[Gain+Reuse] High: 0.3973, Medium: 0.4084, Low: 0.1943\n",
      "\n",
      "------ k=30 ------\n",
      "[UserKNN] High: 0.3790, Medium: 0.3801, Low: 0.2409\n",
      "[UserKNN+Reuse] High: 0.3849, Medium: 0.4001, Low: 0.2150\n",
      "[Popularity] High: 0.4166, Medium: 0.4169, Low: 0.1665\n",
      "[Popularity+Reuse] High: 0.3954, Medium: 0.4117, Low: 0.1930\n",
      "[Gain] High: 0.4163, Medium: 0.4082, Low: 0.1754\n",
      "[Gain+Reuse] High: 0.3963, Medium: 0.4082, Low: 0.1955\n"
     ]
    }
   ],
   "source": [
    "frac_to_high = defaultdict(list)\n",
    "frac_to_med = defaultdict(list)\n",
    "frac_to_low = defaultdict(list)\n",
    "\n",
    "Ks = [5, 10, 15, 20, 25, 30]\n",
    "for k_idx, k in enumerate(Ks):\n",
    "    print()\n",
    "    print(\"------ k=%d ------\" % k)\n",
    "    # UserKNN\n",
    "    m = UserKNN(k=k, precomputed_sim=sim, reuse=False)\n",
    "    m.fit(trainset)\n",
    "    _ = m.test(testset)\n",
    "    frac_to_high_k, frac_to_med_k, frac_to_low_k = find_query_destinations(m, high, med, low)\n",
    "    frac_to_high[\"UserKNN\"].append(frac_to_high_k)\n",
    "    frac_to_med[\"UserKNN\"].append(frac_to_med_k)\n",
    "    frac_to_low[\"UserKNN\"].append(frac_to_low_k)\n",
    "    print(\"[UserKNN] High: %.4f, Medium: %.4f, Low: %.4f\" % (frac_to_high_k, frac_to_med_k, frac_to_low_k))\n",
    "    \n",
    "    # UserKNN+Reuse\n",
    "    m = UserKNN(k=k, precomputed_sim=sim, reuse=True)\n",
    "    m.fit(trainset)\n",
    "    _ = m.test(testset)\n",
    "    frac_to_high_k, frac_to_med_k, frac_to_low_k = find_query_destinations(m, high, med, low)\n",
    "    frac_to_high[\"UserKNN+Reuse\"].append(frac_to_high_k)\n",
    "    frac_to_med[\"UserKNN+Reuse\"].append(frac_to_med_k)\n",
    "    frac_to_low[\"UserKNN+Reuse\"].append(frac_to_low_k)\n",
    "    print(\"[UserKNN+Reuse] High: %.4f, Medium: %.4f, Low: %.4f\" % (frac_to_high_k, frac_to_med_k, frac_to_low_k))\n",
    "    \n",
    "    # Popularity\n",
    "    m = UserKNN(k=k, precomputed_sim=sim, precomputed_pop=pop, reuse=False, tau_2=0.5)\n",
    "    m.fit(trainset)\n",
    "    _ = m.test(testset)\n",
    "    frac_to_high_k, frac_to_med_k, frac_to_low_k = find_query_destinations(m, high, med, low)\n",
    "    frac_to_high[\"Popularity\"].append(frac_to_high_k)\n",
    "    frac_to_med[\"Popularity\"].append(frac_to_med_k)\n",
    "    frac_to_low[\"Popularity\"].append(frac_to_low_k)\n",
    "    print(\"[Popularity] High: %.4f, Medium: %.4f, Low: %.4f\" % (frac_to_high_k, frac_to_med_k, frac_to_low_k))\n",
    "    \n",
    "    # Popularity+Reuse\n",
    "    m = UserKNN(k=k, precomputed_sim=sim, precomputed_pop=pop, reuse=True, tau_2=0.5)\n",
    "    m.fit(trainset)\n",
    "    _ = m.test(testset)\n",
    "    frac_to_high_k, frac_to_med_k, frac_to_low_k = find_query_destinations(m, high, med, low)\n",
    "    frac_to_high[\"Popularity+Reuse\"].append(frac_to_high_k)\n",
    "    frac_to_med[\"Popularity+Reuse\"].append(frac_to_med_k)\n",
    "    frac_to_low[\"Popularity+Reuse\"].append(frac_to_low_k)\n",
    "    print(\"[Popularity+Reuse] High: %.4f, Medium: %.4f, Low: %.4f\" % (frac_to_high_k, frac_to_med_k, frac_to_low_k))\n",
    "    \n",
    "    # Gain\n",
    "    m = UserKNN(k=k, precomputed_sim=sim, precomputed_gain=gain, reuse=False, tau_4=0.5)\n",
    "    m.fit(trainset)\n",
    "    _ = m.test(testset)\n",
    "    frac_to_high_k, frac_to_med_k, frac_to_low_k = find_query_destinations(m, high, med, low)\n",
    "    frac_to_high[\"Gain\"].append(frac_to_high_k)\n",
    "    frac_to_med[\"Gain\"].append(frac_to_med_k)\n",
    "    frac_to_low[\"Gain\"].append(frac_to_low_k)\n",
    "    print(\"[Gain] High: %.4f, Medium: %.4f, Low: %.4f\" % (frac_to_high_k, frac_to_med_k, frac_to_low_k))\n",
    "    \n",
    "    # Gain+Reuse\n",
    "    m = UserKNN(k=k, precomputed_sim=sim, precomputed_gain=gain, reuse=True, tau_4=0.5)\n",
    "    m.fit(trainset)\n",
    "    _ = m.test(testset)\n",
    "    frac_to_high_k, frac_to_med_k, frac_to_low_k = find_query_destinations(m, high, med, low)\n",
    "    frac_to_high[\"Gain+Reuse\"].append(frac_to_high_k)\n",
    "    frac_to_med[\"Gain+Reuse\"].append(frac_to_med_k)\n",
    "    frac_to_low[\"Gain+Reuse\"].append(frac_to_low_k)\n",
    "    print(\"[Gain+Reuse] High: %.4f, Medium: %.4f, Low: %.4f\" % (frac_to_high_k, frac_to_med_k, frac_to_low_k))"
   ]
  },
  {
   "cell_type": "code",
   "execution_count": 151,
   "metadata": {},
   "outputs": [
    {
     "data": {
      "image/png": "[encoded data removed]",
      "text/plain": [
       "<Figure size 720x360 with 3 Axes>"
      ]
     },
     "metadata": {
      "needs_background": "light"
     },
     "output_type": "display_data"
    }
   ],
   "source": [
    "fig, axes = plt.subplots(1, 3, figsize=(10, 5))\n",
    "axes[0].plot(Ks, frac_to_high[\"UserKNN\"], color=\"C0\", linestyle=\"dashed\", alpha=0.5)\n",
    "axes[0].plot(Ks, frac_to_high[\"Popularity\"], color=\"C1\", linestyle=\"dashed\", alpha=0.5)\n",
    "axes[0].plot(Ks, frac_to_high[\"Gain\"], color=\"C2\", linestyle=\"dashed\", alpha=0.5)\n",
    "axes[0].plot(Ks, frac_to_high[\"UserKNN+Reuse\"], color=\"C0\", linestyle=\"solid\")\n",
    "axes[0].plot(Ks, frac_to_high[\"Popularity+Reuse\"], color=\"C1\", linestyle=\"solid\")\n",
    "axes[0].plot(Ks, frac_to_high[\"Gain+Reuse\"], color=\"C2\", linestyle=\"solid\")\n",
    "\n",
    "axes[1].plot(Ks, frac_to_med[\"UserKNN\"], color=\"C0\", linestyle=\"dashed\", alpha=0.5)\n",
    "axes[1].plot(Ks, frac_to_med[\"Popularity\"], color=\"C1\", linestyle=\"dashed\", alpha=0.5)\n",
    "axes[1].plot(Ks, frac_to_med[\"Gain\"], color=\"C2\", linestyle=\"dashed\", alpha=0.5)\n",
    "axes[1].plot(Ks, frac_to_med[\"UserKNN+Reuse\"], color=\"C0\", linestyle=\"solid\")\n",
    "axes[1].plot(Ks, frac_to_med[\"Popularity+Reuse\"], color=\"C1\", linestyle=\"solid\")\n",
    "axes[1].plot(Ks, frac_to_med[\"Gain+Reuse\"], color=\"C2\", linestyle=\"solid\")\n",
    "\n",
    "axes[2].plot(Ks, frac_to_low[\"UserKNN\"], color=\"C0\", linestyle=\"dashed\", alpha=0.5)\n",
    "axes[2].plot(Ks, frac_to_low[\"Popularity\"], color=\"C1\", linestyle=\"dashed\", alpha=0.5)\n",
    "axes[2].plot(Ks, frac_to_low[\"Gain\"], color=\"C2\", linestyle=\"dashed\", alpha=0.5)\n",
    "axes[2].plot(Ks, frac_to_low[\"UserKNN+Reuse\"], color=\"C0\", linestyle=\"solid\")\n",
    "axes[2].plot(Ks, frac_to_low[\"Popularity+Reuse\"], color=\"C1\", linestyle=\"solid\")\n",
    "axes[2].plot(Ks, frac_to_low[\"Gain+Reuse\"], color=\"C2\", linestyle=\"solid\")\n",
    "\n",
    "axes[0].set_xlabel(\"Nr. of neighbors\")\n",
    "axes[1].set_xlabel(\"Nr. of neighbors\")\n",
    "axes[2].set_xlabel(\"Nr. of neighbors\")\n",
    "\n",
    "axes[0].set_ylabel(\"Frac. of queries\")\n",
    "\n",
    "axes[0].set_title(\"High-mainstream neighbors\")\n",
    "axes[1].set_title(\"Medium-mainstream neighbors\")\n",
    "axes[2].set_title(\"Low-mainstream neighbors\")\n",
    "\n",
    "colors = ['C0', 'C1', 'C2']\n",
    "lines = []\n",
    "labels = []\n",
    "for c in colors:\n",
    "    lines.append(Line2D([0], [0], color=c, linestyle='dashed', alpha=0.5))\n",
    "    lines.append(Line2D([0], [0], color=c, linestyle=\"solid\"))\n",
    "labels = [\"UserKNN\", \"UserKNN+Reuse\", \"Popularity\", \"Popularity+Reuse\", \"Gain\", \"Gain+Reuse\"]\n",
    "\n",
    "fig.legend(lines, labels, ncol=3, loc='upper center')\n",
    "fig.tight_layout()\n",
    "fig.subplots_adjust(top=.75, bottom=0.15, hspace=0.35, wspace=0.35)\n",
    "\n",
    "fig.align_ylabels(axes)"
   ]
  },
  {
   "cell_type": "code",
   "execution_count": 81,
   "metadata": {},
   "outputs": [
    {
     "name": "stdout",
     "output_type": "stream",
     "text": [
      "\n",
      "------ k=5 ------\n",
      "[UserKNN] Avg. fraction of popular items: 0.828289\n",
      "[UserKNN+Reuse] Avg. fraction of popular items: 0.834424\n",
      "[Popularity] Avg. fraction of popular items: 0.853028\n",
      "[Popularity+Reuse] Avg. fraction of popular items: 0.844858\n",
      "[Gain] Avg. fraction of popular items: 0.851099\n",
      "[Gain+Reuse] Avg. fraction of popular items: 0.844070\n",
      "\n",
      "------ k=10 ------\n",
      "[UserKNN] Avg. fraction of popular items: 0.835499\n",
      "[UserKNN+Reuse] Avg. fraction of popular items: 0.841034\n",
      "[Popularity] Avg. fraction of popular items: 0.854491\n",
      "[Popularity+Reuse] Avg. fraction of popular items: 0.847832\n",
      "[Gain] Avg. fraction of popular items: 0.853099\n",
      "[Gain+Reuse] Avg. fraction of popular items: 0.847580\n",
      "\n",
      "------ k=15 ------\n",
      "[UserKNN] Avg. fraction of popular items: 0.839491\n",
      "[UserKNN+Reuse] Avg. fraction of popular items: 0.844320\n",
      "[Popularity] Avg. fraction of popular items: 0.855244\n",
      "[Popularity+Reuse] Avg. fraction of popular items: 0.849463\n",
      "[Gain] Avg. fraction of popular items: 0.854094\n",
      "[Gain+Reuse] Avg. fraction of popular items: 0.849184\n",
      "\n",
      "------ k=20 ------\n",
      "[UserKNN] Avg. fraction of popular items: 0.842022\n",
      "[UserKNN+Reuse] Avg. fraction of popular items: 0.846363\n",
      "[Popularity] Avg. fraction of popular items: 0.855671\n",
      "[Popularity+Reuse] Avg. fraction of popular items: 0.850583\n",
      "[Gain] Avg. fraction of popular items: 0.854758\n",
      "[Gain+Reuse] Avg. fraction of popular items: 0.850399\n",
      "\n",
      "------ k=25 ------\n",
      "[UserKNN] Avg. fraction of popular items: 0.843859\n",
      "[UserKNN+Reuse] Avg. fraction of popular items: 0.847748\n",
      "[Popularity] Avg. fraction of popular items: 0.855922\n",
      "[Popularity+Reuse] Avg. fraction of popular items: 0.851325\n",
      "[Gain] Avg. fraction of popular items: 0.855125\n",
      "[Gain+Reuse] Avg. fraction of popular items: 0.851167\n",
      "\n",
      "------ k=30 ------\n",
      "[UserKNN] Avg. fraction of popular items: 0.845191\n",
      "[UserKNN+Reuse] Avg. fraction of popular items: 0.848757\n",
      "[Popularity] Avg. fraction of popular items: 0.856017\n",
      "[Popularity+Reuse] Avg. fraction of popular items: 0.851892\n",
      "[Gain] Avg. fraction of popular items: 0.855277\n",
      "[Gain+Reuse] Avg. fraction of popular items: 0.851750\n"
     ]
    }
   ],
   "source": [
    "item_popularity = data_df.groupby(\"item_id\").size() / data_df[\"user_id\"].nunique()\n",
    "top_popular_items = set(item_popularity.sort_values(ascending=False).head(int(len(item_popularity) * 0.2)).index.tolist())\n",
    "\n",
    "fracpop = dict()\n",
    "for uid, group in data_df.groupby(\"user_id\")[\"item_id\"]:\n",
    "    n_rated_popular = len(set(group.values).intersection(top_popular_items))\n",
    "    frac_popular = n_rated_popular / len(group)#len(top_popular_items)\n",
    "    fracpop[uid] = frac_popular\n",
    "\n",
    "def get_avg_fracpop(m, fracpop_per_user):\n",
    "    avg_fracpop = 0\n",
    "    for iuid, n_queries in enumerate(m.n_queries):\n",
    "        ruid = m.trainset.to_raw_uid(iuid)\n",
    "        avg_fracpop += fracpop[ruid] * n_queries\n",
    "    avg_fracpop /= np.sum(m.n_queries)\n",
    "    \n",
    "    return avg_fracpop\n",
    "    \n",
    "    \n",
    "avg_fracpop = defaultdict(list)\n",
    "Ks = [5, 10, 15, 20, 25, 30]\n",
    "for k_idx, k in enumerate(Ks):\n",
    "    print()\n",
    "    print(\"------ k=%d ------\" % k)\n",
    "    # UserKNN\n",
    "    m = UserKNN(k=k, precomputed_sim=sim, reuse=False)\n",
    "    m.fit(trainset)\n",
    "    _ = m.test(testset)\n",
    "    avg_fracpop_k = get_avg_fracpop(m, fracpop)\n",
    "    avg_fracpop[\"UserKNN\"].append(avg_fracpop_k)\n",
    "    print(\"[UserKNN] Avg. fraction of popular items: %f\" % avg_fracpop_k)\n",
    "    \n",
    "    # UserKNN+Reuse\n",
    "    m = UserKNN(k=k, precomputed_sim=sim, reuse=True)\n",
    "    m.fit(trainset)\n",
    "    _ = m.test(testset)\n",
    "    avg_fracpop_k = get_avg_fracpop(m, fracpop)\n",
    "    avg_fracpop[\"UserKNN+Reuse\"].append(avg_fracpop_k)\n",
    "    print(\"[UserKNN+Reuse] Avg. fraction of popular items: %f\" % avg_fracpop_k)\n",
    "    \n",
    "    # Popularity\n",
    "    m = UserKNN(k=k, precomputed_sim=sim, precomputed_pop=pop, reuse=False, tau_2=0.5)\n",
    "    m.fit(trainset)\n",
    "    _ = m.test(testset)\n",
    "    avg_fracpop_k = get_avg_fracpop(m, fracpop)\n",
    "    avg_fracpop[\"Popularity\"].append(avg_fracpop_k)\n",
    "    print(\"[Popularity] Avg. fraction of popular items: %f\" % avg_fracpop_k)\n",
    "    \n",
    "    # Popularity+Reuse\n",
    "    m = UserKNN(k=k, precomputed_sim=sim, precomputed_pop=pop, reuse=True, tau_2=0.5)\n",
    "    m.fit(trainset)\n",
    "    _ = m.test(testset)\n",
    "    avg_fracpop_k = get_avg_fracpop(m, fracpop)\n",
    "    avg_fracpop[\"Popularity+Reuse\"].append(avg_fracpop_k)\n",
    "    print(\"[Popularity+Reuse] Avg. fraction of popular items: %f\" % avg_fracpop_k)\n",
    "    \n",
    "    # Gain\n",
    "    m = UserKNN(k=k, precomputed_sim=sim, precomputed_gain=gain, reuse=False, tau_4=0.5)\n",
    "    m.fit(trainset)\n",
    "    _ = m.test(testset)\n",
    "    avg_fracpop_k = get_avg_fracpop(m, fracpop)\n",
    "    avg_fracpop[\"Gain\"].append(avg_fracpop_k)\n",
    "    print(\"[Gain] Avg. fraction of popular items: %f\" % avg_fracpop_k)\n",
    "    \n",
    "    # Gain+Reuse\n",
    "    m = UserKNN(k=k, precomputed_sim=sim, precomputed_gain=gain, reuse=True, tau_4=0.5)\n",
    "    m.fit(trainset)\n",
    "    _ = m.test(testset)\n",
    "    avg_fracpop_k = get_avg_fracpop(m, fracpop)\n",
    "    avg_fracpop[\"Gain+Reuse\"].append(avg_fracpop_k)\n",
    "    print(\"[Gain+Reuse] Avg. fraction of popular items: %f\" % avg_fracpop_k)"
   ]
  },
  {
   "cell_type": "code",
   "execution_count": 82,
   "metadata": {},
   "outputs": [
    {
     "data": {
      "image/png": "[encoded data removed]",
      "text/plain": [
       "<Figure size 432x288 with 1 Axes>"
      ]
     },
     "metadata": {
      "needs_background": "light"
     },
     "output_type": "display_data"
    }
   ],
   "source": [
    "plt.plot(Ks, avg_fracpop[\"UserKNN\"], color=\"C0\", linestyle=\"dashed\", alpha=0.5)\n",
    "plt.plot(Ks, avg_fracpop[\"Popularity\"], color=\"C1\", linestyle=\"dashed\", alpha=0.5)\n",
    "plt.plot(Ks, avg_fracpop[\"Gain\"], color=\"C2\", linestyle=\"dashed\", alpha=0.5)\n",
    "plt.plot(Ks, avg_fracpop[\"UserKNN+Reuse\"], color=\"C0\", linestyle=\"solid\")\n",
    "plt.plot(Ks, avg_fracpop[\"Popularity+Reuse\"], color=\"C1\", linestyle=\"solid\")\n",
    "plt.plot(Ks, avg_fracpop[\"Gain+Reuse\"], color=\"C2\", linestyle=\"solid\")\n",
    "\n",
    "plt.ylabel(\"Avg. fraction of popular items\")\n",
    "plt.xlabel(\"Nr. of neighbors\")\n",
    "\n",
    "colors = ['C0', 'C1', 'C2']\n",
    "lines = []\n",
    "labels = []\n",
    "for c in colors:\n",
    "    lines.append(Line2D([0], [0], color=c, linestyle='dashed', alpha=0.5))\n",
    "    lines.append(Line2D([0], [0], color=c, linestyle=\"solid\"))\n",
    "labels = [\"UserKNN\", \"UserKNN+Reuse\", \"Popularity\", \"Popularity+Reuse\", \"Gain\", \"Gain+Reuse\"]\n",
    "plt.legend(lines, labels, ncol=3, loc='upper center')\n",
    "plt.tight_layout()"
   ]
  },
  {
   "cell_type": "code",
   "execution_count": 123,
   "metadata": {},
   "outputs": [],
   "source": [
    "data_df = pd.read_csv(\"data/lfm/artist_ratings.csv\", sep=\";\", names=[\"user_id\", \"item_id\", \"rating\"])\n",
    "\n",
    "high = set(pd.read_csv(\"data/lfm/high_main_users.txt\")[\"user_id\"])\n",
    "med = set(pd.read_csv(\"data/lfm/medium_main_users.txt\")[\"user_id\"])\n",
    "low = set(pd.read_csv(\"data/lfm/low_main_users.txt\")[\"user_id\"])\n",
    "\n",
    "high = set(np.random.choice(list(high), size=100, replace=False))\n",
    "med = set(np.random.choice(list(med), size=100, replace=False))\n",
    "low = set(np.random.choice(list(low), size=100, replace=False))\n",
    "\n",
    "data_df = data_df[data_df[\"user_id\"].isin(high.union(med).union(low))]"
   ]
  },
  {
   "cell_type": "code",
   "execution_count": 125,
   "metadata": {},
   "outputs": [
    {
     "name": "stdout",
     "output_type": "stream",
     "text": [
      "all\n",
      "high\n",
      "med\n",
      "low\n"
     ]
    }
   ],
   "source": [
    "item_popularity_all = np.zeros(data_df[\"item_id\"].nunique())\n",
    "item_popularity_high = np.zeros(data_df[\"item_id\"].nunique())\n",
    "item_popularity_med = np.zeros(data_df[\"item_id\"].nunique())\n",
    "item_popularity_low = np.zeros(data_df[\"item_id\"].nunique())\n",
    "\n",
    "iid_map = {b: a for a, b in enumerate(data_df[\"item_id\"].unique())}\n",
    "\n",
    "print(\"all\")\n",
    "for iid, count in data_df.groupby(\"item_id\").size().items():\n",
    "    pop = count / data_df[\"user_id\"].nunique()\n",
    "    item_popularity_all[iid_map[iid]] = pop\n",
    "print(\"high\")\n",
    "for iid, count in data_df[data_df[\"user_id\"].isin(high)].groupby(\"item_id\").size().items():\n",
    "    pop = count / len(high)\n",
    "    item_popularity_high[iid_map[iid]] = pop\n",
    "print(\"med\")\n",
    "for iid, count in data_df[data_df[\"user_id\"].isin(med)].groupby(\"item_id\").size().items():\n",
    "    pop = count / len(med)\n",
    "    item_popularity_med[iid_map[iid]] = pop\n",
    "print(\"low\")\n",
    "for iid, count in data_df[data_df[\"user_id\"].isin(low)].groupby(\"item_id\").size().items():\n",
    "    pop = count / len(low)\n",
    "    item_popularity_low[iid_map[iid]] = pop"
   ]
  },
  {
   "cell_type": "code",
   "execution_count": 126,
   "metadata": {},
   "outputs": [
    {
     "name": "stdout",
     "output_type": "stream",
     "text": [
      "SpearmanrResult(correlation=0.4902825039419818, pvalue=0.0)\n",
      "SpearmanrResult(correlation=0.5307863573969765, pvalue=0.0)\n",
      "SpearmanrResult(correlation=0.43870249336278844, pvalue=0.0)\n"
     ]
    }
   ],
   "source": [
    "print(spearmanr(item_popularity_all, item_popularity_high))\n",
    "print(spearmanr(item_popularity_all, item_popularity_med))\n",
    "print(spearmanr(item_popularity_all, item_popularity_low))"
   ]
  },
  {
   "cell_type": "code",
   "execution_count": 129,
   "metadata": {},
   "outputs": [
    {
     "name": "stdout",
     "output_type": "stream",
     "text": [
      "(0.9489505015102964, 0.0)\n",
      "(0.9518162711999794, 0.0)\n",
      "(0.8638512085643901, 0.0)\n"
     ]
    }
   ],
   "source": [
    "print(pearsonr(item_popularity_all, item_popularity_high))\n",
    "print(pearsonr(item_popularity_all, item_popularity_med))\n",
    "print(pearsonr(item_popularity_all, item_popularity_low))"
   ]
  },
  {
   "cell_type": "code",
   "execution_count": null,
   "metadata": {},
   "outputs": [],
   "source": []
  },
  {
   "cell_type": "code",
   "execution_count": null,
   "metadata": {},
   "outputs": [],
   "source": []
  }
 ],
 "metadata": {
  "kernelspec": {
   "display_name": "Python 3",
   "language": "python",
   "name": "python3"
  },
  "language_info": {
   "codemirror_mode": {
    "name": "ipython",
    "version": 3
   },
   "file_extension": ".py",
   "mimetype": "text/x-python",
   "name": "python",
   "nbconvert_exporter": "python",
   "pygments_lexer": "ipython3",
   "version": "3.7.3"
  }
 },
 "nbformat": 4,
 "nbformat_minor": 4
}
