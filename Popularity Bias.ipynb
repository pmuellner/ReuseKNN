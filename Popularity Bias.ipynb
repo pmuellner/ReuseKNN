{
 "cells": [
  {
   "cell_type": "code",
   "execution_count": 431,
   "metadata": {},
   "outputs": [],
   "source": [
    "import numpy as np\n",
    "import pickle as pl\n",
    "import pandas as pd\n",
    "import matplotlib.pyplot as plt\n",
    "from surprise import Dataset, Reader, accuracy\n",
    "from surprise.model_selection import train_test_split, KFold\n",
    "import pyximport\n",
    "pyximport.install(setup_args={\"include_dirs\": np.get_include()},\n",
    "                  reload_support=True)\n",
    "from algorithms.knn_neighborhood import UserKNN\n",
    "from collections import defaultdict\n",
    "from matplotlib.lines import Line2D\n",
    "from scipy.stats import spearmanr, pearsonr, skew, spearmanr, kendalltau\n",
    "from sklearn.preprocessing import MinMaxScaler"
   ]
  },
  {
   "cell_type": "code",
   "execution_count": 3,
   "metadata": {},
   "outputs": [
    {
     "name": "stderr",
     "output_type": "stream",
     "text": [
      "C:\\Users\\pmuellner\\AppData\\Local\\Continuum\\anaconda3\\lib\\site-packages\\ipykernel_launcher.py:1: ParserWarning: Falling back to the 'python' engine because the 'c' engine does not support regex separators (separators > 1 char and different from '\\s+' are interpreted as regex); you can avoid this warning by specifying engine='python'.\n",
      "  \"\"\"Entry point for launching an IPython kernel.\n"
     ]
    }
   ],
   "source": [
    "data_df = pd.read_csv(\"data/ml-1m/ratings.dat\", sep=\"::\", names=[\"user_id\", \"item_id\", \"rating\", \"timestamp\"])\n",
    "ml_pop = data_df.groupby(\"item_id\").size().sort_values(ascending=False) / data_df[\"user_id\"].nunique()\n",
    "\n",
    "data_df = pd.read_csv(\"data/douban/douban.csv\", sep=\";\", names=[\"user_id\", \"item_id\", \"rating\"])\n",
    "douban_pop = data_df.groupby(\"item_id\").size().sort_values(ascending=False) / data_df[\"user_id\"].nunique()\n",
    "\n",
    "data_df = pd.read_csv(\"data/lfm/artist_ratings.csv\", sep=\";\", names=[\"user_id\", \"item_id\", \"rating\"])\n",
    "lfm_pop = data_df.groupby(\"item_id\").size().sort_values(ascending=False) / data_df[\"user_id\"].nunique()\n",
    "\n",
    "data_df = pd.read_csv(\"data/goodreads/sample.csv\", sep=\";\", names=[\"user_id\", \"item_id\", \"rating\"])\n",
    "goodreads_pop = data_df.groupby(\"item_id\").size().sort_values(ascending=False) / data_df[\"user_id\"].nunique()\n",
    "\n",
    "data_df = pd.read_csv(\"data/ciao/ciao.csv\", sep=\";\", names=[\"user_id\", \"item_id\", \"rating\"])\n",
    "ciao_pop = data_df.groupby(\"item_id\").size().sort_values(ascending=False) / data_df[\"user_id\"].nunique()"
   ]
  },
  {
   "cell_type": "code",
   "execution_count": 585,
   "metadata": {},
   "outputs": [
    {
     "data": {
      "text/plain": [
       "(2.8137964915837013,\n",
       " 0.41888079470198675,\n",
       " 12.701513383702864,\n",
       " 0.04468362562231264)"
      ]
     },
     "execution_count": 585,
     "metadata": {},
     "output_type": "execute_result"
    }
   ],
   "source": [
    "skew(ml_pop), np.mean(sorted(ml_pop, reverse=True)[:25]), np.max(ml_pop) / np.mean(ml_pop), np.mean(ml_pop)"
   ]
  },
  {
   "cell_type": "code",
   "execution_count": 586,
   "metadata": {},
   "outputs": [
    {
     "data": {
      "text/plain": [
       "(6.600508908788999,\n",
       " 0.3803427660422479,\n",
       " 54.12178272666009,\n",
       " 0.008999087014264884)"
      ]
     },
     "execution_count": 586,
     "metadata": {},
     "output_type": "execute_result"
    }
   ],
   "source": [
    "skew(douban_pop), np.mean(sorted(douban_pop, reverse=True)[:25]), np.max(douban_pop) / np.mean(douban_pop), np.mean(douban_pop)"
   ]
  },
  {
   "cell_type": "code",
   "execution_count": 587,
   "metadata": {},
   "outputs": [
    {
     "data": {
      "text/plain": [
       "(20.25472855182974,\n",
       " 0.3779466666666667,\n",
       " 279.17114770580855,\n",
       " 0.001658480841608714)"
      ]
     },
     "execution_count": 587,
     "metadata": {},
     "output_type": "execute_result"
    }
   ],
   "source": [
    "skew(lfm_pop), np.mean(sorted(lfm_pop, reverse=True)[:25]), np.max(lfm_pop) / np.mean(lfm_pop), np.mean(lfm_pop)"
   ]
  },
  {
   "cell_type": "code",
   "execution_count": 588,
   "metadata": {},
   "outputs": [
    {
     "data": {
      "text/plain": [
       "(62.456785399600975, 0.196996, 1352.9312180428271, 0.00025252577177887624)"
      ]
     },
     "execution_count": 588,
     "metadata": {},
     "output_type": "execute_result"
    }
   ],
   "source": [
    "skew(goodreads_pop), np.mean(sorted(goodreads_pop, reverse=True)[:25]), np.max(goodreads_pop) / np.mean(goodreads_pop), np.mean(goodreads_pop)"
   ]
  },
  {
   "cell_type": "code",
   "execution_count": 589,
   "metadata": {},
   "outputs": [
    {
     "data": {
      "text/plain": [
       "(36.95443486619619,\n",
       " 0.05461152542372881,\n",
       " 340.2561045069054,\n",
       " 0.00036463062665684394)"
      ]
     },
     "execution_count": 589,
     "metadata": {},
     "output_type": "execute_result"
    }
   ],
   "source": [
    "skew(ciao_pop), np.mean(sorted(ciao_pop, reverse=True)[:25]), np.max(ciao_pop) / np.mean(ciao_pop), np.mean(ciao_pop)"
   ]
  },
  {
   "cell_type": "code",
   "execution_count": null,
   "metadata": {},
   "outputs": [],
   "source": []
  },
  {
   "cell_type": "code",
   "execution_count": null,
   "metadata": {},
   "outputs": [],
   "source": []
  },
  {
   "cell_type": "code",
   "execution_count": 9,
   "metadata": {},
   "outputs": [
    {
     "data": {
      "text/plain": [
       "<matplotlib.legend.Legend at 0x24e454d2cf8>"
      ]
     },
     "execution_count": 9,
     "metadata": {},
     "output_type": "execute_result"
    },
    {
     "data": {
      "image/png": "[encoded data removed]",
      "text/plain": [
       "<Figure size 432x288 with 1 Axes>"
      ]
     },
     "metadata": {
      "needs_background": "light"
     },
     "output_type": "display_data"
    }
   ],
   "source": [
    "n = 20000\n",
    "#plt.scatter(range(n), sorted(ml_pop, reverse=True)[:n], s=1, label=\"MovieLens 1M\")\n",
    "plt.scatter(range(n), sorted(douban_pop, reverse=True)[:n], s=1, label=\"Douban\")\n",
    "plt.scatter(range(n), sorted(lfm_pop, reverse=True)[:n], s=1, label=\"LFM\")\n",
    "plt.scatter(range(n), sorted(goodreads_pop, reverse=True)[:n], s=1, label=\"Goodreads\")\n",
    "plt.scatter(range(n), sorted(ciao_pop, reverse=True)[:n], s=1, label=\"Ciao\")\n",
    "plt.legend()"
   ]
  },
  {
   "cell_type": "code",
   "execution_count": 743,
   "metadata": {},
   "outputs": [],
   "source": [
    "#data_df = pd.read_csv(\"data/ml-1m/ratings.dat\", sep=\"::\", names=[\"user_id\", \"item_id\", \"rating\", \"timestamp\"])\n",
    "#data_df.drop(columns=[\"timestamp\"], inplace=True)\n",
    "data_df = pd.read_csv(\"data/ciao/ciao.csv\", sep=\";\", names=[\"user_id\", \"item_id\", \"rating\"])\n",
    "#data_df = pd.read_csv(\"data/douban/douban.csv\", sep=\";\", names=[\"user_id\", \"item_id\", \"rating\"])\n",
    "#data_df = pd.read_csv(\"data/lfm/artist_ratings.csv\", sep=\";\", names=[\"user_id\", \"item_id\", \"rating\"])\n",
    "#data_df = pd.read_csv(\"data/goodreads/sample.csv\", sep=\";\", names=[\"user_id\", \"item_id\", \"rating\"])\n",
    "\n",
    "sample = np.random.choice(data_df[\"user_id\"].unique(), size=1000, replace=False)\n",
    "data_df = data_df[data_df[\"user_id\"].isin(sample)]\n",
    "\n",
    "dataset = Dataset.load_from_df(data_df, reader=Reader(rating_scale=(1, 5)))\n",
    "#dataset = Dataset.load_from_df(data_df, reader=Reader(rating_scale=(1, 1000)))\n",
    "trainset, testset = train_test_split(dataset, test_size=0.2)\n",
    "\n",
    "sim = UserKNN.compute_similarities(trainset, min_support=1)\n",
    "pop = UserKNN.compute_popularities(trainset)\n",
    "gain = UserKNN.compute_gain(trainset)"
   ]
  },
  {
   "cell_type": "code",
   "execution_count": 679,
   "metadata": {},
   "outputs": [
    {
     "data": {
      "text/plain": [
       "0.02629693622974892"
      ]
     },
     "execution_count": 679,
     "metadata": {},
     "output_type": "execute_result"
    }
   ],
   "source": [
    "top_10_bobs = dict()\n",
    "for alice, gain_bobs in enumerate(gain):\n",
    "    top_10_bobs_for_alice = np.argsort(gain_bobs)[::-1][:10]\n",
    "    top_10_bobs[alice] = top_10_bobs_for_alice\n",
    "\n",
    "jaccard = []\n",
    "for alice1, bobs1 in top_10_bobs.items():\n",
    "    jaccard_alice1 = []\n",
    "    for alice2, bobs2 in top_10_bobs.items():\n",
    "        overlap = len(set(bobs1).intersection(bobs2))\n",
    "        union = len(set(bobs1).union(bobs2))\n",
    "        j = overlap / union\n",
    "        jaccard_alice1.append(j)\n",
    "    jaccard.append(np.mean(jaccard_alice1))\n",
    "np.mean(jaccard)"
   ]
  },
  {
   "cell_type": "code",
   "execution_count": 680,
   "metadata": {},
   "outputs": [
    {
     "data": {
      "text/plain": [
       "0.01669935618629736"
      ]
     },
     "execution_count": 680,
     "metadata": {},
     "output_type": "execute_result"
    }
   ],
   "source": [
    "top_10_bobs = dict()\n",
    "for alice, sims_bobs in enumerate(sim):\n",
    "    top_10_bobs_for_alice = np.argsort(sims_bobs)[::-1][:10]\n",
    "    top_10_bobs[alice] = top_10_bobs_for_alice\n",
    "\n",
    "jaccard = []\n",
    "for alice1, bobs1 in top_10_bobs.items():\n",
    "    jaccard_alice1 = []\n",
    "    for alice2, bobs2 in top_10_bobs.items():\n",
    "        overlap = len(set(bobs1).intersection(bobs2))\n",
    "        union = len(set(bobs1).union(bobs2))\n",
    "        j = overlap / union\n",
    "        jaccard_alice1.append(j)\n",
    "    jaccard.append(np.mean(jaccard_alice1))\n",
    "np.mean(jaccard)"
   ]
  },
  {
   "cell_type": "code",
   "execution_count": null,
   "metadata": {},
   "outputs": [],
   "source": []
  },
  {
   "cell_type": "code",
   "execution_count": 636,
   "metadata": {},
   "outputs": [
    {
     "data": {
      "text/plain": [
       "0.395556001057417"
      ]
     },
     "execution_count": 636,
     "metadata": {},
     "output_type": "execute_result"
    }
   ],
   "source": [
    "np.mean(sim)"
   ]
  },
  {
   "cell_type": "code",
   "execution_count": 637,
   "metadata": {},
   "outputs": [
    {
     "data": {
      "text/plain": [
       "<matplotlib.collections.PathCollection at 0x24e15b8c390>"
      ]
     },
     "execution_count": 637,
     "metadata": {},
     "output_type": "execute_result"
    },
    {
     "data": {
      "image/png": "[encoded data removed]",
      "text/plain": [
       "<Figure size 432x288 with 1 Axes>"
      ]
     },
     "metadata": {
      "needs_background": "light"
     },
     "output_type": "display_data"
    }
   ],
   "source": [
    "sim_ = sim[sim > 0]\n",
    "plt.scatter(range(sim_.size), sorted(sim_.ravel(), reverse=True), s=1)"
   ]
  },
  {
   "cell_type": "code",
   "execution_count": 638,
   "metadata": {},
   "outputs": [
    {
     "data": {
      "text/plain": [
       "0.42779830360339816"
      ]
     },
     "execution_count": 638,
     "metadata": {},
     "output_type": "execute_result"
    }
   ],
   "source": [
    "np.mean(sim_)"
   ]
  },
  {
   "cell_type": "code",
   "execution_count": 639,
   "metadata": {},
   "outputs": [
    {
     "data": {
      "text/plain": [
       "0.6312880641985186"
      ]
     },
     "execution_count": 639,
     "metadata": {},
     "output_type": "execute_result"
    }
   ],
   "source": [
    "skew(sim_.ravel())"
   ]
  },
  {
   "cell_type": "code",
   "execution_count": 567,
   "metadata": {},
   "outputs": [
    {
     "data": {
      "text/plain": [
       "<matplotlib.collections.PathCollection at 0x24e494832b0>"
      ]
     },
     "execution_count": 567,
     "metadata": {},
     "output_type": "execute_result"
    },
    {
     "data": {
      "image/png": "[encoded data removed]",
      "text/plain": [
       "<Figure size 432x288 with 1 Axes>"
      ]
     },
     "metadata": {
      "needs_background": "light"
     },
     "output_type": "display_data"
    }
   ],
   "source": [
    "pop_ = pop[pop > 0]\n",
    "plt.scatter(range(pop_.size), sorted(pop_, reverse=True), s=1)"
   ]
  },
  {
   "cell_type": "code",
   "execution_count": 568,
   "metadata": {},
   "outputs": [
    {
     "data": {
      "text/plain": [
       "3.7332496136198223"
      ]
     },
     "execution_count": 568,
     "metadata": {},
     "output_type": "execute_result"
    }
   ],
   "source": [
    "skew(pop_)"
   ]
  },
  {
   "cell_type": "code",
   "execution_count": 569,
   "metadata": {},
   "outputs": [
    {
     "data": {
      "text/plain": [
       "<matplotlib.collections.PathCollection at 0x24e51e29668>"
      ]
     },
     "execution_count": 569,
     "metadata": {},
     "output_type": "execute_result"
    },
    {
     "data": {
      "image/png": "[encoded data removed]",
      "text/plain": [
       "<Figure size 432x288 with 1 Axes>"
      ]
     },
     "metadata": {
      "needs_background": "light"
     },
     "output_type": "display_data"
    }
   ],
   "source": [
    "gain_ = gain[gain > 0]\n",
    "plt.scatter(range(gain_.size), sorted(gain_.ravel(), reverse=True), s=1)"
   ]
  },
  {
   "cell_type": "code",
   "execution_count": 531,
   "metadata": {},
   "outputs": [
    {
     "data": {
      "text/plain": [
       "5.777975649362377"
      ]
     },
     "execution_count": 531,
     "metadata": {},
     "output_type": "execute_result"
    }
   ],
   "source": [
    "skew(gain_.ravel())"
   ]
  },
  {
   "cell_type": "code",
   "execution_count": null,
   "metadata": {},
   "outputs": [],
   "source": []
  },
  {
   "cell_type": "code",
   "execution_count": 532,
   "metadata": {
    "scrolled": true
   },
   "outputs": [
    {
     "data": {
      "text/plain": [
       "<matplotlib.legend.Legend at 0x24e53dedf60>"
      ]
     },
     "execution_count": 532,
     "metadata": {},
     "output_type": "execute_result"
    },
    {
     "data": {
      "image/png": "[encoded data removed]",
      "text/plain": [
       "<Figure size 432x288 with 1 Axes>"
      ]
     },
     "metadata": {
      "needs_background": "light"
     },
     "output_type": "display_data"
    }
   ],
   "source": [
    "def f(x):\n",
    "    return np.power(x, 2)\n",
    "\n",
    "x = sorted(np.random.uniform(0, 1, 100))[::-1]\n",
    "plt.plot(x, x, c=\"C1\", label=\"Popularity\")\n",
    "plt.plot(x, f(x), c=\"C2\", label=\"Gain\")\n",
    "plt.ylabel(r\"$p(x)^2$\")\n",
    "plt.xlabel(\"Item popularity p(x)\")\n",
    "plt.legend()"
   ]
  },
  {
   "cell_type": "code",
   "execution_count": 533,
   "metadata": {},
   "outputs": [
    {
     "data": {
      "text/plain": [
       "[<matplotlib.lines.Line2D at 0x24e4a46b3c8>]"
      ]
     },
     "execution_count": 533,
     "metadata": {},
     "output_type": "execute_result"
    },
    {
     "data": {
      "image/png": "[encoded data removed]",
      "text/plain": [
       "<Figure size 432x288 with 1 Axes>"
      ]
     },
     "metadata": {
      "needs_background": "light"
     },
     "output_type": "display_data"
    }
   ],
   "source": [
    "plt.plot(x, x-f(x))"
   ]
  },
  {
   "cell_type": "code",
   "execution_count": null,
   "metadata": {},
   "outputs": [],
   "source": []
  },
  {
   "cell_type": "code",
   "execution_count": 466,
   "metadata": {},
   "outputs": [
    {
     "data": {
      "text/plain": [
       "(0.6007915295744958, 0.5290805738388293, 0.5798209212354665)"
      ]
     },
     "execution_count": 466,
     "metadata": {},
     "output_type": "execute_result"
    }
   ],
   "source": [
    "def f(df):\n",
    "    n_popular = int(df[\"item_id\"].nunique() * 0.2)\n",
    "    most_popular_items = df.groupby(\"item_id\").size().sort_values(ascending=False).head(n_popular).index.tolist()\n",
    "    fractions = np.zeros(trainset.n_users)\n",
    "    for uid, ratings in trainset.ur.items():\n",
    "        rated_items = {trainset.to_raw_iid(iiid) for iiid, _ in ratings}\n",
    "        frac = len(rated_items.intersection(most_popular_items)) / len(ratings)\n",
    "        fractions[uid] = frac\n",
    "    return fractions\n",
    "\n",
    "fractions = f(data_df)\n",
    "\n",
    "top_sim_users = np.argsort(sim.mean(axis=0))[::-1][:10]\n",
    "top_pop_users = np.argsort(pop)[::-1][:10]\n",
    "top_gain_users = np.argsort(gain.mean(axis=0))[::-1][:10]\n",
    "np.mean(fractions[top_sim_users]), np.mean(fractions[top_pop_users]), np.mean(fractions[top_gain_users])"
   ]
  },
  {
   "cell_type": "code",
   "execution_count": null,
   "metadata": {},
   "outputs": [],
   "source": [
    "testset_u = defaultdict(list)\n",
    "for uid, iid, r in testset:\n",
    "    testset_u[uid].append((uid, iid, r))\n",
    "new_testset_u = dict()\n",
    "for uid, data in testset_u.items():\n",
    "    if len(data) >= 100:\n",
    "        new_testset_u[uid] = data\n",
    "testset_u = new_testset_u\n",
    "\n",
    "testset_u = defaultdict(list)\n",
    "for uid, iid, r in testset:\n",
    "    testset_u[uid].append((uid, iid, r))\n",
    "n_testset_u = np.zeros(trainset.n_users)\n",
    "for uid in trainset.all_users():\n",
    "    ruid = trainset.to_raw_uid(uid)\n",
    "    n_testset_u[uid] = len(testset_u[ruid])"
   ]
  },
  {
   "cell_type": "code",
   "execution_count": null,
   "metadata": {},
   "outputs": [],
   "source": [
    "# UserKNN\n",
    "m = UserKNN(k=10, precomputed_sim=sim, reuse=False)\n",
    "m.fit(trainset)\n",
    "sim_start = dict()\n",
    "sim_end = dict()\n",
    "for u in testset_u.keys():\n",
    "    _ = m.test(testset_u[u][:10])\n",
    "    iuid = trainset.to_inner_uid(u)\n",
    "    avg_sim_start = np.mean([m.sim[iuid, u_] for u_ in m.mentors[iuid]])\n",
    "        \n",
    "    _ = m.test(testset_u[u])\n",
    "    iuid = trainset.to_inner_uid(u)\n",
    "    avg_sim_end = np.mean([m.sim[iuid, u_] for u_ in m.mentors[iuid]])\n",
    "\n",
    "    sim_start[iuid] = avg_sim_start\n",
    "    sim_end[iuid] = avg_sim_end\n",
    "\n",
    "# UserKNN\n",
    "m = UserKNN(k=10, precomputed_sim=sim, reuse=True)\n",
    "m.fit(trainset)\n",
    "sim_start_r = dict()\n",
    "sim_end_r = dict()\n",
    "for u in testset_u.keys():\n",
    "    _ = m.test(testset_u[u][:10])\n",
    "    iuid = trainset.to_inner_uid(u)\n",
    "    avg_sim_start = np.mean([m.sim[iuid, u_] for u_ in m.mentors[iuid]])\n",
    "        \n",
    "    _ = m.test(testset_u[u])\n",
    "    iuid = trainset.to_inner_uid(u)\n",
    "    avg_sim_end = np.mean([m.sim[iuid, u_] for u_ in m.mentors[iuid]])\n",
    "    \n",
    "    sim_start_r[iuid] = avg_sim_start\n",
    "    sim_end_r[iuid] = avg_sim_end\n",
    "\n",
    "n_within = []\n",
    "for ruid in testset_u.keys():\n",
    "    iuid = trainset.to_inner_uid(ruid)\n",
    "    within_range = np.where(np.logical_and(sim[iuid] >= sim_end[iuid], sim[iuid] <= sim_start[iuid]))[0]\n",
    "    n_within.append(len(within_range))\n",
    "print(np.mean(n_within) / trainset.n_users)\n",
    "\n",
    "n_within = []\n",
    "for ruid in testset_u.keys():\n",
    "    iuid = trainset.to_inner_uid(ruid)\n",
    "    within_range = np.where(np.logical_and(sim[iuid] >= sim_end_r[iuid], sim[iuid] <= sim_start_r[iuid]))[0]\n",
    "    n_within.append(len(within_range))\n",
    "print(np.mean(n_within) / trainset.n_users)"
   ]
  },
  {
   "cell_type": "code",
   "execution_count": 655,
   "metadata": {},
   "outputs": [
    {
     "name": "stdout",
     "output_type": "stream",
     "text": [
      "0.1502228206838784\n",
      "0.1523633890847255\n",
      "0.16465033423556566\n",
      "0.16495513241249674\n",
      "0.15774046314239393\n",
      "0.15879845981586746\n"
     ]
    }
   ],
   "source": [
    "def mean_nonzero(a, axis=0):\n",
    "    return np.sum(a, axis=axis) / len(np.count_nonzero(a, axis=axis))\n",
    "\n",
    "# UserKNN\n",
    "m = UserKNN(k=10, precomputed_sim=sim, reuse=False)\n",
    "m.fit(trainset)\n",
    "_ = m.test(testset)\n",
    "print(m.sim.mean(axis=0).dot(m.n_queries) / np.sum(m.n_queries))\n",
    "\n",
    "# UserKNN+Reuse\n",
    "m = UserKNN(k=10, precomputed_sim=sim, reuse=True)\n",
    "m.fit(trainset)\n",
    "_ = m.test(testset)\n",
    "print(m.sim.mean(axis=0).dot(m.n_queries) / np.sum(m.n_queries))\n",
    "\n",
    "# Popularity\n",
    "m = UserKNN(k=10, precomputed_sim=sim, precomputed_pop=pop, reuse=False, tau_2=0.5)\n",
    "m.fit(trainset)\n",
    "_ = m.test(testset)\n",
    "print(m.sim.mean(axis=0).dot(m.n_queries) / np.sum(m.n_queries))\n",
    "    \n",
    "# Popularity+Reuse\n",
    "m = UserKNN(k=10, precomputed_sim=sim, precomputed_pop=pop, reuse=True, tau_2=0.5)\n",
    "m.fit(trainset)\n",
    "_ = m.test(testset)\n",
    "print(m.sim.mean(axis=0).dot(m.n_queries) / np.sum(m.n_queries))\n",
    "    \n",
    "# Gain\n",
    "m = UserKNN(k=10, precomputed_sim=sim, precomputed_gain=gain, reuse=False, tau_4=0.5)\n",
    "m.fit(trainset)\n",
    "_ = m.test(testset)\n",
    "print(m.sim.mean(axis=0).dot(m.n_queries) / np.sum(m.n_queries))\n",
    "    \n",
    "# Gain+Reuse\n",
    "m = UserKNN(k=10, precomputed_sim=sim, precomputed_gain=gain, reuse=True, tau_4=0.5)\n",
    "m.fit(trainset)\n",
    "_ = m.test(testset)\n",
    "print(m.sim.mean(axis=0).dot(m.n_queries) / np.sum(m.n_queries))"
   ]
  },
  {
   "cell_type": "code",
   "execution_count": 481,
   "metadata": {},
   "outputs": [
    {
     "name": "stdout",
     "output_type": "stream",
     "text": [
      "100\n",
      "200\n",
      "300\n",
      "400\n",
      "500\n",
      "600\n",
      "700\n",
      "800\n",
      "900\n",
      "1000\n"
     ]
    },
    {
     "data": {
      "text/plain": [
       "13.748598598598598"
      ]
     },
     "execution_count": 481,
     "metadata": {},
     "output_type": "execute_result"
    }
   ],
   "source": [
    "overlap = []\n",
    "i = 0\n",
    "for alice, ratings_a in trainset.ur.items():\n",
    "    i += 1\n",
    "    if i % 100 == 0:\n",
    "        print(i)\n",
    "    items_a = set(iid for iid, _ in ratings_a)\n",
    "    overlap_with_bob = []\n",
    "    for bob, ratings_b in trainset.ur.items():\n",
    "        if alice != bob:\n",
    "            items_b = set(iid for iid, _ in ratings_b)\n",
    "            overlap_with_bob.append(len(items_a.intersection(items_b)))\n",
    "    overlap.append(np.mean(overlap_with_bob))\n",
    "np.mean(overlap)"
   ]
  },
  {
   "cell_type": "code",
   "execution_count": 735,
   "metadata": {},
   "outputs": [],
   "source": [
    "def get_popularity_bias_of_neighbors(m, user_pop):\n",
    "    \"\"\"popfrac_of_neighbors = np.zeros(m.trainset.n_users)\n",
    "    for iuid, n_queries in enumerate(m.n_queries):\n",
    "        rated_items = {m.trainset.to_raw_iid(iiid) for iiid, _ in m.trainset.ur[iuid]}\n",
    "        frac = len(rated_items.intersection(popular_items)) / len(m.trainset.ur[iuid])\n",
    "        popfrac_of_neighbors[iuid] = frac\n",
    "        \n",
    "    return np.dot(popfrac_of_neighbors, m.n_queries) / np.sum(m.n_queries)\"\"\"\n",
    "    \n",
    "    \"\"\"frac = np.zeros(m.trainset.n_users)\n",
    "    for uid, ratings in m.trainset.ur.items():\n",
    "        rated_items = {m.trainset.to_raw_iid(iiid) for iiid, _ in ratings}\n",
    "        #f = len(rated_items.intersection(popular_items)) / len(ratings)\n",
    "        f = len(rated_items.difference(popular_items)) / len(ratings)\n",
    "        frac[uid] = f\"\"\"\n",
    "    \n",
    "    \n",
    "    \"\"\"avg_neighbor_frac = []\n",
    "    for _, neighbors in m.mentors.items():\n",
    "        neighbor_frac = [item_popularity[bob] for bob in neighbors]\n",
    "        avg_neighbor_frac.append(np.mean(neighbor_frac))\n",
    "    return np.mean(avg_neighbor_frac)\"\"\"\n",
    "    \n",
    "    pops = []\n",
    "    for _, neighbors in m.mentors.items():\n",
    "        pops.append(np.mean([user_pop[n] for n in neighbors]))\n",
    "    return np.mean(pops), np.std(pops)\n",
    "    \n",
    "    \n",
    "def unique_neighbors(m):\n",
    "    \"\"\"neighbor_freq = np.zeros(m.trainset.n_users)\n",
    "    for _, neighbors in m.mentors.items():\n",
    "        for n in neighbors:\n",
    "            neighbor_freq[n] += 1\n",
    "    return np.mean(neighbor_freq[neighbor_freq > 0])\"\"\"\n",
    "    jaccards = []\n",
    "    for user1, neighbors1 in m.mentors.items():\n",
    "        n1 = set(neighbors1)\n",
    "        jaccard_n1 = []\n",
    "        for user2, neighbors2 in m.mentors.items():\n",
    "            n2 = set(neighbors2)\n",
    "            j = len(n1.intersection(n2)) / len(n1.union(n2))\n",
    "            jaccard_n1.append(j)\n",
    "        jaccards.append(np.mean(jaccard_n1))\n",
    "    return np.mean(jaccards)\n",
    "\n",
    "def get_size_of_user_profile(m):\n",
    "    x = np.zeros(m.trainset.n_users)\n",
    "    for iuid, ratings in m.trainset.ur.items():\n",
    "        x[iuid] = len(ratings)\n",
    "    \n",
    "    sizes = []\n",
    "    for alice, neighbors in m.mentors.items():\n",
    "        s = []\n",
    "        for bob in neighbors:\n",
    "            s.append(x[bob])\n",
    "        sizes.append(np.mean(s))\n",
    "    \n",
    "    return np.mean(sizes)\n",
    "\n",
    "\n",
    "def neighbors(m, n):\n",
    "    \"\"\"n_ratings = np.zeros(m.trainset.n_users)\n",
    "    for uid, ratings in m.trainset.ur.items():\n",
    "        n_ratings[uid] = len(ratings)\n",
    "        \n",
    "    return np.dot(n_ratings, m.n_queries) / np.sum(m.n_queries)\"\"\"\n",
    "    \n",
    "    \n",
    "    \"\"\"avg_std = []\n",
    "    for alice, neighbors in m.mentors.items():\n",
    "        item_ratings = defaultdict(list)\n",
    "        for bob in neighbors:\n",
    "            for iid, r in m.trainset.ur[bob]:\n",
    "                item_ratings[iid].append(r)\n",
    "        avg_std.append(np.mean([np.std(ratings) for iid, ratings in item_ratings.items()]))\n",
    "    return np.mean(avg_std)\"\"\"\n",
    "    \n",
    "    overlaps = []\n",
    "    for alice, neighbors in m.mentors.items():\n",
    "        items_a = set(iid for iid, _ in trainset.ur[alice])\n",
    "        overlaps_a = []\n",
    "        for bob in neighbors:\n",
    "            items_b = set(iid for iid, _ in trainset.ur[bob])\n",
    "            overlap_ab = len(items_a.intersection(items_b)) / len(items_a)\n",
    "            overlaps_a.append(overlap_ab)\n",
    "        overlaps.append(np.mean(overlaps_a))\n",
    "    return np.mean(overlaps), np.std(overlaps)\n",
    "        \n",
    "    \n",
    "    \"\"\"n_covered_items = np.zeros(m.trainset.n_users)\n",
    "    n_neighbors = np.zeros(m.trainset.n_users)\n",
    "    n_ratings = np.zeros(m.trainset.n_users)\n",
    "    similarity = np.zeros(m.trainset.n_users)\n",
    "    for alice, neighbors in m.mentors.items():\n",
    "        items_in_neighborhood = set()\n",
    "        sims_in_neighborhood = []\n",
    "        n_ratings_in_neighborhood = 0\n",
    "        items_a = set(iid for iid, _ in trainset.ur[alice])\n",
    "        for bob in neighbors:\n",
    "            items_b = {iid for iid, _ in m.trainset.ur[bob]}\n",
    "            items_in_neighborhood = items_in_neighborhood.union(items_b)\n",
    "            sims_in_neighborhood.append(m.sim[alice, bob])\n",
    "            n_ratings_in_neighborhood += len(items_b)\n",
    "        n_covered_items[alice] = len(items_in_neighborhood)\n",
    "        similarity[alice] = np.mean(sims_in_neighborhood)\n",
    "        n_ratings[alice] = n_ratings_in_neighborhood\n",
    "        n_neighbors[alice] = len(neighbors)\n",
    "    #density = n_ratings / (n_neighbors * n_ratings)\n",
    "    density = n_ratings / (n_neighbors * m.trainset.n_items)\n",
    "    \n",
    "    frac_covered_items = n_covered_items / m.trainset.n_items\n",
    "    return np.mean(frac_covered_items), np.mean(similarity), np.nanmean(density), np.mean(n_ratings)\"\"\"\n",
    "    \n",
    "        \n",
    "        \n",
    "    \n",
    "    \"\"\"item_frequencies = np.zeros(m.trainset.n_items)\n",
    "    for n, q in enumerate(m.n_queries):\n",
    "        for iid, _ in m.trainset.ur[n]:\n",
    "            item_frequencies[iid] += q\n",
    "    item_frequencies /= np.sum(item_frequencies)\n",
    "    \n",
    "    return -np.sum(item_frequencies * np.log(item_frequencies+1e-10))\"\"\"\n",
    "\n",
    "    \"\"\"user_entropy = np.zeros(m.trainset.n_users)\n",
    "    for uid, ratings in m.trainset.ur.items():\n",
    "        p = np.array([item_popularity[m.trainset.to_raw_iid(iid)] for iid, _ in ratings])\n",
    "        p = p / np.sum(p)\n",
    "        user_entropy[uid] = -np.sum(p * np.log2(p))\n",
    "    \n",
    "    return np.dot(user_entropy, m.n_queries) / np.sum(m.n_queries)\"\"\"\n",
    "    \n",
    "    \"\"\"i = 1\n",
    "    neighbor_entropy = []\n",
    "    for uid, neighbors in m.mentors.items():\n",
    "        item_frequencies = np.zeros(m.trainset.n_items)\n",
    "        for n in neighbors:\n",
    "            for iid, _ in m.trainset.ur[n]:\n",
    "                item_frequencies[iid] += 1\n",
    "        p = []\n",
    "        for iid, freq in enumerate(item_frequencies):\n",
    "            p.append(freq * item_popularity[m.trainset.to_raw_iid(iid)])\n",
    "        p = np.array(p) / np.sum(p)\n",
    "        epsilon = 1e-26\n",
    "        neighbor_entropy.append(-np.sum((p+epsilon) * np.log2(p+epsilon)))\n",
    "        \n",
    "        print(i)\n",
    "        i += 1\n",
    "        \n",
    "        \n",
    "    return np.mean(neighbor_entropy)\"\"\"\n",
    "    \n",
    "    \n",
    "        \n",
    "\n",
    "    \n",
    "    \n",
    "    #fractions = np.zeros(m.trainset.n_users)\n",
    "    #for uid, ratings in m.trainset.ur.items():\n",
    "    #    rated_items = {m.trainset.to_raw_iid(iiid) for iiid, _ in ratings}\n",
    "    #    frac = len(rated_items.intersection(popular_items)) / len(ratings)\n",
    "    #    fractions[uid] = frac\n",
    "        \n",
    "    #return np.dot(fractions, m.n_queries) / np.sum(m.n_queries)\n",
    "    \n",
    "    #top_neighbors = np.argsort(m.n_queries)[::-1][:10]\n",
    "    #return np.sum([fractions[n] * m.n_queries[n] for n in top_neighbors]) / np.sum(m.n_queries[top_neighbors])"
   ]
  },
  {
   "cell_type": "code",
   "execution_count": null,
   "metadata": {},
   "outputs": [],
   "source": []
  },
  {
   "cell_type": "code",
   "execution_count": 726,
   "metadata": {},
   "outputs": [],
   "source": [
    "n_popular = int(data_df[\"item_id\"].nunique() * 0.2)\n",
    "most_popular_items = data_df.groupby(\"item_id\").size().sort_values(ascending=False).head(n_popular).index.tolist()\n",
    "fractions = np.zeros(trainset.n_users)\n",
    "for uid, ratings in trainset.ur.items():\n",
    "    rated_items = {trainset.to_raw_iid(iiid) for iiid, _ in ratings}\n",
    "    frac = len(rated_items.intersection(most_popular_items)) / len(ratings)\n",
    "    fractions[uid] = frac"
   ]
  },
  {
   "cell_type": "code",
   "execution_count": 727,
   "metadata": {},
   "outputs": [
    {
     "data": {
      "image/png": "[encoded data removed]",
      "text/plain": [
       "<Figure size 432x288 with 1 Axes>"
      ]
     },
     "metadata": {
      "needs_background": "light"
     },
     "output_type": "display_data"
    }
   ],
   "source": [
    "plt.hist(fractions, bins=25);"
   ]
  },
  {
   "cell_type": "code",
   "execution_count": 728,
   "metadata": {},
   "outputs": [],
   "source": [
    "item_popularity = data_df.groupby(\"item_id\").size() / data_df[\"user_id\"].nunique()\n",
    "item_pop = np.zeros(trainset.n_items)\n",
    "        \n",
    "for iiid in trainset.all_items():\n",
    "    riid = trainset.to_raw_iid(iiid)\n",
    "    p = item_popularity[riid]\n",
    "    item_pop[iiid] = p"
   ]
  },
  {
   "cell_type": "code",
   "execution_count": 729,
   "metadata": {},
   "outputs": [],
   "source": [
    "pop = UserKNN.compute_popularities(trainset)"
   ]
  },
  {
   "cell_type": "code",
   "execution_count": 744,
   "metadata": {},
   "outputs": [
    {
     "name": "stdout",
     "output_type": "stream",
     "text": [
      "\n",
      "------ k=10 ------\n",
      "(0.02666619532714967, 0.036015350790869836)\n",
      "(0.026650782595144955, 0.03597466133583289)\n",
      "(0.028870533842368592, 0.040094681613575454)\n",
      "(0.028821867155515594, 0.03983804528295811)\n",
      "(0.03011625501543229, 0.04291674172288536)\n",
      "(0.030113379314012596, 0.04322567427016129)\n"
     ]
    }
   ],
   "source": [
    "#Ks = [5, 10, 15, 20, 25, 30]\n",
    "Ks = [10]\n",
    "for k_idx, k in enumerate(Ks):\n",
    "    print()\n",
    "    print(\"------ k=%d ------\" % k)\n",
    "    \n",
    "    # UserKNN\n",
    "    m = UserKNN(k=k, precomputed_sim=sim, reuse=False)\n",
    "    m.fit(trainset)\n",
    "    _ = m.test(testset)\n",
    "    #print(get_popularity_bias_of_neighbors(m, pop))\n",
    "    print(neighbors(m, n_testset_u))\n",
    "    #print(unique_neighbors(m))\n",
    "    \n",
    "    # UserKNN+Reuse\n",
    "    m = UserKNN(k=k, precomputed_sim=sim, reuse=True)\n",
    "    m.fit(trainset)\n",
    "    _ = m.test(testset)\n",
    "    #print(get_popularity_bias_of_neighbors(m, pop))\n",
    "    print(neighbors(m, n_testset_u))\n",
    "    #print(unique_neighbors(m))\n",
    "    \n",
    "    \n",
    "    # Popularity\n",
    "    m = UserKNN(k=k, precomputed_sim=sim, precomputed_pop=pop, reuse=False, tau_2=0.5)\n",
    "    m.fit(trainset)\n",
    "    _ = m.test(testset)\n",
    "    #print(get_popularity_bias_of_neighbors(m, pop))\n",
    "    print(neighbors(m, n_testset_u))\n",
    "    #print(unique_neighbors(m))\n",
    "    \n",
    "    \n",
    "    # Popularity+Reuse\n",
    "    m = UserKNN(k=k, precomputed_sim=sim, precomputed_pop=pop, reuse=True, tau_2=0.5)\n",
    "    m.fit(trainset)\n",
    "    _ = m.test(testset)\n",
    "    #print(get_popularity_bias_of_neighbors(m, pop))\n",
    "    print(neighbors(m, n_testset_u))\n",
    "    #print(unique_neighbors(m))\n",
    "    \n",
    "    \n",
    "    # Gain\n",
    "    m = UserKNN(k=k, precomputed_sim=sim, precomputed_gain=gain, reuse=False, tau_4=0.5)\n",
    "    m.fit(trainset)\n",
    "    _ = m.test(testset)\n",
    "    #print(get_popularity_bias_of_neighbors(m, pop))\n",
    "    print(neighbors(m, n_testset_u))\n",
    "    #print(unique_neighbors(m))\n",
    "    \n",
    "    \n",
    "    # Gain+Reuse\n",
    "    m = UserKNN(k=k, precomputed_sim=sim, precomputed_gain=gain, reuse=True, tau_4=0.5)\n",
    "    m.fit(trainset)\n",
    "    _ = m.test(testset)\n",
    "    #print(get_popularity_bias_of_neighbors(m, pop))\n",
    "    print(neighbors(m, n_testset_u))\n",
    "    #print(unique_neighbors(m))\n",
    "    "
   ]
  },
  {
   "cell_type": "code",
   "execution_count": null,
   "metadata": {},
   "outputs": [],
   "source": []
  },
  {
   "cell_type": "code",
   "execution_count": null,
   "metadata": {},
   "outputs": [],
   "source": []
  },
  {
   "cell_type": "code",
   "execution_count": null,
   "metadata": {},
   "outputs": [],
   "source": []
  }
 ],
 "metadata": {
  "kernelspec": {
   "display_name": "Python 3",
   "language": "python",
   "name": "python3"
  },
  "language_info": {
   "codemirror_mode": {
    "name": "ipython",
    "version": 3
   },
   "file_extension": ".py",
   "mimetype": "text/x-python",
   "name": "python",
   "nbconvert_exporter": "python",
   "pygments_lexer": "ipython3",
   "version": "3.7.3"
  }
 },
 "nbformat": 4,
 "nbformat_minor": 4
}
