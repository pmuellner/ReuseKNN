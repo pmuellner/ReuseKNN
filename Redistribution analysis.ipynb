{
 "cells": [
  {
   "cell_type": "code",
   "execution_count": 7,
   "metadata": {},
   "outputs": [],
   "source": [
    "import numpy as np\n",
    "import pandas as pd\n",
    "import matplotlib.pyplot as plt\n",
    "import pickle\n",
    "from matplotlib.lines import Line2D\n",
    "import matplotlib.gridspec as gridspec\n",
    "from matplotlib.ticker import FormatStrFormatter\n",
    "from surprise import Dataset, Reader, accuracy\n",
    "from surprise.model_selection import train_test_split, KFold\n",
    "import matplotlib.pyplot as plt\n",
    "import pandas as pd\n",
    "from collections import defaultdict, Counter\n",
    "from datetime import datetime as dt\n",
    "from scipy.stats import spearmanr\n",
    "from sklearn.preprocessing import MinMaxScaler\n",
    "from scipy.stats import gaussian_kde\n",
    "from sklearn.neighbors import KernelDensity\n",
    "import pyximport\n",
    "import numpy as np\n",
    "pyximport.install(setup_args={\"include_dirs\": np.get_include()},\n",
    "                  reload_support=True)\n",
    "from algorithms.knn_neighborhood import UserKNN"
   ]
  },
  {
   "cell_type": "code",
   "execution_count": 8,
   "metadata": {},
   "outputs": [],
   "source": [
    "def load_data(name, protected):\n",
    "    if protected:\n",
    "        path = \"protected/\" + name\n",
    "    else:\n",
    "        path = \"unprotected/\" + name\n",
    "    results = dict()\n",
    "    results[\"K\"] = np.load(\"results/\" + path + \"/K.npy\")\n",
    "\n",
    "    results[\"pr_all_userknn_full\"] = np.load(\"results/\" + path + \"/pr_all_userknn_full.npy\")\n",
    "    results[\"pr_all_userknn_no\"] = np.load(\"results/\" + path + \"/pr_all_userknn_no.npy\")\n",
    "    results[\"pr_all_userknn\"] = np.load(\"results/\" + path + \"/pr_all_userknn.npy\")\n",
    "    results[\"pr_all_pop\"] = np.load(\"results/\" + path + \"/pr_all_pop.npy\")\n",
    "    results[\"pr_all_gain\"] = np.load(\"results/\" + path + \"/pr_all_gain.npy\")\n",
    "    results[\"pr_all_userknn_reuse\"] = np.load(\"results/\" + path + \"/pr_all_userknn_reuse.npy\")\n",
    "    results[\"pr_all_pop_reuse\"] = np.load(\"results/\" + path + \"/pr_all_pop_reuse.npy\")\n",
    "    results[\"pr_all_gain_reuse\"] = np.load(\"results/\" + path + \"/pr_all_gain_reuse.npy\")\n",
    "    \n",
    "    results[\"pr_below_userknn_full\"] = np.load(\"results/\" + path + \"/pr_below_userknn_full.npy\")\n",
    "    results[\"pr_below_userknn_no\"] = np.load(\"results/\" + path + \"/pr_below_userknn_no.npy\")\n",
    "    results[\"pr_below_userknn\"] = np.load(\"results/\" + path + \"/pr_below_userknn.npy\")\n",
    "    results[\"pr_below_pop\"] = np.load(\"results/\" + path + \"/pr_below_pop.npy\")\n",
    "    results[\"pr_below_gain\"] = np.load(\"results/\" + path + \"/pr_below_gain.npy\")\n",
    "    results[\"pr_below_userknn_reuse\"] = np.load(\"results/\" + path + \"/pr_below_userknn_reuse.npy\")\n",
    "    results[\"pr_below_pop_reuse\"] = np.load(\"results/\" + path + \"/pr_below_pop_reuse.npy\")\n",
    "    results[\"pr_below_gain_reuse\"] = np.load(\"results/\" + path + \"/pr_below_gain_reuse.npy\")\n",
    "    \n",
    "    results[\"pr_above_userknn_full\"] = np.load(\"results/\" + path + \"/pr_above_userknn_full.npy\")\n",
    "    results[\"pr_above_userknn_no\"] = np.load(\"results/\" + path + \"/pr_above_userknn_no.npy\")\n",
    "    results[\"pr_above_userknn\"] = np.load(\"results/\" + path + \"/pr_above_userknn.npy\")\n",
    "    results[\"pr_above_pop\"] = np.load(\"results/\" + path + \"/pr_above_pop.npy\")\n",
    "    results[\"pr_above_gain\"] = np.load(\"results/\" + path + \"/pr_above_gain.npy\")\n",
    "    results[\"pr_above_userknn_reuse\"] = np.load(\"results/\" + path + \"/pr_above_userknn_reuse.npy\")\n",
    "    results[\"pr_above_pop_reuse\"] = np.load(\"results/\" + path + \"/pr_above_pop_reuse.npy\")\n",
    "    results[\"pr_above_gain_reuse\"] = np.load(\"results/\" + path + \"/pr_above_gain_reuse.npy\")\n",
    "    \n",
    "    results[\"nq_all_userknn_full\"] = np.load(\"results/\" + path + \"/nq_all_userknn_full.npy\")\n",
    "    results[\"nq_all_userknn_no\"] = np.load(\"results/\" + path + \"/nq_all_userknn_no.npy\")\n",
    "    results[\"nq_all_userknn\"] = np.load(\"results/\" + path + \"/nq_all_userknn.npy\")\n",
    "    results[\"nq_all_pop\"] = np.load(\"results/\" + path + \"/nq_all_pop.npy\")\n",
    "    results[\"nq_all_gain\"] = np.load(\"results/\" + path + \"/nq_all_gain.npy\")\n",
    "    results[\"nq_all_userknn_reuse\"] = np.load(\"results/\" + path + \"/nq_all_userknn_reuse.npy\")\n",
    "    results[\"nq_all_pop_reuse\"] = np.load(\"results/\" + path + \"/nq_all_pop_reuse.npy\")\n",
    "    results[\"nq_all_gain_reuse\"] = np.load(\"results/\" + path + \"/nq_all_gain_reuse.npy\")\n",
    "    \n",
    "    results[\"nq_below_userknn_full\"] = np.load(\"results/\" + path + \"/nq_below_userknn_full.npy\")\n",
    "    results[\"nq_below_userknn_no\"] = np.load(\"results/\" + path + \"/nq_below_userknn_no.npy\")\n",
    "    results[\"nq_below_userknn\"] = np.load(\"results/\" + path + \"/nq_below_userknn.npy\")\n",
    "    results[\"nq_below_pop\"] = np.load(\"results/\" + path + \"/nq_below_pop.npy\")\n",
    "    results[\"nq_below_gain\"] = np.load(\"results/\" + path + \"/nq_below_gain.npy\")\n",
    "    results[\"nq_below_userknn_reuse\"] = np.load(\"results/\" + path + \"/nq_below_userknn_reuse.npy\")\n",
    "    results[\"nq_below_pop_reuse\"] = np.load(\"results/\" + path + \"/nq_below_pop_reuse.npy\")\n",
    "    results[\"nq_below_gain_reuse\"] = np.load(\"results/\" + path + \"/nq_below_gain_reuse.npy\")\n",
    "    \n",
    "    results[\"nq_above_userknn_full\"] = np.load(\"results/\" + path + \"/nq_above_userknn_full.npy\")\n",
    "    results[\"nq_above_userknn_no\"] = np.load(\"results/\" + path + \"/nq_above_userknn_no.npy\")\n",
    "    results[\"nq_above_userknn\"] = np.load(\"results/\" + path + \"/nq_above_userknn.npy\")\n",
    "    results[\"nq_above_pop\"] = np.load(\"results/\" + path + \"/nq_above_pop.npy\")\n",
    "    results[\"nq_above_gain\"] = np.load(\"results/\" + path + \"/nq_above_gain.npy\")\n",
    "    results[\"nq_above_userknn_reuse\"] = np.load(\"results/\" + path + \"/nq_above_userknn_reuse.npy\")\n",
    "    results[\"nq_above_pop_reuse\"] = np.load(\"results/\" + path + \"/nq_above_pop_reuse.npy\")\n",
    "    results[\"nq_above_gain_reuse\"] = np.load(\"results/\" + path + \"/nq_above_gain_reuse.npy\")\n",
    "    \n",
    "    results[\"secures_userknn_full\"] = np.load(\"results/\" + path + \"/secures_userknn_full.npy\")\n",
    "    results[\"secures_userknn_no\"] = np.load(\"results/\" + path + \"/secures_userknn_no.npy\")\n",
    "    results[\"secures_userknn\"] = np.load(\"results/\" + path + \"/secures_userknn.npy\")\n",
    "    results[\"secures_pop\"] = np.load(\"results/\" + path + \"/secures_pop.npy\")\n",
    "    results[\"secures_gain\"] = np.load(\"results/\" + path + \"/secures_gain.npy\")\n",
    "    results[\"secures_userknn_reuse\"] = np.load(\"results/\" + path + \"/secures_userknn_reuse.npy\")\n",
    "    results[\"secures_pop_reuse\"] = np.load(\"results/\" + path + \"/secures_pop_reuse.npy\")\n",
    "    results[\"secures_gain_reuse\"] = np.load(\"results/\" + path + \"/secures_gain_reuse.npy\")\n",
    "    \n",
    "    results[\"vulnerables_userknn_full\"] = np.load(\"results/\" + path + \"/vulnerables_userknn_full.npy\")\n",
    "    results[\"vulnerables_userknn_no\"] = np.load(\"results/\" + path + \"/vulnerables_userknn_no.npy\")\n",
    "    results[\"vulnerables_userknn\"] = np.load(\"results/\" + path + \"/vulnerables_userknn.npy\")\n",
    "    results[\"vulnerables_pop\"] = np.load(\"results/\" + path + \"/vulnerables_pop.npy\")\n",
    "    results[\"vulnerables_gain\"] = np.load(\"results/\" + path + \"/vulnerables_gain.npy\")\n",
    "    results[\"vulnerables_userknn_reuse\"] = np.load(\"results/\" + path + \"/vulnerables_userknn_reuse.npy\")\n",
    "    results[\"vulnerables_pop_reuse\"] = np.load(\"results/\" + path + \"/vulnerables_pop_reuse.npy\")\n",
    "    results[\"vulnerables_gain_reuse\"] = np.load(\"results/\" + path + \"/vulnerables_gain_reuse.npy\")\n",
    "    \n",
    "    \n",
    "    return results"
   ]
  },
  {
   "cell_type": "code",
   "execution_count": 9,
   "metadata": {},
   "outputs": [],
   "source": [
    "results = load_data(name=\"ml-100k\", protected=True)"
   ]
  },
  {
   "cell_type": "code",
   "execution_count": 11,
   "metadata": {},
   "outputs": [
    {
     "data": {
      "text/plain": [
       "<matplotlib.legend.Legend at 0x1fd32da6f60>"
      ]
     },
     "execution_count": 11,
     "metadata": {},
     "output_type": "execute_result"
    },
    {
     "data": {
      "image/png": "[encoded data removed]",
      "text/plain": [
       "<Figure size 432x288 with 1 Axes>"
      ]
     },
     "metadata": {
      "needs_background": "light"
     },
     "output_type": "display_data"
    }
   ],
   "source": [
    "K = results[\"K\"]\n",
    "method = \"userknn\"\n",
    "avg_pr_secure = results[\"pr_below_\" + method]\n",
    "plt.plot(K, avg_pr_secure, label=method)\n",
    "\n",
    "method = \"pop\"\n",
    "avg_pr_secure = results[\"pr_below_\" + method]\n",
    "plt.plot(K, avg_pr_secure, label=method)\n",
    "\n",
    "method = \"gain\"\n",
    "avg_pr_secure = results[\"pr_below_\" + method]\n",
    "plt.plot(K, avg_pr_secure, label=method)\n",
    "\n",
    "plt.legend()"
   ]
  },
  {
   "cell_type": "code",
   "execution_count": null,
   "metadata": {},
   "outputs": [],
   "source": [
    "def print_results(results, method, k):\n",
    "    idx = 1#np.where(results[\"K\"] == k)[0][0]\n",
    "    n_vulnerables = np.array(results[\"vulnerables_\" + method])[idx]\n",
    "    n_secures = np.array(results[\"secures_\" + method])[idx]\n",
    "    n_users = n_secures + n_vulnerables\n",
    "    avg_pr_vulnerables = results[\"pr_above_\" + method][idx]\n",
    "    avg_pr_secure = results[\"pr_below_\" + method][idx]\n",
    "    avg_nq_vulnerables = results[\"nq_above_\" + method][idx]\n",
    "    avg_nq_secure = results[\"nq_below_\" + method][idx]\n",
    "    \n",
    "    print(\"[\" + method + \"] Avg. PR Secure / Frac. Secure: %f / %f\" % (avg_pr_secure, n_secures / n_users))\n",
    "\n",
    "results = load_data(name=\"ml-100k\", protected=True)\n",
    "print_results(results, \"userknn_full\", k=10)\n",
    "print_results(results, \"userknn_no\", k=10)\n",
    "print()\n",
    "print_results(results, \"userknn\", k=10)\n",
    "print_results(results, \"pop\", k=10)\n",
    "print_results(results, \"gain\", k=10)\n",
    "print()\n",
    "print_results(results, \"userknn_reuse\", k=10)\n",
    "print_results(results, \"pop_reuse\", k=10)\n",
    "print_results(results, \"gain_reuse\", k=10)"
   ]
  },
  {
   "cell_type": "code",
   "execution_count": null,
   "metadata": {},
   "outputs": [],
   "source": []
  }
 ],
 "metadata": {
  "kernelspec": {
   "display_name": "Python 3",
   "language": "python",
   "name": "python3"
  },
  "language_info": {
   "codemirror_mode": {
    "name": "ipython",
    "version": 3
   },
   "file_extension": ".py",
   "mimetype": "text/x-python",
   "name": "python",
   "nbconvert_exporter": "python",
   "pygments_lexer": "ipython3",
   "version": "3.7.3"
  }
 },
 "nbformat": 4,
 "nbformat_minor": 4
}
