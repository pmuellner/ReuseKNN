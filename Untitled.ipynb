{
 "cells": [
  {
   "cell_type": "code",
   "execution_count": 155,
   "metadata": {},
   "outputs": [],
   "source": [
    "import pyximport\n",
    "import numpy as np\n",
    "pyximport.install(setup_args={\"include_dirs\": np.get_include()},\n",
    "                  reload_support=True)\n",
    "from algorithms.knn_neighborhood import UserKNN\n",
    "from surprise import Dataset, Reader, accuracy, NMF\n",
    "from surprise.model_selection import KFold\n",
    "import matplotlib.pyplot as plt\n",
    "import pandas as pd\n",
    "from collections import defaultdict, Counter\n",
    "from datetime import datetime as dt\n",
    "from scipy.stats import spearmanr, skew"
   ]
  },
  {
   "cell_type": "code",
   "execution_count": 29,
   "metadata": {},
   "outputs": [],
   "source": [
    "data_df = pd.read_csv(\"data/ml-100k/u.data\", sep=\"\\t\")\n",
    "data_df.columns = [\"user_id\", \"item_id\", \"rating\", \"timestamp\"]\n",
    "data_df.drop(columns=[\"timestamp\"], axis=1, inplace=True)"
   ]
  },
  {
   "cell_type": "code",
   "execution_count": 152,
   "metadata": {},
   "outputs": [],
   "source": [
    "reader = Reader(rating_scale=(1, 5))\n",
    "dataset = Dataset.load_from_df(data_df, reader=reader)\n",
    "folds = KFold(n_splits=5)\n",
    "top_mentors_mae, all_users_mae = [], []\n",
    "top_mentors_exposure, all_users_exposure = [], []\n",
    "K = [5, 10, 15, 30]\n",
    "for k in K:\n",
    "    top_maes, avg_maes = [], []\n",
    "    top_exposures, avg_exposures = [], []\n",
    "    for trainset, testset in folds.split(dataset):\n",
    "        model = UserKNN(k=k, tau_2=0.5)\n",
    "        model.fit(trainset)\n",
    "        predictions = model.test(testset)\n",
    "\n",
    "        #top_mentors = sorted([(uid, len(students)) for uid, students, in model.students.items()], key=lambda t: t[1])[::-1][:10]\n",
    "        #top_mentors = sorted([(uid, len(mentors)) for uid, mentors, in model.mentors.items()], key=lambda t: t[1])[::-1][:100]\n",
    "        \n",
    "        \n",
    "        \n",
    "        top_mentors = [uid for uid, _ in top_mentors]\n",
    "        users = set(model.mae_u.keys())\n",
    "        \n",
    "        top_mae = np.mean([model.mae_u[m] for m in top_mentors if m in users])\n",
    "        avg_mae = np.mean(list(model.mae_u.values()))\n",
    "        #top_mae = skew([model.mae_u[m] for m in top_mentors if m in users])\n",
    "        #avg_mae = skew(list(model.mae_u.values()))\n",
    "        top_maes.append(top_mae)\n",
    "        avg_maes.append(avg_mae)\n",
    "        \n",
    "        \n",
    "        users = set(model.students.keys())\n",
    "        top_exposure = np.mean([len(model.students[m]) for m in top_mentors if m in users])\n",
    "        avg_exposure = np.mean([len(model.students[u]) for u in users])\n",
    "        #top_exposure = skew([len(model.students[m]) for m in top_mentors if m in users])\n",
    "        #avg_exposure = skew([len(model.students[u]) for u in users])\n",
    "        top_exposures.append(top_exposure)\n",
    "        avg_exposures.append(avg_exposure)\n",
    "        \n",
    "        \n",
    "    top_mentors_mae.append(np.mean(top_maes))\n",
    "    all_users_mae.append(np.mean(avg_maes))\n",
    "    top_mentors_exposure.append(np.mean(top_exposures))\n",
    "    all_users_exposure.append(np.mean(avg_exposures))"
   ]
  },
  {
   "cell_type": "code",
   "execution_count": 153,
   "metadata": {},
   "outputs": [],
   "source": [
    "%matplotlib inline"
   ]
  },
  {
   "cell_type": "code",
   "execution_count": 154,
   "metadata": {},
   "outputs": [
    {
     "data": {
      "image/png": "[encoded data removed]",
      "text/plain": [
       "<Figure size 432x288 with 1 Axes>"
      ]
     },
     "metadata": {
      "needs_background": "light"
     },
     "output_type": "display_data"
    }
   ],
   "source": [
    "plt.plot(K, top_mentors_mae, label=\"Top Students\")\n",
    "plt.plot(K, all_users_mae, label=\"All Users\")\n",
    "plt.title(\"Popularity\")\n",
    "plt.ylabel(\"Mean absolute error\")\n",
    "plt.xlabel(\"Nr. of neighbors\")\n",
    "plt.legend()\n",
    "plt.tight_layout()\n",
    "plt.savefig(\"plots/popularity_mae.png\")"
   ]
  },
  {
   "cell_type": "code",
   "execution_count": null,
   "metadata": {},
   "outputs": [],
   "source": []
  },
  {
   "cell_type": "code",
   "execution_count": null,
   "metadata": {},
   "outputs": [],
   "source": []
  }
 ],
 "metadata": {
  "kernelspec": {
   "display_name": "Python 3",
   "language": "python",
   "name": "python3"
  },
  "language_info": {
   "codemirror_mode": {
    "name": "ipython",
    "version": 3
   },
   "file_extension": ".py",
   "mimetype": "text/x-python",
   "name": "python",
   "nbconvert_exporter": "python",
   "pygments_lexer": "ipython3",
   "version": "3.7.3"
  }
 },
 "nbformat": 4,
 "nbformat_minor": 4
}
