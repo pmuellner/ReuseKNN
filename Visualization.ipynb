{
 "cells": [
  {
   "cell_type": "code",
   "execution_count": 847,
   "metadata": {},
   "outputs": [],
   "source": [
    "import numpy as np\n",
    "import pandas as pd\n",
    "import matplotlib.pyplot as plt\n",
    "import pickle\n",
    "from matplotlib.lines import Line2D\n",
    "import matplotlib.gridspec as gridspec\n",
    "from matplotlib.ticker import FormatStrFormatter\n",
    "from surprise import Dataset, Reader, accuracy\n",
    "from surprise.model_selection import train_test_split, KFold\n",
    "import matplotlib.pyplot as plt\n",
    "import pandas as pd\n",
    "from collections import defaultdict, Counter\n",
    "from datetime import datetime as dt\n",
    "from scipy.stats import spearmanr\n",
    "from sklearn.preprocessing import MinMaxScaler\n",
    "from scipy.stats import gaussian_kde\n",
    "from sklearn.neighbors import KernelDensity\n",
    "import pyximport\n",
    "import numpy as np\n",
    "pyximport.install(setup_args={\"include_dirs\": np.get_include()},\n",
    "                  reload_support=True)\n",
    "from algorithms.knn_neighborhood import UserKNN"
   ]
  },
  {
   "cell_type": "markdown",
   "metadata": {},
   "source": [
    "# Load results"
   ]
  },
  {
   "cell_type": "code",
   "execution_count": 1105,
   "metadata": {},
   "outputs": [],
   "source": [
    "def load_data(name, protected):\n",
    "    if protected:\n",
    "        path = \"protected/\" + name\n",
    "    else:\n",
    "        path = \"unprotected/\" + name\n",
    "    results = dict()\n",
    "    results[\"K\"] = np.load(\"results/\" + path + \"/K.npy\")\n",
    "    results[\"thresholds\"] = np.load(\"results/\" + path + \"/thresholds.npy\")\n",
    "    \n",
    "    results[\"mae_all_userknn_full\"] = np.load(\"results/\" + path + \"/mae_all_userknn_full.npy\")\n",
    "    results[\"mae_all_userknn\"] = np.load(\"results/\" + path + \"/mae_all_userknn.npy\")\n",
    "    results[\"mae_all_pop\"] = np.load(\"results/\" + path + \"/mae_all_pop.npy\")\n",
    "    results[\"mae_all_gain\"] = np.load(\"results/\" + path + \"/mae_all_gain.npy\")\n",
    "    results[\"mae_all_userknn_reuse\"] = np.load(\"results/\" + path + \"/mae_all_userknn_reuse.npy\")\n",
    "    results[\"mae_all_pop_reuse\"] = np.load(\"results/\" + path + \"/mae_all_pop_reuse.npy\")\n",
    "    results[\"mae_all_gain_reuse\"] = np.load(\"results/\" + path + \"/mae_all_gain_reuse.npy\")\n",
    "    results[\"mae_all_userknn_no\"] = np.load(\"results/\" + path + \"/mae_all_userknn_no.npy\")\n",
    "    \n",
    "    results[\"mae_below_userknn_full\"] = np.load(\"results/\" + path + \"/mae_below_userknn_full.npy\")\n",
    "    results[\"mae_below_userknn\"] = np.load(\"results/\" + path + \"/mae_below_userknn.npy\")\n",
    "    results[\"mae_below_pop\"] = np.load(\"results/\" + path + \"/mae_below_pop.npy\")\n",
    "    results[\"mae_below_gain\"] = np.load(\"results/\" + path + \"/mae_below_gain.npy\")\n",
    "    results[\"mae_below_userknn_reuse\"] = np.load(\"results/\" + path + \"/mae_below_userknn_reuse.npy\")\n",
    "    results[\"mae_below_pop_reuse\"] = np.load(\"results/\" + path + \"/mae_below_pop_reuse.npy\")\n",
    "    results[\"mae_below_gain_reuse\"] = np.load(\"results/\" + path + \"/mae_below_gain_reuse.npy\")\n",
    "    results[\"mae_below_userknn_no\"] = np.load(\"results/\" + path + \"/mae_below_userknn_no.npy\")\n",
    "    \n",
    "    results[\"mae_above_userknn_full\"] = np.load(\"results/\" + path + \"/mae_above_userknn_full.npy\")\n",
    "    results[\"mae_above_userknn\"] = np.load(\"results/\" + path + \"/mae_above_userknn.npy\")\n",
    "    results[\"mae_above_pop\"] = np.load(\"results/\" + path + \"/mae_above_pop.npy\")\n",
    "    results[\"mae_above_gain\"] = np.load(\"results/\" + path + \"/mae_above_gain.npy\")\n",
    "    results[\"mae_above_userknn_reuse\"] = np.load(\"results/\" + path + \"/mae_above_userknn_reuse.npy\")\n",
    "    results[\"mae_above_pop_reuse\"] = np.load(\"results/\" + path + \"/mae_above_pop_reuse.npy\")\n",
    "    results[\"mae_above_gain_reuse\"] = np.load(\"results/\" + path + \"/mae_above_gain_reuse.npy\")\n",
    "    results[\"mae_above_userknn_no\"] = np.load(\"results/\" + path + \"/mae_above_userknn_no.npy\")\n",
    "    \n",
    "    results[\"pr_all_userknn_full\"] = np.load(\"results/\" + path + \"/pr_all_userknn_full.npy\")\n",
    "    results[\"pr_all_userknn\"] = np.load(\"results/\" + path + \"/pr_all_userknn.npy\")\n",
    "    results[\"pr_all_pop\"] = np.load(\"results/\" + path + \"/pr_all_pop.npy\")\n",
    "    results[\"pr_all_gain\"] = np.load(\"results/\" + path + \"/pr_all_gain.npy\")\n",
    "    results[\"pr_all_userknn_reuse\"] = np.load(\"results/\" + path + \"/pr_all_userknn_reuse.npy\")\n",
    "    results[\"pr_all_pop_reuse\"] = np.load(\"results/\" + path + \"/pr_all_pop_reuse.npy\")\n",
    "    results[\"pr_all_gain_reuse\"] = np.load(\"results/\" + path + \"/pr_all_gain_reuse.npy\")\n",
    "    results[\"pr_all_userknn_no\"] = np.load(\"results/\" + path + \"/pr_all_userknn_no.npy\")\n",
    "    \n",
    "    results[\"pr_below_userknn_full\"] = np.load(\"results/\" + path + \"/pr_below_userknn_full.npy\")\n",
    "    results[\"pr_below_userknn\"] = np.load(\"results/\" + path + \"/pr_below_userknn.npy\")\n",
    "    results[\"pr_below_pop\"] = np.load(\"results/\" + path + \"/pr_below_pop.npy\")\n",
    "    results[\"pr_below_gain\"] = np.load(\"results/\" + path + \"/pr_below_gain.npy\")\n",
    "    results[\"pr_below_userknn_reuse\"] = np.load(\"results/\" + path + \"/pr_below_userknn_reuse.npy\")\n",
    "    results[\"pr_below_pop_reuse\"] = np.load(\"results/\" + path + \"/pr_below_pop_reuse.npy\")\n",
    "    results[\"pr_below_gain_reuse\"] = np.load(\"results/\" + path + \"/pr_below_gain_reuse.npy\")\n",
    "    results[\"pr_below_userknn_no\"] = np.load(\"results/\" + path + \"/pr_below_userknn_no.npy\")\n",
    "    \n",
    "    results[\"pr_above_userknn_full\"] = np.load(\"results/\" + path + \"/pr_above_userknn_full.npy\")\n",
    "    results[\"pr_above_userknn\"] = np.load(\"results/\" + path + \"/pr_above_userknn.npy\")\n",
    "    results[\"pr_above_pop\"] = np.load(\"results/\" + path + \"/pr_above_pop.npy\")\n",
    "    results[\"pr_above_gain\"] = np.load(\"results/\" + path + \"/pr_above_gain.npy\")\n",
    "    results[\"pr_above_userknn_reuse\"] = np.load(\"results/\" + path + \"/pr_above_userknn_reuse.npy\")\n",
    "    results[\"pr_above_pop_reuse\"] = np.load(\"results/\" + path + \"/pr_above_pop_reuse.npy\")\n",
    "    results[\"pr_above_gain_reuse\"] = np.load(\"results/\" + path + \"/pr_above_gain_reuse.npy\")\n",
    "    results[\"pr_above_userknn_no\"] = np.load(\"results/\" + path + \"/pr_above_userknn_no.npy\")\n",
    "    \n",
    "    results[\"secures_userknn_full\"] = np.load(\"results/\" + path + \"/secures_userknn_full.npy\")\n",
    "    results[\"secures_userknn\"] = np.load(\"results/\" + path + \"/secures_userknn.npy\")\n",
    "    results[\"secures_pop\"] = np.load(\"results/\" + path + \"/secures_pop.npy\")\n",
    "    results[\"secures_gain\"] = np.load(\"results/\" + path + \"/secures_gain.npy\")\n",
    "    results[\"secures_userknn_reuse\"] = np.load(\"results/\" + path + \"/secures_userknn_reuse.npy\")\n",
    "    results[\"secures_pop_reuse\"] = np.load(\"results/\" + path + \"/secures_pop_reuse.npy\")\n",
    "    results[\"secures_gain_reuse\"] = np.load(\"results/\" + path + \"/secures_gain_reuse.npy\")\n",
    "    results[\"secures_userknn_no\"] = np.load(\"results/\" + path + \"/secures_userknn_no.npy\")\n",
    "    \n",
    "    results[\"vulnerables_userknn_full\"] = np.load(\"results/\" + path + \"/vulnerables_userknn_full.npy\")\n",
    "    results[\"vulnerables_userknn\"] = np.load(\"results/\" + path + \"/vulnerables_userknn.npy\")\n",
    "    results[\"vulnerables_pop\"] = np.load(\"results/\" + path + \"/vulnerables_pop.npy\")\n",
    "    results[\"vulnerables_gain\"] = np.load(\"results/\" + path + \"/vulnerables_gain.npy\")\n",
    "    results[\"vulnerables_userknn_reuse\"] = np.load(\"results/\" + path + \"/vulnerables_userknn_reuse.npy\")\n",
    "    results[\"vulnerables_pop_reuse\"] = np.load(\"results/\" + path + \"/vulnerables_pop_reuse.npy\")\n",
    "    results[\"vulnerables_gain_reuse\"] = np.load(\"results/\" + path + \"/vulnerables_gain_reuse.npy\")\n",
    "    results[\"vulnerables_userknn_no\"] = np.load(\"results/\" + path + \"/vulnerables_userknn_no.npy\")\n",
    "    \n",
    "    if protected:\n",
    "        results[\"nr_noisy_ratings_userknn_full\"] = np.load(\"results/\" + path + \"/nr_noisy_ratings_userknn_full.npy\")\n",
    "        results[\"nr_noisy_ratings_userknn\"] = np.load(\"results/\" + path + \"/nr_noisy_ratings_userknn.npy\")\n",
    "        results[\"nr_noisy_ratings_pop\"] = np.load(\"results/\" + path + \"/nr_noisy_ratings_pop.npy\")\n",
    "        results[\"nr_noisy_ratings_gain\"] = np.load(\"results/\" + path + \"/nr_noisy_ratings_gain.npy\")\n",
    "        results[\"nr_noisy_ratings_userknn_reuse\"] = np.load(\"results/\" + path + \"/nr_noisy_ratings_userknn_reuse.npy\")\n",
    "        results[\"nr_noisy_ratings_pop_reuse\"] = np.load(\"results/\" + path + \"/nr_noisy_ratings_pop_reuse.npy\")\n",
    "        results[\"nr_noisy_ratings_gain_reuse\"] = np.load(\"results/\" + path + \"/nr_noisy_ratings_gain_reuse.npy\")\n",
    "        results[\"nr_noisy_ratings_userknn_no\"] = np.load(\"results/\" + path + \"/nr_noisy_ratings_userknn_no.npy\")\n",
    "    \n",
    "    return results"
   ]
  },
  {
   "cell_type": "code",
   "execution_count": 1106,
   "metadata": {},
   "outputs": [],
   "source": [
    "%matplotlib inline"
   ]
  },
  {
   "cell_type": "code",
   "execution_count": 914,
   "metadata": {},
   "outputs": [],
   "source": [
    "%matplotlib qt"
   ]
  },
  {
   "cell_type": "markdown",
   "metadata": {},
   "source": [
    "## all users, protected"
   ]
  },
  {
   "cell_type": "code",
   "execution_count": 1210,
   "metadata": {},
   "outputs": [],
   "source": [
    "ml100k_results = load_data(name=\"ml-100k\", protected=True)\n",
    "ml1m_results = load_data(name=\"ml-1m\", protected=True)\n",
    "#jester_results = load_data(name=\"jester\", protected=True)\n",
    "#jester_results = load_data(name=\"foursquare\", protected=True)\n",
    "goodreads_results = load_data(name=\"goodreads\", protected=True)\n",
    "\n",
    "def plot_k_mae(ax, results):\n",
    "    markers = [\"o\", \"s\", \"p\", \"*\", \"+\", \"D\"]\n",
    "    \n",
    "    for idx in range(len(markers)):\n",
    "        ax.scatter(results[\"K\"][idx], results[\"mae_all_userknn_full\"][idx], color=\"gray\", alpha=0.75, marker=markers[idx])\n",
    "        ax.scatter(results[\"K\"][idx], results[\"mae_all_userknn\"][idx], color=\"C0\", alpha=0.5, marker=markers[idx])\n",
    "        ax.scatter(results[\"K\"][idx], results[\"mae_all_pop\"][idx], color=\"C1\", alpha=0.5, marker=markers[idx])\n",
    "        ax.scatter(results[\"K\"][idx], results[\"mae_all_gain\"][idx], color=\"C2\", alpha=0.5, marker=markers[idx])\n",
    "        ax.scatter(results[\"K\"][idx], results[\"mae_all_userknn_reuse\"][idx], color=\"C0\", marker=markers[idx])\n",
    "        ax.scatter(results[\"K\"][idx], results[\"mae_all_pop_reuse\"][idx], color=\"C1\", marker=markers[idx])\n",
    "        ax.scatter(results[\"K\"][idx], results[\"mae_all_gain_reuse\"][idx], color=\"C2\", marker=markers[idx])\n",
    "        ax.scatter(results[\"K\"][idx], results[\"mae_all_userknn_no\"][idx], color=\"gray\", marker=markers[idx])\n",
    "        \n",
    "    ax.plot(results[\"K\"], results[\"mae_all_userknn_full\"], color=\"gray\", linestyle=\"dashed\", alpha=0.75, linewidth=1)\n",
    "    ax.plot(results[\"K\"], results[\"mae_all_userknn\"], color=\"C0\", linestyle=\"dashed\", alpha=0.5)\n",
    "    ax.plot(results[\"K\"], results[\"mae_all_pop\"], color=\"C1\", linestyle=\"dashed\", alpha=0.5)\n",
    "    ax.plot(results[\"K\"], results[\"mae_all_gain\"], color=\"C2\", linestyle=\"dashed\", alpha=0.5)\n",
    "    ax.plot(results[\"K\"], results[\"mae_all_userknn_reuse\"], color=\"C0\", linestyle=\"solid\")\n",
    "    ax.plot(results[\"K\"], results[\"mae_all_pop_reuse\"], color=\"C1\", linestyle=\"solid\")\n",
    "    ax.plot(results[\"K\"], results[\"mae_all_gain_reuse\"], color=\"C2\", linestyle=\"solid\")\n",
    "    ax.plot(results[\"K\"], results[\"mae_all_userknn_no\"], color=\"gray\", linestyle=\"solid\", alpha=0.75, linewidth=1)\n",
    "\n",
    "fig, axes = plt.subplots(1, 3, figsize=(9, 4), sharex=False)\n",
    "plot_k_mae(axes[0], ml100k_results)\n",
    "plot_k_mae(axes[1], ml1m_results)\n",
    "#plot_k_mae(axes[2], jester_results)\n",
    "plot_k_mae(axes[2], goodreads_results)\n",
    "\n",
    "axes[0].set_ylabel(\"Mean absolute error\")\n",
    "axes[0].set_xlabel(\"Nr. of neighbors\")\n",
    "axes[1].set_xlabel(\"Nr. of neighbors\")\n",
    "axes[2].set_xlabel(\"Nr. of neighbors\")\n",
    "#axes[3].set_xlabel(\"Nr. of neighbors\")\n",
    "axes[0].set_title(\"MovieLens 100k\")\n",
    "axes[1].set_title(\"MovieLens 1M\")\n",
    "#axes[2].set_title(\"Jester\")\n",
    "axes[2].set_title(\"Goodreads\")\n",
    "\n",
    "colors = ['gray', 'C0', 'C1', 'C2']\n",
    "lines = []\n",
    "labels = []\n",
    "for c in colors:\n",
    "    lines.append(Line2D([0], [0], color=c, linestyle='dashed', alpha=0.5))\n",
    "    lines.append(Line2D([0], [0], color=c, linestyle=\"solid\"))\n",
    "labels = [\"FullKNN\", \"NoKNN\", \"UserKNN\", \"UserKNN+Reuse\", \"Popularity\", \"Popularity+Reuse\", \"Gain\", \"Gain+Reuse\"]\n",
    "\n",
    "fig.legend(lines, labels, ncol=4, loc='upper center')\n",
    "fig.tight_layout()\n",
    "fig.subplots_adjust(top=.75, bottom=0.15, hspace=0.35, wspace=0.35)\n",
    "\n",
    "fig.align_ylabels(axes)"
   ]
  },
  {
   "cell_type": "markdown",
   "metadata": {},
   "source": [
    "## accuracy vs. privacy risk [all users, protected, privacy risk of vulnerables set to 0]"
   ]
  },
  {
   "cell_type": "code",
   "execution_count": 1113,
   "metadata": {},
   "outputs": [
    {
     "data": {
      "image/png": "[encoded data removed]",
      "text/plain": [
       "<Figure size 648x288 with 3 Axes>"
      ]
     },
     "metadata": {
      "needs_background": "light"
     },
     "output_type": "display_data"
    }
   ],
   "source": [
    "ml100k_results = load_data(name=\"ml-100k\", protected=True)\n",
    "ml1m_results = load_data(name=\"ml-1m\", protected=True)\n",
    "#jester_results = load_data(name=\"jester\", protected=True)\n",
    "#jester_results = load_data(name=\"foursquare\", protected=True)\n",
    "goodreads_results = load_data(name=\"goodreads\", protected=True)\n",
    "\n",
    "def plot_mae_pr(ax, results):\n",
    "    #ax.plot(results[\"K\"], results[\"pr_all_userknn_full\"], color=\"gray\", linestyle=\"dashed\", alpha=0.75)\n",
    "    ax.plot(results[\"K\"], (results[\"pr_all_userknn\"]) / results[\"pr_all_userknn\"], color=\"C0\", linestyle=\"dashed\", alpha=0.5)\n",
    "    ax.plot(results[\"K\"], (results[\"pr_all_pop\"]) / results[\"pr_all_userknn\"], color=\"C1\", linestyle=\"dashed\", alpha=0.5)\n",
    "    ax.plot(results[\"K\"], (results[\"pr_all_gain\"]) / results[\"pr_all_userknn\"], color=\"C2\", linestyle=\"dashed\", alpha=0.5)\n",
    "    ax.plot(results[\"K\"], (results[\"pr_all_userknn_reuse\"]) / results[\"pr_all_userknn\"], color=\"C0\", linestyle=\"solid\")\n",
    "    ax.plot(results[\"K\"], (results[\"pr_all_pop_reuse\"]) / results[\"pr_all_userknn\"], color=\"C1\", linestyle=\"solid\")\n",
    "    ax.plot(results[\"K\"], (results[\"pr_all_gain_reuse\"]) / results[\"pr_all_userknn\"], color=\"C2\", linestyle=\"solid\")\n",
    "    #ax.plot(results[\"K\"], (results[\"pr_all_userknn_no\"]), color=\"gray\", linestyle=\"solid\", alpha=0.75)\n",
    "    \n",
    "fig, axes = plt.subplots(1, 3, figsize=(9, 4), sharex=False)\n",
    "plot_mae_pr(axes[0], ml100k_results)\n",
    "plot_mae_pr(axes[1], ml1m_results)\n",
    "#plot_mae_pr(axes[2], jester_results)\n",
    "plot_mae_pr(axes[2], goodreads_results)\n",
    "\n",
    "axes[0].set_ylabel(\"Avg. privacy risk\")\n",
    "axes[0].set_xlabel(\"Nr. of neighbors\")\n",
    "axes[1].set_xlabel(\"Nr. of neighbors\")\n",
    "axes[2].set_xlabel(\"Nr. of neighbors\")\n",
    "#axes[3].set_xlabel(\"Log avg. privacy risk\")\n",
    "axes[0].set_title(\"MovieLens 100k\")\n",
    "axes[1].set_title(\"MovieLens 1M\")\n",
    "#axes[2].set_title(\"Jester\")\n",
    "axes[2].set_title(\"Goodreads\")\n",
    "\n",
    "colors = ['gray', 'C0', 'C1', 'C2']\n",
    "lines = []\n",
    "labels = []\n",
    "for c in colors:\n",
    "    lines.append(Line2D([0], [0], color=c, linestyle='dashed', alpha=0.5))\n",
    "    lines.append(Line2D([0], [0], color=c, linestyle=\"solid\"))\n",
    "labels = [\"FullKNN\", \"NoKNN\", \"UserKNN\", \"UserKNN+Reuse\", \"Popularity\", \"Popularity+Reuse\", \"Gain\", \"Gain+Reuse\"]\n",
    "\n",
    "fig.legend(lines, labels, ncol=4, loc='upper center')\n",
    "fig.tight_layout()\n",
    "fig.subplots_adjust(top=.75, bottom=0.15, hspace=0.35, wspace=0.35)\n",
    "\n",
    "fig.align_ylabels(axes)"
   ]
  },
  {
   "cell_type": "code",
   "execution_count": 1109,
   "metadata": {},
   "outputs": [
    {
     "data": {
      "image/png": "[encoded data removed]",
      "text/plain": [
       "<Figure size 432x288 with 3 Axes>"
      ]
     },
     "metadata": {
      "needs_background": "light"
     },
     "output_type": "display_data"
    }
   ],
   "source": [
    "import numpy as np\n",
    "import matplotlib.pyplot as plt\n",
    "\n",
    "fig, (ax1, ax2) = plt.subplots(2, 1, sharex=True, gridspec_kw={'height_ratios': [4, 1]})\n",
    "fig.subplots_adjust(hspace=0.1)\n",
    "\n",
    "ax = fig.add_subplot(111, frameon=False)\n",
    "ax.set_ylabel(\"Log. avg. privacy risk\")\n",
    "ax.set_xlabel(\"Nr. of neighbors\")\n",
    "ax.tick_params(labelcolor='none', top=False, bottom=False, left=False, right=False)\n",
    "ax.grid(False)\n",
    "\n",
    "results = load_data(name=\"ml-100k\", protected=True)\n",
    "ax1.plot(results[\"K\"], np.log(results[\"pr_all_userknn\"]), color=\"C0\", linestyle=\"dashed\", alpha=0.5)\n",
    "ax1.plot(results[\"K\"], np.log(results[\"pr_all_pop\"]), color=\"C1\", linestyle=\"dashed\", alpha=0.5)\n",
    "ax1.plot(results[\"K\"], np.log(results[\"pr_all_gain\"]), color=\"C2\", linestyle=\"dashed\", alpha=0.5)\n",
    "ax1.plot(results[\"K\"], np.log(results[\"pr_all_userknn_reuse\"]), color=\"C0\", linestyle=\"solid\")\n",
    "ax1.plot(results[\"K\"], np.log(results[\"pr_all_pop_reuse\"]), color=\"C1\", linestyle=\"solid\")\n",
    "ax1.plot(results[\"K\"], np.log(results[\"pr_all_gain_reuse\"]), color=\"C2\", linestyle=\"solid\")\n",
    "ax1.plot(results[\"K\"], np.log(results[\"pr_all_userknn_no\"]), color=\"gray\", linestyle=\"solid\", alpha=0.75)\n",
    "ax2.plot(results[\"K\"], results[\"pr_all_userknn_full\"])\n",
    "\n",
    "ax1.set_ylim(3, 6.5)\n",
    "ax2.set_ylim(-0.25, 0.25)\n",
    "\n",
    "ax1.spines[\"bottom\"].set_visible(False)\n",
    "ax2.spines[\"top\"].set_visible(False)\n",
    "ax1.xaxis.tick_top()\n",
    "ax1.tick_params(labeltop=False)\n",
    "ax2.xaxis.tick_bottom()\n",
    "\n",
    "ticks = ax1.get_yticks()\n",
    "ax1.set_yticks(ticks[1:])\n",
    "ax2.yaxis.set_major_formatter(FormatStrFormatter('%.1f'))\n",
    "ax2.set_yticks([0.0])\n",
    "\n",
    "d = .5\n",
    "kwargs = dict(marker=[(-1, -d), (1, d)], markersize=12,\n",
    "              linestyle=\"none\", color='k', mec='k', mew=1, clip_on=False)\n",
    "ax1.plot([0, 1], [0, 0], transform=ax1.transAxes, **kwargs)\n",
    "ax2.plot([0, 1], [1, 1], transform=ax2.transAxes, **kwargs)\n",
    "\n",
    "\n",
    "plt.show()"
   ]
  },
  {
   "cell_type": "code",
   "execution_count": 1209,
   "metadata": {},
   "outputs": [
    {
     "name": "stderr",
     "output_type": "stream",
     "text": [
      "C:\\Users\\pmuellner\\AppData\\Local\\Continuum\\anaconda3\\lib\\site-packages\\ipykernel_launcher.py:91: UserWarning: This figure includes Axes that are not compatible with tight_layout, so results might be incorrect.\n"
     ]
    }
   ],
   "source": [
    "ml100k_results = load_data(name=\"ml-100k\", protected=True)\n",
    "ml1m_results = load_data(name=\"ml-1m\", protected=True)\n",
    "#jester_results = load_data(name=\"jester\", protected=True)\n",
    "#jester_results = load_data(name=\"foursquare\", protected=True)\n",
    "goodreads_results = load_data(name=\"goodreads\", protected=True)\n",
    "\n",
    "def plot_mae_pr(axes, results):\n",
    "    \"\"\"ax.plot(results[\"K\"], results[\"pr_all_userknn_full\"], color=\"gray\", linestyle=\"dashed\", alpha=0.75)\n",
    "    ax.plot(results[\"K\"], np.log(results[\"pr_all_userknn\"]), color=\"C0\", linestyle=\"dashed\", alpha=0.5)\n",
    "    ax.plot(results[\"K\"], np.log(results[\"pr_all_pop\"]), color=\"C1\", linestyle=\"dashed\", alpha=0.5)\n",
    "    ax.plot(results[\"K\"], np.log(results[\"pr_all_gain\"]), color=\"C2\", linestyle=\"dashed\", alpha=0.5)\n",
    "    ax.plot(results[\"K\"], np.log(results[\"pr_all_userknn_reuse\"]), color=\"C0\", linestyle=\"solid\")\n",
    "    ax.plot(results[\"K\"], np.log(results[\"pr_all_pop_reuse\"]), color=\"C1\", linestyle=\"solid\")\n",
    "    ax.plot(results[\"K\"], np.log(results[\"pr_all_gain_reuse\"]), color=\"C2\", linestyle=\"solid\")\n",
    "    ax.plot(results[\"K\"], np.log(results[\"pr_all_userknn_no\"]), color=\"gray\", linestyle=\"solid\", alpha=0.75)\"\"\"\n",
    "    \n",
    "    #fig, (ax1, ax2) = ax.subplots(2, 1, sharex=True, gridspec_kw={'height_ratios': [4, 1]})\n",
    "    #fig.subplots_adjust(hspace=0.1)\n",
    "\n",
    "    #ax = fig.add_subplot(111, frameon=False)\n",
    "    #ax.set_ylabel(\"Log. avg. privacy risk\")\n",
    "    #ax.set_xlabel(\"Nr. of neighbors\")\n",
    "    #ax.tick_params(labelcolor='none', top=False, bottom=False, left=False, right=False)\n",
    "    #ax.grid(False)\n",
    "\n",
    "    ax1, ax2 = axes\n",
    "    \n",
    "    ax1.plot(results[\"K\"], np.log10(results[\"pr_all_userknn\"]), color=\"C0\", linestyle=\"dashed\", alpha=0.5)\n",
    "    ax1.plot(results[\"K\"], np.log10(results[\"pr_all_pop\"]), color=\"C1\", linestyle=\"dashed\", alpha=0.5)\n",
    "    ax1.plot(results[\"K\"], np.log10(results[\"pr_all_gain\"]), color=\"C2\", linestyle=\"dashed\", alpha=0.5)\n",
    "    ax1.plot(results[\"K\"], np.log10(results[\"pr_all_userknn_reuse\"]), color=\"C0\", linestyle=\"solid\")\n",
    "    ax1.plot(results[\"K\"], np.log10(results[\"pr_all_pop_reuse\"]), color=\"C1\", linestyle=\"solid\")\n",
    "    ax1.plot(results[\"K\"], np.log10(results[\"pr_all_gain_reuse\"]), color=\"C2\", linestyle=\"solid\")\n",
    "    ax1.plot(results[\"K\"], np.log10(results[\"pr_all_userknn_no\"]), color=\"gray\", linestyle=\"solid\", alpha=0.75)\n",
    "    ax2.plot(results[\"K\"], results[\"pr_all_userknn_full\"], color=\"gray\", linestyle=\"dashed\", alpha=0.75)\n",
    "    \n",
    "    ymax = max(np.log10(results[\"pr_all_userknn_no\"]))\n",
    "    ymin = min(np.log10(results[\"pr_all_pop\"]))\n",
    "    ax1.set_ylim(ymin-0.2, ymax)\n",
    "    \n",
    "    #ax1.set_ylim(3, 6.8)\n",
    "    ax2.set_ylim(-0.25, 0.25)\n",
    "\n",
    "    ax1.spines[\"bottom\"].set_visible(False)\n",
    "    ax2.spines[\"top\"].set_visible(False)\n",
    "    ax1.xaxis.tick_top()\n",
    "    ax1.tick_params(labeltop=False)\n",
    "    ax2.xaxis.tick_bottom()\n",
    "\n",
    "    ticks = ax1.get_yticks()\n",
    "    ax1.set_yticks(ticks[1:])\n",
    "    ax2.set_yticks([0.0])\n",
    "    \n",
    "    ax1.yaxis.set_major_formatter(FormatStrFormatter('%.1f'))\n",
    "    ax2.yaxis.set_major_formatter(FormatStrFormatter('%.1f'))\n",
    "\n",
    "    d = .5\n",
    "    kwargs = dict(marker=[(-1, -d), (1, d)], markersize=10,\n",
    "                  linestyle=\"none\", color='k', mec='k', mew=1, clip_on=False)\n",
    "    ax1.plot([0, 1], [0, 0], transform=ax1.transAxes, **kwargs)\n",
    "    ax2.plot([0, 1], [1, 1], transform=ax2.transAxes, **kwargs)\n",
    "    \n",
    "fig, axes = plt.subplots(2, 3, figsize=(9, 4), gridspec_kw={\"hspace\": 0.05, \"height_ratios\": [4, 1]})\n",
    "#fig.subplots_adjust(hspace=0)\n",
    "ax = fig.add_subplot(111, frameon=False)\n",
    "ax.set_ylabel(\"Log. avg. privacy risk\")\n",
    "#ax.set_xlabel(\"Nr. of neighbors\")\n",
    "ax.tick_params(labelcolor='none', top=False, bottom=False, left=False, right=False)\n",
    "ax.grid(False)\n",
    "plot_mae_pr(axes[:, 0], ml100k_results)\n",
    "plot_mae_pr(axes[:, 1], ml1m_results)\n",
    "plot_mae_pr(axes[:, 2], goodreads_results)\n",
    "\n",
    "axes[0, 0].set_title(\"MovieLens 100k\")\n",
    "axes[0, 1].set_title(\"MovieLens 1M\")\n",
    "axes[0, 2].set_title(\"Goodreads\")\n",
    "\n",
    "axes[1, 0].set_xlabel(\"Nr. of neighbors\")\n",
    "axes[1, 1].set_xlabel(\"Nr. of neighbors\")\n",
    "axes[1, 2].set_xlabel(\"Nr. of neighbors\")\n",
    "\n",
    "colors = ['gray', 'C0', 'C1', 'C2']\n",
    "lines = []\n",
    "labels = []\n",
    "for c in colors:\n",
    "    lines.append(Line2D([0], [0], color=c, linestyle='dashed', alpha=0.5))\n",
    "    lines.append(Line2D([0], [0], color=c, linestyle=\"solid\"))\n",
    "labels = [\"FullKNN\", \"NoKNN\", \"UserKNN\", \"UserKNN+Reuse\", \"Popularity\", \"Popularity+Reuse\", \"Gain\", \"Gain+Reuse\"]\n",
    "\n",
    "fig.legend(lines, labels, ncol=4, loc='upper center')\n",
    "fig.tight_layout()\n",
    "fig.subplots_adjust(top=.75, bottom=0.15, hspace=0.35, wspace=0.35)\n",
    "\n",
    "fig.align_ylabels(axes)"
   ]
  },
  {
   "cell_type": "code",
   "execution_count": null,
   "metadata": {},
   "outputs": [],
   "source": []
  },
  {
   "cell_type": "markdown",
   "metadata": {},
   "source": [
    "# nr. vulnerable users"
   ]
  },
  {
   "cell_type": "code",
   "execution_count": 537,
   "metadata": {
    "scrolled": true
   },
   "outputs": [],
   "source": [
    "def plot_vulnerables(ax, results):\n",
    "    \"\"\"ax.plot(results[\"mae_all_userknn\"], results[\"vulnerables_userknn\"], color=\"C0\", linestyle=\"dashed\", alpha=0.5)\n",
    "    ax.plot(results[\"mae_all_pop\"], results[\"vulnerables_pop\"], color=\"C1\", linestyle=\"dashed\", alpha=0.5)\n",
    "    ax.plot(results[\"mae_all_gain\"], results[\"vulnerables_gain\"], color=\"C2\", linestyle=\"dashed\", alpha=0.5)\n",
    "    ax.plot(results[\"mae_all_userknn_reuse\"], results[\"vulnerables_userknn_reuse\"], color=\"C0\", linestyle=\"solid\")\n",
    "    ax.plot(results[\"mae_all_pop_reuse\"], results[\"vulnerables_pop_reuse\"], color=\"C1\", linestyle=\"solid\")\n",
    "    ax.plot(results[\"mae_all_gain_reuse\"], results[\"vulnerables_gain_reuse\"], color=\"C2\", linestyle=\"solid\")\"\"\"\n",
    "    \n",
    "    ax.plot(results[\"vulnerables_userknn\"], results[\"mae_all_userknn\"], color=\"C0\", linestyle=\"dashed\", alpha=0.5)\n",
    "    ax.plot(results[\"vulnerables_pop\"], results[\"mae_all_pop\"], color=\"C1\", linestyle=\"dashed\", alpha=0.5)\n",
    "    ax.plot(results[\"vulnerables_gain\"], results[\"mae_all_gain\"], color=\"C2\", linestyle=\"dashed\", alpha=0.5)\n",
    "    ax.plot(results[\"vulnerables_userknn_reuse\"], results[\"mae_all_userknn_reuse\"], color=\"C0\", linestyle=\"solid\")\n",
    "    ax.plot(results[\"vulnerables_pop_reuse\"], results[\"mae_all_pop_reuse\"], color=\"C1\", linestyle=\"solid\")\n",
    "    ax.plot(results[\"vulnerables_gain_reuse\"], results[\"mae_all_gain_reuse\"], color=\"C2\", linestyle=\"solid\")\n",
    "\n",
    "ml100k_results = load_data(\"ml-100k\", protected=True)\n",
    "#ml1m_results = load_data(\"/protected/ml-1m\")\n",
    "#jester_results = load_data(\"jester\", protected=True)\n",
    "#goodreads_results = load_data(\"/protected/goodreads\")\n",
    "\n",
    "fig, axes = plt.subplots(1, 4, figsize=(9, 4), sharex=False)\n",
    "plot_vulnerables(axes[0], ml100k_results)\n",
    "#plot_vulnerables(axes[1], ml1m_results)\n",
    "#plot_vulnerables(axes[2], jester_results)\n",
    "#plot_vulnerables(axes[3], goodreads_results)\n",
    "\n",
    "axes[0].set_xlabel(\"Nr. of vulnerables\")\n",
    "axes[1].set_xlabel(\"Nr. of vulnerables\")\n",
    "axes[2].set_xlabel(\"Nr. of vulnerables\")\n",
    "axes[3].set_xlabel(\"Nr. of vulnerables\")\n",
    "axes[0].set_ylabel(\"Mean absolute error\")\n",
    "axes[0].set_title(\"MovieLens 100k\")\n",
    "axes[1].set_title(\"MovieLens 1M\")\n",
    "axes[2].set_title(\"Jester\")\n",
    "axes[3].set_title(\"Goodreads\")\n",
    "\n",
    "colors = ['C0', 'C1', 'C2']\n",
    "lines = []\n",
    "labels = []\n",
    "for c in colors:\n",
    "    lines.append(Line2D([0], [0], color=c, linestyle='dashed', alpha=0.5))\n",
    "    lines.append(Line2D([0], [0], color=c, linestyle=\"solid\"))\n",
    "labels = [\"UserKNN\", \"UserKNN+Reuse\", \"Popularity\", \"Popularity+Reuse\", \"Gain\", \"Gain+Reuse\"]\n",
    "\n",
    "fig.legend(lines, labels, ncol=3, loc='upper center')\n",
    "fig.tight_layout()\n",
    "fig.subplots_adjust(top=.75, bottom=0.15, hspace=0.35, wspace=0.35)\n",
    "\n",
    "fig.align_ylabels(axes)"
   ]
  },
  {
   "cell_type": "code",
   "execution_count": null,
   "metadata": {},
   "outputs": [],
   "source": [
    "# trade-off protected all users (privacy risk of protected/vulnerable users set to 0)"
   ]
  },
  {
   "cell_type": "markdown",
   "metadata": {},
   "source": [
    "# Vulnerable neighbors + trade-off below threshold"
   ]
  },
  {
   "cell_type": "code",
   "execution_count": 368,
   "metadata": {},
   "outputs": [],
   "source": [
    "fig, axes = plt.subplots(2, 4, figsize=(9, 6), sharex=False)\n",
    "plot_exposure(axes[0, 0], ml100k_results)\n",
    "plot_exposure(axes[0, 1], ml1m_results)\n",
    "plot_exposure(axes[0, 2], jester_results)\n",
    "plot_exposure(axes[0, 3], goodreads_results)\n",
    "\n",
    "plot_vulnerables(axes[1, 0], ml100k_results)\n",
    "plot_vulnerables(axes[1, 1], ml1m_results)\n",
    "plot_vulnerables(axes[1, 2], jester_results)\n",
    "plot_vulnerables(axes[1, 3], goodreads_results)\n",
    "\n",
    "axes[0, 0].set_ylabel(\"Avg. privacy risk\")\n",
    "axes[1, 0].set_xlabel(\"Mean absolute error\")\n",
    "axes[1, 1].set_xlabel(\"Mean absolute error\")\n",
    "axes[1, 2].set_xlabel(\"Mean absolute error\")\n",
    "axes[1, 3].set_xlabel(\"Mean absolute error\")\n",
    "axes[1, 0].set_ylabel(\"Nr. of vulnerables\")\n",
    "axes[0, 0].set_title(\"MovieLens 100k\")\n",
    "axes[0, 1].set_title(\"MovieLens 1M\")\n",
    "axes[0, 2].set_title(\"Jester\")\n",
    "axes[0, 3].set_title(\"Goodreads\")\n",
    "\n",
    "colors = ['C0', 'C1', 'C2']\n",
    "lines = []\n",
    "labels = []\n",
    "for c in colors:\n",
    "    lines.append(Line2D([0], [0], color=c, linestyle='dashed', alpha=0.5))\n",
    "    lines.append(Line2D([0], [0], color=c, linestyle=\"solid\"))\n",
    "labels = [\"UserKNN\", \"UserKNN+Reuse\", \"Popularity\", \"Popularity+Reuse\", \"Gain\", \"Gain+Reuse\"]\n",
    "\n",
    "fig.legend(lines, labels, ncol=3, loc='upper center')\n",
    "fig.tight_layout()\n",
    "fig.subplots_adjust(top=0.8, bottom=0.2, hspace=0.35, wspace=0.25)\n",
    "\n",
    "fig.align_ylabels(axes)"
   ]
  },
  {
   "cell_type": "markdown",
   "metadata": {},
   "source": [
    "# Intro Figure"
   ]
  },
  {
   "cell_type": "code",
   "execution_count": 1205,
   "metadata": {},
   "outputs": [
    {
     "data": {
      "text/plain": [
       "<matplotlib.legend.Legend at 0x22dc7ca4dd8>"
      ]
     },
     "execution_count": 1205,
     "metadata": {},
     "output_type": "execute_result"
    }
   ],
   "source": [
    "%matplotlib qt\n",
    "def double_exponential(x, alpha):\n",
    "    return 1 / np.exp(np.exp(alpha * x))\n",
    "\n",
    "fig, ax = plt.subplots(1, 2, sharey=True, sharex=True)\n",
    "\n",
    "x = np.linspace(0, 100, 1000)\n",
    "x_ = double_exponential(x, alpha=0.02) * 0.5\n",
    "threshold = x[np.argmax(np.gradient(np.gradient(x_)))]\n",
    "ax[0].fill_between(x[x <= threshold], 0, x_[x <= threshold], color=\"green\", label=\"Secure\", edgecolor=\"black\", hatch=\"//\")\n",
    "ax[0].fill_between(x[x >= threshold][:-200], 0, x_[x >= threshold][:-200], color=\"red\", label=\"Vulnerable\")\n",
    "ax[0].axvline(x=threshold, linestyle=\"dashed\", linewidth=1, color=\"black\")\n",
    "ax[0].set_ylabel(\"Nr. of users\")\n",
    "ax[0].set_xlabel(\"Privacy risk\")\n",
    "ax[0].text(threshold-7, 0.25, r\"Threshold $\\tau$\", rotation=90)\n",
    "\n",
    "ax[0].set_yticks([0, 0.1, 0.2, 0.3, 0.4, 0.5, 0.6, 0.7])\n",
    "ax[0].set_yticklabels([0, 100, 200, 300, 400, 500, 600, 700])\n",
    "#ax[0].set_ylim([0, 1])\n",
    "ax[0].set_title(\"UserKNN\")\n",
    "ax[0].legend()\n",
    "\n",
    "x = np.linspace(0, 100, 1000)\n",
    "x_ = double_exponential(x, alpha=0.05) * 2 #double_exponential(x, alpha=0.06) * 2\n",
    "ax[1].fill_between(x[x <= threshold], 0, x_[x <= threshold], color=\"green\", label=\"Secure\", edgecolor=\"black\", hatch=\"//\")\n",
    "ax[1].fill_between(x[x >= threshold], 0, x_[x >= threshold], color=\"red\", label=\"Vulnerable\", hatch=\"//\")\n",
    "#ax[1].fill_between(np.linspace(95, 100, 200), 0, x_[:200][::-1] * 0.5, color=\"red\")\n",
    "#plt.plot(np.linspace(90, 100, 200), x_[:200][::-1]*0.5)\n",
    "ax[1].axvline(x=threshold, c=\"black\", linestyle=\"dashed\", linewidth=1)\n",
    "ax[1].text(threshold-7, 0.25, r\"Threshold $\\tau$\", rotation=90, color=\"black\")\n",
    "ax[1].set_xlabel(\"Privacy risk\")\n",
    "ax[1].set_title(\"ReuseKNN\")\n",
    "ax[1].legend()"
   ]
  },
  {
   "cell_type": "code",
   "execution_count": null,
   "metadata": {},
   "outputs": [],
   "source": []
  },
  {
   "cell_type": "code",
   "execution_count": null,
   "metadata": {},
   "outputs": [],
   "source": []
  },
  {
   "cell_type": "code",
   "execution_count": 830,
   "metadata": {},
   "outputs": [
    {
     "data": {
      "text/plain": [
       "1.0567144528273058"
      ]
     },
     "execution_count": 830,
     "metadata": {},
     "output_type": "execute_result"
    }
   ],
   "source": [
    "df = pd.read_csv(\"data/ml-100k/u.data\", sep=\"\\t\", names=[\"user_id\", \"item_id\", \"rating\", \"timestamp\"], usecols=[\"user_id\", \"item_id\", \"rating\"])\n",
    "df.groupby(\"item_id\")[\"rating\"].std().mean()"
   ]
  },
  {
   "cell_type": "code",
   "execution_count": 831,
   "metadata": {},
   "outputs": [
    {
     "name": "stderr",
     "output_type": "stream",
     "text": [
      "C:\\Users\\pmuellner\\AppData\\Local\\Continuum\\anaconda3\\lib\\site-packages\\ipykernel_launcher.py:1: ParserWarning: Falling back to the 'python' engine because the 'c' engine does not support regex separators (separators > 1 char and different from '\\s+' are interpreted as regex); you can avoid this warning by specifying engine='python'.\n",
      "  \"\"\"Entry point for launching an IPython kernel.\n"
     ]
    },
    {
     "data": {
      "text/plain": [
       "1.0112571461714301"
      ]
     },
     "execution_count": 831,
     "metadata": {},
     "output_type": "execute_result"
    }
   ],
   "source": [
    "df = pd.read_csv(\"data/ml-1m/ratings.dat\", sep=\"::\", names=[\"user_id\", \"item_id\", \"rating\", \"timestamp\"], usecols=[\"user_id\", \"item_id\", \"rating\"])\n",
    "df.groupby(\"item_id\")[\"rating\"].std().mean()"
   ]
  },
  {
   "cell_type": "code",
   "execution_count": 828,
   "metadata": {},
   "outputs": [
    {
     "data": {
      "text/plain": [
       "5.0462659371993945"
      ]
     },
     "execution_count": 828,
     "metadata": {},
     "output_type": "execute_result"
    }
   ],
   "source": [
    "df = pd.read_csv(\"data/jester/sample.csv\", sep=\";\", header=None, names=[\"user_id\", \"item_id\", \"rating\"])\n",
    "df.groupby(\"item_id\")[\"rating\"].std().mean()"
   ]
  },
  {
   "cell_type": "code",
   "execution_count": 832,
   "metadata": {},
   "outputs": [
    {
     "data": {
      "text/plain": [
       "1.4846369197936895"
      ]
     },
     "execution_count": 832,
     "metadata": {},
     "output_type": "execute_result"
    }
   ],
   "source": [
    "df = pd.read_csv(\"data/goodreads/sample.csv\", sep=\";\", header=None, names=[\"user_id\", \"item_id\", \"rating\"])\n",
    "df.groupby(\"item_id\")[\"rating\"].std().mean()"
   ]
  },
  {
   "cell_type": "code",
   "execution_count": null,
   "metadata": {},
   "outputs": [],
   "source": []
  }
 ],
 "metadata": {
  "kernelspec": {
   "display_name": "Python 3",
   "language": "python",
   "name": "python3"
  },
  "language_info": {
   "codemirror_mode": {
    "name": "ipython",
    "version": 3
   },
   "file_extension": ".py",
   "mimetype": "text/x-python",
   "name": "python",
   "nbconvert_exporter": "python",
   "pygments_lexer": "ipython3",
   "version": "3.7.3"
  }
 },
 "nbformat": 4,
 "nbformat_minor": 4
}
