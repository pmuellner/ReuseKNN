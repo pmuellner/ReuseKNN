{
 "cells": [
  {
   "cell_type": "code",
   "execution_count": 288,
   "metadata": {},
   "outputs": [],
   "source": [
    "import pyximport\n",
    "import numpy as np\n",
    "pyximport.install(setup_args={\"include_dirs\": np.get_include()},\n",
    "                  reload_support=True)\n",
    "from algorithms.knn_neighborhood import UserKNN\n",
    "from surprise import Dataset, Reader, accuracy\n",
    "from surprise.model_selection import train_test_split, KFold\n",
    "import matplotlib.pyplot as plt\n",
    "import pandas as pd\n",
    "from collections import defaultdict, Counter\n",
    "from datetime import datetime as dt\n",
    "from scipy.stats import spearmanr\n",
    "from sklearn.preprocessing import MinMaxScaler\n",
    "from scipy.stats import gaussian_kde\n",
    "from sklearn.neighbors import KernelDensity"
   ]
  },
  {
   "cell_type": "code",
   "execution_count": 289,
   "metadata": {},
   "outputs": [],
   "source": [
    "data_df = pd.read_csv(\"data/ml-100k/u.data\", sep=\"\\t\")\n",
    "data_df.columns = [\"user_id\", \"item_id\", \"rating\", \"timestamp\"]\n",
    "data_df.drop(columns=[\"timestamp\"], axis=1, inplace=True)\n",
    "data_df[\"user_id\"] = data_df[\"user_id\"].map({b: a for a, b in enumerate(data_df[\"user_id\"].unique())})\n",
    "data_df[\"item_id\"] = data_df[\"item_id\"].map({b: a for a, b in enumerate(data_df[\"item_id\"].unique())})\n",
    "\n",
    "reader = Reader(rating_scale=(1, 5))\n",
    "dataset = Dataset.load_from_df(data_df, reader=reader)\n",
    "trainset, testset = train_test_split(dataset, 0.2)"
   ]
  },
  {
   "cell_type": "code",
   "execution_count": 290,
   "metadata": {},
   "outputs": [],
   "source": [
    "item_popularity = {iid: len(ratings) / trainset.n_users for iid, ratings in trainset.ir.items()}"
   ]
  },
  {
   "cell_type": "code",
   "execution_count": 305,
   "metadata": {},
   "outputs": [
    {
     "name": "stdout",
     "output_type": "stream",
     "text": [
      "0.9032573503980453\n"
     ]
    },
    {
     "data": {
      "text/plain": [
       "0.0"
      ]
     },
     "execution_count": 305,
     "metadata": {},
     "output_type": "execute_result"
    }
   ],
   "source": [
    "model = UserKNN(k=10, reuse=True)\n",
    "model.fit(trainset)\n",
    "predictions = model.test(testset)\n",
    "print(accuracy.mae(predictions, verbose=False))\n",
    "\n",
    "privacy_score = dict()\n",
    "privacy_score_pairwise = np.zeros((trainset.n_users, trainset.n_users))\n",
    "for alice, secrets in model.known_secrets.items():\n",
    "    sensitivity = dict()\n",
    "    for bob, iid in secrets:\n",
    "        sensitivity_i = np.log(1 / item_popularity[iid])\n",
    "        sensitivity[bob] = sensitivity.get(bob, 0) + sensitivity_i\n",
    "    \n",
    "    for bob, s in sensitivity.items():\n",
    "        privacy_score[bob] = privacy_score.get(bob, 0) + s\n",
    "        privacy_score_pairwise[alice, bob] = s\n",
    "\n",
    "userknn_ps = privacy_score\n",
    "userknn_sim = model.sim\n",
    "userknn_scores = np.array(list(privacy_score.values()))\n",
    "\n",
    "counts, edges = np.histogram(userknn_scores, bins=25)\n",
    "kde = KernelDensity(bandwidth=100.0, kernel='gaussian')\n",
    "kde.fit(counts.reshape(-1, 1))\n",
    "logprob = kde.score_samples(np.linspace(0, np.max(edges), 1000).reshape(-1, 1))\n",
    "#threshold = np.where(np.abs(np.gradient(np.exp(logprob))) < 1e-7)[0][0]\n",
    "#threshold = np.linspace(0, np.max(edges), 1000)[np.argmax(np.gradient(np.gradient(np.exp(logprob))))]\n",
    "threshold = np.linspace(0, np.max(edges), 1000)[np.argmax((np.gradient(np.exp(logprob))))]\n",
    "threshold"
   ]
  },
  {
   "cell_type": "code",
   "execution_count": 304,
   "metadata": {},
   "outputs": [
    {
     "data": {
      "text/plain": [
       "[<matplotlib.lines.Line2D at 0x24d0bd045c0>]"
      ]
     },
     "execution_count": 304,
     "metadata": {},
     "output_type": "execute_result"
    }
   ],
   "source": [
    "%matplotlib qt\n",
    "plt.plot(np.exp(logprob))"
   ]
  },
  {
   "cell_type": "code",
   "execution_count": 303,
   "metadata": {},
   "outputs": [
    {
     "data": {
      "text/plain": [
       "0.0"
      ]
     },
     "execution_count": 303,
     "metadata": {},
     "output_type": "execute_result"
    }
   ],
   "source": [
    "np.linspace(0, np.max(edges), 1000)[np.argmax((np.gradient(np.exp(logprob))))]"
   ]
  },
  {
   "cell_type": "code",
   "execution_count": null,
   "metadata": {},
   "outputs": [],
   "source": []
  },
  {
   "cell_type": "code",
   "execution_count": null,
   "metadata": {},
   "outputs": [],
   "source": []
  },
  {
   "cell_type": "code",
   "execution_count": 306,
   "metadata": {},
   "outputs": [
    {
     "name": "stdout",
     "output_type": "stream",
     "text": [
      "0.8982649879111324\n"
     ]
    }
   ],
   "source": [
    "model = UserKNN(k=10, reuse=True, tau_2=0.5)\n",
    "model.fit(trainset)\n",
    "predictions = model.test(testset)\n",
    "print(accuracy.mae(predictions, verbose=False))\n",
    "\n",
    "privacy_score = dict()\n",
    "privacy_score_pairwise = np.zeros((trainset.n_users, trainset.n_users))\n",
    "for alice, secrets in model.known_secrets.items():\n",
    "    sensitivity = dict()\n",
    "    for bob, iid in secrets:\n",
    "        sensitivity_i = np.log(1 / item_popularity[iid])\n",
    "        sensitivity[bob] = sensitivity.get(bob, 0) + sensitivity_i\n",
    "    \n",
    "    for bob, s in sensitivity.items():\n",
    "        privacy_score[bob] = privacy_score.get(bob, 0) + s\n",
    "        privacy_score_pairwise[alice, bob] = s\n",
    "\n",
    "reuseknn_ps = privacy_score\n",
    "reuseknn_sim = model.sim\n",
    "reuseknn_scores = np.array(list(privacy_score.values()))"
   ]
  },
  {
   "cell_type": "code",
   "execution_count": 307,
   "metadata": {},
   "outputs": [
    {
     "data": {
      "text/plain": [
       "(470.44274497622416, 596.2735329470152)"
      ]
     },
     "execution_count": 307,
     "metadata": {},
     "output_type": "execute_result"
    }
   ],
   "source": [
    "np.mean(userknn_scores), np.mean(reuseknn_scores)"
   ]
  },
  {
   "cell_type": "code",
   "execution_count": null,
   "metadata": {},
   "outputs": [],
   "source": []
  },
  {
   "cell_type": "code",
   "execution_count": 308,
   "metadata": {},
   "outputs": [
    {
     "data": {
      "text/plain": [
       "(943, 744)"
      ]
     },
     "execution_count": 308,
     "metadata": {},
     "output_type": "execute_result"
    }
   ],
   "source": [
    "userknn_protected_users = dict()\n",
    "for uid, score in userknn_ps.items():\n",
    "    if score > threshold:\n",
    "        userknn_protected_users[uid] = score\n",
    "\n",
    "reuseknn_protected_users = dict()\n",
    "for uid, score in reuseknn_ps.items():\n",
    "    if score > threshold:\n",
    "        reuseknn_protected_users[uid] = score\n",
    "\n",
    "len(userknn_protected_users), len(reuseknn_protected_users)"
   ]
  },
  {
   "cell_type": "code",
   "execution_count": 256,
   "metadata": {},
   "outputs": [
    {
     "data": {
      "text/html": [
       "<div>\n",
       "<style scoped>\n",
       "    .dataframe tbody tr th:only-of-type {\n",
       "        vertical-align: middle;\n",
       "    }\n",
       "\n",
       "    .dataframe tbody tr th {\n",
       "        vertical-align: top;\n",
       "    }\n",
       "\n",
       "    .dataframe thead th {\n",
       "        text-align: right;\n",
       "    }\n",
       "</style>\n",
       "<table border=\"1\" class=\"dataframe\">\n",
       "  <thead>\n",
       "    <tr style=\"text-align: right;\">\n",
       "      <th></th>\n",
       "      <th>user_id</th>\n",
       "      <th>item_id</th>\n",
       "      <th>rating</th>\n",
       "    </tr>\n",
       "  </thead>\n",
       "  <tbody>\n",
       "    <tr>\n",
       "      <th>0</th>\n",
       "      <td>0</td>\n",
       "      <td>0</td>\n",
       "      <td>5.0</td>\n",
       "    </tr>\n",
       "    <tr>\n",
       "      <th>1</th>\n",
       "      <td>0</td>\n",
       "      <td>53</td>\n",
       "      <td>3.0</td>\n",
       "    </tr>\n",
       "    <tr>\n",
       "      <th>2</th>\n",
       "      <td>0</td>\n",
       "      <td>6</td>\n",
       "      <td>5.0</td>\n",
       "    </tr>\n",
       "    <tr>\n",
       "      <th>3</th>\n",
       "      <td>0</td>\n",
       "      <td>46</td>\n",
       "      <td>5.0</td>\n",
       "    </tr>\n",
       "    <tr>\n",
       "      <th>4</th>\n",
       "      <td>0</td>\n",
       "      <td>503</td>\n",
       "      <td>4.0</td>\n",
       "    </tr>\n",
       "  </tbody>\n",
       "</table>\n",
       "</div>"
      ],
      "text/plain": [
       "   user_id  item_id  rating\n",
       "0        0        0     5.0\n",
       "1        0       53     3.0\n",
       "2        0        6     5.0\n",
       "3        0       46     5.0\n",
       "4        0      503     4.0"
      ]
     },
     "execution_count": 256,
     "metadata": {},
     "output_type": "execute_result"
    }
   ],
   "source": [
    "df = pd.DataFrame.from_records(list(trainset.all_ratings()), columns=[\"user_id\", \"item_id\", \"rating\"])\n",
    "df.head()"
   ]
  },
  {
   "cell_type": "code",
   "execution_count": 287,
   "metadata": {},
   "outputs": [
    {
     "name": "stdout",
     "output_type": "stream",
     "text": [
      "[UserKNN] Avg. Nr. of Ratings 93.296599, Avg. Similarity 0.894938\n",
      "[ReuseKNN] Avg. Nr. of Ratings 177.093333, Avg. Similarity 0.926639\n"
     ]
    },
    {
     "data": {
      "image/png": "[encoded data removed]",
      "text/plain": [
       "<Figure size 432x288 with 2 Axes>"
      ]
     },
     "metadata": {
      "needs_background": "light"
     },
     "output_type": "display_data"
    },
    {
     "data": {
      "image/png": "[encoded data removed]",
      "text/plain": [
       "<Figure size 432x288 with 2 Axes>"
      ]
     },
     "metadata": {
      "needs_background": "light"
     },
     "output_type": "display_data"
    }
   ],
   "source": [
    "fig1, axes1 = plt.subplots(1, 2, sharey=False, sharex=False)\n",
    "fig2, axes2 = plt.subplots(1, 2, sharey=False, sharex=False)\n",
    "dataset_size = []\n",
    "similarity = []\n",
    "for uid in userknn_protected_users.keys():\n",
    "    n_ratings = df.groupby(\"user_id\").size()[uid]\n",
    "    dataset_size.append(n_ratings)\n",
    "    \n",
    "    similarity.append(np.mean(userknn_sim[uid, :]))\n",
    "\n",
    "axes1[0].hist(dataset_size, bins=25);\n",
    "axes1[0].axvline(x=np.mean(dataset_size), color=\"gray\", linestyle=\"dashed\")\n",
    "axes1[0].set_ylabel(\"Nr. of Users\")\n",
    "axes1[0].set_xlabel(\"Nr. of Ratings\")\n",
    "axes1[0].set_title(\"UserKNN\")\n",
    "\n",
    "axes2[0].hist(similarity, bins=25);\n",
    "axes2[0].axvline(x=np.mean(similarity), color=\"gray\", linestyle=\"dashed\")\n",
    "axes2[0].set_ylabel(\"Nr. of Users\")\n",
    "axes2[0].set_xlabel(\"Avg. Similarity\")\n",
    "axes2[0].set_title(\"UserKNN\")\n",
    "\n",
    "print(\"[UserKNN] Avg. Nr. of Ratings %f, Avg. Similarity %f\" % (np.mean(dataset_size), np.mean(similarity)))\n",
    "\n",
    "dataset_size = []\n",
    "similarity = []\n",
    "for uid in reuseknn_protected_users.keys():\n",
    "    n_ratings = df.groupby(\"user_id\").size()[uid]\n",
    "    dataset_size.append(n_ratings)\n",
    "    \n",
    "    similarity.append(np.mean(userknn_sim[uid, :]))\n",
    "    \n",
    "axes1[1].hist(dataset_size, bins=25);\n",
    "axes1[1].axvline(x=np.mean(dataset_size), color=\"gray\", linestyle=\"dashed\")\n",
    "axes1[1].set_xlabel(\"Nr. of Ratings\")\n",
    "axes1[1].set_title(\"ReuseKNN\")\n",
    "\n",
    "axes2[1].hist(similarity, bins=25);\n",
    "axes2[1].axvline(x=np.mean(similarity), color=\"gray\", linestyle=\"dashed\")\n",
    "axes2[1].set_xlabel(\"Avg. Similarity\")\n",
    "axes2[1].set_title(\"ReuseKNN\")\n",
    "\n",
    "print(\"[ReuseKNN] Avg. Nr. of Ratings %f, Avg. Similarity %f\" % (np.mean(dataset_size), np.mean(similarity)))"
   ]
  },
  {
   "cell_type": "code",
   "execution_count": 286,
   "metadata": {},
   "outputs": [
    {
     "name": "stdout",
     "output_type": "stream",
     "text": [
      "[UserKNN] Avg. Nr. of Ratings 54.932692, Avg. Similarity 0.860325\n",
      "[ReuseKNN] Avg. Nr. of Ratings 41.790047, Avg. Similarity 0.868950\n"
     ]
    },
    {
     "data": {
      "image/png": "[encoded data removed]",
      "text/plain": [
       "<Figure size 432x288 with 2 Axes>"
      ]
     },
     "metadata": {
      "needs_background": "light"
     },
     "output_type": "display_data"
    },
    {
     "data": {
      "image/png": "[encoded data removed]",
      "text/plain": [
       "<Figure size 432x288 with 2 Axes>"
      ]
     },
     "metadata": {
      "needs_background": "light"
     },
     "output_type": "display_data"
    }
   ],
   "source": [
    "fig1, axes1 = plt.subplots(1, 2, sharey=False, sharex=False)\n",
    "fig2, axes2 = plt.subplots(1, 2, sharey=False, sharex=False)\n",
    "dataset_size = []\n",
    "similarity = []\n",
    "for uid in set(trainset.all_users()).difference(userknn_protected_users.keys()):\n",
    "    n_ratings = df.groupby(\"user_id\").size()[uid]\n",
    "    dataset_size.append(n_ratings)\n",
    "    \n",
    "    similarity.append(np.mean(userknn_sim[uid, :]))\n",
    "\n",
    "axes1[0].hist(dataset_size, bins=25);\n",
    "axes1[0].axvline(x=np.mean(dataset_size), color=\"gray\", linestyle=\"dashed\")\n",
    "axes1[0].set_ylabel(\"Nr. of Users\")\n",
    "axes1[0].set_xlabel(\"Nr. of Ratings\")\n",
    "axes1[0].set_title(\"UserKNN\")\n",
    "\n",
    "axes2[0].hist(similarity, bins=25);\n",
    "axes2[0].axvline(x=np.mean(similarity), color=\"gray\", linestyle=\"dashed\")\n",
    "axes2[0].set_ylabel(\"Nr. of Users\")\n",
    "axes2[0].set_xlabel(\"Avg. Similarity\")\n",
    "axes2[0].set_title(\"UserKNN\")\n",
    "\n",
    "print(\"[UserKNN] Avg. Nr. of Ratings %f, Avg. Similarity %f\" % (np.mean(dataset_size), np.mean(similarity)))\n",
    "\n",
    "dataset_size = []\n",
    "similarity = []\n",
    "for uid in set(trainset.all_users()).difference(reuseknn_protected_users.keys()):\n",
    "    n_ratings = df.groupby(\"user_id\").size()[uid]\n",
    "    dataset_size.append(n_ratings)\n",
    "    \n",
    "    similarity.append(np.mean(userknn_sim[uid, :]))\n",
    "    \n",
    "axes1[1].hist(dataset_size, bins=25);\n",
    "axes1[1].axvline(x=np.mean(dataset_size), color=\"gray\", linestyle=\"dashed\")\n",
    "axes1[1].set_xlabel(\"Nr. of Ratings\")\n",
    "axes1[1].set_title(\"ReuseKNN\")\n",
    "\n",
    "axes2[1].hist(similarity, bins=25);\n",
    "axes2[1].axvline(x=np.mean(similarity), color=\"gray\", linestyle=\"dashed\")\n",
    "axes2[1].set_xlabel(\"Avg. Similarity\")\n",
    "axes2[1].set_title(\"ReuseKNN\")\n",
    "\n",
    "print(\"[ReuseKNN] Avg. Nr. of Ratings %f, Avg. Similarity %f\" % (np.mean(dataset_size), np.mean(similarity)))\n"
   ]
  },
  {
   "cell_type": "code",
   "execution_count": null,
   "metadata": {},
   "outputs": [],
   "source": []
  },
  {
   "cell_type": "code",
   "execution_count": null,
   "metadata": {},
   "outputs": [],
   "source": []
  },
  {
   "cell_type": "code",
   "execution_count": 239,
   "metadata": {},
   "outputs": [],
   "source": [
    "userknn_protected_neighbors, reuseknn_protected_neighbors = [], []\n",
    "for t in range(1, 2000):\n",
    "    userknn_protected_neighbors.append(len(userknn_scores[userknn_scores > t]))\n",
    "    reuseknn_protected_neighbors.append(len(reuseknn_scores[reuseknn_scores > t]))"
   ]
  },
  {
   "cell_type": "code",
   "execution_count": 240,
   "metadata": {},
   "outputs": [],
   "source": [
    "%matplotlib inline"
   ]
  },
  {
   "cell_type": "code",
   "execution_count": 241,
   "metadata": {},
   "outputs": [
    {
     "data": {
      "text/plain": [
       "<matplotlib.legend.Legend at 0x24d792be908>"
      ]
     },
     "execution_count": 241,
     "metadata": {},
     "output_type": "execute_result"
    },
    {
     "data": {
      "image/png": "[encoded data removed]",
      "text/plain": [
       "<Figure size 432x288 with 1 Axes>"
      ]
     },
     "metadata": {
      "needs_background": "light"
     },
     "output_type": "display_data"
    }
   ],
   "source": [
    "plt.plot((np.array(reuseknn_protected_neighbors) / np.array(userknn_protected_neighbors))[:1000])\n",
    "plt.ylabel(\"Frac. of protected neighbors\")\n",
    "plt.xlabel(\"PrivacyRisk Threshold\")\n",
    "plt.axhline(y=1, color=\"grey\", linestyle=\"dotted\", label=\"Critical Point\")\n",
    "plt.axvline(x=threshold, color=\"grey\", linestyle=\"--\", label=\"Threshold\")\n",
    "plt.legend()"
   ]
  },
  {
   "cell_type": "code",
   "execution_count": 242,
   "metadata": {},
   "outputs": [],
   "source": [
    "threshold = int(threshold)"
   ]
  },
  {
   "cell_type": "code",
   "execution_count": 243,
   "metadata": {},
   "outputs": [
    {
     "data": {
      "text/plain": [
       "(0.31601272534464475, 0.7783669141039237)"
      ]
     },
     "execution_count": 243,
     "metadata": {},
     "output_type": "execute_result"
    }
   ],
   "source": [
    "np.array(reuseknn_protected_neighbors)[threshold] / trainset.n_users, np.array(userknn_protected_neighbors)[threshold] / trainset.n_users"
   ]
  },
  {
   "cell_type": "code",
   "execution_count": 244,
   "metadata": {},
   "outputs": [
    {
     "data": {
      "text/plain": [
       "(125.52522375834923, 46.381195106088036)"
      ]
     },
     "execution_count": 244,
     "metadata": {},
     "output_type": "execute_result"
    }
   ],
   "source": [
    "np.mean(userknn_scores[userknn_scores <= threshold]), np.mean(reuseknn_scores[reuseknn_scores <= threshold])"
   ]
  },
  {
   "cell_type": "code",
   "execution_count": 245,
   "metadata": {},
   "outputs": [
    {
     "data": {
      "text/plain": [
       "(565.8065874201827, 1405.385812146661)"
      ]
     },
     "execution_count": 245,
     "metadata": {},
     "output_type": "execute_result"
    }
   ],
   "source": [
    "np.mean(userknn_scores[userknn_scores > threshold]), np.mean(reuseknn_scores[reuseknn_scores > threshold])"
   ]
  },
  {
   "cell_type": "code",
   "execution_count": null,
   "metadata": {},
   "outputs": [],
   "source": []
  }
 ],
 "metadata": {
  "kernelspec": {
   "display_name": "Python 3",
   "language": "python",
   "name": "python3"
  },
  "language_info": {
   "codemirror_mode": {
    "name": "ipython",
    "version": 3
   },
   "file_extension": ".py",
   "mimetype": "text/x-python",
   "name": "python",
   "nbconvert_exporter": "python",
   "pygments_lexer": "ipython3",
   "version": "3.7.3"
  }
 },
 "nbformat": 4,
 "nbformat_minor": 4
}
