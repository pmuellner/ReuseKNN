{
 "cells": [
  {
   "cell_type": "code",
   "execution_count": 94,
   "metadata": {},
   "outputs": [],
   "source": [
    "import pyximport\n",
    "import numpy as np\n",
    "pyximport.install(setup_args={\"include_dirs\": np.get_include()},\n",
    "                  reload_support=True)\n",
    "from algorithms.knn_neighborhood import UserKNN\n",
    "from surprise import Dataset, Reader, accuracy\n",
    "from surprise.model_selection import train_test_split, KFold\n",
    "import matplotlib.pyplot as plt\n",
    "import pandas as pd\n",
    "from collections import defaultdict\n",
    "from scipy.stats import skew\n",
    "from sklearn.preprocessing import MinMaxScaler"
   ]
  },
  {
   "cell_type": "code",
   "execution_count": 40,
   "metadata": {},
   "outputs": [],
   "source": [
    "data_df = pd.read_csv(\"data/ml-100k/u.data\", sep=\"\\t\", names=[\"user_id\", \"item_id\", \"rating\", \"timestamp\"], usecols=[\"user_id\", \"item_id\", \"rating\"])\n",
    "reader = Reader(rating_scale=(1, 5))\n",
    "dataset = Dataset.load_from_df(data_df, reader)\n",
    "folds = KFold(n_splits=5)\n",
    "#trainset, testset = train_test_split(dataset, test_size=0.2)"
   ]
  },
  {
   "cell_type": "code",
   "execution_count": 111,
   "metadata": {},
   "outputs": [],
   "source": [
    "def rank_utility(model):\n",
    "    sorted_uids = [uid for uid, _ in sorted(model.mae_u.items(), key=lambda t: t[1])[::-1]]\n",
    "    return {uid: r for r, uid in enumerate(sorted_uids)}\n",
    "\n",
    "def rank_privacy(model):\n",
    "    sorted_uids = [uid for uid, _ in sorted(model.exposure_u.items(), key=lambda t: t[1])[::-1]]\n",
    "    return {uid: r for r, uid in enumerate(sorted_uids)}\n",
    "\n",
    "def tradeoff(model, lam):\n",
    "    utility_ranks = rank_utility(model)\n",
    "    privacy_ranks = rank_privacy(model)\n",
    "    uids = set(utility_ranks.keys()).intersection(privacy_ranks.keys())\n",
    "    avg_ranks = {uid: lam * utility_ranks[uid] + (1 - lam) * privacy_ranks[uid] for uid in uids}\n",
    "    return avg_ranks\n",
    "\n",
    "def delta_tradeoff(model1, model2, lam):\n",
    "    ranks1 = tradeoff(model1, lam)\n",
    "    ranks2 = tradeoff(model2, lam)\n",
    "    uids = set(ranks1.keys()).intersection(ranks2.keys())\n",
    "    return [np.abs(ranks2[uid] - ranks1[uid]) for uid in uids]"
   ]
  },
  {
   "cell_type": "code",
   "execution_count": 112,
   "metadata": {},
   "outputs": [],
   "source": [
    "def gini(x):\n",
    "    x = MinMaxScaler().fit_transform(np.array(x).reshape(-1, 1))\n",
    "    # Mean absolute difference\n",
    "    mad = np.abs(np.subtract.outer(x, x)).mean()\n",
    "    # Relative mean absolute difference\n",
    "    rmad = mad/np.mean(x)\n",
    "    # Gini coefficient\n",
    "    g = 0.5 * rmad\n",
    "    return g\n",
    "\n",
    "def hoover(x):\n",
    "    x = MinMaxScaler().fit_transform(np.array(x).reshape(-1, 1))\n",
    "    x_ = sorted(x)\n",
    "    H = 0.5 * np.sum([np.abs(x_[i] - np.mean(x_)) for i in range(len(x_))]) / np.sum(x_)\n",
    "    return H"
   ]
  },
  {
   "cell_type": "code",
   "execution_count": 113,
   "metadata": {},
   "outputs": [
    {
     "name": "stdout",
     "output_type": "stream",
     "text": [
      "=== k: 1 ===\n"
     ]
    },
    {
     "name": "stderr",
     "output_type": "stream",
     "text": [
      "C:\\Users\\pmuellner\\AppData\\Local\\Continuum\\anaconda3\\lib\\site-packages\\ipykernel_launcher.py:14: RuntimeWarning: invalid value encountered in double_scalars\n",
      "  \n"
     ]
    },
    {
     "name": "stdout",
     "output_type": "stream",
     "text": [
      "UserKNN Delta: nan\n"
     ]
    },
    {
     "name": "stderr",
     "output_type": "stream",
     "text": [
      "C:\\Users\\pmuellner\\AppData\\Local\\Continuum\\anaconda3\\lib\\site-packages\\ipykernel_launcher.py:14: RuntimeWarning: invalid value encountered in double_scalars\n",
      "  \n"
     ]
    },
    {
     "name": "stdout",
     "output_type": "stream",
     "text": [
      "UserKNN + Reuse Delta: 0.343857\n",
      "Popularity Delta: 0.274854\n",
      "Popularity + Reuse Delta: 0.281830\n",
      "Gain Delta: 0.277501\n",
      "Gain + Reuse Delta: 0.287675\n",
      "=== k: 3 ===\n"
     ]
    },
    {
     "name": "stderr",
     "output_type": "stream",
     "text": [
      "C:\\Users\\pmuellner\\AppData\\Local\\Continuum\\anaconda3\\lib\\site-packages\\ipykernel_launcher.py:14: RuntimeWarning: invalid value encountered in double_scalars\n",
      "  \n"
     ]
    },
    {
     "name": "stdout",
     "output_type": "stream",
     "text": [
      "UserKNN Delta: nan\n"
     ]
    },
    {
     "name": "stderr",
     "output_type": "stream",
     "text": [
      "C:\\Users\\pmuellner\\AppData\\Local\\Continuum\\anaconda3\\lib\\site-packages\\ipykernel_launcher.py:14: RuntimeWarning: invalid value encountered in double_scalars\n",
      "  \n"
     ]
    },
    {
     "name": "stdout",
     "output_type": "stream",
     "text": [
      "UserKNN + Reuse Delta: 0.317157\n",
      "Popularity Delta: 0.291264\n",
      "Popularity + Reuse Delta: 0.285968\n",
      "Gain Delta: 0.285467\n",
      "Gain + Reuse Delta: 0.281810\n",
      "=== k: 5 ===\n"
     ]
    },
    {
     "name": "stderr",
     "output_type": "stream",
     "text": [
      "C:\\Users\\pmuellner\\AppData\\Local\\Continuum\\anaconda3\\lib\\site-packages\\ipykernel_launcher.py:14: RuntimeWarning: invalid value encountered in double_scalars\n",
      "  \n"
     ]
    },
    {
     "name": "stdout",
     "output_type": "stream",
     "text": [
      "UserKNN Delta: nan\n"
     ]
    },
    {
     "name": "stderr",
     "output_type": "stream",
     "text": [
      "C:\\Users\\pmuellner\\AppData\\Local\\Continuum\\anaconda3\\lib\\site-packages\\ipykernel_launcher.py:14: RuntimeWarning: invalid value encountered in double_scalars\n",
      "  \n"
     ]
    },
    {
     "name": "stdout",
     "output_type": "stream",
     "text": [
      "UserKNN + Reuse Delta: 0.320029\n",
      "Popularity Delta: 0.294034\n",
      "Popularity + Reuse Delta: 0.294404\n",
      "Gain Delta: 0.287439\n",
      "Gain + Reuse Delta: 0.283181\n",
      "=== k: 7 ===\n"
     ]
    },
    {
     "name": "stderr",
     "output_type": "stream",
     "text": [
      "C:\\Users\\pmuellner\\AppData\\Local\\Continuum\\anaconda3\\lib\\site-packages\\ipykernel_launcher.py:14: RuntimeWarning: invalid value encountered in double_scalars\n",
      "  \n"
     ]
    },
    {
     "name": "stdout",
     "output_type": "stream",
     "text": [
      "UserKNN Delta: nan\n"
     ]
    },
    {
     "name": "stderr",
     "output_type": "stream",
     "text": [
      "C:\\Users\\pmuellner\\AppData\\Local\\Continuum\\anaconda3\\lib\\site-packages\\ipykernel_launcher.py:14: RuntimeWarning: invalid value encountered in double_scalars\n",
      "  \n"
     ]
    },
    {
     "name": "stdout",
     "output_type": "stream",
     "text": [
      "UserKNN + Reuse Delta: 0.319418\n",
      "Popularity Delta: 0.300092\n",
      "Popularity + Reuse Delta: 0.305616\n",
      "Gain Delta: 0.292878\n",
      "Gain + Reuse Delta: 0.294221\n",
      "=== k: 9 ===\n"
     ]
    },
    {
     "name": "stderr",
     "output_type": "stream",
     "text": [
      "C:\\Users\\pmuellner\\AppData\\Local\\Continuum\\anaconda3\\lib\\site-packages\\ipykernel_launcher.py:14: RuntimeWarning: invalid value encountered in double_scalars\n",
      "  \n"
     ]
    },
    {
     "name": "stdout",
     "output_type": "stream",
     "text": [
      "UserKNN Delta: nan\n"
     ]
    },
    {
     "name": "stderr",
     "output_type": "stream",
     "text": [
      "C:\\Users\\pmuellner\\AppData\\Local\\Continuum\\anaconda3\\lib\\site-packages\\ipykernel_launcher.py:14: RuntimeWarning: invalid value encountered in double_scalars\n",
      "  \n"
     ]
    },
    {
     "name": "stdout",
     "output_type": "stream",
     "text": [
      "UserKNN + Reuse Delta: 0.319240\n",
      "Popularity Delta: 0.296790\n",
      "Popularity + Reuse Delta: 0.296635\n",
      "Gain Delta: 0.296293\n",
      "Gain + Reuse Delta: 0.301209\n",
      "=== k: 11 ===\n"
     ]
    },
    {
     "name": "stderr",
     "output_type": "stream",
     "text": [
      "C:\\Users\\pmuellner\\AppData\\Local\\Continuum\\anaconda3\\lib\\site-packages\\ipykernel_launcher.py:14: RuntimeWarning: invalid value encountered in double_scalars\n",
      "  \n"
     ]
    },
    {
     "name": "stdout",
     "output_type": "stream",
     "text": [
      "UserKNN Delta: nan\n"
     ]
    },
    {
     "name": "stderr",
     "output_type": "stream",
     "text": [
      "C:\\Users\\pmuellner\\AppData\\Local\\Continuum\\anaconda3\\lib\\site-packages\\ipykernel_launcher.py:14: RuntimeWarning: invalid value encountered in double_scalars\n",
      "  \n"
     ]
    },
    {
     "name": "stdout",
     "output_type": "stream",
     "text": [
      "UserKNN + Reuse Delta: 0.326870\n",
      "Popularity Delta: 0.294340\n",
      "Popularity + Reuse Delta: 0.299051\n",
      "Gain Delta: 0.295298\n",
      "Gain + Reuse Delta: 0.295952\n",
      "=== k: 13 ===\n"
     ]
    },
    {
     "name": "stderr",
     "output_type": "stream",
     "text": [
      "C:\\Users\\pmuellner\\AppData\\Local\\Continuum\\anaconda3\\lib\\site-packages\\ipykernel_launcher.py:14: RuntimeWarning: invalid value encountered in double_scalars\n",
      "  \n"
     ]
    },
    {
     "name": "stdout",
     "output_type": "stream",
     "text": [
      "UserKNN Delta: nan\n"
     ]
    },
    {
     "name": "stderr",
     "output_type": "stream",
     "text": [
      "C:\\Users\\pmuellner\\AppData\\Local\\Continuum\\anaconda3\\lib\\site-packages\\ipykernel_launcher.py:14: RuntimeWarning: invalid value encountered in double_scalars\n",
      "  \n"
     ]
    },
    {
     "name": "stdout",
     "output_type": "stream",
     "text": [
      "UserKNN + Reuse Delta: 0.327791\n",
      "Popularity Delta: 0.309606\n",
      "Popularity + Reuse Delta: 0.306532\n",
      "Gain Delta: 0.301215\n",
      "Gain + Reuse Delta: 0.299025\n",
      "=== k: 15 ===\n"
     ]
    },
    {
     "name": "stderr",
     "output_type": "stream",
     "text": [
      "C:\\Users\\pmuellner\\AppData\\Local\\Continuum\\anaconda3\\lib\\site-packages\\ipykernel_launcher.py:14: RuntimeWarning: invalid value encountered in double_scalars\n",
      "  \n"
     ]
    },
    {
     "name": "stdout",
     "output_type": "stream",
     "text": [
      "UserKNN Delta: nan\n"
     ]
    },
    {
     "name": "stderr",
     "output_type": "stream",
     "text": [
      "C:\\Users\\pmuellner\\AppData\\Local\\Continuum\\anaconda3\\lib\\site-packages\\ipykernel_launcher.py:14: RuntimeWarning: invalid value encountered in double_scalars\n",
      "  \n"
     ]
    },
    {
     "name": "stdout",
     "output_type": "stream",
     "text": [
      "UserKNN + Reuse Delta: 0.325937\n",
      "Popularity Delta: 0.319323\n",
      "Popularity + Reuse Delta: 0.311486\n",
      "Gain Delta: 0.308103\n",
      "Gain + Reuse Delta: 0.309854\n",
      "=== k: 17 ===\n"
     ]
    },
    {
     "name": "stderr",
     "output_type": "stream",
     "text": [
      "C:\\Users\\pmuellner\\AppData\\Local\\Continuum\\anaconda3\\lib\\site-packages\\ipykernel_launcher.py:14: RuntimeWarning: invalid value encountered in double_scalars\n",
      "  \n"
     ]
    },
    {
     "name": "stdout",
     "output_type": "stream",
     "text": [
      "UserKNN Delta: nan\n"
     ]
    },
    {
     "name": "stderr",
     "output_type": "stream",
     "text": [
      "C:\\Users\\pmuellner\\AppData\\Local\\Continuum\\anaconda3\\lib\\site-packages\\ipykernel_launcher.py:14: RuntimeWarning: invalid value encountered in double_scalars\n",
      "  \n"
     ]
    },
    {
     "name": "stdout",
     "output_type": "stream",
     "text": [
      "UserKNN + Reuse Delta: 0.323861\n",
      "Popularity Delta: 0.318396\n",
      "Popularity + Reuse Delta: 0.314793\n",
      "Gain Delta: 0.313156\n",
      "Gain + Reuse Delta: 0.313848\n",
      "=== k: 19 ===\n"
     ]
    },
    {
     "name": "stderr",
     "output_type": "stream",
     "text": [
      "C:\\Users\\pmuellner\\AppData\\Local\\Continuum\\anaconda3\\lib\\site-packages\\ipykernel_launcher.py:14: RuntimeWarning: invalid value encountered in double_scalars\n",
      "  \n"
     ]
    },
    {
     "name": "stdout",
     "output_type": "stream",
     "text": [
      "UserKNN Delta: nan\n"
     ]
    },
    {
     "name": "stderr",
     "output_type": "stream",
     "text": [
      "C:\\Users\\pmuellner\\AppData\\Local\\Continuum\\anaconda3\\lib\\site-packages\\ipykernel_launcher.py:14: RuntimeWarning: invalid value encountered in double_scalars\n",
      "  \n"
     ]
    },
    {
     "name": "stdout",
     "output_type": "stream",
     "text": [
      "UserKNN + Reuse Delta: 0.329894\n",
      "Popularity Delta: 0.320563\n",
      "Popularity + Reuse Delta: 0.320178\n",
      "Gain Delta: 0.315566\n",
      "Gain + Reuse Delta: 0.314532\n",
      "=== k: 21 ===\n"
     ]
    },
    {
     "name": "stderr",
     "output_type": "stream",
     "text": [
      "C:\\Users\\pmuellner\\AppData\\Local\\Continuum\\anaconda3\\lib\\site-packages\\ipykernel_launcher.py:14: RuntimeWarning: invalid value encountered in double_scalars\n",
      "  \n"
     ]
    },
    {
     "name": "stdout",
     "output_type": "stream",
     "text": [
      "UserKNN Delta: nan\n"
     ]
    },
    {
     "name": "stderr",
     "output_type": "stream",
     "text": [
      "C:\\Users\\pmuellner\\AppData\\Local\\Continuum\\anaconda3\\lib\\site-packages\\ipykernel_launcher.py:14: RuntimeWarning: invalid value encountered in double_scalars\n",
      "  \n"
     ]
    },
    {
     "name": "stdout",
     "output_type": "stream",
     "text": [
      "UserKNN + Reuse Delta: 0.325707\n",
      "Popularity Delta: 0.329294\n",
      "Popularity + Reuse Delta: 0.326636\n",
      "Gain Delta: 0.323120\n",
      "Gain + Reuse Delta: 0.323139\n",
      "=== k: 23 ===\n"
     ]
    },
    {
     "name": "stderr",
     "output_type": "stream",
     "text": [
      "C:\\Users\\pmuellner\\AppData\\Local\\Continuum\\anaconda3\\lib\\site-packages\\ipykernel_launcher.py:14: RuntimeWarning: invalid value encountered in double_scalars\n",
      "  \n"
     ]
    },
    {
     "name": "stdout",
     "output_type": "stream",
     "text": [
      "UserKNN Delta: nan\n"
     ]
    },
    {
     "name": "stderr",
     "output_type": "stream",
     "text": [
      "C:\\Users\\pmuellner\\AppData\\Local\\Continuum\\anaconda3\\lib\\site-packages\\ipykernel_launcher.py:14: RuntimeWarning: invalid value encountered in double_scalars\n",
      "  \n"
     ]
    },
    {
     "name": "stdout",
     "output_type": "stream",
     "text": [
      "UserKNN + Reuse Delta: 0.335997\n",
      "Popularity Delta: 0.331656\n",
      "Popularity + Reuse Delta: 0.333988\n",
      "Gain Delta: 0.326111\n",
      "Gain + Reuse Delta: 0.327147\n",
      "=== k: 25 ===\n"
     ]
    },
    {
     "name": "stderr",
     "output_type": "stream",
     "text": [
      "C:\\Users\\pmuellner\\AppData\\Local\\Continuum\\anaconda3\\lib\\site-packages\\ipykernel_launcher.py:14: RuntimeWarning: invalid value encountered in double_scalars\n",
      "  \n"
     ]
    },
    {
     "name": "stdout",
     "output_type": "stream",
     "text": [
      "UserKNN Delta: nan\n"
     ]
    },
    {
     "name": "stderr",
     "output_type": "stream",
     "text": [
      "C:\\Users\\pmuellner\\AppData\\Local\\Continuum\\anaconda3\\lib\\site-packages\\ipykernel_launcher.py:14: RuntimeWarning: invalid value encountered in double_scalars\n",
      "  \n"
     ]
    },
    {
     "name": "stdout",
     "output_type": "stream",
     "text": [
      "UserKNN + Reuse Delta: 0.336201\n",
      "Popularity Delta: 0.336792\n",
      "Popularity + Reuse Delta: 0.332137\n",
      "Gain Delta: 0.332176\n",
      "Gain + Reuse Delta: 0.332788\n",
      "=== k: 27 ===\n"
     ]
    },
    {
     "name": "stderr",
     "output_type": "stream",
     "text": [
      "C:\\Users\\pmuellner\\AppData\\Local\\Continuum\\anaconda3\\lib\\site-packages\\ipykernel_launcher.py:14: RuntimeWarning: invalid value encountered in double_scalars\n",
      "  \n"
     ]
    },
    {
     "name": "stdout",
     "output_type": "stream",
     "text": [
      "UserKNN Delta: nan\n"
     ]
    },
    {
     "name": "stderr",
     "output_type": "stream",
     "text": [
      "C:\\Users\\pmuellner\\AppData\\Local\\Continuum\\anaconda3\\lib\\site-packages\\ipykernel_launcher.py:14: RuntimeWarning: invalid value encountered in double_scalars\n",
      "  \n"
     ]
    },
    {
     "name": "stdout",
     "output_type": "stream",
     "text": [
      "UserKNN + Reuse Delta: 0.333477\n",
      "Popularity Delta: 0.336438\n",
      "Popularity + Reuse Delta: 0.329663\n",
      "Gain Delta: 0.328997\n",
      "Gain + Reuse Delta: 0.327517\n",
      "=== k: 29 ===\n"
     ]
    },
    {
     "name": "stderr",
     "output_type": "stream",
     "text": [
      "C:\\Users\\pmuellner\\AppData\\Local\\Continuum\\anaconda3\\lib\\site-packages\\ipykernel_launcher.py:14: RuntimeWarning: invalid value encountered in double_scalars\n",
      "  \n"
     ]
    },
    {
     "name": "stdout",
     "output_type": "stream",
     "text": [
      "UserKNN Delta: nan\n"
     ]
    },
    {
     "name": "stderr",
     "output_type": "stream",
     "text": [
      "C:\\Users\\pmuellner\\AppData\\Local\\Continuum\\anaconda3\\lib\\site-packages\\ipykernel_launcher.py:14: RuntimeWarning: invalid value encountered in double_scalars\n",
      "  \n"
     ]
    },
    {
     "name": "stdout",
     "output_type": "stream",
     "text": [
      "UserKNN + Reuse Delta: 0.336478\n",
      "Popularity Delta: 0.340090\n",
      "Popularity + Reuse Delta: 0.331586\n",
      "Gain Delta: 0.335863\n",
      "Gain + Reuse Delta: 0.326937\n"
     ]
    }
   ],
   "source": [
    "Ks = np.arange(1, 30, 2)\n",
    "\n",
    "userknn_delta_avg, userknn_reuse_delta_avg = [], []\n",
    "popularity_delta_avg, popularity_reuse_delta_avg = [], []\n",
    "gain_delta_avg, gain_reuse_delta_avg = [], []\n",
    "\n",
    "for trainset, testset in folds.split(dataset):\n",
    "    sim = UserKNN().compute_similarities(trainset, min_support=1)\n",
    "    pop_r = UserKNN().compute_popularities(trainset)\n",
    "    gain_r = UserKNN().compute_gain(trainset)\n",
    "\n",
    "    userknn_delta, userknn_reuse_delta = [], []\n",
    "    popularity_delta, popularity_reuse_delta = [], []\n",
    "    gain_delta, gain_reuse_delta = [], []\n",
    "    for k in Ks:\n",
    "        print(\"=== k: %d ===\" % k)\n",
    "        userknn = UserKNN(k=k, precomputed_sim=sim)\n",
    "        userknn.fit(trainset)\n",
    "        _ = userknn.test(testset)\n",
    "        delta = delta_tradeoff(userknn, userknn, lam=0.5)\n",
    "        print(\"UserKNN Delta: %f\" % hoover(delta))\n",
    "        userknn_delta.append(hoover(delta))\n",
    "\n",
    "        userknn_reuse = UserKNN(k=k, precomputed_sim=sim, reuse=True)\n",
    "        userknn_reuse.fit(trainset)\n",
    "        _ = userknn_reuse.test(testset)\n",
    "        delta = delta_tradeoff(userknn, userknn_reuse, lam=0.5)\n",
    "        print(\"UserKNN + Reuse Delta: %f\" % hoover(delta))\n",
    "        userknn_reuse_delta.append(hoover(delta))\n",
    "\n",
    "        popularity = UserKNN(k=k, precomputed_sim=sim, precomputed_pop=pop_r, tau_2=0.5)\n",
    "        popularity.fit(trainset)\n",
    "        _ = popularity.test(testset)\n",
    "        delta = delta_tradeoff(userknn, popularity, lam=0.5)\n",
    "        print(\"Popularity Delta: %f\" % hoover(delta))\n",
    "        popularity_delta.append(hoover(delta))\n",
    "\n",
    "        popularity_reuse = UserKNN(k=k, precomputed_sim=sim, precomputed_pop=pop_r, tau_2=0.5, reuse=True)\n",
    "        popularity_reuse.fit(trainset)\n",
    "        _ = popularity_reuse.test(testset)\n",
    "        delta = delta_tradeoff(userknn, popularity_reuse, lam=0.5)\n",
    "        print(\"Popularity + Reuse Delta: %f\" % hoover(delta))\n",
    "        popularity_reuse_delta.append(hoover(delta))\n",
    "\n",
    "        gain = UserKNN(k=k, precomputed_sim=sim, precomputed_gain=gain_r, tau_4=0.5)\n",
    "        gain.fit(trainset)\n",
    "        _ = gain.test(testset)\n",
    "        delta = delta_tradeoff(userknn, gain, lam=0.5)\n",
    "        print(\"Gain Delta: %f\" % hoover(delta))\n",
    "        gain_delta.append(hoover(delta))\n",
    "\n",
    "        gain_reuse = UserKNN(k=k, precomputed_sim=sim, precomputed_gain=gain_r, tau_4=0.5, reuse=True)\n",
    "        gain_reuse.fit(trainset)\n",
    "        _ = gain_reuse.test(testset)\n",
    "        delta = delta_tradeoff(userknn, gain_reuse, lam=0.5)\n",
    "        print(\"Gain + Reuse Delta: %f\" % hoover(delta))\n",
    "        gain_reuse_delta.append(hoover(delta))\n",
    "    \n",
    "    userknn_delta_avg.append(userknn_delta)\n",
    "    userknn_reuse_delta_avg.append(userknn_reuse_delta)\n",
    "    popularity_delta_avg.append(popularity_delta)\n",
    "    popularity_reuse_delta_avg.append(popularity_reuse_delta)\n",
    "    gain_delta_avg.append(gain_delta)\n",
    "    gain_reuse_delta_avg.append(gain_reuse_delta)\n",
    "    \n",
    "    break\n",
    "    \n",
    "userknn_delta_avg = np.mean(userknn_delta_avg, axis=0)\n",
    "userknn_reuse_delta_avg = np.mean(userknn_reuse_delta_avg, axis=0)\n",
    "popularity_delta_avg = np.mean(popularity_delta_avg, axis=0)\n",
    "popularity_reuse_delta_avg = np.mean(popularity_reuse_delta_avg, axis=0)\n",
    "gain_delta_avg = np.mean(gain_delta_avg, axis=0)\n",
    "gain_reuse_delta_avg = np.mean(gain_reuse_delta_avg, axis=0)"
   ]
  },
  {
   "cell_type": "code",
   "execution_count": 88,
   "metadata": {},
   "outputs": [],
   "source": [
    "%matplotlib qt"
   ]
  },
  {
   "cell_type": "code",
   "execution_count": 101,
   "metadata": {},
   "outputs": [
    {
     "name": "stderr",
     "output_type": "stream",
     "text": [
      "C:\\Users\\pmuellner\\AppData\\Local\\Continuum\\anaconda3\\lib\\site-packages\\ipykernel_launcher.py:7: RuntimeWarning: invalid value encountered in double_scalars\n",
      "  import sys\n"
     ]
    },
    {
     "name": "stdout",
     "output_type": "stream",
     "text": [
      "nan 0.4729597557193635 0.3761189690646829\n"
     ]
    },
    {
     "name": "stderr",
     "output_type": "stream",
     "text": [
      "C:\\Users\\pmuellner\\AppData\\Local\\Continuum\\anaconda3\\lib\\site-packages\\ipykernel_launcher.py:7: RuntimeWarning: invalid value encountered in double_scalars\n",
      "  import sys\n"
     ]
    },
    {
     "name": "stdout",
     "output_type": "stream",
     "text": [
      "nan 0.4492038813586473 0.39463489550445247\n",
      "nan 0.4610645262938714 0.40699726379361717\n"
     ]
    },
    {
     "name": "stderr",
     "output_type": "stream",
     "text": [
      "C:\\Users\\pmuellner\\AppData\\Local\\Continuum\\anaconda3\\lib\\site-packages\\ipykernel_launcher.py:7: RuntimeWarning: invalid value encountered in double_scalars\n",
      "  import sys\n"
     ]
    }
   ],
   "source": [
    "# todo look at distribution +-\n",
    "def gini(x):\n",
    "    x = MinMaxScaler().fit_transform(np.array(x).reshape(-1, 1))\n",
    "    # Mean absolute difference\n",
    "    mad = np.abs(np.subtract.outer(x, x)).mean()\n",
    "    # Relative mean absolute difference\n",
    "    rmad = mad/np.mean(x)\n",
    "    # Gini coefficient\n",
    "    g = 0.5 * rmad\n",
    "    return g\n",
    "\n",
    "fig, ax = plt.subplots(1, 3)\n",
    "\n",
    "dataset = Dataset.load_from_df(data_df, reader)\n",
    "trainset, testset = train_test_split(dataset, test_size=0.2)\n",
    "\n",
    "k = 5\n",
    "userknn = UserKNN(k=k, precomputed_sim=sim)\n",
    "userknn.fit(trainset)\n",
    "_ = userknn.test(testset)\n",
    "delta1 = delta_tradeoff(userknn, userknn, lam=0.5)\n",
    "\n",
    "userknn_reuse = UserKNN(k=k, precomputed_sim=sim, reuse=True)\n",
    "userknn_reuse.fit(trainset)\n",
    "_ = userknn_reuse.test(testset)\n",
    "delta2 = delta_tradeoff(userknn, userknn_reuse, lam=0.5)\n",
    "\n",
    "gain_reuse = UserKNN(k=k, precomputed_sim=sim, precomputed_gain=gain_r, tau_4=0.5, reuse=True)\n",
    "gain_reuse.fit(trainset)\n",
    "_ = gain_reuse.test(testset)\n",
    "delta3 = delta_tradeoff(userknn, gain_reuse, lam=0.5)\n",
    "\n",
    "print(gini(delta1), gini(delta2), gini(delta3))\n",
    "\n",
    "ax[0].set_title(\"k=5\")\n",
    "ax[0].hist(delta3, bins=20, label=\"Gain + Reuse\", alpha=0.5)\n",
    "ax[0].hist(delta2, bins=20, label=\"UserKNN + Reuse\", alpha=0.5)\n",
    "ax[0].set_ylabel(\"Nr. of users\")\n",
    "ax[0].set_xlabel(\"Rank difference\")\n",
    "ax[0].set_xlim([-650, 650])\n",
    "#ax[0].set_xlim([0, 700])\n",
    "ax[0].legend();\n",
    "\n",
    "k = 15\n",
    "userknn = UserKNN(k=k, precomputed_sim=sim)\n",
    "userknn.fit(trainset)\n",
    "_ = userknn.test(testset)\n",
    "delta1 = delta_tradeoff(userknn, userknn, lam=0.5)\n",
    "\n",
    "userknn_reuse = UserKNN(k=k, precomputed_sim=sim, reuse=True)\n",
    "userknn_reuse.fit(trainset)\n",
    "_ = userknn_reuse.test(testset)\n",
    "delta2 = delta_tradeoff(userknn, userknn_reuse, lam=0.5)\n",
    "\n",
    "gain_reuse = UserKNN(k=k, precomputed_sim=sim, precomputed_gain=gain_r, tau_4=0.5, reuse=True)\n",
    "gain_reuse.fit(trainset)\n",
    "_ = gain_reuse.test(testset)\n",
    "delta3 = delta_tradeoff(userknn, gain_reuse, lam=0.5)\n",
    "\n",
    "ax[1].set_title(\"k=15\")\n",
    "ax[1].hist(delta3, bins=20, label=\"Gain + Reuse\", alpha=0.5)\n",
    "ax[1].hist(delta2, bins=20, label=\"UserKNN + Reuse\", alpha=0.5)\n",
    "ax[1].set_ylabel(\"Nr. of users\")\n",
    "ax[1].set_xlabel(\"Rank difference\")\n",
    "ax[1].set_xlim([-650, 650])\n",
    "#ax[1].set_xlim([0, 700])\n",
    "ax[1].legend();\n",
    "\n",
    "print(gini(delta1), gini(delta2), gini(delta3))\n",
    "\n",
    "k = 30\n",
    "userknn = UserKNN(k=k, precomputed_sim=sim)\n",
    "userknn.fit(trainset)\n",
    "_ = userknn.test(testset)\n",
    "delta1 = delta_tradeoff(userknn, userknn, lam=0.5)\n",
    "\n",
    "userknn_reuse = UserKNN(k=k, precomputed_sim=sim, reuse=True)\n",
    "userknn_reuse.fit(trainset)\n",
    "_ = userknn_reuse.test(testset)\n",
    "delta2 = delta_tradeoff(userknn, userknn_reuse, lam=0.5)\n",
    "\n",
    "gain_reuse = UserKNN(k=k, precomputed_sim=sim, precomputed_gain=gain_r, tau_4=0.5, reuse=True)\n",
    "gain_reuse.fit(trainset)\n",
    "_ = gain_reuse.test(testset)\n",
    "delta3 = delta_tradeoff(userknn, gain_reuse, lam=0.5)\n",
    "\n",
    "ax[2].set_title(\"k=30\")\n",
    "ax[2].hist(delta3, bins=20, label=\"Gain + Reuse\", alpha=0.5)\n",
    "ax[2].hist(delta2, bins=20, label=\"UserKNN + Reuse\", alpha=0.5)\n",
    "ax[2].set_ylabel(\"Nr. of users\")\n",
    "ax[2].set_xlabel(\"Rank difference\")\n",
    "ax[2].set_xlim([-650, 650])\n",
    "#ax[2].set_xlim([0, 700])\n",
    "ax[2].legend();\n",
    "\n",
    "print(gini(delta1), gini(delta2), gini(delta3))"
   ]
  },
  {
   "cell_type": "code",
   "execution_count": 73,
   "metadata": {},
   "outputs": [],
   "source": []
  },
  {
   "cell_type": "code",
   "execution_count": null,
   "metadata": {},
   "outputs": [],
   "source": []
  },
  {
   "cell_type": "code",
   "execution_count": 114,
   "metadata": {},
   "outputs": [
    {
     "data": {
      "text/plain": [
       "<matplotlib.legend.Legend at 0x261eb8182e8>"
      ]
     },
     "execution_count": 114,
     "metadata": {},
     "output_type": "execute_result"
    }
   ],
   "source": [
    "plt.plot(Ks, userknn_delta_avg, color=\"C0\", alpha=0.5, linestyle=\"dashed\", label=\"UserKNN\")\n",
    "plt.plot(Ks, popularity_delta_avg, color=\"C1\", alpha=0.5, linestyle=\"dashed\", label=\"Popularity\")\n",
    "plt.plot(Ks, gain_delta, color_avg=\"C2\", alpha=0.5, linestyle=\"dashed\", label=\"Gain\")\n",
    "plt.plot(Ks, userknn_reuse_delta_avg, color=\"C0\", label=\"UserKNN + Reuse\")\n",
    "plt.plot(Ks, popularity_reuse_delta_avg, color=\"C1\", label=\"Popularity + Reuse\")\n",
    "plt.plot(Ks, gain_reuse_delta_avg, color=\"C2\", label=\"Gain + Reuse\")\n",
    "plt.ylabel(\"Hoover of absolute rank difference\")\n",
    "plt.xlabel(\"Nr. of neighbors\")\n",
    "plt.legend(ncol=2)\n",
    "#plt.savefig(\"skew_rankdiff.png\", dpi=300)"
   ]
  },
  {
   "cell_type": "code",
   "execution_count": 116,
   "metadata": {},
   "outputs": [
    {
     "data": {
      "text/plain": [
       "-10.0"
      ]
     },
     "execution_count": 116,
     "metadata": {},
     "output_type": "execute_result"
    }
   ],
   "source": [
    "np.floor(-9.5)"
   ]
  },
  {
   "cell_type": "code",
   "execution_count": null,
   "metadata": {},
   "outputs": [],
   "source": []
  }
 ],
 "metadata": {
  "kernelspec": {
   "display_name": "Python 3",
   "language": "python",
   "name": "python3"
  },
  "language_info": {
   "codemirror_mode": {
    "name": "ipython",
    "version": 3
   },
   "file_extension": ".py",
   "mimetype": "text/x-python",
   "name": "python",
   "nbconvert_exporter": "python",
   "pygments_lexer": "ipython3",
   "version": "3.7.3"
  }
 },
 "nbformat": 4,
 "nbformat_minor": 4
}
