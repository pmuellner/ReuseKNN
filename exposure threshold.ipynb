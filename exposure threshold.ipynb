{
 "cells": [
  {
   "cell_type": "code",
   "execution_count": 49,
   "metadata": {},
   "outputs": [],
   "source": [
    "import pyximport\n",
    "import numpy as np\n",
    "pyximport.install(setup_args={\"include_dirs\": np.get_include()},\n",
    "                  reload_support=True)\n",
    "from algorithms.knn_neighborhood import UserKNN\n",
    "from surprise import Dataset, Reader, accuracy\n",
    "from surprise.model_selection import train_test_split, KFold\n",
    "import matplotlib.pyplot as plt\n",
    "import pandas as pd\n",
    "from collections import defaultdict, Counter\n",
    "from datetime import datetime as dt\n",
    "from scipy.stats import spearmanr\n",
    "from sklearn.preprocessing import MinMaxScaler\n",
    "from scipy.stats import gaussian_kde\n",
    "from sklearn.neighbors import KernelDensity"
   ]
  },
  {
   "cell_type": "code",
   "execution_count": 50,
   "metadata": {},
   "outputs": [],
   "source": [
    "data_df = pd.read_csv(\"data/ml-100k/u.data\", sep=\"\\t\")\n",
    "data_df.columns = [\"user_id\", \"item_id\", \"rating\", \"timestamp\"]\n",
    "data_df.drop(columns=[\"timestamp\"], axis=1, inplace=True)\n",
    "data_df[\"user_id\"] = data_df[\"user_id\"].map({b: a for a, b in enumerate(data_df[\"user_id\"].unique())})\n",
    "data_df[\"item_id\"] = data_df[\"item_id\"].map({b: a for a, b in enumerate(data_df[\"item_id\"].unique())})\n",
    "\n",
    "reader = Reader(rating_scale=(1, 5))\n",
    "dataset = Dataset.load_from_df(data_df, reader=reader)\n",
    "trainset, testset = train_test_split(dataset, 0.2)"
   ]
  },
  {
   "cell_type": "code",
   "execution_count": 89,
   "metadata": {},
   "outputs": [
    {
     "data": {
      "text/plain": [
       "97.63363363363364"
      ]
     },
     "execution_count": 89,
     "metadata": {},
     "output_type": "execute_result"
    },
    {
     "data": {
      "image/png": "[encoded data removed]",
      "text/plain": [
       "<Figure size 432x288 with 1 Axes>"
      ]
     },
     "metadata": {
      "needs_background": "light"
     },
     "output_type": "display_data"
    }
   ],
   "source": [
    "model = UserKNN(k=10)\n",
    "model.fit(trainset)\n",
    "_ = model.test(testset)\n",
    "\n",
    "n_queries = dict()\n",
    "for alice, secrets in model.known_secrets.items():\n",
    "    for bob, _ in secrets:\n",
    "        n_queries[bob] = n_queries.get(bob, 0) + 1\n",
    "\n",
    "#userknn_scores = np.array(list(model.exposure_u.values()))\n",
    "userknn_scores = np.array(list(n_queries.values()))\n",
    "counts, edges = np.histogram(userknn_scores, bins=25)\n",
    "kde = KernelDensity(bandwidth=50.0, kernel='gaussian')\n",
    "kde.fit(counts.reshape(-1, 1))\n",
    "logprob = kde.score_samples(np.linspace(0, np.max(edges), 1000).reshape(-1, 1))\n",
    "plt.plot(np.linspace(0, np.max(edges), 1000), np.exp(logprob))\n",
    "threshold = np.linspace(0, np.max(edges), 1000)[np.argmax(np.gradient(np.gradient(np.exp(logprob))))]\n",
    "threshold"
   ]
  },
  {
   "cell_type": "code",
   "execution_count": null,
   "metadata": {},
   "outputs": [],
   "source": []
  },
  {
   "cell_type": "code",
   "execution_count": 86,
   "metadata": {},
   "outputs": [],
   "source": [
    "model = UserKNN(k=10, reuse=True, tau_2=0.5)\n",
    "model.fit(trainset)\n",
    "_ = model.test(testset)\n",
    "\n",
    "n_queries = dict()\n",
    "for alice, secrets in model.known_secrets.items():\n",
    "    for bob, _ in secrets:\n",
    "        n_queries[bob] = n_queries.get(bob, 0) + 1\n",
    "\n",
    "#reuseknn_scores = np.array(list(model.exposure_u.values()))\n",
    "reuseknn_scores = np.array(list(n_queries.values()))"
   ]
  },
  {
   "cell_type": "code",
   "execution_count": null,
   "metadata": {},
   "outputs": [],
   "source": []
  },
  {
   "cell_type": "code",
   "execution_count": 87,
   "metadata": {},
   "outputs": [
    {
     "data": {
      "text/plain": [
       "(208.9257688229056, 264.09785522788206)"
      ]
     },
     "execution_count": 87,
     "metadata": {},
     "output_type": "execute_result"
    }
   ],
   "source": [
    "np.mean(userknn_scores), np.mean(reuseknn_scores)"
   ]
  },
  {
   "cell_type": "code",
   "execution_count": 88,
   "metadata": {},
   "outputs": [
    {
     "data": {
      "text/plain": [
       "(920, 374)"
      ]
     },
     "execution_count": 88,
     "metadata": {},
     "output_type": "execute_result"
    }
   ],
   "source": [
    "userknn_protected_users = dict()\n",
    "for uid, score in enumerate(userknn_scores):\n",
    "    if score > threshold:\n",
    "        userknn_protected_users[uid] = score\n",
    "\n",
    "reuseknn_protected_users = dict()\n",
    "for uid, score in enumerate(reuseknn_scores):\n",
    "    if score > threshold:\n",
    "        reuseknn_protected_users[uid] = score\n",
    "\n",
    "len(userknn_protected_users), len(reuseknn_protected_users)"
   ]
  },
  {
   "cell_type": "code",
   "execution_count": null,
   "metadata": {},
   "outputs": [],
   "source": []
  },
  {
   "cell_type": "code",
   "execution_count": 82,
   "metadata": {},
   "outputs": [],
   "source": [
    "frac = []\n",
    "for thresh in range(1, 450):\n",
    "    f = len(reuseknn_scores[reuseknn_scores > thresh]) / max(len(userknn_scores[userknn_scores > thresh]), 1)\n",
    "    frac.append(f)"
   ]
  },
  {
   "cell_type": "code",
   "execution_count": 84,
   "metadata": {},
   "outputs": [
    {
     "data": {
      "text/plain": [
       "<matplotlib.legend.Legend at 0x15654f4e940>"
      ]
     },
     "execution_count": 84,
     "metadata": {},
     "output_type": "execute_result"
    },
    {
     "data": {
      "image/png": "[encoded data removed]",
      "text/plain": [
       "<Figure size 432x288 with 1 Axes>"
      ]
     },
     "metadata": {
      "needs_background": "light"
     },
     "output_type": "display_data"
    }
   ],
   "source": [
    "%matplotlib inline\n",
    "plt.plot(frac)\n",
    "plt.axhline(y=1, linestyle=\"dashed\", color=\"gray\")\n",
    "plt.axvline(x=threshold, linestyle=\"dotted\", color=\"gray\", label=\"Threshold\")\n",
    "plt.legend()"
   ]
  },
  {
   "cell_type": "code",
   "execution_count": null,
   "metadata": {},
   "outputs": [],
   "source": []
  }
 ],
 "metadata": {
  "kernelspec": {
   "display_name": "Python 3",
   "language": "python",
   "name": "python3"
  },
  "language_info": {
   "codemirror_mode": {
    "name": "ipython",
    "version": 3
   },
   "file_extension": ".py",
   "mimetype": "text/x-python",
   "name": "python",
   "nbconvert_exporter": "python",
   "pygments_lexer": "ipython3",
   "version": "3.7.3"
  }
 },
 "nbformat": 4,
 "nbformat_minor": 4
}
