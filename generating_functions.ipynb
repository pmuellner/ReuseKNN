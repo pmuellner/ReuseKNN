{
 "cells": [
  {
   "cell_type": "code",
   "execution_count": 2,
   "metadata": {},
   "outputs": [],
   "source": [
    "import pandas as pd\n",
    "import numpy as np\n",
    "from collections import Counter\n",
    "import matplotlib.pyplot as plt\n",
    "import networkx as nx\n",
    "from networkx.generators.random_graphs import newman_watts_strogatz_graph"
   ]
  },
  {
   "cell_type": "code",
   "execution_count": 176,
   "metadata": {},
   "outputs": [],
   "source": [
    "data_df = pd.read_csv(\"data/ml-100k/u.data\", sep=\"\\t\", header=None, names=[\"user_id\", \"item_id\", \"rating\", \"timestamp\"])\n",
    "data_df[\"user_id\"] = data_df[\"user_id\"].map({b: a for a, b in enumerate(data_df[\"user_id\"].unique())})\n",
    "data_df[\"item_id\"] = data_df[\"item_id\"].map({b: a for a, b in enumerate(data_df[\"item_id\"].unique())})\n",
    "data_df.head()\n",
    "\n",
    "R = np.zeros((data_df[\"user_id\"].nunique(), data_df[\"item_id\"].nunique()))\n",
    "for _, row_df in data_df.iterrows():\n",
    "    user_id = row_df[\"user_id\"]\n",
    "    item_id = row_df[\"item_id\"]\n",
    "    rating = row_df[\"rating\"]\n",
    "    R[user_id, item_id] = rating\n",
    "    \n",
    "R = (R > 0).astype(int)\n",
    "O = R.dot(R.T)\n",
    "O = (O > 0).astype(int)\n",
    "np.fill_diagonal(O, 0)\n",
    "\n",
    "G = nx.Graph()\n",
    "V = data_df[\"user_id\"].unique()\n",
    "G.add_nodes_from(V)\n",
    "\n",
    "E = list(zip(*np.where(O)))\n",
    "G.add_edges_from(E)"
   ]
  },
  {
   "cell_type": "code",
   "execution_count": 187,
   "metadata": {},
   "outputs": [],
   "source": [
    "n = 1000 # nr. of nodes\n",
    "k = 5 # nr. of nearest neighbors\n",
    "p = 0.1 # rewiring probability\n",
    "G = newman_watts_strogatz_graph(n, k, p)"
   ]
  },
  {
   "cell_type": "code",
   "execution_count": 188,
   "metadata": {},
   "outputs": [],
   "source": [
    "N = nx.number_of_nodes(G)\n",
    "degree_counts = Counter(dict(nx.degree(G)).values())\n",
    "p = np.zeros(N)\n",
    "for deg, count in degree_counts.items():\n",
    "    p[deg] = count / N"
   ]
  },
  {
   "cell_type": "code",
   "execution_count": 189,
   "metadata": {},
   "outputs": [
    {
     "data": {
      "text/plain": [
       "Counter({5: 287, 4: 656, 6: 50, 7: 7})"
      ]
     },
     "execution_count": 189,
     "metadata": {},
     "output_type": "execute_result"
    }
   ],
   "source": [
    "degree_counts"
   ]
  },
  {
   "cell_type": "code",
   "execution_count": 353,
   "metadata": {},
   "outputs": [
    {
     "data": {
      "text/plain": [
       "1000"
      ]
     },
     "execution_count": 353,
     "metadata": {},
     "output_type": "execute_result"
    }
   ],
   "source": [
    "N"
   ]
  },
  {
   "cell_type": "code",
   "execution_count": 190,
   "metadata": {},
   "outputs": [],
   "source": [
    "def G_prime_0(x):\n",
    "    n = len(p)\n",
    "    expectation = 0.0\n",
    "    for k in range(1, n):\n",
    "        expectation += k * p[k] * np.power(x, k - 1)\n",
    "    return expectation"
   ]
  },
  {
   "cell_type": "code",
   "execution_count": 191,
   "metadata": {},
   "outputs": [],
   "source": [
    "def G_primeprime_0(x):\n",
    "    n = len(p)\n",
    "    expectation = 0.0\n",
    "    for k in range(2, n):\n",
    "        expectation += k * (k - 1) * p[k] * np.power(x, k - 2)\n",
    "    return expectation"
   ]
  },
  {
   "cell_type": "code",
   "execution_count": 192,
   "metadata": {},
   "outputs": [],
   "source": [
    "def G_prime_1(x, alpha=1):\n",
    "    n = len(p)\n",
    "    return alpha * (1.0 / G_prime_0(1)) * G_primeprime_0(x)"
   ]
  },
  {
   "cell_type": "code",
   "execution_count": 193,
   "metadata": {},
   "outputs": [],
   "source": [
    "def G_1(x, alpha=1):\n",
    "    return alpha * G_prime_0(x) / G_prime_0(1)"
   ]
  },
  {
   "cell_type": "code",
   "execution_count": 194,
   "metadata": {},
   "outputs": [
    {
     "name": "stdout",
     "output_type": "stream",
     "text": [
      "z1: 4.408000\n"
     ]
    }
   ],
   "source": [
    "z1 = G_prime_0(1)\n",
    "print(\"z1: %f\" % z1)"
   ]
  },
  {
   "cell_type": "code",
   "execution_count": 195,
   "metadata": {},
   "outputs": [
    {
     "name": "stdout",
     "output_type": "stream",
     "text": [
      "z2: 15.406000\n"
     ]
    }
   ],
   "source": [
    "z2 = G_primeprime_0(1)\n",
    "print(\"z2: %f\" % z2)"
   ]
  },
  {
   "cell_type": "code",
   "execution_count": 196,
   "metadata": {},
   "outputs": [
    {
     "name": "stdout",
     "output_type": "stream",
     "text": [
      "l: 5.066100\n"
     ]
    }
   ],
   "source": [
    "l = (np.log((N - 1) * (z2 - z1) + np.power(z1, 2)) - np.log(np.power(z1, 2))) / np.log(z2 / z1)\n",
    "print(\"l: %f\" % l)"
   ]
  },
  {
   "cell_type": "code",
   "execution_count": 303,
   "metadata": {},
   "outputs": [
    {
     "data": {
      "text/plain": [
       "0.5384410980036297"
      ]
     },
     "execution_count": 303,
     "metadata": {},
     "output_type": "execute_result"
    }
   ],
   "source": [
    "def G_prime_m(x, m, alpha=1):\n",
    "    if m > 0 and m <= 1:\n",
    "        return m * G_prime_0(1)\n",
    "    elif m < 2 and m > 1:\n",
    "        return (alpha * z2 / z1) ** (m-1) * z1\n",
    "    elif m >= 2:\n",
    "        return G_prime_m(G_1(x, alpha), m-1, alpha) * G_prime_1(1, alpha)\n",
    "\n",
    "m = 3\n",
    "z_m = G_prime_m(1, m, alpha=.1)\n",
    "z_m"
   ]
  },
  {
   "cell_type": "code",
   "execution_count": 340,
   "metadata": {},
   "outputs": [
    {
     "name": "stdout",
     "output_type": "stream",
     "text": [
      "15.405999999999999\n",
      "15.405999999999999\n"
     ]
    }
   ],
   "source": [
    "def G_prime_m(x, m, alpha=1):\n",
    "    if m == 1:\n",
    "        return G_prime_0(1)\n",
    "    elif m >= 2:\n",
    "        return G_prime_m(G_1(x, alpha), m-1, alpha) * G_prime_1(1, alpha)\n",
    "\n",
    "m = 2\n",
    "alpha = 1\n",
    "print(np.power(alpha * z2/z1, m-1) * z1)\n",
    "print(G_prime_m(1, m, alpha))"
   ]
  },
  {
   "cell_type": "code",
   "execution_count": 417,
   "metadata": {},
   "outputs": [
    {
     "name": "stderr",
     "output_type": "stream",
     "text": [
      "C:\\Users\\pmuellner\\AppData\\Local\\Continuum\\anaconda3\\lib\\site-packages\\ipykernel_launcher.py:2: RuntimeWarning: invalid value encountered in log\n",
      "  \n"
     ]
    },
    {
     "data": {
      "text/plain": [
       "nan"
      ]
     },
     "execution_count": 417,
     "metadata": {},
     "output_type": "execute_result"
    }
   ],
   "source": [
    "alpha = z1 / z2 - np.power(z1, 2) / (z2 * (N-1)) - 1e-9\n",
    "(np.log((N - 1) * (alpha * z2 - z1) + np.power(z1, 2)) - np.log(np.power(z1, 2))) / np.log(alpha * z2 / z1)"
   ]
  },
  {
   "cell_type": "code",
   "execution_count": 414,
   "metadata": {},
   "outputs": [
    {
     "data": {
      "text/plain": [
       "0.2848598004729383"
      ]
     },
     "execution_count": 414,
     "metadata": {},
     "output_type": "execute_result"
    }
   ],
   "source": [
    "z1 / z2 - np.power(z1, 2) / (z2 * (N-1))"
   ]
  },
  {
   "cell_type": "code",
   "execution_count": 411,
   "metadata": {},
   "outputs": [
    {
     "data": {
      "text/plain": [
       "1000.8024685230644"
      ]
     },
     "execution_count": 411,
     "metadata": {},
     "output_type": "execute_result"
    }
   ],
   "source": [
    "def f(l):\n",
    "    y = 1\n",
    "    for l_ in range(1, int(l)):\n",
    "        y += np.power(z2/z1, l_-1) * z1\n",
    "    y += np.power(z2/z1, l-1) * z1\n",
    "    return y\n",
    "f(5.092)"
   ]
  },
  {
   "cell_type": "code",
   "execution_count": 413,
   "metadata": {},
   "outputs": [
    {
     "data": {
      "text/plain": [
       "Text(0.5, 0, '$m$')"
      ]
     },
     "execution_count": 413,
     "metadata": {},
     "output_type": "execute_result"
    }
   ],
   "source": [
    "plt.scatter(np.arange(0.1, 6, 0.1), [f(x) for x in np.arange(0.1, 6, 0.1)])\n",
    "plt.ylabel(r\"$1 + \\sum z_m$\")\n",
    "plt.xlabel(r\"$m$\")"
   ]
  },
  {
   "cell_type": "code",
   "execution_count": 409,
   "metadata": {},
   "outputs": [
    {
     "data": {
      "text/plain": [
       "5.09113052272005"
      ]
     },
     "execution_count": 409,
     "metadata": {},
     "output_type": "execute_result"
    }
   ],
   "source": [
    "from scipy.optimize import minimize\n",
    "x0 = 5\n",
    "result = minimize(f, x0, method=\"Nelder-Mead\", tol=1e-9)\n",
    "l = result[\"x\"][0]\n",
    "l"
   ]
  },
  {
   "cell_type": "code",
   "execution_count": 25,
   "metadata": {},
   "outputs": [],
   "source": [
    "%matplotlib qt"
   ]
  },
  {
   "cell_type": "code",
   "execution_count": 286,
   "metadata": {},
   "outputs": [
    {
     "data": {
      "text/plain": [
       "<matplotlib.legend.Legend at 0x14901349a58>"
      ]
     },
     "execution_count": 286,
     "metadata": {},
     "output_type": "execute_result"
    }
   ],
   "source": [
    "x = np.arange(4, 10, .1)\n",
    "plt.scatter(x, [f(l) for l in x], s=1)\n",
    "plt.axhline(N, linestyle=\"dashed\", c=\"gray\", label=r\"$N$\")\n",
    "plt.ylabel(r\"$1 + \\sigma z_m$\")\n",
    "plt.xlabel(r\"$m$\")\n",
    "plt.legend()"
   ]
  },
  {
   "cell_type": "code",
   "execution_count": 287,
   "metadata": {},
   "outputs": [],
   "source": [
    "alphas = [0.01, 0.05, 0.1]\n",
    "for a in alphas:\n",
    "    M = np.arange(1, 10, 0.05)\n",
    "    L = [G_prime_m(1, m, alpha=a) for m in M]\n",
    "    plt.scatter(M, L, s=1, label=r\"$\\alpha=%.2f$\" % a)\n",
    "plt.ylabel(r\"$z_m$\")\n",
    "plt.xlabel(r\"$m \\in \\mathbb{R}$\")\n",
    "plt.legend()\n",
    "plt.show()"
   ]
  },
  {
   "cell_type": "code",
   "execution_count": 209,
   "metadata": {},
   "outputs": [
    {
     "data": {
      "text/plain": [
       "<matplotlib.collections.PathCollection at 0x1497210ef28>"
      ]
     },
     "execution_count": 209,
     "metadata": {},
     "output_type": "execute_result"
    }
   ],
   "source": [
    "plt.scatter(np.arange(0.1, 8, 0.1), [G_prime_m(1, m) for m in np.arange(0.1, 8, 0.1)], s=1)"
   ]
  },
  {
   "cell_type": "code",
   "execution_count": null,
   "metadata": {},
   "outputs": [],
   "source": []
  }
 ],
 "metadata": {
  "kernelspec": {
   "display_name": "Python 3",
   "language": "python",
   "name": "python3"
  },
  "language_info": {
   "codemirror_mode": {
    "name": "ipython",
    "version": 3
   },
   "file_extension": ".py",
   "mimetype": "text/x-python",
   "name": "python",
   "nbconvert_exporter": "python",
   "pygments_lexer": "ipython3",
   "version": "3.7.3"
  }
 },
 "nbformat": 4,
 "nbformat_minor": 4
}
