{
 "cells": [
  {
   "cell_type": "code",
   "execution_count": 5,
   "metadata": {},
   "outputs": [],
   "source": [
    "import pyximport\n",
    "import numpy as np\n",
    "pyximport.install(setup_args={\"include_dirs\": np.get_include()},\n",
    "                  reload_support=True)\n",
    "from algorithms.knn_neighborhood import UserKNN\n",
    "import pandas as pd\n",
    "from surprise import Dataset, Reader, accuracy, NMF\n",
    "from surprise.model_selection import KFold, train_test_split\n",
    "import matplotlib.pyplot as plt\n",
    "from collections import defaultdict\n",
    "import pickle\n",
    "from scipy.stats import norm"
   ]
  },
  {
   "cell_type": "code",
   "execution_count": 10,
   "metadata": {},
   "outputs": [
    {
     "data": {
      "text/plain": [
       "-inf"
      ]
     },
     "execution_count": 10,
     "metadata": {},
     "output_type": "execute_result"
    }
   ],
   "source": [
    "p = 0\n",
    "n = 1000\n",
    "z = norm.ppf(p)\n",
    "#nx = len(x)\n",
    "#ny = len(y)\n",
    "#N = nx + ny\n",
    "#z = (u_statistic - nx * ny / 2 + 0.5) / np.sqrt(nx * ny * (N + 1) / 12)\n",
    "#n = len(x) + len(y)\n",
    "r = z / np.sqrt(n)"
   ]
  },
  {
   "cell_type": "code",
   "execution_count": null,
   "metadata": {},
   "outputs": [],
   "source": []
  },
  {
   "cell_type": "code",
   "execution_count": null,
   "metadata": {},
   "outputs": [],
   "source": []
  },
  {
   "cell_type": "code",
   "execution_count": null,
   "metadata": {},
   "outputs": [],
   "source": []
  },
  {
   "cell_type": "code",
   "execution_count": 2,
   "metadata": {},
   "outputs": [],
   "source": [
    "def mentors_at_q(model):\n",
    "    q_max = np.max([len(nmentors) for nmentors in model.n_mentors_at_q.values()])\n",
    "    avg_n_mentors_at_q = [0]\n",
    "    for q in range(1, q_max+1):\n",
    "        avg_at_q = []\n",
    "        n = 0\n",
    "        for iuid, mentors in model.n_mentors_at_q.items():\n",
    "            if len(mentors) >= q:\n",
    "                avg_at_q.append(mentors[q-1])\n",
    "                n += 1\n",
    "        avg_n_mentors_at_q.append(np.mean(avg_at_q))\n",
    "    \n",
    "    return avg_n_mentors_at_q\n",
    "\n",
    "def students_at_q(model):\n",
    "    q_max = np.max([len(nstudents) for nstudents in model.n_students_at_q.values()])\n",
    "    avg_n_students_at_q = [0]\n",
    "    for q in range(1, q_max+1):\n",
    "        avg_at_q = []\n",
    "        n = 0\n",
    "        for iuid, students in model.n_students_at_q.items():\n",
    "            if len(students) >= q:\n",
    "                avg_at_q.append(students[q-1])\n",
    "                n += 1\n",
    "        avg_n_students_at_q.append(np.mean(avg_at_q))\n",
    "\n",
    "    return avg_n_students_at_q"
   ]
  },
  {
   "cell_type": "markdown",
   "metadata": {},
   "source": [
    "# Read data "
   ]
  },
  {
   "cell_type": "code",
   "execution_count": 3,
   "metadata": {},
   "outputs": [],
   "source": [
    "data_df = pd.read_csv(\"data/ml-100k/u.data\", sep=\"\\t\", names=[\"user_id\", \"item_id\", \"rating\", \"timestamp\"], usecols=[\"user_id\", \"item_id\", \"rating\"])\n",
    "\n",
    "reader = Reader(rating_scale=(1, 5))\n",
    "dataset = Dataset.load_from_df(data_df, reader=reader)\n",
    "folds = KFold(n_splits=5)"
   ]
  },
  {
   "cell_type": "code",
   "execution_count": 4,
   "metadata": {},
   "outputs": [
    {
     "ename": "KeyboardInterrupt",
     "evalue": "",
     "output_type": "error",
     "traceback": [
      "\u001b[1;31m---------------------------------------------------------------------------\u001b[0m",
      "\u001b[1;31mKeyboardInterrupt\u001b[0m                         Traceback (most recent call last)",
      "\u001b[1;32m<ipython-input-4-fcfd87f43ae9>\u001b[0m in \u001b[0;36m<module>\u001b[1;34m\u001b[0m\n\u001b[0;32m      9\u001b[0m     \u001b[0mmodel\u001b[0m \u001b[1;33m=\u001b[0m \u001b[0mUserKNN\u001b[0m\u001b[1;33m(\u001b[0m\u001b[0mk\u001b[0m\u001b[1;33m=\u001b[0m\u001b[1;36m10\u001b[0m\u001b[1;33m,\u001b[0m \u001b[0mprecomputed_sim\u001b[0m\u001b[1;33m=\u001b[0m\u001b[0msim\u001b[0m\u001b[1;33m)\u001b[0m\u001b[1;33m\u001b[0m\u001b[1;33m\u001b[0m\u001b[0m\n\u001b[0;32m     10\u001b[0m     \u001b[0mmodel\u001b[0m\u001b[1;33m.\u001b[0m\u001b[0mfit\u001b[0m\u001b[1;33m(\u001b[0m\u001b[0mtrainset\u001b[0m\u001b[1;33m)\u001b[0m\u001b[1;33m\u001b[0m\u001b[1;33m\u001b[0m\u001b[0m\n\u001b[1;32m---> 11\u001b[1;33m     \u001b[0m_\u001b[0m \u001b[1;33m=\u001b[0m \u001b[0mmodel\u001b[0m\u001b[1;33m.\u001b[0m\u001b[0mtest\u001b[0m\u001b[1;33m(\u001b[0m\u001b[0mtestset\u001b[0m\u001b[1;33m)\u001b[0m\u001b[1;33m\u001b[0m\u001b[1;33m\u001b[0m\u001b[0m\n\u001b[0m\u001b[0;32m     12\u001b[0m     \u001b[0mavg_n_mentors_at_q\u001b[0m \u001b[1;33m=\u001b[0m \u001b[0mmentors_at_q\u001b[0m\u001b[1;33m(\u001b[0m\u001b[0mmodel\u001b[0m\u001b[1;33m)\u001b[0m\u001b[1;33m\u001b[0m\u001b[1;33m\u001b[0m\u001b[0m\n\u001b[0;32m     13\u001b[0m     \u001b[0mavg_n_students_at_q\u001b[0m \u001b[1;33m=\u001b[0m \u001b[0mstudents_at_q\u001b[0m\u001b[1;33m(\u001b[0m\u001b[0mmodel\u001b[0m\u001b[1;33m)\u001b[0m\u001b[1;33m\u001b[0m\u001b[1;33m\u001b[0m\u001b[0m\n",
      "\u001b[1;32m~\\Desktop\\DataLeakageKNN\\algorithms\\knn_neighborhood.pyx\u001b[0m in \u001b[0;36malgorithms.knn_neighborhood.UserKNN.test\u001b[1;34m()\u001b[0m\n\u001b[0;32m    253\u001b[0m         \u001b[0mself\u001b[0m\u001b[1;33m.\u001b[0m\u001b[0mabsolute_errors\u001b[0m \u001b[1;33m=\u001b[0m \u001b[0mdefaultdict\u001b[0m\u001b[1;33m(\u001b[0m\u001b[0mlist\u001b[0m\u001b[1;33m)\u001b[0m\u001b[1;33m\u001b[0m\u001b[1;33m\u001b[0m\u001b[0m\n\u001b[0;32m    254\u001b[0m         \u001b[1;32mfor\u001b[0m \u001b[0muser_id\u001b[0m\u001b[1;33m,\u001b[0m \u001b[0mitem_id\u001b[0m\u001b[1;33m,\u001b[0m \u001b[0mrating\u001b[0m \u001b[1;32min\u001b[0m \u001b[0mtestset\u001b[0m\u001b[1;33m:\u001b[0m\u001b[1;33m\u001b[0m\u001b[1;33m\u001b[0m\u001b[0m\n\u001b[1;32m--> 255\u001b[1;33m             \u001b[0muid\u001b[0m\u001b[1;33m,\u001b[0m \u001b[0miid\u001b[0m\u001b[1;33m,\u001b[0m \u001b[0mr\u001b[0m\u001b[1;33m,\u001b[0m \u001b[0mr_\u001b[0m\u001b[1;33m,\u001b[0m \u001b[0mdetails\u001b[0m \u001b[1;33m=\u001b[0m \u001b[0mself\u001b[0m\u001b[1;33m.\u001b[0m\u001b[0mpredict\u001b[0m\u001b[1;33m(\u001b[0m\u001b[0muser_id\u001b[0m\u001b[1;33m,\u001b[0m \u001b[0mitem_id\u001b[0m\u001b[1;33m,\u001b[0m  \u001b[0mrating\u001b[0m\u001b[1;33m)\u001b[0m\u001b[1;33m\u001b[0m\u001b[1;33m\u001b[0m\u001b[0m\n\u001b[0m\u001b[0;32m    256\u001b[0m             \u001b[0mself\u001b[0m\u001b[1;33m.\u001b[0m\u001b[0mpredictions\u001b[0m\u001b[1;33m.\u001b[0m\u001b[0mappend\u001b[0m\u001b[1;33m(\u001b[0m\u001b[1;33m(\u001b[0m\u001b[0muid\u001b[0m\u001b[1;33m,\u001b[0m \u001b[0miid\u001b[0m\u001b[1;33m,\u001b[0m \u001b[0mr\u001b[0m\u001b[1;33m,\u001b[0m \u001b[0mr_\u001b[0m\u001b[1;33m,\u001b[0m \u001b[0mdetails\u001b[0m\u001b[1;33m)\u001b[0m\u001b[1;33m)\u001b[0m\u001b[1;33m\u001b[0m\u001b[1;33m\u001b[0m\u001b[0m\n\u001b[0;32m    257\u001b[0m             \u001b[0miuid\u001b[0m \u001b[1;33m=\u001b[0m \u001b[0mself\u001b[0m\u001b[1;33m.\u001b[0m\u001b[0mtrainset\u001b[0m\u001b[1;33m.\u001b[0m\u001b[0mto_inner_uid\u001b[0m\u001b[1;33m(\u001b[0m\u001b[0muid\u001b[0m\u001b[1;33m)\u001b[0m\u001b[1;33m\u001b[0m\u001b[1;33m\u001b[0m\u001b[0m\n",
      "\u001b[1;32m~\\Desktop\\DataLeakageKNN\\algorithms\\knn_neighborhood.pyx\u001b[0m in \u001b[0;36malgorithms.knn_neighborhood.UserKNN.predict\u001b[1;34m()\u001b[0m\n\u001b[0;32m    228\u001b[0m         \u001b[0mdetails\u001b[0m \u001b[1;33m=\u001b[0m \u001b[1;33m{\u001b[0m\u001b[1;33m}\u001b[0m\u001b[1;33m\u001b[0m\u001b[1;33m\u001b[0m\u001b[0m\n\u001b[0;32m    229\u001b[0m         \u001b[1;32mtry\u001b[0m\u001b[1;33m:\u001b[0m\u001b[1;33m\u001b[0m\u001b[1;33m\u001b[0m\u001b[0m\n\u001b[1;32m--> 230\u001b[1;33m             \u001b[0mest\u001b[0m \u001b[1;33m=\u001b[0m \u001b[0mself\u001b[0m\u001b[1;33m.\u001b[0m\u001b[0mestimate\u001b[0m\u001b[1;33m(\u001b[0m\u001b[0miuid\u001b[0m\u001b[1;33m,\u001b[0m \u001b[0miiid\u001b[0m\u001b[1;33m)\u001b[0m\u001b[1;33m\u001b[0m\u001b[1;33m\u001b[0m\u001b[0m\n\u001b[0m\u001b[0;32m    231\u001b[0m \u001b[1;33m\u001b[0m\u001b[0m\n\u001b[0;32m    232\u001b[0m             \u001b[1;31m# If the details dict was also returned\u001b[0m\u001b[1;33m\u001b[0m\u001b[1;33m\u001b[0m\u001b[1;33m\u001b[0m\u001b[0m\n",
      "\u001b[1;32m~\\Desktop\\DataLeakageKNN\\algorithms\\knn_neighborhood.pyx\u001b[0m in \u001b[0;36malgorithms.knn_neighborhood.UserKNN.estimate\u001b[1;34m()\u001b[0m\n\u001b[0;32m    165\u001b[0m             \u001b[0mk_neighbors\u001b[0m \u001b[1;33m=\u001b[0m \u001b[0mheapq\u001b[0m\u001b[1;33m.\u001b[0m\u001b[0mnlargest\u001b[0m\u001b[1;33m(\u001b[0m\u001b[0mself\u001b[0m\u001b[1;33m.\u001b[0m\u001b[0mk\u001b[0m\u001b[1;33m,\u001b[0m \u001b[0mneighbors\u001b[0m\u001b[1;33m,\u001b[0m \u001b[0mkey\u001b[0m\u001b[1;33m=\u001b[0m\u001b[1;32mlambda\u001b[0m \u001b[0mt\u001b[0m\u001b[1;33m:\u001b[0m \u001b[0mt\u001b[0m\u001b[1;33m[\u001b[0m\u001b[1;36m0\u001b[0m\u001b[1;33m]\u001b[0m\u001b[1;33m)\u001b[0m\u001b[1;33m\u001b[0m\u001b[1;33m\u001b[0m\u001b[0m\n\u001b[0;32m    166\u001b[0m         \u001b[1;32melse\u001b[0m\u001b[1;33m:\u001b[0m\u001b[1;33m\u001b[0m\u001b[1;33m\u001b[0m\u001b[0m\n\u001b[1;32m--> 167\u001b[1;33m             \u001b[0mk_neighbors\u001b[0m \u001b[1;33m=\u001b[0m \u001b[0mheapq\u001b[0m\u001b[1;33m.\u001b[0m\u001b[0mnlargest\u001b[0m\u001b[1;33m(\u001b[0m\u001b[0mself\u001b[0m\u001b[1;33m.\u001b[0m\u001b[0mk\u001b[0m\u001b[1;33m,\u001b[0m \u001b[0mpossible_mentors_data\u001b[0m\u001b[1;33m,\u001b[0m \u001b[0mkey\u001b[0m\u001b[1;33m=\u001b[0m\u001b[1;32mlambda\u001b[0m \u001b[0mt\u001b[0m\u001b[1;33m:\u001b[0m \u001b[0mt\u001b[0m\u001b[1;33m[\u001b[0m\u001b[1;36m2\u001b[0m\u001b[1;33m]\u001b[0m\u001b[1;33m)\u001b[0m\u001b[1;33m\u001b[0m\u001b[1;33m\u001b[0m\u001b[0m\n\u001b[0m\u001b[0;32m    168\u001b[0m             \u001b[0mself\u001b[0m\u001b[1;33m.\u001b[0m\u001b[0mmentors\u001b[0m\u001b[1;33m[\u001b[0m\u001b[0mu\u001b[0m\u001b[1;33m]\u001b[0m \u001b[1;33m=\u001b[0m \u001b[0mself\u001b[0m\u001b[1;33m.\u001b[0m\u001b[0mmentors\u001b[0m\u001b[1;33m[\u001b[0m\u001b[0mu\u001b[0m\u001b[1;33m]\u001b[0m\u001b[1;33m.\u001b[0m\u001b[0munion\u001b[0m\u001b[1;33m(\u001b[0m\u001b[0mset\u001b[0m\u001b[1;33m(\u001b[0m\u001b[0mu_\u001b[0m \u001b[1;32mfor\u001b[0m \u001b[0mu_\u001b[0m\u001b[1;33m,\u001b[0m \u001b[0m_\u001b[0m\u001b[1;33m,\u001b[0m \u001b[0m_\u001b[0m\u001b[1;33m,\u001b[0m \u001b[0m_\u001b[0m  \u001b[1;32min\u001b[0m \u001b[0mk_neighbors\u001b[0m\u001b[1;33m)\u001b[0m\u001b[1;33m)\u001b[0m\u001b[1;33m\u001b[0m\u001b[1;33m\u001b[0m\u001b[0m\n\u001b[0;32m    169\u001b[0m             \u001b[1;32mfor\u001b[0m \u001b[0mu_\u001b[0m\u001b[1;33m,\u001b[0m \u001b[0m_\u001b[0m\u001b[1;33m,\u001b[0m \u001b[0m_\u001b[0m\u001b[1;33m,\u001b[0m \u001b[0m_\u001b[0m \u001b[1;32min\u001b[0m \u001b[0mk_neighbors\u001b[0m\u001b[1;33m:\u001b[0m\u001b[1;33m\u001b[0m\u001b[1;33m\u001b[0m\u001b[0m\n",
      "\u001b[1;32m~\\AppData\\Local\\Continuum\\anaconda3\\lib\\heapq.py\u001b[0m in \u001b[0;36mnlargest\u001b[1;34m(n, iterable, key)\u001b[0m\n\u001b[0;32m    539\u001b[0m \u001b[1;33m\u001b[0m\u001b[0m\n\u001b[0;32m    540\u001b[0m     \u001b[1;31m# When n>=size, it's faster to use sorted()\u001b[0m\u001b[1;33m\u001b[0m\u001b[1;33m\u001b[0m\u001b[1;33m\u001b[0m\u001b[0m\n\u001b[1;32m--> 541\u001b[1;33m     \u001b[1;32mtry\u001b[0m\u001b[1;33m:\u001b[0m\u001b[1;33m\u001b[0m\u001b[1;33m\u001b[0m\u001b[0m\n\u001b[0m\u001b[0;32m    542\u001b[0m         \u001b[0msize\u001b[0m \u001b[1;33m=\u001b[0m \u001b[0mlen\u001b[0m\u001b[1;33m(\u001b[0m\u001b[0miterable\u001b[0m\u001b[1;33m)\u001b[0m\u001b[1;33m\u001b[0m\u001b[1;33m\u001b[0m\u001b[0m\n\u001b[0;32m    543\u001b[0m     \u001b[1;32mexcept\u001b[0m \u001b[1;33m(\u001b[0m\u001b[0mTypeError\u001b[0m\u001b[1;33m,\u001b[0m \u001b[0mAttributeError\u001b[0m\u001b[1;33m)\u001b[0m\u001b[1;33m:\u001b[0m\u001b[1;33m\u001b[0m\u001b[1;33m\u001b[0m\u001b[0m\n",
      "\u001b[1;31mKeyboardInterrupt\u001b[0m: "
     ]
    }
   ],
   "source": [
    "avg_n_mentors_at_q_per_fold = defaultdict(list)\n",
    "avg_n_students_at_q_per_fold = defaultdict(list)\n",
    "for trainset, testset in folds.split(dataset):\n",
    "    sim = UserKNN.compute_similarities(trainset, min_support=1)\n",
    "    pop = UserKNN.compute_popularities(trainset)\n",
    "    gain = UserKNN.compute_gain(trainset)\n",
    "    \n",
    "    # KNN\n",
    "    model = UserKNN(k=10, precomputed_sim=sim)\n",
    "    model.fit(trainset)\n",
    "    _ = model.test(testset)\n",
    "    avg_n_mentors_at_q = mentors_at_q(model)\n",
    "    avg_n_students_at_q = students_at_q(model)\n",
    "    avg_n_mentors_at_q_per_fold[\"UserKNN\"].append(avg_n_mentors_at_q)\n",
    "    avg_n_students_at_q_per_fold[\"UserKNN\"].append(n_students_at_q)\n",
    "    \n",
    "    # Popularity\n",
    "    model = UserKNN(k=10, precomputed_sim=sim, precomputed_pop=pop, tau_2=0.5)\n",
    "    model.fit(trainset)\n",
    "    _ = model.test(testset)\n",
    "    avg_n_mentors_at_q = mentors_at_q(model)\n",
    "    n_students_at_q = students_at_q(model)\n",
    "    avg_n_mentors_at_q_per_fold[\"Popularity\"].append(avg_n_mentors_at_q)\n",
    "    avg_n_students_at_q_per_fold[\"Popularity\"].append(n_students_at_q)\n",
    "    \n",
    "    # Gain\n",
    "    model = UserKNN(k=10, precomputed_sim=sim, precomputed_gain=gain, tau_4=0.5)\n",
    "    model.fit(trainset)\n",
    "    _ = model.test(testset)\n",
    "    avg_n_mentors_at_q = mentors_at_q(model)\n",
    "    n_students_at_q = students_at_q(model)\n",
    "    avg_n_mentors_at_q_per_fold[\"Gain\"].append(avg_n_mentors_at_q)\n",
    "    avg_n_students_at_q_per_fold[\"Gain\"].append(n_students_at_q)\n",
    "\n",
    "    # KNN + reuse\n",
    "    model = UserKNN(k=10, reuse=True, precomputed_sim=sim)\n",
    "    model.fit(trainset)\n",
    "    _ = model.test(testset)\n",
    "    avg_n_mentors_at_q = mentors_at_q(model)\n",
    "    n_students_at_q = students_at_q(model)\n",
    "    avg_n_mentors_at_q_per_fold[\"UserKNN + Reuse\"].append(avg_n_mentors_at_q)\n",
    "    avg_n_students_at_q_per_fold[\"UserKNN + Reuse\"].append(n_students_at_q)\n",
    "\n",
    "    # Popularity + reuse\n",
    "    model = UserKNN(k=10, reuse=True, precomputed_sim=sim, precomputed_pop=pop, tau_2=0.5)\n",
    "    model.fit(trainset)\n",
    "    _ = model.test(testset)\n",
    "    avg_n_mentors_at_q = mentors_at_q(model)\n",
    "    n_students_at_q = students_at_q(model)\n",
    "    avg_n_mentors_at_q_per_fold[\"Popularity + Reuse\"].append(avg_n_mentors_at_q)\n",
    "    avg_n_students_at_q_per_fold[\"Popularity + Reuse\"].append(n_students_at_q)\n",
    "\n",
    "    # Gain + reuse\n",
    "    model = UserKNN(k=10, reuse=True, precomputed_sim=sim, precomputed_gain=gain, tau_4=0.5)\n",
    "    model.fit(trainset)\n",
    "    _ = model.test(testset)\n",
    "    avg_n_mentors_at_q = mentors_at_q(model)\n",
    "    n_students_at_q = students_at_q(model)\n",
    "    avg_n_mentors_at_q_per_fold[\"Gain + Reuse\"].append(avg_n_mentors_at_q)\n",
    "    avg_n_students_at_q_per_fold[\"Gain + Reuse\"].append(n_students_at_q)"
   ]
  },
  {
   "cell_type": "code",
   "execution_count": 49,
   "metadata": {},
   "outputs": [],
   "source": [
    "def compute_avg(avg_nr):\n",
    "    min_n_queries = min([len(l) for l in avg_nr])\n",
    "    avg = np.mean([l[:min_n_queries] for l in avg_nr], axis=0)\n",
    "    return avg\n",
    "\n",
    "avg_userknn = compute_avg(avg_n_mentors_at_q_per_fold[\"UserKNN\"])\n",
    "avg_userknn_reuse = compute_avg(avg_n_mentors_at_q_per_fold[\"UserKNN + Reuse\"])\n",
    "avg_pop = compute_avg(avg_n_mentors_at_q_per_fold[\"Popularity\"])\n",
    "avg_pop_reuse = compute_avg(avg_n_mentors_at_q_per_fold[\"Popularity + Reuse\"])\n",
    "avg_gain = compute_avg(avg_n_mentors_at_q_per_fold[\"Gain\"])\n",
    "avg_gain_reuse = compute_avg(avg_n_mentors_at_q_per_fold[\"Gain + Reuse\"])\n",
    "\n",
    "n_mentors = {\"UserKNN\": avg_userknn, \"UserKNN + Reuse\": avg_userknn_reuse, \"Popularity\": avg_pop, \n",
    "             \"Popularity + Reuse\": avg_pop_reuse, \"Gain\": avg_gain, \"Gain + Reuse\": avg_gain_reuse}\n",
    "\n",
    "f = open(\"results/ml-100k/nr_of_mentors.pkl\", \"wb\")\n",
    "pickle.dump(n_mentors, f)\n",
    "f.close()\n",
    "\n",
    "avg_userknn = compute_avg(avg_n_students_at_q_per_fold[\"UserKNN\"])\n",
    "avg_userknn_reuse = compute_avg(avg_n_students_at_q_per_fold[\"UserKNN + Reuse\"])\n",
    "avg_pop = compute_avg(avg_n_students_at_q_per_fold[\"Popularity\"])\n",
    "avg_pop_reuse = compute_avg(avg_n_students_at_q_per_fold[\"Popularity + Reuse\"])\n",
    "avg_gain = compute_avg(avg_n_students_at_q_per_fold[\"Gain\"])\n",
    "avg_gain_reuse = compute_avg(avg_n_students_at_q_per_fold[\"Gain + Reuse\"])\n",
    "\n",
    "n_mentors = {\"UserKNN\": avg_userknn, \"UserKNN + Reuse\": avg_userknn_reuse, \"Popularity\": avg_pop, \n",
    "             \"Popularity + Reuse\": avg_pop_reuse, \"Gain\": avg_gain, \"Gain + Reuse\": avg_gain_reuse}\n",
    "\n",
    "f = open(\"results/ml-100k/nr_of_students.pkl\", \"wb\")\n",
    "pickle.dump(n_mentors, f)\n",
    "f.close()"
   ]
  },
  {
   "cell_type": "code",
   "execution_count": null,
   "metadata": {},
   "outputs": [],
   "source": []
  }
 ],
 "metadata": {
  "kernelspec": {
   "display_name": "Python 3",
   "language": "python",
   "name": "python3"
  },
  "language_info": {
   "codemirror_mode": {
    "name": "ipython",
    "version": 3
   },
   "file_extension": ".py",
   "mimetype": "text/x-python",
   "name": "python",
   "nbconvert_exporter": "python",
   "pygments_lexer": "ipython3",
   "version": "3.7.3"
  }
 },
 "nbformat": 4,
 "nbformat_minor": 4
}
