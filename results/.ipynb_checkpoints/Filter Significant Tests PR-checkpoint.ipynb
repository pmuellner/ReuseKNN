{
 "cells": [
  {
   "cell_type": "code",
   "execution_count": 1,
   "metadata": {},
   "outputs": [],
   "source": [
    "import re\n",
    "from collections import defaultdict\n",
    "import numpy as np\n",
    "import matplotlib.pyplot as plt"
   ]
  },
  {
   "cell_type": "code",
   "execution_count": 2,
   "metadata": {},
   "outputs": [],
   "source": [
    "def filter_results(path, test=\"Secures\", method=\"UserKNN+Reuse\", k=10):\n",
    "    file = open(path, 'r')\n",
    "    filter_on = False\n",
    "\n",
    "    results = defaultdict(list)\n",
    "    for line in file.readlines():\n",
    "        if line.startswith(\"=== [\"):\n",
    "            if test in line:\n",
    "                #print(line)\n",
    "                filter_on = True\n",
    "            else:\n",
    "                filter_on = False\n",
    "        elif filter_on and len(line) > 1:\n",
    "            line_method = re.search(\"\\] (.*) k\", line).group(1)\n",
    "            line_k = int(re.search(\"k=(.*):\", line).group(1))\n",
    "            line_p = float(re.search(\", (.*) \\(p\\),\", line).group(1))\n",
    "            line_r = float(re.search(\"p\\), (.*) \\(r\\)\", line).group(1))\n",
    "            \n",
    "            if line_method == method and line_k == k:\n",
    "                print(line)\n",
    "                results[\"p\"].append(line_p)\n",
    "                results[\"r\"].append(line_r)\n",
    "\n",
    "    file.close()\n",
    "    return results"
   ]
  },
  {
   "cell_type": "code",
   "execution_count": 3,
   "metadata": {},
   "outputs": [
    {
     "name": "stdout",
     "output_type": "stream",
     "text": [
      "[one-tailed MWU] UserKNN+Reuse k=5: 71919774.500000 (U), 0.000000 (p), -0.071522 (r)\n",
      "\n",
      "[one-tailed MWU] UserKNN+Reuse k=5: 73258262.000000 (U), 0.000000 (p), -0.071074 (r)\n",
      "\n",
      "[one-tailed MWU] UserKNN+Reuse k=5: 75478390.000000 (U), 0.000000 (p), -0.078397 (r)\n",
      "\n",
      "[one-tailed MWU] UserKNN+Reuse k=5: 77378106.000000 (U), 0.000000 (p), -0.078959 (r)\n",
      "\n",
      "[one-tailed MWU] UserKNN+Reuse k=5: 71517123.000000 (U), 0.000000 (p), -0.077807 (r)\n",
      "\n",
      "defaultdict(<class 'list'>, {'p': [0.0, 0.0, 0.0, 0.0, 0.0], 'r': [-0.071522, -0.071074, -0.078397, -0.078959, -0.077807]})\n",
      "\n",
      "[one-tailed MWU] UserKNN+Reuse k=10: 31794411.500000 (U), 0.996451 (p), 0.021315 (r)\n",
      "\n",
      "[one-tailed MWU] UserKNN+Reuse k=10: 32814170.500000 (U), 0.980563 (p), 0.016210 (r)\n",
      "\n",
      "[one-tailed MWU] UserKNN+Reuse k=10: 31931895.000000 (U), 0.999154 (p), 0.024849 (r)\n",
      "\n",
      "[one-tailed MWU] UserKNN+Reuse k=10: 30081821.500000 (U), 0.999999 (p), 0.038167 (r)\n",
      "\n",
      "[one-tailed MWU] UserKNN+Reuse k=10: 30416192.000000 (U), 0.999973 (p), 0.032413 (r)\n",
      "\n",
      "defaultdict(<class 'list'>, {'p': [0.996451, 0.980563, 0.999154, 0.999999, 0.999973], 'r': [0.021315, 0.01621, 0.024849, 0.038167, 0.032413]})\n",
      "\n",
      "[one-tailed MWU] UserKNN+Reuse k=15: 18660402.000000 (U), 1.000000 (p), 0.087797 (r)\n",
      "\n",
      "[one-tailed MWU] UserKNN+Reuse k=15: 20696277.000000 (U), 1.000000 (p), 0.066932 (r)\n",
      "\n",
      "[one-tailed MWU] UserKNN+Reuse k=15: 20313497.000000 (U), 1.000000 (p), 0.082841 (r)\n",
      "\n",
      "[one-tailed MWU] UserKNN+Reuse k=15: 20477647.000000 (U), 1.000000 (p), 0.082772 (r)\n",
      "\n",
      "[one-tailed MWU] UserKNN+Reuse k=15: 18745076.500000 (U), 1.000000 (p), 0.083159 (r)\n",
      "\n",
      "defaultdict(<class 'list'>, {'p': [1.0, 1.0, 1.0, 1.0, 1.0], 'r': [0.087797, 0.066932, 0.082841, 0.082772, 0.083159]})\n",
      "\n",
      "[one-tailed MWU] UserKNN+Reuse k=20: 14662690.500000 (U), 1.000000 (p), 0.089432 (r)\n",
      "\n",
      "[one-tailed MWU] UserKNN+Reuse k=20: 14838036.500000 (U), 1.000000 (p), 0.074073 (r)\n",
      "\n",
      "[one-tailed MWU] UserKNN+Reuse k=20: 14500397.500000 (U), 1.000000 (p), 0.091189 (r)\n",
      "\n",
      "[one-tailed MWU] UserKNN+Reuse k=20: 14540558.000000 (U), 1.000000 (p), 0.089445 (r)\n",
      "\n",
      "[one-tailed MWU] UserKNN+Reuse k=20: 14898450.500000 (U), 1.000000 (p), 0.091322 (r)\n",
      "\n",
      "defaultdict(<class 'list'>, {'p': [1.0, 1.0, 1.0, 1.0, 1.0], 'r': [0.089432, 0.074073, 0.091189, 0.089445, 0.091322]})\n",
      "\n",
      "[one-tailed MWU] UserKNN+Reuse k=25: 11353386.000000 (U), 1.000000 (p), 0.077699 (r)\n",
      "\n",
      "[one-tailed MWU] UserKNN+Reuse k=25: 11711117.500000 (U), 1.000000 (p), 0.076208 (r)\n",
      "\n",
      "[one-tailed MWU] UserKNN+Reuse k=25: 11338215.000000 (U), 1.000000 (p), 0.082236 (r)\n",
      "\n",
      "[one-tailed MWU] UserKNN+Reuse k=25: 11542928.000000 (U), 1.000000 (p), 0.080946 (r)\n",
      "\n",
      "[one-tailed MWU] UserKNN+Reuse k=25: 11617610.000000 (U), 1.000000 (p), 0.085572 (r)\n",
      "\n",
      "defaultdict(<class 'list'>, {'p': [1.0, 1.0, 1.0, 1.0, 1.0], 'r': [0.077699, 0.076208, 0.082236, 0.080946, 0.085572]})\n",
      "\n",
      "[one-tailed MWU] UserKNN+Reuse k=30: 10056672.000000 (U), 1.000000 (p), 0.072179 (r)\n",
      "\n",
      "[one-tailed MWU] UserKNN+Reuse k=30: 10379775.000000 (U), 1.000000 (p), 0.080582 (r)\n",
      "\n",
      "[one-tailed MWU] UserKNN+Reuse k=30: 10019707.500000 (U), 1.000000 (p), 0.071198 (r)\n",
      "\n",
      "[one-tailed MWU] UserKNN+Reuse k=30: 10060668.000000 (U), 1.000000 (p), 0.072869 (r)\n",
      "\n",
      "[one-tailed MWU] UserKNN+Reuse k=30: 10278009.000000 (U), 1.000000 (p), 0.075613 (r)\n",
      "\n",
      "defaultdict(<class 'list'>, {'p': [1.0, 1.0, 1.0, 1.0, 1.0], 'r': [0.072179, 0.080582, 0.071198, 0.072869, 0.075613]})\n",
      "\n"
     ]
    }
   ],
   "source": [
    "path = 'protected/goodreads/significance_privacy_risk.txt'\n",
    "for k in [5, 10, 15, 20, 25, 30]:\n",
    "    print(filter_results(path, test=\"Secures\", method=\"UserKNN+Reuse\", k=k))\n",
    "    print()"
   ]
  },
  {
   "cell_type": "code",
   "execution_count": null,
   "metadata": {},
   "outputs": [],
   "source": []
  },
  {
   "cell_type": "code",
   "execution_count": null,
   "metadata": {},
   "outputs": [],
   "source": []
  },
  {
   "cell_type": "code",
   "execution_count": null,
   "metadata": {},
   "outputs": [],
   "source": []
  }
 ],
 "metadata": {
  "kernelspec": {
   "display_name": "Python 3",
   "language": "python",
   "name": "python3"
  },
  "language_info": {
   "codemirror_mode": {
    "name": "ipython",
    "version": 3
   },
   "file_extension": ".py",
   "mimetype": "text/x-python",
   "name": "python",
   "nbconvert_exporter": "python",
   "pygments_lexer": "ipython3",
   "version": "3.7.3"
  }
 },
 "nbformat": 4,
 "nbformat_minor": 4
}
