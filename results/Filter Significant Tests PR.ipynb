{
 "cells": [
  {
   "cell_type": "code",
   "execution_count": 1,
   "metadata": {},
   "outputs": [],
   "source": [
    "import re\n",
    "from collections import defaultdict\n",
    "import numpy as np\n",
    "import matplotlib.pyplot as plt"
   ]
  },
  {
   "cell_type": "code",
   "execution_count": 2,
   "metadata": {},
   "outputs": [],
   "source": [
    "def filter_results(path, test=\"Secures\", method=\"UserKNN+Reuse\", k=10):\n",
    "    file = open(path, 'r')\n",
    "    filter_on = False\n",
    "\n",
    "    results = defaultdict(list)\n",
    "    for line in file.readlines():\n",
    "        if line.startswith(\"=== [\"):\n",
    "            if test in line:\n",
    "                #print(line)\n",
    "                filter_on = True\n",
    "            else:\n",
    "                filter_on = False\n",
    "        elif filter_on and len(line) > 1:\n",
    "            line_method = re.search(\"\\] (.*) k\", line).group(1)\n",
    "            line_k = int(re.search(\"k=(.*):\", line).group(1))\n",
    "            line_p = float(re.search(\", (.*) \\(p\\),\", line).group(1))\n",
    "            line_r = float(re.search(\"p\\), (.*) \\(r\\)\", line).group(1))\n",
    "            \n",
    "            if line_method == method and line_k == k:\n",
    "                print(line)\n",
    "                results[\"p\"].append(line_p)\n",
    "                results[\"r\"].append(line_r)\n",
    "\n",
    "    file.close()\n",
    "    return results"
   ]
  },
  {
   "cell_type": "code",
   "execution_count": 15,
   "metadata": {},
   "outputs": [
    {
     "name": "stdout",
     "output_type": "stream",
     "text": [
      "[one-tailed MWU] Gain+Reuse k=5: 26269240.000000 (U), 0.000000 (p), 0.300111 (r)\n",
      "\n",
      "[one-tailed MWU] Gain+Reuse k=5: 25310041.500000 (U), 0.000000 (p), 0.286623 (r)\n",
      "\n",
      "[one-tailed MWU] Gain+Reuse k=5: 24431734.000000 (U), 0.000000 (p), 0.297794 (r)\n",
      "\n",
      "[one-tailed MWU] Gain+Reuse k=5: 23569886.000000 (U), 0.000000 (p), 0.299471 (r)\n",
      "\n",
      "[one-tailed MWU] Gain+Reuse k=5: 26253523.500000 (U), 0.000000 (p), 0.301390 (r)\n",
      "\n",
      "defaultdict(<class 'list'>, {'p': [0.0, 0.0, 0.0, 0.0, 0.0], 'r': [0.300111, 0.286623, 0.297794, 0.299471, 0.30139]})\n",
      "\n",
      "[one-tailed MWU] Gain+Reuse k=10: 55088960.500000 (U), 0.000000 (p), 0.202049 (r)\n",
      "\n",
      "[one-tailed MWU] Gain+Reuse k=10: 53967063.500000 (U), 0.000000 (p), 0.192979 (r)\n",
      "\n",
      "[one-tailed MWU] Gain+Reuse k=10: 55447387.500000 (U), 0.000000 (p), 0.202601 (r)\n",
      "\n",
      "[one-tailed MWU] Gain+Reuse k=10: 57469018.500000 (U), 0.000000 (p), 0.195346 (r)\n",
      "\n",
      "[one-tailed MWU] Gain+Reuse k=10: 57042805.000000 (U), 0.000000 (p), 0.188603 (r)\n",
      "\n",
      "defaultdict(<class 'list'>, {'p': [0.0, 0.0, 0.0, 0.0, 0.0], 'r': [0.202049, 0.192979, 0.202601, 0.195346, 0.188603]})\n",
      "\n",
      "[one-tailed MWU] Gain+Reuse k=15: 69902401.500000 (U), 0.000000 (p), 0.107175 (r)\n",
      "\n",
      "[one-tailed MWU] Gain+Reuse k=15: 67029793.000000 (U), 0.000000 (p), 0.119951 (r)\n",
      "\n",
      "[one-tailed MWU] Gain+Reuse k=15: 68198849.000000 (U), 0.000000 (p), 0.123646 (r)\n",
      "\n",
      "[one-tailed MWU] Gain+Reuse k=15: 68054130.500000 (U), 0.000000 (p), 0.122879 (r)\n",
      "\n",
      "[one-tailed MWU] Gain+Reuse k=15: 69841316.000000 (U), 0.000000 (p), 0.111374 (r)\n",
      "\n",
      "defaultdict(<class 'list'>, {'p': [0.0, 0.0, 0.0, 0.0, 0.0], 'r': [0.107175, 0.119951, 0.123646, 0.122879, 0.111374]})\n",
      "\n",
      "[one-tailed MWU] Gain+Reuse k=20: 74830162.500000 (U), 0.000000 (p), 0.060470 (r)\n",
      "\n",
      "[one-tailed MWU] Gain+Reuse k=20: 74321656.000000 (U), 0.000000 (p), 0.057645 (r)\n",
      "\n",
      "[one-tailed MWU] Gain+Reuse k=20: 75233564.500000 (U), 0.000000 (p), 0.055415 (r)\n",
      "\n",
      "[one-tailed MWU] Gain+Reuse k=20: 75193057.000000 (U), 0.000000 (p), 0.056719 (r)\n",
      "\n",
      "[one-tailed MWU] Gain+Reuse k=20: 74953726.500000 (U), 0.000000 (p), 0.062266 (r)\n",
      "\n",
      "defaultdict(<class 'list'>, {'p': [0.0, 0.0, 0.0, 0.0, 0.0], 'r': [0.06047, 0.057645, 0.055415, 0.056719, 0.062266]})\n",
      "\n",
      "[one-tailed MWU] Gain+Reuse k=25: 79443132.000000 (U), 0.280647 (p), 0.003615 (r)\n",
      "\n",
      "[one-tailed MWU] Gain+Reuse k=25: 79332648.000000 (U), 0.131332 (p), 0.006981 (r)\n",
      "\n",
      "[one-tailed MWU] Gain+Reuse k=25: 79764771.500000 (U), 0.380006 (p), 0.001898 (r)\n",
      "\n",
      "[one-tailed MWU] Gain+Reuse k=25: 79544503.500000 (U), 0.206351 (p), 0.005098 (r)\n",
      "\n",
      "[one-tailed MWU] Gain+Reuse k=25: 79636451.500000 (U), 0.105788 (p), 0.007777 (r)\n",
      "\n",
      "defaultdict(<class 'list'>, {'p': [0.280647, 0.131332, 0.380006, 0.206351, 0.105788], 'r': [0.003615, 0.006981, 0.001898, 0.005098, 0.007777]})\n",
      "\n",
      "[one-tailed MWU] Gain+Reuse k=30: 81949260.500000 (U), 0.999995 (p), -0.027050 (r)\n",
      "\n",
      "[one-tailed MWU] Gain+Reuse k=30: 82259054.000000 (U), 0.999921 (p), -0.023181 (r)\n",
      "\n",
      "[one-tailed MWU] Gain+Reuse k=30: 82071513.500000 (U), 0.999996 (p), -0.027327 (r)\n",
      "\n",
      "[one-tailed MWU] Gain+Reuse k=30: 82258378.500000 (U), 0.999991 (p), -0.026226 (r)\n",
      "\n",
      "[one-tailed MWU] Gain+Reuse k=30: 81975538.500000 (U), 0.999988 (p), -0.025961 (r)\n",
      "\n",
      "defaultdict(<class 'list'>, {'p': [0.999995, 0.999921, 0.999996, 0.999991, 0.999988], 'r': [-0.02705, -0.023181, -0.027327, -0.026226, -0.025961]})\n",
      "\n"
     ]
    }
   ],
   "source": [
    "path = 'protected/goodreads/significance_privacy_risk.txt'\n",
    "for k in [5, 10, 15, 20, 25, 30]:\n",
    "    print(filter_results(path, test=\"Vulnerables\", method=\"Gain+Reuse\", k=k))\n",
    "    print()"
   ]
  },
  {
   "cell_type": "code",
   "execution_count": null,
   "metadata": {},
   "outputs": [],
   "source": []
  },
  {
   "cell_type": "code",
   "execution_count": null,
   "metadata": {},
   "outputs": [],
   "source": []
  },
  {
   "cell_type": "code",
   "execution_count": null,
   "metadata": {},
   "outputs": [],
   "source": []
  }
 ],
 "metadata": {
  "kernelspec": {
   "display_name": "Python 3",
   "language": "python",
   "name": "python3"
  },
  "language_info": {
   "codemirror_mode": {
    "name": "ipython",
    "version": 3
   },
   "file_extension": ".py",
   "mimetype": "text/x-python",
   "name": "python",
   "nbconvert_exporter": "python",
   "pygments_lexer": "ipython3",
   "version": "3.7.3"
  }
 },
 "nbformat": 4,
 "nbformat_minor": 4
}
